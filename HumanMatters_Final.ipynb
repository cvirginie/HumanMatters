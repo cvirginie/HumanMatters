{
 "cells": [
  {
   "cell_type": "markdown",
   "metadata": {},
   "source": [
    "# Data Science for Good - Jobs in LA\n",
    "\n",
    "### Goal\n",
    "In 2020, 1/3 of the 50000 employees of the City of Los Angeles will retire. The goal of this project is to uncover biases in job postings provided by the city of L.A to help optimize recruitment and decrease unconscious discriminations.\n",
    "\n",
    "### Entry Data\n",
    "The entry data is composed of a set of 683 job postings as text files. Each file is composed of a title, the job descrription, the requirements, the selection methods, the deadline to apply and other parts that we are going to explore.\n",
    "\n",
    "### Action plan\n",
    "We'll be performing the following actions :\n",
    "1. Exploratory Data Analysis\n",
    "2. Uncover gender bias\n",
    "> Requirements length : studies show the length of requirements can discourage women from applying\n",
    "\n",
    "3. Explore other biases by correlation analysis\n",
    "> Number of steps in the recruiting process\n",
    "> Deadline for applying : is it too short ? Do the candidates have time to get aware of the job and prepare to apply ?\n",
    "\n",
    "4. Listing suspicious Job postings\n",
    "\n",
    "5. Text analysis\n",
    "> Word cloud \n",
    "> Named Entity Recognition"
   ]
  },
  {
   "cell_type": "markdown",
   "metadata": {},
   "source": [
    "### 1. Exploratory Data Analysis"
   ]
  },
  {
   "cell_type": "code",
<<<<<<< HEAD
   "execution_count": 1,
=======
   "execution_count": 55,
>>>>>>> 2ba2090da906b09b23b78591086b48fe94c60797
   "metadata": {},
   "outputs": [
    {
     "name": "stderr",
     "output_type": "stream",
     "text": [
      "[nltk_data] Downloading package stopwords to\n",
<<<<<<< HEAD
      "[nltk_data]     C:\\Users\\wboli\\AppData\\Roaming\\nltk_data...\n",
      "[nltk_data]   Unzipping corpora\\stopwords.zip.\n",
      "[nltk_data] Downloading package punkt to\n",
      "[nltk_data]     C:\\Users\\wboli\\AppData\\Roaming\\nltk_data...\n",
      "[nltk_data]   Unzipping tokenizers\\punkt.zip.\n"
=======
      "[nltk_data]     C:\\Users\\techv\\AppData\\Roaming\\nltk_data...\n",
      "[nltk_data]   Package stopwords is already up-to-date!\n",
      "[nltk_data] Downloading package punkt to\n",
      "[nltk_data]     C:\\Users\\techv\\AppData\\Roaming\\nltk_data...\n",
      "[nltk_data]   Package punkt is already up-to-date!\n"
>>>>>>> 2ba2090da906b09b23b78591086b48fe94c60797
     ]
    }
   ],
   "source": [
    "# Imports\n",
    "import os \n",
    "import re\n",
    "import numpy as np\n",
    "import pandas as pd\n",
    "import seaborn as sns\n",
    "import matplotlib.pyplot as plt\n",
    "\n",
    "from datetime import datetime\n",
    "\n",
    "# for gender biases\n",
    "#import genderdecoder\n",
    "import assess\n",
    "\n",
    "# for text analysis\n",
    "import nltk\n",
    "import pickle\n",
    "import collections\n",
    "from nltk.corpus import wordnet as wn\n",
    "from nltk import word_tokenize, pos_tag\n",
    "from collections import defaultdict, Counter\n",
    "from nltk.corpus import stopwords\n",
    "\n",
    "nltk.download('stopwords')\n",
    "nltk.download('punkt')\n",
    "stop_words = set(stopwords.words('english'))"
   ]
  },
  {
   "cell_type": "code",
<<<<<<< HEAD
   "execution_count": 2,
=======
   "execution_count": 3,
>>>>>>> 2ba2090da906b09b23b78591086b48fe94c60797
   "metadata": {},
   "outputs": [],
   "source": [
    "# variable definition\n",
    "path_bulletins = r\".\\data-science-for-good-city-of-los-angeles\\CityofLA\\Job Bulletins\"\n",
    "bulletins=os.listdir(path_bulletins)"
   ]
  },
  {
   "cell_type": "code",
<<<<<<< HEAD
   "execution_count": 3,
=======
   "execution_count": 4,
>>>>>>> 2ba2090da906b09b23b78591086b48fe94c60797
   "metadata": {},
   "outputs": [],
   "source": [
    "def days_between(d1, d2):\n",
    "# computes the duration in days between d2 and d1   \n",
    "    try:\n",
    "        d1 = datetime.strptime(d1.strftime(\"%Y-%m-%d\"), \"%Y-%m-%d\")\n",
    "        d2 = datetime.strptime(d2.strftime(\"%Y-%m-%d\"), \"%Y-%m-%d\")\n",
    "        return abs((d2 - d1).days)\n",
    "    except:\n",
    "        return np.nan\n",
    "\n",
    "\n",
    "def to_dataframe(num, df, locationdir):\n",
    "# Reads all the files located in locationdir and retreives all interesting field as well as coputing interesting stats.\n",
    "    \"\"\"\"function to extract features from job bulletin text files and convert to\n",
    "    pandas dataframe.\n",
    "    Arguments :\n",
    "    1.the number of files to be read\n",
    "    2.dataframe object                                      \n",
    "    3.directory in which the files are located                        \n",
    "    \"\"\"\n",
    "    opendate=re.compile(r'(Open [D,d]ate:)(\\s+)(\\d\\d-\\d\\d-\\d\\d)')       #match open date\n",
    "    \n",
    "    salary=re.compile(r'\\$(\\d+,\\d+)((\\s(to|and)\\s)(\\$\\d+,\\d+))?')       #match salary\n",
    "    \n",
    "    requirements=re.compile(r'(REQUIREMENTS?/\\s?MINIMUM QUALIFICATIONS?)(.*)(PROCESS NOTE)')      #match requirements\n",
    "    \n",
    "    for no in range(0,num):\n",
    "        nblines = 0\n",
    "        nbchars = 0\n",
    "        with open(locationdir+\"/\" +bulletins[no],encoding=\"ISO-8859-1\") as f:         #reading files \n",
    "                try:\n",
    "                    file=f.read().replace('\\t','')\n",
    "                    nblines = file.count('\\n')\n",
    "                    raw_text=file.replace('\\n',' ')\n",
    "                    data=file.replace('\\n','')\n",
    "                    nbchars = len(data)\n",
    "                    # print(data)\n",
    "                    headings=[heading for heading in file.split('\\n') if heading.isupper()]             ##getting heading from job bulletin\n",
    "\n",
    "                    \n",
    "                    try:\n",
    "                        sal=re.search(salary,data)\n",
    "                    except:\n",
    "                        sal=np.nan\n",
    "                        #print(bulletins[no])\n",
    "                        #print(\"no matching salary\")\n",
    "                    \n",
    "                    try:\n",
    "                        odate=datetime.strptime(re.search(opendate,data).group(3),'%m-%d-%y')\n",
    "                    except:\n",
    "                        date=np.nan\n",
    "                        #print(bulletins[no])\n",
    "                        #print(\"no matching opendate\")\n",
    "                        \n",
    "                    try:\n",
    "                        req=re.search(requirements,data).group(2)\n",
    "                    except Exception as e:\n",
    "                        try:\n",
    "                            req=re.search('(.*)NOTES?',re.findall(r'(REQUIREMENTS?)(.*)(NOTES?)',\n",
    "                                                              data)[0][1][:1200]).group(1)\n",
    "                        except:\n",
    "                            date=np.nan\n",
    "                            #print(bulletins[no])\n",
    "                            #print(\"no matching requirements\")\n",
    "                    \n",
    "                    duties=re.search(r'(DUTIES)(.*)(REQ[A-Z])',data).group(2)\n",
    "                    \n",
    "                        \n",
    "                    try:\n",
    "                        enddate=re.search(\n",
    "                                r'(JANUARY|FEBRUARY|MARCH|APRIL|MAY|JUNE|JULY|AUGUST|SEPTEMBER|OCTOBER|NOVEMBER|DECEMBER)\\s(\\d{1,2},\\s\\d{4})'\n",
    "                                ,data).group()\n",
    "                    except Exception as e:\n",
    "                        enddate=np.nan\n",
    "                        #print(bulletins[no])\n",
    "                        #print(\"no matching enddate\")\n",
    "                    \n",
    "                    try:\n",
    "                        selection= [z[0] for z in re.findall('([A-Z][a-z]+)((\\s\\.\\s)+)',data)]     ##match selection criteria\n",
    "                    except:\n",
    "                        selection=np.nan\n",
    "                        #print(bulletins[no])\n",
    "                        #print(\"no matching selection\")\n",
    "                        \n",
    "                        \n",
    "                    \n",
    "                    try:\n",
    "                        # Retreiving deadline application in appropriate date format\n",
    "                        edate = datetime.strptime(enddate.replace(',',''),\"%B %d %Y\")\n",
    "                    except:\n",
    "                        edate = np.nan\n",
    "                        #print(bulletins[no])\n",
    "                        #print('error retrieving edate')\n",
    "                        #print(\"enddate\")\n",
    "                        #print(enddate)\n",
    "                    \n",
    "                    \n",
    "                    validity_duration = days_between(odate, edate)\n",
    "                    \n",
    "                    try:\n",
    "                        validity_duration = days_between(odate, edate)\n",
    "                    except:\n",
    "                        validity_duration = np.nan\n",
    "                        #print(bulletins[no])\n",
    "                        #print('error retrieving validity_duration')\n",
    "                    \n",
    "                    #compute number of requirements that may dissuade potential candidates \n",
    "                    if '10. ' in req:\n",
    "                        nb_requirements = 10\n",
    "                    elif '9. ' in req:\n",
    "                        nb_requirements = 9\n",
    "                    elif '8. ' in req:\n",
    "                        nb_requirements = 8\n",
    "                    elif '7. ' in req:\n",
    "                        nb_requirements = 7\n",
    "                    elif '6. ' in req:\n",
    "                        nb_requirements = 6\n",
    "                    elif '5. ' in req:\n",
    "                        nb_requirements = 5\n",
    "                    elif '4. ' in req:\n",
    "                        nb_requirements = 4\n",
    "                    elif '3. ' in req:\n",
    "                        nb_requirements = 3\n",
    "                    elif '2. ' in req:\n",
    "                        nb_requirements = 2\n",
    "                    else:\n",
    "                        nb_requirements = 1\n",
    "                    \n",
    "                    #compute number of selection steps that may dissuade potential candidates\n",
    "                    nb_selection_steps = len(selection)\n",
    "                    \n",
    "                    #encode if there is a writing test, an essay or additional selection steps\n",
    "                    if 'Test' in selection:\n",
    "                        select_wtest = 1\n",
    "                    else:\n",
    "                        select_wtest = 0\n",
    "                        \n",
    "                    if 'Essay' in selection: \n",
    "                        select_essay = 1\n",
    "                    else:\n",
    "                        select_essay = 0    \n",
    "                        \n",
    "                    if 'Interview' in selection:\n",
    "                        select_interv = 1\n",
    "                    else:\n",
    "                        select_interv = 0    \n",
    "                    \n",
    "                    df=df.append({'File Name':bulletins[no],'Position':headings[0].lower(),'salary_start':sal.group(1),\n",
    "                               'salary_end':sal.group(5),\"opendate\":odate,\"requirements\":req,'duties':duties,\n",
    "                                'deadline':enddate,'deadline_date':edate, 'validity_duration':validity_duration,'selection':selection,\n",
    "                                'nb_lines':nblines, 'nb_chars':nbchars, 'nb_requirements':nb_requirements, 'nb_selection_steps':nb_selection_steps,\n",
    "                                'WTest':select_wtest, 'Essay':select_essay, 'Interview':select_interv, 'raw_job_text':raw_text },ignore_index=True)\n",
    "                    \n",
    "                    \n",
    "                    reg=re.compile(r'(One|Two|Three|Four|Five|Six|Seven|Eight|Nine|Ten|one|two|three|four)\\s(years?)\\s(of\\sfull(-|\\s)time)')\n",
    "                    df['EXPERIENCE_LENGTH']=df['requirements'].apply(lambda x :  re.search(reg,x).group(1) if re.search(reg,x) is not None  else np.nan)\n",
    "                    df['FULL_TIME_PART_TIME']=df['EXPERIENCE_LENGTH'].apply(lambda x:  'FULL_TIME' if x is not np.nan else np.nan )\n",
    "                    \n",
    "                    reg=re.compile(r'(One|Two|Three|Four|Five|Six|Seven|Eight|Nine|Ten|one|two|three|four)(\\s|-)(years?)\\s(college)')\n",
    "                    df['EDUCATION_YEARS']=df['requirements'].apply(lambda x :  re.search(reg,x).group(1) if re.search(reg,x) is not None  else np.nan)\n",
    "                    df['SCHOOL_TYPE']=df['EDUCATION_YEARS'].apply(lambda x : 'College or University' if x is not np.nan else np.nan)\n",
    "                    \n",
    "                   \n",
    "                    \n",
    "                except Exception as e:\n",
    "                    print(e)\n",
    "                    print('umatched sequence')\n",
    "             \n",
    "    return df"
   ]
  },
  {
   "cell_type": "markdown",
   "metadata": {},
   "source": [
    "#### 1.a Gather all job postings into one dataframe to manipulate the data"
   ]
  },
  {
   "cell_type": "code",
<<<<<<< HEAD
   "execution_count": 4,
=======
   "execution_count": 5,
>>>>>>> 2ba2090da906b09b23b78591086b48fe94c60797
   "metadata": {},
   "outputs": [
    {
     "name": "stdout",
     "output_type": "stream",
     "text": [
      "'NoneType' object has no attribute 'group'\n",
      "umatched sequence\n",
      "'NoneType' object has no attribute 'group'\n",
      "umatched sequence\n",
      "'NoneType' object has no attribute 'group'\n",
      "umatched sequence\n",
      "'NoneType' object has no attribute 'group'\n",
      "umatched sequence\n",
      "'NoneType' object has no attribute 'group'\n",
      "umatched sequence\n",
      "'NoneType' object has no attribute 'group'\n",
      "umatched sequence\n",
      "'NoneType' object has no attribute 'group'\n",
      "umatched sequence\n",
      "'NoneType' object has no attribute 'group'\n",
      "umatched sequence\n"
     ]
    }
   ],
   "source": [
    "df = pd.DataFrame(columns=['File Name','Position','salary_start','salary_end','opendate','requirements','duties','deadline', 'deadline_date','validity_duration', 'selection', 'nb_lines','nb_chars'])\n",
    "df = to_dataframe(len(bulletins),df, path_bulletins)"
   ]
  },
  {
   "cell_type": "markdown",
   "metadata": {},
   "source": [
    "Some attributes were not parsed but not too much apparently. Let's go further."
   ]
  },
  {
   "cell_type": "markdown",
   "metadata": {},
   "source": [
<<<<<<< HEAD
    "#### 1.b Descriptive statistics"
=======
    "#### 1.b Descritive statistics"
>>>>>>> 2ba2090da906b09b23b78591086b48fe94c60797
   ]
  },
  {
   "cell_type": "code",
<<<<<<< HEAD
   "execution_count": 5,
=======
   "execution_count": 8,
>>>>>>> 2ba2090da906b09b23b78591086b48fe94c60797
   "metadata": {},
   "outputs": [
    {
     "name": "stdout",
     "output_type": "stream",
     "text": [
      "<class 'pandas.core.frame.DataFrame'>\n",
      "RangeIndex: 675 entries, 0 to 674\n",
      "Data columns (total 23 columns):\n",
      "File Name              675 non-null object\n",
      "Position               675 non-null object\n",
      "salary_start           675 non-null object\n",
      "salary_end             575 non-null object\n",
      "opendate               675 non-null datetime64[ns]\n",
      "requirements           675 non-null object\n",
      "duties                 675 non-null object\n",
      "deadline               625 non-null object\n",
      "deadline_date          625 non-null datetime64[ns]\n",
      "validity_duration      625 non-null object\n",
      "selection              675 non-null object\n",
      "nb_lines               675 non-null object\n",
      "nb_chars               675 non-null object\n",
      "Essay                  675 non-null float64\n",
      "Interview              675 non-null float64\n",
      "WTest                  675 non-null float64\n",
      "nb_requirements        675 non-null float64\n",
      "nb_selection_steps     675 non-null float64\n",
      "raw_job_text           675 non-null object\n",
      "EXPERIENCE_LENGTH      576 non-null object\n",
      "FULL_TIME_PART_TIME    576 non-null object\n",
      "EDUCATION_YEARS        122 non-null object\n",
      "SCHOOL_TYPE            122 non-null object\n",
      "dtypes: datetime64[ns](2), float64(5), object(16)\n",
      "memory usage: 121.4+ KB\n"
     ]
    }
   ],
   "source": [
    "df.info()"
   ]
  },
  {
   "cell_type": "markdown",
   "metadata": {},
   "source": [
    "* On the 683 files we've been processing, 675 are now in our dataframe, so only a few presented a problem during parsing. We have most of them though (98%) so we can move on.\n",
    "* We can notice we don't have all values for the following fields : \n",
    "- salary_end\n",
    "- deadline\n",
    "- validity_duration\n",
    "- EXPERIENCE_LENGTH\n",
    "- FULL_TIME_PART_TIME\n",
    "- EDUCATION_YEARS\n",
    "- SCHOOL_TYPE\n",
    "\n",
    "The two last fields especially are not often filled.\n",
    "\n",
    "Let's look at how it looks in the dataframe : "
   ]
  },
  {
   "cell_type": "code",
<<<<<<< HEAD
   "execution_count": 6,
=======
   "execution_count": 7,
>>>>>>> 2ba2090da906b09b23b78591086b48fe94c60797
   "metadata": {},
   "outputs": [
    {
     "data": {
      "text/html": [
       "<div>\n",
       "<style scoped>\n",
       "    .dataframe tbody tr th:only-of-type {\n",
       "        vertical-align: middle;\n",
       "    }\n",
       "\n",
       "    .dataframe tbody tr th {\n",
       "        vertical-align: top;\n",
       "    }\n",
       "\n",
       "    .dataframe thead th {\n",
       "        text-align: right;\n",
       "    }\n",
       "</style>\n",
       "<table border=\"1\" class=\"dataframe\">\n",
       "  <thead>\n",
       "    <tr style=\"text-align: right;\">\n",
       "      <th></th>\n",
       "      <th>File Name</th>\n",
       "      <th>Position</th>\n",
       "      <th>salary_start</th>\n",
       "      <th>salary_end</th>\n",
       "      <th>opendate</th>\n",
       "      <th>requirements</th>\n",
       "      <th>duties</th>\n",
       "      <th>deadline</th>\n",
       "      <th>deadline_date</th>\n",
       "      <th>validity_duration</th>\n",
       "      <th>...</th>\n",
       "      <th>Essay</th>\n",
       "      <th>Interview</th>\n",
       "      <th>WTest</th>\n",
       "      <th>nb_requirements</th>\n",
       "      <th>nb_selection_steps</th>\n",
       "      <th>raw_job_text</th>\n",
       "      <th>EXPERIENCE_LENGTH</th>\n",
       "      <th>FULL_TIME_PART_TIME</th>\n",
       "      <th>EDUCATION_YEARS</th>\n",
       "      <th>SCHOOL_TYPE</th>\n",
       "    </tr>\n",
       "  </thead>\n",
       "  <tbody>\n",
       "    <tr>\n",
       "      <th>0</th>\n",
       "      <td>311 DIRECTOR  9206 041814.txt</td>\n",
       "      <td>311 director</td>\n",
       "      <td>125,175</td>\n",
       "      <td>$155,514</td>\n",
       "      <td>2014-04-18</td>\n",
       "      <td>1. One year of full-time paid experience as a ...</td>\n",
       "      <td>A 311 Director is responsible for the successf...</td>\n",
       "      <td>MAY 1, 2014</td>\n",
       "      <td>2014-05-01</td>\n",
       "      <td>13</td>\n",
       "      <td>...</td>\n",
       "      <td>0.0</td>\n",
       "      <td>1.0</td>\n",
       "      <td>0.0</td>\n",
       "      <td>3.0</td>\n",
       "      <td>1.0</td>\n",
       "      <td>311 DIRECTOR Class Code:       9206 Open Date:...</td>\n",
       "      <td>One</td>\n",
       "      <td>FULL_TIME</td>\n",
       "      <td>NaN</td>\n",
       "      <td>NaN</td>\n",
       "    </tr>\n",
       "    <tr>\n",
       "      <th>1</th>\n",
       "      <td>ACCOUNTANT 1513 062218.txt</td>\n",
       "      <td>accountant</td>\n",
       "      <td>49,903</td>\n",
       "      <td>$72,996</td>\n",
       "      <td>2018-06-22</td>\n",
       "      <td>Graduation from an accredited four-year colleg...</td>\n",
       "      <td>An Accountant does professional accounting wor...</td>\n",
       "      <td>AUGUST 25, 2018</td>\n",
       "      <td>2018-08-25</td>\n",
       "      <td>64</td>\n",
       "      <td>...</td>\n",
       "      <td>0.0</td>\n",
       "      <td>1.0</td>\n",
       "      <td>1.0</td>\n",
       "      <td>1.0</td>\n",
       "      <td>2.0</td>\n",
       "      <td>ACCOUNTANT  Class Code:       1513 Open Date: ...</td>\n",
       "      <td>NaN</td>\n",
       "      <td>NaN</td>\n",
       "      <td>four</td>\n",
       "      <td>College or University</td>\n",
       "    </tr>\n",
       "    <tr>\n",
       "      <th>2</th>\n",
       "      <td>ACCOUNTING CLERK 1223 071318.txt</td>\n",
       "      <td>accounting clerk</td>\n",
       "      <td>49,005</td>\n",
       "      <td>$71,618</td>\n",
       "      <td>2018-07-13</td>\n",
       "      <td>Two years of full-time paid office clerical ex...</td>\n",
       "      <td>An Accounting Clerk performs difficult and res...</td>\n",
       "      <td>NaN</td>\n",
       "      <td>NaT</td>\n",
       "      <td>NaN</td>\n",
       "      <td>...</td>\n",
       "      <td>0.0</td>\n",
       "      <td>0.0</td>\n",
       "      <td>1.0</td>\n",
       "      <td>1.0</td>\n",
       "      <td>1.0</td>\n",
       "      <td>ACCOUNTING CLERK  Class Code:       1223 Open ...</td>\n",
       "      <td>Two</td>\n",
       "      <td>FULL_TIME</td>\n",
       "      <td>NaN</td>\n",
       "      <td>NaN</td>\n",
       "    </tr>\n",
       "    <tr>\n",
       "      <th>3</th>\n",
       "      <td>ACCOUNTING RECORDS SUPERVISOR 1119 072718.txt</td>\n",
       "      <td>accounting records supervisor</td>\n",
       "      <td>55,332</td>\n",
       "      <td>$80,930</td>\n",
       "      <td>2018-07-27</td>\n",
       "      <td>Two years of full-time paid experience as an A...</td>\n",
       "      <td>An Accounting Records Supervisor assigns, revi...</td>\n",
       "      <td>AUGUST 9, 2018</td>\n",
       "      <td>2018-08-09</td>\n",
       "      <td>13</td>\n",
       "      <td>...</td>\n",
       "      <td>0.0</td>\n",
       "      <td>1.0</td>\n",
       "      <td>1.0</td>\n",
       "      <td>1.0</td>\n",
       "      <td>2.0</td>\n",
       "      <td>ACCOUNTING RECORDS SUPERVISOR  Class Code:    ...</td>\n",
       "      <td>Two</td>\n",
       "      <td>FULL_TIME</td>\n",
       "      <td>NaN</td>\n",
       "      <td>NaN</td>\n",
       "    </tr>\n",
       "    <tr>\n",
       "      <th>4</th>\n",
       "      <td>ADMINISTRATIVE ANALYST 1590 060118.txt</td>\n",
       "      <td>administrative analyst</td>\n",
       "      <td>60,489</td>\n",
       "      <td>$88,468</td>\n",
       "      <td>2018-06-01</td>\n",
       "      <td>1. One year of full-time paid professional exp...</td>\n",
       "      <td>An Administrative Analyst performs professiona...</td>\n",
       "      <td>JUNE 14, 2018</td>\n",
       "      <td>2018-06-14</td>\n",
       "      <td>13</td>\n",
       "      <td>...</td>\n",
       "      <td>1.0</td>\n",
       "      <td>1.0</td>\n",
       "      <td>1.0</td>\n",
       "      <td>3.0</td>\n",
       "      <td>3.0</td>\n",
       "      <td>ADMINISTRATIVE ANALYST  Class Code:       1590...</td>\n",
       "      <td>One</td>\n",
       "      <td>FULL_TIME</td>\n",
       "      <td>four</td>\n",
       "      <td>College or University</td>\n",
       "    </tr>\n",
       "  </tbody>\n",
       "</table>\n",
       "<p>5 rows × 23 columns</p>\n",
       "</div>"
      ],
      "text/plain": [
       "                                       File Name  \\\n",
       "0                  311 DIRECTOR  9206 041814.txt   \n",
       "1                     ACCOUNTANT 1513 062218.txt   \n",
       "2               ACCOUNTING CLERK 1223 071318.txt   \n",
       "3  ACCOUNTING RECORDS SUPERVISOR 1119 072718.txt   \n",
       "4         ADMINISTRATIVE ANALYST 1590 060118.txt   \n",
       "\n",
       "                        Position salary_start salary_end   opendate  \\\n",
       "0                   311 director      125,175   $155,514 2014-04-18   \n",
       "1                     accountant       49,903    $72,996 2018-06-22   \n",
       "2               accounting clerk       49,005    $71,618 2018-07-13   \n",
       "3  accounting records supervisor       55,332    $80,930 2018-07-27   \n",
       "4         administrative analyst       60,489    $88,468 2018-06-01   \n",
       "\n",
       "                                        requirements  \\\n",
       "0  1. One year of full-time paid experience as a ...   \n",
       "1  Graduation from an accredited four-year colleg...   \n",
       "2  Two years of full-time paid office clerical ex...   \n",
       "3  Two years of full-time paid experience as an A...   \n",
       "4  1. One year of full-time paid professional exp...   \n",
       "\n",
       "                                              duties         deadline  \\\n",
       "0  A 311 Director is responsible for the successf...      MAY 1, 2014   \n",
       "1  An Accountant does professional accounting wor...  AUGUST 25, 2018   \n",
       "2  An Accounting Clerk performs difficult and res...              NaN   \n",
       "3  An Accounting Records Supervisor assigns, revi...   AUGUST 9, 2018   \n",
       "4  An Administrative Analyst performs professiona...    JUNE 14, 2018   \n",
       "\n",
<<<<<<< HEAD
       "  deadline_date validity_duration          ...           Essay Interview  \\\n",
       "0    2014-05-01                13          ...             0.0       1.0   \n",
       "1    2018-08-25                64          ...             0.0       1.0   \n",
       "2           NaT               NaN          ...             0.0       0.0   \n",
       "3    2018-08-09                13          ...             0.0       1.0   \n",
       "4    2018-06-14                13          ...             1.0       1.0   \n",
       "\n",
       "  WTest  nb_requirements  nb_selection_steps  \\\n",
       "0   0.0              3.0                 1.0   \n",
       "1   1.0              1.0                 2.0   \n",
       "2   1.0              1.0                 1.0   \n",
       "3   1.0              1.0                 2.0   \n",
       "4   1.0              3.0                 3.0   \n",
       "\n",
       "                                        raw_job_text  EXPERIENCE_LENGTH  \\\n",
       "0  311 DIRECTOR Class Code:       9206 Open Date:...                One   \n",
       "1  ACCOUNTANT  Class Code:       1513 Open Date: ...                NaN   \n",
       "2  ACCOUNTING CLERK  Class Code:       1223 Open ...                Two   \n",
       "3  ACCOUNTING RECORDS SUPERVISOR  Class Code:    ...                Two   \n",
       "4  ADMINISTRATIVE ANALYST  Class Code:       1590...                One   \n",
       "\n",
       "   FULL_TIME_PART_TIME EDUCATION_YEARS            SCHOOL_TYPE  \n",
       "0            FULL_TIME             NaN                    NaN  \n",
       "1                  NaN            four  College or University  \n",
       "2            FULL_TIME             NaN                    NaN  \n",
       "3            FULL_TIME             NaN                    NaN  \n",
       "4            FULL_TIME            four  College or University  \n",
=======
       "  deadline_date validity_duration  ... Essay Interview WTest  nb_requirements  \\\n",
       "0    2014-05-01                13  ...   0.0       1.0   0.0              3.0   \n",
       "1    2018-08-25                64  ...   0.0       1.0   1.0              1.0   \n",
       "2           NaT               NaN  ...   0.0       0.0   1.0              1.0   \n",
       "3    2018-08-09                13  ...   0.0       1.0   1.0              1.0   \n",
       "4    2018-06-14                13  ...   1.0       1.0   1.0              3.0   \n",
       "\n",
       "   nb_selection_steps                                       raw_job_text  \\\n",
       "0                 1.0  311 DIRECTOR Class Code:       9206 Open Date:...   \n",
       "1                 2.0  ACCOUNTANT  Class Code:       1513 Open Date: ...   \n",
       "2                 1.0  ACCOUNTING CLERK  Class Code:       1223 Open ...   \n",
       "3                 2.0  ACCOUNTING RECORDS SUPERVISOR  Class Code:    ...   \n",
       "4                 3.0  ADMINISTRATIVE ANALYST  Class Code:       1590...   \n",
       "\n",
       "   EXPERIENCE_LENGTH  FULL_TIME_PART_TIME EDUCATION_YEARS  \\\n",
       "0                One            FULL_TIME             NaN   \n",
       "1                NaN                  NaN            four   \n",
       "2                Two            FULL_TIME             NaN   \n",
       "3                Two            FULL_TIME             NaN   \n",
       "4                One            FULL_TIME            four   \n",
       "\n",
       "             SCHOOL_TYPE  \n",
       "0                    NaN  \n",
       "1  College or University  \n",
       "2                    NaN  \n",
       "3                    NaN  \n",
       "4  College or University  \n",
>>>>>>> 2ba2090da906b09b23b78591086b48fe94c60797
       "\n",
       "[5 rows x 23 columns]"
      ]
     },
<<<<<<< HEAD
     "execution_count": 6,
=======
     "execution_count": 7,
>>>>>>> 2ba2090da906b09b23b78591086b48fe94c60797
     "metadata": {},
     "output_type": "execute_result"
    }
   ],
   "source": [
    "df.head()"
   ]
  },
  {
   "cell_type": "markdown",
   "metadata": {},
   "source": [
    "#### 1.b.1 Opendate's distribution - Job postings by year\n",
    "\n",
    "Opendate is the field indicating the date the job was posted."
   ]
  },
  {
   "cell_type": "code",
<<<<<<< HEAD
   "execution_count": 7,
=======
   "execution_count": 9,
>>>>>>> 2ba2090da906b09b23b78591086b48fe94c60797
   "metadata": {
    "scrolled": true
   },
   "outputs": [
    {
     "data": {
      "image/png": "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\n",
      "text/plain": [
       "<Figure size 576x360 with 1 Axes>"
      ]
     },
     "metadata": {
      "needs_background": "light"
     },
     "output_type": "display_data"
    }
   ],
   "source": [
    "count_days = pd.DataFrame(df[\"opendate\"].value_counts())\n",
    "count_days.reset_index(inplace=True)\n",
    "count_days.rename(columns={'index':'opendate', 'opendate':'count'}, inplace=True)\n",
    "count_days['opendate'] = pd.to_datetime(count_days['opendate'])\n",
    "\n",
    "# Distribution by year\n",
    "count_days['year'] = count_days.opendate.dt.year\n",
    "count_days['month'] = count_days.opendate.dt.month\n",
    "count_days['weekday'] = count_days.opendate.dt.weekday_name\n",
    "count_days['yearmonth'] = count_days.opendate.map(lambda x: 100*x.year + x.month)\n",
    "\n",
    "#count_days[\"year\"].value_counts().plot(kind='bar')\n",
    "df_offers_by_year = pd.DataFrame(count_days['year'].value_counts())\n",
    "sns.barplot(x=df_offers_by_year.index, y=df_offers_by_year.year, data=df_offers_by_year)\n",
    "fig=plt.gcf()\n",
    "fig.set_size_inches(8,5)\n",
    "plt.show()"
   ]
  },
  {
   "cell_type": "markdown",
   "metadata": {},
   "source": [
    "- Before 2014, very few employment opportunities were offered to the citizen. As we approach 2020, we can see that the number of bulletins is increasing, there's even already job postings for 2020. There is a strong issue in managing the turnover since 2014. The number of job opportunities offred has almost doubled between 2014 and 2016, and then the number of published bulletins remain high.\n",
    "- This makes our job even more challenging !"
   ]
  },
  {
   "cell_type": "markdown",
   "metadata": {},
   "source": [
    "#### 1.b.2 Job postings by month over the years"
   ]
  },
  {
   "cell_type": "code",
<<<<<<< HEAD
   "execution_count": 8,
=======
   "execution_count": 10,
>>>>>>> 2ba2090da906b09b23b78591086b48fe94c60797
   "metadata": {
    "scrolled": true
   },
   "outputs": [
    {
     "data": {
      "image/png": "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\n",
      "text/plain": [
       "<Figure size 432x288 with 1 Axes>"
      ]
     },
     "metadata": {
      "needs_background": "light"
     },
     "output_type": "display_data"
    }
   ],
   "source": [
    "# Distribution by months\n",
    "df_offers_by_month = pd.DataFrame(count_days['month'].value_counts())\n",
    "ax = sns.barplot(x=df_offers_by_month.index, y=df_offers_by_month.month, data=df_offers_by_month)"
   ]
  },
  {
   "cell_type": "markdown",
   "metadata": {},
   "source": [
    "- The job openings seem about the same over the years throughout the months. January and November seem the months when there are less job opennings; October on the other hand seems to be the month when most of job opennings occur.\n",
    "- January and Novemeber are the months with less postings.\n",
    "- October concentrates more postings than other months, maybe this can be explained by the fact that it is a \"back to business\" period, the city assesses what is needed in september after school holidays and posts in October.\n",
    "- ______ Budget decisions may be taken in November as well which leads to concentrate lots of postings in October. ____"
   ]
  },
  {
   "cell_type": "markdown",
   "metadata": {},
   "source": [
    "#### 1.b.3 Job postings by weekdays over the years\n",
    "\n",
    "When are the job posted during the week ?"
   ]
  },
  {
   "cell_type": "code",
<<<<<<< HEAD
   "execution_count": 9,
=======
   "execution_count": 43,
>>>>>>> 2ba2090da906b09b23b78591086b48fe94c60797
   "metadata": {},
   "outputs": [
    {
     "data": {
      "text/plain": [
<<<<<<< HEAD
       "<matplotlib.axes._subplots.AxesSubplot at 0x24da849ac88>"
      ]
     },
     "execution_count": 9,
=======
       "<matplotlib.axes._subplots.AxesSubplot at 0x23a3b3fd668>"
      ]
     },
     "execution_count": 43,
>>>>>>> 2ba2090da906b09b23b78591086b48fe94c60797
     "metadata": {},
     "output_type": "execute_result"
    },
    {
     "data": {
<<<<<<< HEAD
      "image/png": "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\n",
=======
      "image/png": "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\n",
>>>>>>> 2ba2090da906b09b23b78591086b48fe94c60797
      "text/plain": [
       "<Figure size 432x288 with 1 Axes>"
      ]
     },
     "metadata": {
      "needs_background": "light"
     },
     "output_type": "display_data"
    }
   ],
   "source": [
    "count_days[\"weekday\"].value_counts().plot(kind='bar')"
   ]
  },
  {
   "cell_type": "markdown",
   "metadata": {},
   "source": [
    "Apparently, almost every job openning is posted on a friday! Why is that, is it the best option ? It leaves candidates time to review them on weekends ?"
   ]
  },
  {
   "cell_type": "markdown",
   "metadata": {},
   "source": [
    "#### 1.b.4 Number of requirements specified"
   ]
  },
  {
   "cell_type": "code",
<<<<<<< HEAD
   "execution_count": 10,
=======
   "execution_count": 45,
>>>>>>> 2ba2090da906b09b23b78591086b48fe94c60797
   "metadata": {},
   "outputs": [
    {
     "data": {
      "text/plain": [
       "count    675.000000\n",
       "mean       1.924444\n",
       "std        1.080682\n",
       "min        1.000000\n",
       "25%        1.000000\n",
       "50%        2.000000\n",
       "75%        2.000000\n",
       "max        9.000000\n",
       "Name: nb_requirements, dtype: float64"
      ]
     },
<<<<<<< HEAD
     "execution_count": 10,
=======
     "execution_count": 45,
>>>>>>> 2ba2090da906b09b23b78591086b48fe94c60797
     "metadata": {},
     "output_type": "execute_result"
    }
   ],
   "source": [
    "df['nb_requirements'].describe()"
   ]
  },
  {
   "cell_type": "code",
<<<<<<< HEAD
   "execution_count": 11,
=======
   "execution_count": 186,
>>>>>>> 2ba2090da906b09b23b78591086b48fe94c60797
   "metadata": {},
   "outputs": [
    {
     "data": {
      "text/plain": [
<<<<<<< HEAD
       "<matplotlib.axes._subplots.AxesSubplot at 0x24da7092f60>"
      ]
     },
     "execution_count": 11,
=======
       "<matplotlib.axes._subplots.AxesSubplot at 0x1690e0db4a8>"
      ]
     },
     "execution_count": 186,
>>>>>>> 2ba2090da906b09b23b78591086b48fe94c60797
     "metadata": {},
     "output_type": "execute_result"
    },
    {
     "data": {
      "image/png": "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\n",
      "text/plain": [
       "<Figure size 432x288 with 1 Axes>"
      ]
     },
     "metadata": {
      "needs_background": "light"
     },
     "output_type": "display_data"
    }
   ],
   "source": [
    "df['nb_requirements'].value_counts().plot(kind='bar')"
   ]
  },
  {
   "cell_type": "markdown",
   "metadata": {},
   "source": [
<<<<<<< HEAD
    "The number of requirements can have a big impact and the more is indicated, the more female candidate can be discouraged, it may represent an unconscious bias. This parameter is to be looked up, because when confronted to a lot of requirements, A candidate can feel uncomfortable.\n",
    "The number of requirements should be moderate to allow more candidates to apply.\n",
=======
    "The number of requirements can have a big impact and the more is indicated, the more female candidate can be discouraged, it may represent an unconscious biais. This parameter is to be looked up, because when confronted to a lot of requirements, A candidate can feel uncomfortable.\n",
    "The number of requirement should be moderate to allow more candidates to apply.\n",
>>>>>>> 2ba2090da906b09b23b78591086b48fe94c60797
    "\n",
    "##### Here:\n",
    "- The large majority of the bulletins indicate less that 4 requirements.\n",
    "- However there are few bulletins that include more than 4 requirements and up to 9 !\n",
    "\n",
    "##### What we can infer :\n",
    "- Including more than 3 requirements can add to much complexity in the reading of the job posting and can be due to the intend of having a dedicated candidate, which may constitute a bias.\n"
   ]
  },
  {
   "cell_type": "markdown",
   "metadata": {},
   "source": [
    "#### 1.b.5 Number of steps to go through during the recruting process\n",
    "\n",
    "Let's check the different steps, what are they, how many are required and in which proportion"
   ]
  },
  {
   "cell_type": "code",
<<<<<<< HEAD
   "execution_count": 12,
=======
   "execution_count": 17,
>>>>>>> 2ba2090da906b09b23b78591086b48fe94c60797
   "metadata": {},
   "outputs": [
    {
     "data": {
      "text/plain": [
       "[Interview]                     162\n",
       "[Essay, Interview]              130\n",
       "[]                               99\n",
       "[Test]                           93\n",
       "[Questionnaire]                  30\n",
       "[Test, Interview]                29\n",
       "[Essay]                          25\n",
       "[Test, Essay, Interview]         22\n",
       "[Review]                         10\n",
       "[Questionnaire, Interview]       10\n",
       "[Test, Test]                      9\n",
       "[Test, Questionnaire]             8\n",
       "[Experience]                      6\n",
       "[Evaluation]                      5\n",
       "[Choice, Essay, Interview]        5\n",
       "[Exercise, Interview]             4\n",
       "[Written, Interview]              4\n",
       "[Essay, Test, Interview]          3\n",
       "[Choice, Interview]               3\n",
       "[Written]                         3\n",
       "[Test, Essay]                     2\n",
       "[Test, Test, Test]                2\n",
       "[Essay, Test]                     2\n",
       "[Essay, Exercise, Interview]      2\n",
       "[Test, Exercises, Interview]      1\n",
       "[Choice, Test]                    1\n",
       "[Written, Essay, Interview]       1\n",
       "[Test, Defense]                   1\n",
       "[Choice]                          1\n",
       "[Interview, Essay]                1\n",
       "[Abilities, Interview]            1\n",
       "Name: selection, dtype: int64"
      ]
     },
<<<<<<< HEAD
     "execution_count": 12,
=======
     "execution_count": 17,
>>>>>>> 2ba2090da906b09b23b78591086b48fe94c60797
     "metadata": {},
     "output_type": "execute_result"
    }
   ],
   "source": [
    "df['selection'].value_counts()"
   ]
  },
  {
   "cell_type": "markdown",
   "metadata": {},
   "source": [
    "* Several selection steps can be asked for one job (maximum 3). \n",
    "\n",
    "Let's get a list of distinct possible selection steps"
   ]
  },
  {
   "cell_type": "code",
<<<<<<< HEAD
   "execution_count": 13,
   "metadata": {},
   "outputs": [],
=======
   "execution_count": 45,
   "metadata": {},
   "outputs": [
    {
     "data": {
      "text/plain": [
       "'Interview, Essay, Interview, Test, Questionnaire, Test, Interview, Essay, Test, Essay, Interview, Review, Questionnaire, Interview, Test, Test, Test, Questionnaire, Experience, Evaluation, Choice, Essay, Interview, Exercise, Interview, Written, Interview, Essay, Test, Interview, Choice, Interview, Written, Test, Essay, Test, Test, Test, Essay, Test, Essay, Exercise, Interview, Test, Exercises, Interview, Choice, Test, Written, Essay, Interview, Test, Defense, Choice, Interview, Essay, Abilities, Interview'"
      ]
     },
     "execution_count": 45,
     "metadata": {},
     "output_type": "execute_result"
    }
   ],
>>>>>>> 2ba2090da906b09b23b78591086b48fe94c60797
   "source": [
    "flattened_list = [y for x in df['selection'].value_counts().index for y in x]"
   ]
  },
  {
   "cell_type": "code",
<<<<<<< HEAD
   "execution_count": 14,
=======
   "execution_count": 57,
>>>>>>> 2ba2090da906b09b23b78591086b48fe94c60797
   "metadata": {},
   "outputs": [
    {
     "data": {
      "text/plain": [
<<<<<<< HEAD
       "['Evaluation',\n",
       " 'Exercises',\n",
       " 'Abilities',\n",
       " 'Interview',\n",
       " 'Essay',\n",
       " 'Experience',\n",
       " 'Questionnaire',\n",
       " 'Choice',\n",
       " 'Written',\n",
       " 'Exercise',\n",
       " 'Test',\n",
       " 'Defense',\n",
       " 'Review']"
      ]
     },
     "execution_count": 14,
=======
       "['Questionnaire',\n",
       " 'Choice',\n",
       " 'Test',\n",
       " 'Exercise',\n",
       " 'Essay',\n",
       " 'Abilities',\n",
       " 'Review',\n",
       " 'Exercises',\n",
       " 'Interview',\n",
       " 'Evaluation',\n",
       " 'Written',\n",
       " 'Experience',\n",
       " 'Defense']"
      ]
     },
     "execution_count": 57,
>>>>>>> 2ba2090da906b09b23b78591086b48fe94c60797
     "metadata": {},
     "output_type": "execute_result"
    }
   ],
   "source": [
    "text=word_tokenize(' '.join(flattened_list))\n",
    "no_order = list(set(text))\n",
    "no_order"
   ]
  },
  {
   "cell_type": "markdown",
   "metadata": {},
   "source": [
    "* 13 types of evaluation are possible but some of them seem weird (Abilities, Review and Defense), we'll check them later"
   ]
  },
  {
   "cell_type": "code",
<<<<<<< HEAD
   "execution_count": 15,
=======
   "execution_count": 18,
>>>>>>> 2ba2090da906b09b23b78591086b48fe94c60797
   "metadata": {},
   "outputs": [
    {
     "data": {
      "text/plain": [
       "count             675\n",
       "unique             31\n",
       "top       [Interview]\n",
       "freq              162\n",
       "Name: selection, dtype: object"
      ]
     },
<<<<<<< HEAD
     "execution_count": 15,
=======
     "execution_count": 18,
>>>>>>> 2ba2090da906b09b23b78591086b48fe94c60797
     "metadata": {},
     "output_type": "execute_result"
    }
   ],
   "source": [
    "df['selection'].describe()"
   ]
  },
  {
   "cell_type": "code",
<<<<<<< HEAD
   "execution_count": 16,
=======
   "execution_count": 187,
>>>>>>> 2ba2090da906b09b23b78591086b48fe94c60797
   "metadata": {},
   "outputs": [
    {
     "data": {
      "text/plain": [
       "count    675.000000\n",
       "mean       1.263704\n",
       "std        0.771392\n",
       "min        0.000000\n",
       "25%        1.000000\n",
       "50%        1.000000\n",
       "75%        2.000000\n",
       "max        3.000000\n",
       "Name: nb_selection_steps, dtype: float64"
      ]
     },
<<<<<<< HEAD
     "execution_count": 16,
=======
     "execution_count": 187,
>>>>>>> 2ba2090da906b09b23b78591086b48fe94c60797
     "metadata": {},
     "output_type": "execute_result"
    }
   ],
   "source": [
    "df['nb_selection_steps'].describe()"
   ]
  },
  {
   "cell_type": "code",
<<<<<<< HEAD
   "execution_count": 17,
=======
   "execution_count": 188,
>>>>>>> 2ba2090da906b09b23b78591086b48fe94c60797
   "metadata": {},
   "outputs": [
    {
     "data": {
      "text/plain": [
<<<<<<< HEAD
       "<matplotlib.axes._subplots.AxesSubplot at 0x24da87161d0>"
      ]
     },
     "execution_count": 17,
=======
       "<matplotlib.axes._subplots.AxesSubplot at 0x1690e2219e8>"
      ]
     },
     "execution_count": 188,
>>>>>>> 2ba2090da906b09b23b78591086b48fe94c60797
     "metadata": {},
     "output_type": "execute_result"
    },
    {
     "data": {
      "image/png": "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\n",
      "text/plain": [
       "<Figure size 432x288 with 1 Axes>"
      ]
     },
     "metadata": {
      "needs_background": "light"
     },
     "output_type": "display_data"
    }
   ],
   "source": [
    "df['nb_selection_steps'].value_counts().plot(kind='bar')"
   ]
  },
  {
   "cell_type": "markdown",
   "metadata": {},
   "source": [
<<<<<<< HEAD
    "Having a complex selection process may dissuade potential candidates, like disabled ones or women because of its duration and the availability required for attending each appointment. Enabling a complex selection process can be legitimate when the city wants to hire a high responsibility profile.\n",
    "\n",
    "##### Here:\n",
    "- There are up to 3 steps for the selection. \n",
    "- This procedure helps the collectivity ensure they are hiring the appropriate candidate.\n",
    "- 80%  of the job opportunities include 1 or 2 steps, the most common being interview and tests.\n",
    "- 15% of them do not require any selection step.\n",
    "- The remaning 5% of bulletins suggest a selection performed in 3 steps. Are they related to a specific kind of job ?\n",
    "\n",
    "##### Next steps:\n",
    "By intituion, we would say that a 3-step selection process should be reserved to high responsibility position, where a hiring mistake can have strong impacts on the organzation.\n",
    "We then need to look for a correlation between the number of selection steps and the responsibility level."
=======
    "Having a complex selection process may dissuade potential candidates, like disabled ones or women because of its duration and the availability required for attending each appointment. Enabling a complex selection process can be legitimate when the city whant to hire a high responsibility profile.\n",
    "\n",
    "##### Here:\n",
    "- There are up to 3 steps for the selection. \n",
    "- This procedure help the collectivity ensure they are hiring the appropriate candidate.\n",
    "- 80%  of the job opportunities include 1 or 2 steps, the most common being interview, essay and test.\n",
    "- 15% of them do not require a complex selection process. >>>> What does that mean a \"complex\" selection process ? <<<<\n",
    "- The remaning 5% of bulletins suggest a selection performed in 3 steps. Are they related to a specific kind of job ?\n",
    "\n",
    "##### Next steps:\n",
    "We have listed the positions according to a scale of responibility and check if a complex selection process is performed for high responsibilities. It it is not the case, maybe is it due to an unconsious biais <<< what bias ?\n"
>>>>>>> 2ba2090da906b09b23b78591086b48fe94c60797
   ]
  },
  {
   "cell_type": "markdown",
   "metadata": {},
   "source": [
    "#### 1.b.6 Number of lines in the job description"
   ]
  },
  {
   "cell_type": "code",
<<<<<<< HEAD
   "execution_count": 18,
=======
   "execution_count": 189,
>>>>>>> 2ba2090da906b09b23b78591086b48fe94c60797
   "metadata": {},
   "outputs": [
    {
     "data": {
      "text/plain": [
       "count     675\n",
       "unique     63\n",
       "top        83\n",
       "freq       31\n",
       "Name: nb_lines, dtype: int64"
      ]
     },
<<<<<<< HEAD
     "execution_count": 18,
=======
     "execution_count": 189,
>>>>>>> 2ba2090da906b09b23b78591086b48fe94c60797
     "metadata": {},
     "output_type": "execute_result"
    }
   ],
   "source": [
    "df['nb_lines'].describe()"
   ]
  },
  {
   "cell_type": "code",
<<<<<<< HEAD
   "execution_count": 19,
=======
   "execution_count": 60,
>>>>>>> 2ba2090da906b09b23b78591086b48fe94c60797
   "metadata": {},
   "outputs": [
    {
     "data": {
      "text/plain": [
<<<<<<< HEAD
       "<matplotlib.axes._subplots.AxesSubplot at 0x24da85559b0>"
      ]
     },
     "execution_count": 19,
=======
       "<matplotlib.axes._subplots.AxesSubplot at 0x181b49951d0>"
      ]
     },
     "execution_count": 60,
>>>>>>> 2ba2090da906b09b23b78591086b48fe94c60797
     "metadata": {},
     "output_type": "execute_result"
    },
    {
     "data": {
<<<<<<< HEAD
      "image/png": "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\n",
=======
      "image/png": "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\n",
>>>>>>> 2ba2090da906b09b23b78591086b48fe94c60797
      "text/plain": [
       "<Figure size 1584x360 with 1 Axes>"
      ]
     },
     "metadata": {
      "needs_background": "light"
     },
     "output_type": "display_data"
    }
   ],
   "source": [
    "df['nb_lines'].value_counts(bins=10).plot(kind='bar', figsize=(22,5))"
   ]
  },
  {
   "cell_type": "markdown",
   "metadata": {},
   "source": [
    "#### Analysis of the number of lines in the job description\n",
    "Having a long description may be interesting for high responsibility positions in order to provide sufficient context elements on the job offer and the performance of the work. \n",
    "However a long bulletin can dissuade potential candidates to apply because the text would be too long.\n",
    "\n",
    "##### Here:\n",
    "- Most of the job postings include less than 100 lines.\n",
    "- The vast majority is between 74 and 96 lines\n",
    "\n",
    "##### Next steps:\n",
    "We will list the positions according to a scale of responibility and check if a long job description is legitimato or not. if it is not the case, maybe is it due to an unconsious biais.\n",
    "We will use a scale from 1 to 5"
   ]
  },
  {
   "cell_type": "markdown",
   "metadata": {},
   "source": [
    "#### 1.b.7 Number of caracters in the job description"
   ]
  },
  {
   "cell_type": "code",
<<<<<<< HEAD
   "execution_count": 32,
=======
   "execution_count": 192,
>>>>>>> 2ba2090da906b09b23b78591086b48fe94c60797
   "metadata": {},
   "outputs": [
    {
     "data": {
      "text/plain": [
       "count      675\n",
       "unique     649\n",
       "top       8215\n",
       "freq         3\n",
       "Name: nb_chars, dtype: int64"
      ]
     },
<<<<<<< HEAD
     "execution_count": 32,
=======
     "execution_count": 192,
>>>>>>> 2ba2090da906b09b23b78591086b48fe94c60797
     "metadata": {},
     "output_type": "execute_result"
    }
   ],
   "source": [
    "df['nb_chars'].describe()"
   ]
  },
  {
   "cell_type": "code",
<<<<<<< HEAD
   "execution_count": 33,
=======
   "execution_count": 214,
>>>>>>> 2ba2090da906b09b23b78591086b48fe94c60797
   "metadata": {},
   "outputs": [
    {
     "data": {
      "text/plain": [
       "(7659.0, 10684.0]     339\n",
       "(10684.0, 13709.0]    161\n",
       "(4618.874, 7659.0]    133\n",
       "(13709.0, 16734.0]     38\n",
       "(16734.0, 19759.0]      4\n",
       "Name: nb_chars, dtype: int64"
      ]
     },
<<<<<<< HEAD
     "execution_count": 33,
=======
     "execution_count": 214,
>>>>>>> 2ba2090da906b09b23b78591086b48fe94c60797
     "metadata": {},
     "output_type": "execute_result"
    }
   ],
   "source": [
    "df['nb_chars'].value_counts(bins=5).head()"
   ]
  },
  {
   "cell_type": "code",
<<<<<<< HEAD
   "execution_count": 34,
=======
   "execution_count": 215,
>>>>>>> 2ba2090da906b09b23b78591086b48fe94c60797
   "metadata": {},
   "outputs": [
    {
     "data": {
      "text/plain": [
<<<<<<< HEAD
       "<matplotlib.axes._subplots.AxesSubplot at 0x24da88665f8>"
      ]
     },
     "execution_count": 34,
=======
       "<matplotlib.axes._subplots.AxesSubplot at 0x1690e711668>"
      ]
     },
     "execution_count": 215,
>>>>>>> 2ba2090da906b09b23b78591086b48fe94c60797
     "metadata": {},
     "output_type": "execute_result"
    },
    {
     "data": {
      "image/png": "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\n",
      "text/plain": [
       "<Figure size 1584x360 with 1 Axes>"
      ]
     },
     "metadata": {
      "needs_background": "light"
     },
     "output_type": "display_data"
    }
   ],
   "source": [
    "df['nb_chars'].value_counts(bins=5).plot(kind='bar', figsize=(22,5))"
   ]
  },
  {
   "cell_type": "markdown",
   "metadata": {},
   "source": [
    "#### Analysis\n",
    "Having a long description may be interesting for high responsibility positions in order to provide sufficient context elements on the job offer anr the performance of the work. \n",
    "However a charged (in terms of chars) can dissuade potential candidates to apply because the text would be too complex.\n",
    "\n",
    "##### Here:\n",
    "- Most of the job postings (527 of them i.e 78%) include 4.600 to 13.700 caracters.\n",
    "- the remaining 148 bulletins (about 22%) may  be too 'verbose'.\n",
    "\n",
    "##### Next steps:\n",
    "We will list the positions according to a scale of responibility and check if a verbose description is legitimate or not. if it is not the case, maybe is it due to an unconsious biais.\n",
    "We will use a scale from 1 to 5"
   ]
  },
  {
   "cell_type": "markdown",
   "metadata": {},
   "source": [
    "#### 1.b.8 Deadline - Time to apply\n",
    "\n",
    "validity_duration field has been computed to give us the time between the date the job was posted and the deadline to apply."
   ]
  },
  {
   "cell_type": "code",
<<<<<<< HEAD
   "execution_count": 35,
=======
   "execution_count": 195,
>>>>>>> 2ba2090da906b09b23b78591086b48fe94c60797
   "metadata": {},
   "outputs": [
    {
     "data": {
      "text/plain": [
       "count     625\n",
       "unique     38\n",
       "top        13\n",
       "freq      494\n",
       "Name: validity_duration, dtype: int64"
      ]
     },
<<<<<<< HEAD
     "execution_count": 35,
=======
     "execution_count": 195,
>>>>>>> 2ba2090da906b09b23b78591086b48fe94c60797
     "metadata": {},
     "output_type": "execute_result"
    }
   ],
   "source": [
    "df['validity_duration'].describe()"
   ]
  },
  {
   "cell_type": "code",
<<<<<<< HEAD
   "execution_count": 36,
=======
   "execution_count": 14,
>>>>>>> 2ba2090da906b09b23b78591086b48fe94c60797
   "metadata": {},
   "outputs": [
    {
     "data": {
      "text/plain": [
<<<<<<< HEAD
       "<matplotlib.axes._subplots.AxesSubplot at 0x24da89d4860>"
      ]
     },
     "execution_count": 36,
=======
       "<matplotlib.axes._subplots.AxesSubplot at 0x181b2213320>"
      ]
     },
     "execution_count": 14,
>>>>>>> 2ba2090da906b09b23b78591086b48fe94c60797
     "metadata": {},
     "output_type": "execute_result"
    },
    {
     "data": {
<<<<<<< HEAD
      "image/png": "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\n",
=======
      "image/png": "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\n",
>>>>>>> 2ba2090da906b09b23b78591086b48fe94c60797
      "text/plain": [
       "<Figure size 432x288 with 1 Axes>"
      ]
     },
     "metadata": {
      "needs_background": "light"
     },
     "output_type": "display_data"
    }
   ],
   "source": [
    "# Visualize To Pten validity_durations\n",
    "df['validity_duration'].value_counts().head(5).plot(kind='bar')"
   ]
  },
  {
   "cell_type": "markdown",
   "metadata": {},
   "source": [
    "#### Analysis of the time remaining to apply\n",
<<<<<<< HEAD
    "Validity duration is an important parameter. Offering little time to apply reduces the number of candidates . We can expect a job opening to leave enough time to people to apply. Maybe more for disabled people who may have access to the job opennings less easily. We can also expect the deadline to  be extended for rare profiles like those intended for high responsibility positions.\n",
    "\n",
    "\n",
    "If a low validity duration is given for a high responsibility position or for a position open to all, it can represent a barrier to the City to meet interesting external candidates. We should here offer a prescriptive action to the City.\n",
=======
    "Validity duration is an important parameter. Offering little time to apply reduces the number of candidates . We can expect a job opening to leave enough time to people to apply. Maybe more for disabled people who may have access to the job opennings less easyli. We can also expect the deadline to  be extended for rare profiles like those intended for high responsibility positions.\n",
    "If a low validity duration is given for a high responsibility position, it can turn out to be suspicious. <<<< what do you mean by suspicious ?\n",
>>>>>>> 2ba2090da906b09b23b78591086b48fe94c60797
    "\n",
    "##### Here\n",
    "- Most of the job opportunities (about 65%) are to be applied within 13 days, equivalent to 2 weeks since the release of the bulletin.\n",
    "- The next most common validity duration is 20 days equivalent to 3 weeks. \n",
    "- Up to 10 bulletins offer a validity duration of 10 days, which is rather short. This is the shortest validity duration.\n",
    "\n",
    "##### Next steps:\n",
<<<<<<< HEAD
    "We have to explore those bulletins with 11-day validity duration, check if they are opent to all and check if the position leads to high responibilities. We will foculs on 11-day validity bulletin because this is the shortest duration, and a 13-day validity duration is to common. "
=======
    "He have to explore those bulletins with 11 day validity and check if the position leads to high responibilities. <<<< why 11 days ?"
>>>>>>> 2ba2090da906b09b23b78591086b48fe94c60797
   ]
  },
  {
   "cell_type": "markdown",
   "metadata": {},
   "source": [
    "## Descriptive Analysis Summary\n",
    "#### File parsing performance\n",
    "- Over the 683 files we managed to keep 675 of them after parsing (98%).\n",
    "\n",
    "#### Offered employment\n",
    "- Before 2014, very few employment opportunities were offered to the citizen. As we approch 2021, we can see that the number of bulletins is increasing. There is a strong issue in managing the turnover since 2014. The niumber of job opportunities offred is almost doubled between 2014 and 2016, and then the number of published bulletins remain high.\n",
    "- This makes our job even more challenging !\n",
    "\n",
    "#### Job posting all over the year\n",
    "- It seems that about the same amount of jobs have been posted every month throughout the years.\n",
    "\n",
    "#### Number of requirements\n",
    "- In large majority,  the bulletins indicate less that 4 requirements.\n",
    "- However thet are few bulletins that include more requirements even up to 9 !\n",
    "- Including lots of requirements may have a negative impact on female applications and therefore be part of an unconscious bias. This parameter is to be looked into.\n",
    "\n",
    "#### Number of selection steps\n",
    "- There are up to 3 steps for the selection.\n",
    "- This procedure helps the collectivity ensure they are hiring the appropriate candidate.\n",
    "- 80%  of the job opportunities include 1 or 2 steps, the most common being interview, essay and test.\n",
    "- 15% of them do not require a complex selection process.\n",
    "- The remaning 5% of bulletins suggest a selection performed in 3 steps. Are they related to a specific kind of job ?\n",
<<<<<<< HEAD
    "- Having a 3-step selection process may dissuade potential candidates, like disabled ones or women because of its duration and the availability required for attending each appointment.\n",
=======
    "- Having a complex selection process may dissuade potential candidates, like disabled ones or women because of its duration and the availability required for attending each appointment.\n",
>>>>>>> 2ba2090da906b09b23b78591086b48fe94c60797
    "\n",
    "#### Validity duration\n",
    "- Most (about 65%) of the job opportunities are to be applied within 13 days equivalent to 2 weeks since publishing of the bulletin.\n",
    "- The next validity duration is 20 days equivalent to 3 weeks. \n",
    "- Up to 10 bulletin offer a validity duration of 10 days, which is rather short. This is the shortest validity duration.\n",
    "- Validity duration is an important parameter, offering little time to apply may reduce the number of candidates.\n",
    "We also need to identify if some job positions are only opened to current employees, which can explain why validity duration is short.\n",
    "\n",
    "#### Next steps\n",
    "Correlate Responsibility level with :\n",
    "- Validity duration, \n",
<<<<<<< HEAD
    "- Nb of requirements in the job description\n",
    "- Nb steps in the selection process\n",
    "- Nb lines in the job description\n",
    "- Nb chars in the job description"
=======
    "- Nb of the position requirements\n",
    "- Nb steps in the selection process\n",
    "- Nb lines in the job description\n"
>>>>>>> 2ba2090da906b09b23b78591086b48fe94c60797
   ]
  },
  {
   "cell_type": "markdown",
   "metadata": {},
   "source": [
    "### 1.d Feature engineering - Enriching the dataframe with computed fields"
   ]
  },
  {
   "cell_type": "markdown",
   "metadata": {},
   "source": [
    "In this section we will enhance our dataframe with additional computed fields:\n",
    "- nb_line_scale : number of lines on a scale from 0 to 5\n",
    "- nb_char_scale : number of chars on a scale from 0 to 5\n",
    "- full_time_part_time_code : indicates if job is part time (1) or full time (2)\n",
    "- exp_years : number of years of experience needed\n",
    "- high_education : 1 if requiring University or College, 0 else\n",
    "- Open_To_All : indicates if the position is open to all including actual city employees\n",
    "- Resp_level : scale of responsibility from 0 to 5\n",
    "\n",
    "Resp_level based on the job title : \n",
    "- Director = 5, \n",
    "- Manager, Principal, Chief, Captain  = 4, \n",
<<<<<<< HEAD
    "- Engineer, Specialist, Representative, Advocate, Inspector, Supervisor = 3\n",
    "- Officer = 2\n",
=======
    "- Engineer, Specialist, Representative, Advocate, Inspector, Officer = 3\n",
    "- Supervisor = 2 <<<< pourquoi 2 celui ci ?\n",
>>>>>>> 2ba2090da906b09b23b78591086b48fe94c60797
    "- Other = 0"
   ]
  },
  {
   "cell_type": "code",
<<<<<<< HEAD
   "execution_count": 37,
=======
   "execution_count": 71,
>>>>>>> 2ba2090da906b09b23b78591086b48fe94c60797
   "metadata": {},
   "outputs": [
    {
     "data": {
      "text/plain": [
<<<<<<< HEAD
       "count                675\n",
       "unique               665\n",
       "top       annual salary \n",
       "freq                   3\n",
       "Name: Position, dtype: object"
      ]
     },
     "execution_count": 37,
=======
       "count                        675\n",
       "unique                       665\n",
       "top       campus interviews only\n",
       "freq                           3\n",
       "Name: Position, dtype: object"
      ]
     },
     "execution_count": 71,
>>>>>>> 2ba2090da906b09b23b78591086b48fe94c60797
     "metadata": {},
     "output_type": "execute_result"
    }
   ],
   "source": [
    "df['Position'].describe()"
   ]
  },
  {
   "cell_type": "code",
<<<<<<< HEAD
   "execution_count": 38,
=======
   "execution_count": 72,
>>>>>>> 2ba2090da906b09b23b78591086b48fe94c60797
   "metadata": {},
   "outputs": [],
   "source": [
    "# Calculates the number of lines on a scale from 0 to 5\n",
    "def ScaleNBLine(line_nb):\n",
    "    results = 0\n",
    "    if line_nb < 60:\n",
    "        return(0)\n",
    "    elif line_nb < 85:\n",
    "        return(1)\n",
    "    elif line_nb < 110:\n",
    "        return(2)\n",
    "    elif line_nb < 130:\n",
    "        return(3)\n",
    "    elif line_nb < 150:\n",
    "        return(4)\n",
    "    else:\n",
    "        return(5)\n",
    "\n",
    "# Calculates the number of lines on a scale from 0 to 5\n",
    "def ScaleNBChar(line_nb):\n",
    "    results = 0\n",
    "    if line_nb < 7000:\n",
    "        return(0)\n",
    "    elif line_nb < 11000:\n",
    "        return(1)\n",
    "    elif line_nb < 110:\n",
    "        return(2)\n",
    "    elif line_nb < 13000:\n",
    "        return(3)\n",
    "    elif line_nb < 160000:\n",
    "        return(4)\n",
    "    else:\n",
    "        return(5)\n",
    "\n",
    "# Calculates responsibility level for each position\n",
    "def RespLevel(position):\n",
    "    results = 0\n",
    "    if \"DIRECTOR\" in position.upper():\n",
    "        return(5)\n",
    "    \n",
    "    elif \"MANAGER\" in position.upper():\n",
    "        return(4)\n",
    "    elif \"PRINCIPAL\" in position.upper():\n",
    "        return(4)\n",
    "    elif \"CHIEF\" in position.upper():\n",
    "        return(4)\n",
    "    elif \"CAPTAIN\" in position.upper():\n",
    "        return(4)\n",
    "    \n",
    "    elif \"ENGINEER\" in position.upper():\n",
    "        return(3)\n",
    "    elif \"SPECIALIST\" in position.upper():\n",
    "        return(3)\n",
    "    elif \"ADVOCATE\" in position.upper():\n",
    "        return(3)\n",
    "    elif \"REPRESENTATIVE\" in position.upper():\n",
    "        return(3)\n",
    "    elif \"INSPECTOR\" in position.upper():\n",
<<<<<<< HEAD
    "        return(3)    \n",
    "    elif \"SUPERVISOR\" in position.upper():\n",
    "        return(3)\n",
    "    elif \"SUPERINTENDENT\" in position.upper():\n",
    "        return(3)\n",
    "    \n",
    "    elif \"OFFICER\" in position.upper():\n",
    "        return(2)\n",
    "    elif \"LIEUTENANT\" in position.upper():\n",
    "        return(2)\n",
    "    return(0)\n",
=======
    "        return(3)\n",
    "    elif \"OFFICER\" in position.upper():\n",
    "        return(3)\n",
    "    \n",
    "    elif \"SUPERVISOR\" in position.upper():\n",
    "        return(2)\n",
    "    elif \"LIEUTENANT\" in position.upper():\n",
    "        return(2)\n",
    "    elif \"SUPERINTENDENT\" in position.upper():\n",
    "        return(2)    \n",
    "    \n",
    "    else:\n",
    "        return(0)\n",
>>>>>>> 2ba2090da906b09b23b78591086b48fe94c60797
    "\n",
    "# Identifies if a position is open to all\n",
    "def open2all(raw_text):\n",
    "    if \"exam open to current\" in raw_text.lower():\n",
    "        return 0\n",
    "    return 1\n",
    "    # If Nothing is mentionned on whether external candidates can apply\n",
    "    # It shall mean that the job offer is opened to all\n",
    "    \n",
    "# Identifies if ther is a mention \"Exam open to...\"\n",
    "def mention_Exam_Open(raw_text):\n",
    "    if \"exam open\" in raw_text.lower():\n",
    "        return 1\n",
    "    return 0\n",
    "\n",
    "    \n",
    "# Tests if  we ha a NaN recording in a cell of the dataframe\n",
    "def isNaN(num):\n",
    "    return num != num\n",
    "\n",
    "# Translates the experience requierement into a number\n",
    "def get_nb(val):\n",
    "    if not isNaN(val):\n",
    "        if val.lower() == 'one':\n",
    "            return 1\n",
    "        if val.lower() == 'two':\n",
    "            return 2\n",
    "        if val.lower() == 'three':\n",
    "            return 3\n",
    "        if val.lower() == 'four':\n",
    "            return 4\n",
    "        if val.lower() == 'five':\n",
    "            return 5\n",
    "        if val.lower() == 'six':\n",
    "            return 6\n",
    "        if val.lower() == 'seven':\n",
    "            return 7\n",
    "        if val.lower() == 'eight':\n",
    "            return 8\n",
    "        if val.lower() == 'nine':\n",
    "            return 9\n",
    "        if val.lower() == 'ten':\n",
    "            return 10\n",
    "        else:\n",
    "            print(val)\n",
    "            return np.nan\n",
    "\n",
    "# Calculates if there is a requirement on the backgourd College or University formulated in the bulletin\n",
    "def code_school(val):\n",
    "    if not isNaN(val):\n",
    "        if val == \"College or University\":\n",
    "            return 1 \n",
    "        \n",
    "    #better for correlations (at list one variation)\n",
    "    return 0\n",
    "        \n",
    "\n",
    "# Calcultates if the position allaow part time or full time\n",
    "def code_ft_pt(val):\n",
    "    if not isNaN(val):\n",
    "        if val == \"PART_TIME\":\n",
    "            return 1\n",
    "        if val == \"FULL_TIME\":\n",
    "            return 2\n",
    "        \n",
    "    #better for correlations (at list one variation)\n",
    "    return 0"
   ]
  },
  {
   "cell_type": "code",
<<<<<<< HEAD
   "execution_count": 39,
=======
   "execution_count": 73,
>>>>>>> 2ba2090da906b09b23b78591086b48fe94c60797
   "metadata": {},
   "outputs": [],
   "source": [
    "df_enriched = df.copy()\n",
    "df_enriched['nb_line_scale'] = df_enriched['nb_lines'].apply(lambda x : ScaleNBLine(x))\n",
    "df_enriched['nb_char_scale'] = df_enriched['nb_chars'].apply(lambda x : ScaleNBChar(x))\n",
    "df_enriched['Resp_level'] = df_enriched['Position'].apply(lambda x : RespLevel(x))\n",
    "df_enriched['Open_To_All'] = df_enriched['raw_job_text'].apply(lambda x : open2all(x))\n",
    "df_enriched['Open_To_Mention'] = df_enriched['raw_job_text'].apply(lambda x : mention_Exam_Open(x))\n",
    "df_enriched['exp_years'] = df_enriched['EXPERIENCE_LENGTH'].apply(lambda x : get_nb(x))\n",
    "df_enriched['high_education'] = df_enriched['SCHOOL_TYPE'].apply(lambda x : code_school(x) )\n",
    "df_enriched['full_time_part_time_code'] = df_enriched['FULL_TIME_PART_TIME'].apply(lambda x : code_ft_pt(x))\n",
    "\n"
   ]
  },
  {
   "cell_type": "code",
<<<<<<< HEAD
   "execution_count": 40,
=======
   "execution_count": 74,
>>>>>>> 2ba2090da906b09b23b78591086b48fe94c60797
   "metadata": {},
   "outputs": [
    {
     "data": {
      "text/html": [
       "<div>\n",
       "<style scoped>\n",
       "    .dataframe tbody tr th:only-of-type {\n",
       "        vertical-align: middle;\n",
       "    }\n",
       "\n",
       "    .dataframe tbody tr th {\n",
       "        vertical-align: top;\n",
       "    }\n",
       "\n",
       "    .dataframe thead th {\n",
       "        text-align: right;\n",
       "    }\n",
       "</style>\n",
       "<table border=\"1\" class=\"dataframe\">\n",
       "  <thead>\n",
       "    <tr style=\"text-align: right;\">\n",
       "      <th></th>\n",
       "      <th>File Name</th>\n",
       "      <th>Position</th>\n",
       "      <th>salary_start</th>\n",
       "      <th>salary_end</th>\n",
       "      <th>opendate</th>\n",
       "      <th>requirements</th>\n",
       "      <th>duties</th>\n",
       "      <th>deadline</th>\n",
       "      <th>deadline_date</th>\n",
       "      <th>validity_duration</th>\n",
       "      <th>...</th>\n",
       "      <th>EDUCATION_YEARS</th>\n",
       "      <th>SCHOOL_TYPE</th>\n",
       "      <th>nb_line_scale</th>\n",
       "      <th>nb_char_scale</th>\n",
       "      <th>Resp_level</th>\n",
       "      <th>Open_To_All</th>\n",
       "      <th>Open_To_Mention</th>\n",
       "      <th>exp_years</th>\n",
       "      <th>high_education</th>\n",
       "      <th>full_time_part_time_code</th>\n",
       "    </tr>\n",
       "  </thead>\n",
       "  <tbody>\n",
       "    <tr>\n",
       "      <th>0</th>\n",
       "      <td>311 DIRECTOR  9206 041814.txt</td>\n",
       "      <td>311 director</td>\n",
       "      <td>125,175</td>\n",
       "      <td>$155,514</td>\n",
       "      <td>2014-04-18</td>\n",
       "      <td>1. One year of full-time paid experience as a ...</td>\n",
       "      <td>A 311 Director is responsible for the successf...</td>\n",
       "      <td>MAY 1, 2014</td>\n",
       "      <td>2014-05-01</td>\n",
       "      <td>13</td>\n",
       "      <td>...</td>\n",
       "      <td>NaN</td>\n",
       "      <td>NaN</td>\n",
       "      <td>1</td>\n",
       "      <td>1</td>\n",
       "      <td>5</td>\n",
       "      <td>1</td>\n",
       "      <td>0</td>\n",
       "      <td>1.0</td>\n",
       "      <td>0</td>\n",
       "      <td>2</td>\n",
       "    </tr>\n",
       "    <tr>\n",
       "      <th>1</th>\n",
       "      <td>ACCOUNTANT 1513 062218.txt</td>\n",
       "      <td>accountant</td>\n",
       "      <td>49,903</td>\n",
       "      <td>$72,996</td>\n",
       "      <td>2018-06-22</td>\n",
       "      <td>Graduation from an accredited four-year colleg...</td>\n",
       "      <td>An Accountant does professional accounting wor...</td>\n",
       "      <td>AUGUST 25, 2018</td>\n",
       "      <td>2018-08-25</td>\n",
       "      <td>64</td>\n",
       "      <td>...</td>\n",
       "      <td>four</td>\n",
       "      <td>College or University</td>\n",
       "      <td>2</td>\n",
       "      <td>1</td>\n",
       "      <td>0</td>\n",
       "      <td>1</td>\n",
       "      <td>1</td>\n",
       "      <td>NaN</td>\n",
       "      <td>1</td>\n",
       "      <td>0</td>\n",
       "    </tr>\n",
       "    <tr>\n",
       "      <th>2</th>\n",
       "      <td>ACCOUNTING CLERK 1223 071318.txt</td>\n",
       "      <td>accounting clerk</td>\n",
       "      <td>49,005</td>\n",
       "      <td>$71,618</td>\n",
       "      <td>2018-07-13</td>\n",
       "      <td>Two years of full-time paid office clerical ex...</td>\n",
       "      <td>An Accounting Clerk performs difficult and res...</td>\n",
       "      <td>NaN</td>\n",
       "      <td>NaT</td>\n",
       "      <td>NaN</td>\n",
       "      <td>...</td>\n",
       "      <td>NaN</td>\n",
       "      <td>NaN</td>\n",
       "      <td>2</td>\n",
       "      <td>1</td>\n",
       "      <td>0</td>\n",
       "      <td>1</td>\n",
       "      <td>1</td>\n",
       "      <td>2.0</td>\n",
       "      <td>0</td>\n",
       "      <td>2</td>\n",
       "    </tr>\n",
       "    <tr>\n",
       "      <th>3</th>\n",
       "      <td>ACCOUNTING RECORDS SUPERVISOR 1119 072718.txt</td>\n",
       "      <td>accounting records supervisor</td>\n",
       "      <td>55,332</td>\n",
       "      <td>$80,930</td>\n",
       "      <td>2018-07-27</td>\n",
       "      <td>Two years of full-time paid experience as an A...</td>\n",
       "      <td>An Accounting Records Supervisor assigns, revi...</td>\n",
       "      <td>AUGUST 9, 2018</td>\n",
       "      <td>2018-08-09</td>\n",
       "      <td>13</td>\n",
       "      <td>...</td>\n",
       "      <td>NaN</td>\n",
       "      <td>NaN</td>\n",
       "      <td>2</td>\n",
       "      <td>1</td>\n",
<<<<<<< HEAD
       "      <td>3</td>\n",
=======
       "      <td>2</td>\n",
>>>>>>> 2ba2090da906b09b23b78591086b48fe94c60797
       "      <td>0</td>\n",
       "      <td>1</td>\n",
       "      <td>2.0</td>\n",
       "      <td>0</td>\n",
       "      <td>2</td>\n",
       "    </tr>\n",
       "    <tr>\n",
       "      <th>4</th>\n",
       "      <td>ADMINISTRATIVE ANALYST 1590 060118.txt</td>\n",
       "      <td>administrative analyst</td>\n",
       "      <td>60,489</td>\n",
       "      <td>$88,468</td>\n",
       "      <td>2018-06-01</td>\n",
       "      <td>1. One year of full-time paid professional exp...</td>\n",
       "      <td>An Administrative Analyst performs professiona...</td>\n",
       "      <td>JUNE 14, 2018</td>\n",
       "      <td>2018-06-14</td>\n",
       "      <td>13</td>\n",
       "      <td>...</td>\n",
       "      <td>four</td>\n",
       "      <td>College or University</td>\n",
       "      <td>2</td>\n",
       "      <td>3</td>\n",
       "      <td>0</td>\n",
       "      <td>0</td>\n",
       "      <td>1</td>\n",
       "      <td>1.0</td>\n",
       "      <td>1</td>\n",
       "      <td>2</td>\n",
       "    </tr>\n",
       "  </tbody>\n",
       "</table>\n",
       "<p>5 rows × 31 columns</p>\n",
       "</div>"
      ],
      "text/plain": [
       "                                       File Name  \\\n",
       "0                  311 DIRECTOR  9206 041814.txt   \n",
       "1                     ACCOUNTANT 1513 062218.txt   \n",
       "2               ACCOUNTING CLERK 1223 071318.txt   \n",
       "3  ACCOUNTING RECORDS SUPERVISOR 1119 072718.txt   \n",
       "4         ADMINISTRATIVE ANALYST 1590 060118.txt   \n",
       "\n",
       "                        Position salary_start salary_end   opendate  \\\n",
       "0                   311 director      125,175   $155,514 2014-04-18   \n",
       "1                     accountant       49,903    $72,996 2018-06-22   \n",
       "2               accounting clerk       49,005    $71,618 2018-07-13   \n",
       "3  accounting records supervisor       55,332    $80,930 2018-07-27   \n",
       "4         administrative analyst       60,489    $88,468 2018-06-01   \n",
       "\n",
       "                                        requirements  \\\n",
       "0  1. One year of full-time paid experience as a ...   \n",
       "1  Graduation from an accredited four-year colleg...   \n",
       "2  Two years of full-time paid office clerical ex...   \n",
       "3  Two years of full-time paid experience as an A...   \n",
       "4  1. One year of full-time paid professional exp...   \n",
       "\n",
       "                                              duties         deadline  \\\n",
       "0  A 311 Director is responsible for the successf...      MAY 1, 2014   \n",
       "1  An Accountant does professional accounting wor...  AUGUST 25, 2018   \n",
       "2  An Accounting Clerk performs difficult and res...              NaN   \n",
       "3  An Accounting Records Supervisor assigns, revi...   AUGUST 9, 2018   \n",
       "4  An Administrative Analyst performs professiona...    JUNE 14, 2018   \n",
       "\n",
<<<<<<< HEAD
       "  deadline_date validity_duration           ...            EDUCATION_YEARS  \\\n",
       "0    2014-05-01                13           ...                        NaN   \n",
       "1    2018-08-25                64           ...                       four   \n",
       "2           NaT               NaN           ...                        NaN   \n",
       "3    2018-08-09                13           ...                        NaN   \n",
       "4    2018-06-14                13           ...                       four   \n",
       "\n",
       "             SCHOOL_TYPE nb_line_scale  nb_char_scale  Resp_level  \\\n",
       "0                    NaN             1              1           5   \n",
       "1  College or University             2              1           0   \n",
       "2                    NaN             2              1           0   \n",
       "3                    NaN             2              1           3   \n",
       "4  College or University             2              3           0   \n",
       "\n",
       "   Open_To_All  Open_To_Mention  exp_years high_education  \\\n",
       "0            1                0        1.0              0   \n",
       "1            1                1        NaN              1   \n",
       "2            1                1        2.0              0   \n",
       "3            0                1        2.0              0   \n",
       "4            0                1        1.0              1   \n",
       "\n",
       "  full_time_part_time_code  \n",
       "0                        2  \n",
       "1                        0  \n",
       "2                        2  \n",
       "3                        2  \n",
       "4                        2  \n",
=======
       "  deadline_date validity_duration  ... EDUCATION_YEARS            SCHOOL_TYPE  \\\n",
       "0    2014-05-01                13  ...             NaN                    NaN   \n",
       "1    2018-08-25                64  ...            four  College or University   \n",
       "2           NaT               NaN  ...             NaN                    NaN   \n",
       "3    2018-08-09                13  ...             NaN                    NaN   \n",
       "4    2018-06-14                13  ...            four  College or University   \n",
       "\n",
       "  nb_line_scale  nb_char_scale  Resp_level  Open_To_All  Open_To_Mention  \\\n",
       "0             1              1           5            1                0   \n",
       "1             2              1           0            1                1   \n",
       "2             2              1           0            1                1   \n",
       "3             2              1           2            0                1   \n",
       "4             2              3           0            0                1   \n",
       "\n",
       "   exp_years high_education full_time_part_time_code  \n",
       "0        1.0              0                        2  \n",
       "1        NaN              1                        0  \n",
       "2        2.0              0                        2  \n",
       "3        2.0              0                        2  \n",
       "4        1.0              1                        2  \n",
>>>>>>> 2ba2090da906b09b23b78591086b48fe94c60797
       "\n",
       "[5 rows x 31 columns]"
      ]
     },
<<<<<<< HEAD
     "execution_count": 40,
=======
     "execution_count": 74,
>>>>>>> 2ba2090da906b09b23b78591086b48fe94c60797
     "metadata": {},
     "output_type": "execute_result"
    }
   ],
   "source": [
    "df_enriched.head()"
   ]
  },
  {
   "cell_type": "code",
<<<<<<< HEAD
   "execution_count": 41,
=======
   "execution_count": 75,
>>>>>>> 2ba2090da906b09b23b78591086b48fe94c60797
   "metadata": {},
   "outputs": [
    {
     "data": {
      "text/plain": [
       "count    675.000000\n",
<<<<<<< HEAD
       "mean       1.795556\n",
       "std        1.748160\n",
       "min        0.000000\n",
       "25%        0.000000\n",
       "50%        3.000000\n",
=======
       "mean       1.666667\n",
       "std        1.690434\n",
       "min        0.000000\n",
       "25%        0.000000\n",
       "50%        2.000000\n",
>>>>>>> 2ba2090da906b09b23b78591086b48fe94c60797
       "75%        3.000000\n",
       "max        5.000000\n",
       "Name: Resp_level, dtype: float64"
      ]
     },
<<<<<<< HEAD
     "execution_count": 41,
=======
     "execution_count": 75,
>>>>>>> 2ba2090da906b09b23b78591086b48fe94c60797
     "metadata": {},
     "output_type": "execute_result"
    }
   ],
   "source": [
    "df_enriched['Resp_level'].describe()"
   ]
  },
  {
   "cell_type": "code",
<<<<<<< HEAD
   "execution_count": 42,
=======
   "execution_count": 76,
>>>>>>> 2ba2090da906b09b23b78591086b48fe94c60797
   "metadata": {},
   "outputs": [
    {
     "data": {
      "text/plain": [
       "0    313\n",
<<<<<<< HEAD
       "3    215\n",
       "4     99\n",
       "5     25\n",
       "2     23\n",
       "Name: Resp_level, dtype: int64"
      ]
     },
     "execution_count": 42,
=======
       "3    128\n",
       "2    110\n",
       "4     99\n",
       "5     25\n",
       "Name: Resp_level, dtype: int64"
      ]
     },
     "execution_count": 76,
>>>>>>> 2ba2090da906b09b23b78591086b48fe94c60797
     "metadata": {},
     "output_type": "execute_result"
    }
   ],
   "source": [
    "df_enriched['Resp_level'].value_counts().head(10)"
   ]
  },
  {
   "cell_type": "code",
<<<<<<< HEAD
   "execution_count": 43,
=======
   "execution_count": 77,
>>>>>>> 2ba2090da906b09b23b78591086b48fe94c60797
   "metadata": {},
   "outputs": [
    {
     "data": {
      "text/plain": [
<<<<<<< HEAD
       "<matplotlib.axes._subplots.AxesSubplot at 0x24da8c3cc50>"
      ]
     },
     "execution_count": 43,
=======
       "<matplotlib.axes._subplots.AxesSubplot at 0x181b4b559e8>"
      ]
     },
     "execution_count": 77,
>>>>>>> 2ba2090da906b09b23b78591086b48fe94c60797
     "metadata": {},
     "output_type": "execute_result"
    },
    {
     "data": {
<<<<<<< HEAD
      "image/png": "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\n",
=======
      "image/png": "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\n",
>>>>>>> 2ba2090da906b09b23b78591086b48fe94c60797
      "text/plain": [
       "<Figure size 432x288 with 1 Axes>"
      ]
     },
     "metadata": {
      "needs_background": "light"
     },
     "output_type": "display_data"
    }
   ],
   "source": [
    "df_enriched['Resp_level'].value_counts().head(10).plot(kind='bar')"
   ]
  },
  {
   "cell_type": "markdown",
   "metadata": {},
   "source": [
    "#### 1.d.1 Responsibility Level\n",
<<<<<<< HEAD
    "- Most (about 50%) of the job opportunities are very low responsibility levels (levels 0 to 2)\n",
    "- About 46% of the job positions present a medium or high responibility level (level 3 and 4). \n",
    "- About 4% of the job positions deal with very high responsibility (level 5)\n",
    "\n",
    "Our feeling is that the should not have displayed biais especially for medium to very high responsibility levels. If there is a bias, for instance en gender bias, it should be considered as a critical one."
=======
    "- Most (about 49%) of the job opportunities are very low responsibility levels\n",
    "- About 15% of the job positions may concern inspectors, supervisors, lieutenants\n",
    "- About 35% of the job positions present a medium or high responibility level. \n",
    "- It would be a pity if the biases took places for those 35% and for the 25 job posting for a Director <<<< pourquoi ?"
>>>>>>> 2ba2090da906b09b23b78591086b48fe94c60797
   ]
  },
  {
   "cell_type": "code",
<<<<<<< HEAD
   "execution_count": 44,
=======
   "execution_count": 78,
>>>>>>> 2ba2090da906b09b23b78591086b48fe94c60797
   "metadata": {},
   "outputs": [
    {
     "data": {
      "text/plain": [
       "count    675.000000\n",
       "mean       0.548148\n",
       "std        0.498045\n",
       "min        0.000000\n",
       "25%        0.000000\n",
       "50%        1.000000\n",
       "75%        1.000000\n",
       "max        1.000000\n",
       "Name: Open_To_All, dtype: float64"
      ]
     },
<<<<<<< HEAD
     "execution_count": 44,
=======
     "execution_count": 78,
>>>>>>> 2ba2090da906b09b23b78591086b48fe94c60797
     "metadata": {},
     "output_type": "execute_result"
    }
   ],
   "source": [
    "df_enriched['Open_To_All'].describe()"
   ]
  },
  {
   "cell_type": "code",
<<<<<<< HEAD
   "execution_count": 45,
=======
   "execution_count": 79,
>>>>>>> 2ba2090da906b09b23b78591086b48fe94c60797
   "metadata": {},
   "outputs": [
    {
     "data": {
      "text/plain": [
       "1    370\n",
       "0    305\n",
       "Name: Open_To_All, dtype: int64"
      ]
     },
<<<<<<< HEAD
     "execution_count": 45,
=======
     "execution_count": 79,
>>>>>>> 2ba2090da906b09b23b78591086b48fe94c60797
     "metadata": {},
     "output_type": "execute_result"
    }
   ],
   "source": [
    "df_enriched['Open_To_All'].value_counts()"
   ]
  },
  {
   "cell_type": "code",
<<<<<<< HEAD
   "execution_count": 46,
=======
   "execution_count": 80,
>>>>>>> 2ba2090da906b09b23b78591086b48fe94c60797
   "metadata": {},
   "outputs": [
    {
     "data": {
      "text/plain": [
<<<<<<< HEAD
       "<matplotlib.axes._subplots.AxesSubplot at 0x24da8ca7c50>"
      ]
     },
     "execution_count": 46,
=======
       "<matplotlib.axes._subplots.AxesSubplot at 0x181b4bb3780>"
      ]
     },
     "execution_count": 80,
>>>>>>> 2ba2090da906b09b23b78591086b48fe94c60797
     "metadata": {},
     "output_type": "execute_result"
    },
    {
     "data": {
<<<<<<< HEAD
      "image/png": "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\n",
=======
      "image/png": "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\n",
>>>>>>> 2ba2090da906b09b23b78591086b48fe94c60797
      "text/plain": [
       "<Figure size 432x288 with 1 Axes>"
      ]
     },
     "metadata": {
      "needs_background": "light"
     },
     "output_type": "display_data"
    }
   ],
   "source": [
    "df_enriched['Open_To_All'].value_counts().head().plot(kind='bar')"
   ]
  },
  {
   "cell_type": "markdown",
   "metadata": {},
   "source": [
    "#### 1.d.2 Open to All\n",
    "- About 370 Job bulletins (about 55%) are open to all kind of candidates including already city employees.\n",
    "  - About 305 Job bulletins (about 50%) clearly specify the are open to all.\n",
    "  - About 35 Job bulletins (about 5%) do not specify whether the job is opent to external cadidates.\n",
    "- About 305 Job bulletins (about 45%) are only open to current city employees\n",
    "\n",
    "This is huge, only 50% of the job postings are open to every candidate, this may reduce chances to have new candidates."
   ]
  },
  {
   "cell_type": "code",
<<<<<<< HEAD
   "execution_count": 47,
=======
   "execution_count": 81,
>>>>>>> 2ba2090da906b09b23b78591086b48fe94c60797
   "metadata": {},
   "outputs": [
    {
     "data": {
      "text/plain": [
       "2    576\n",
       "0     99\n",
       "Name: full_time_part_time_code, dtype: int64"
      ]
     },
<<<<<<< HEAD
     "execution_count": 47,
=======
     "execution_count": 81,
>>>>>>> 2ba2090da906b09b23b78591086b48fe94c60797
     "metadata": {},
     "output_type": "execute_result"
    }
   ],
   "source": [
    "df_enriched['full_time_part_time_code'].value_counts()"
   ]
  },
  {
   "cell_type": "markdown",
   "metadata": {},
   "source": [
    "#### 1.d.3 Part time or full time ?\n",
<<<<<<< HEAD
    "- The very large most of the position are specifically indicated as open in Full time (about 85%)\n",
    "- The remaining bulletins (99 of them) DO NOT specify if they are open to PART_TIME or NOT. Wee assume that they are fulltime.\n"
=======
    "- the very large most of the position are specifically indicated as open in Full time (about 85%)\n",
    "- the remaining bulletins (99 of them) DO NOT specify if they are open to PART_TIME or NOT. Wee assume that they are fulltime.\n"
>>>>>>> 2ba2090da906b09b23b78591086b48fe94c60797
   ]
  },
  {
   "cell_type": "code",
<<<<<<< HEAD
   "execution_count": 48,
=======
   "execution_count": 82,
>>>>>>> 2ba2090da906b09b23b78591086b48fe94c60797
   "metadata": {},
   "outputs": [
    {
     "data": {
      "text/plain": [
       "0    553\n",
       "1    122\n",
       "Name: high_education, dtype: int64"
      ]
     },
<<<<<<< HEAD
     "execution_count": 48,
=======
     "execution_count": 82,
>>>>>>> 2ba2090da906b09b23b78591086b48fe94c60797
     "metadata": {},
     "output_type": "execute_result"
    }
   ],
   "source": [
    "df_enriched['high_education'].value_counts()"
   ]
  },
  {
   "cell_type": "markdown",
   "metadata": {},
   "source": [
    "#### 1.d.4 High eductation or Not ?\n",
    "- Only 122 job position require a college or university education (about 18%)\n",
<<<<<<< HEAD
    "- The remaining bulletins DO NOT specify anything. We will assume that they do don't require it.\n"
=======
    "- the remaining bulletins DO NOT specify anything. We will assume that they do don't require it.\n"
>>>>>>> 2ba2090da906b09b23b78591086b48fe94c60797
   ]
  },
  {
   "cell_type": "markdown",
   "metadata": {},
   "source": [
    "## 2. Gender bias analysis\n",
    "\n",
    "Let's assign a \"tendency\" to each job posting based on the following paper :\n",
    "https://www.hw.ac.uk/services/docs/gendered-wording-in-job-ads.pdf\n",
    "\n",
    "Are there any indication of a gender bias in the duties part ?"
   ]
  },
  {
   "cell_type": "code",
<<<<<<< HEAD
   "execution_count": 49,
=======
   "execution_count": 85,
>>>>>>> 2ba2090da906b09b23b78591086b48fe94c60797
   "metadata": {},
   "outputs": [],
   "source": [
    "df_enriched['GENDER_WORDS'] = df['duties'].apply(lambda x : assess.assess(x)['result'])"
   ]
  },
  {
   "cell_type": "code",
<<<<<<< HEAD
   "execution_count": 50,
=======
   "execution_count": 84,
>>>>>>> 2ba2090da906b09b23b78591086b48fe94c60797
   "metadata": {},
   "outputs": [
    {
     "data": {
      "text/plain": [
<<<<<<< HEAD
       "<matplotlib.axes._subplots.AxesSubplot at 0x24da8ce95f8>"
      ]
     },
     "execution_count": 50,
=======
       "<matplotlib.axes._subplots.AxesSubplot at 0x181b4c0bd68>"
      ]
     },
     "execution_count": 84,
>>>>>>> 2ba2090da906b09b23b78591086b48fe94c60797
     "metadata": {},
     "output_type": "execute_result"
    },
    {
     "data": {
<<<<<<< HEAD
      "image/png": "iVBORw0KGgoAAAANSUhEUgAAAXcAAAFvCAYAAACxRYsIAAAABHNCSVQICAgIfAhkiAAAAAlwSFlzAAALEgAACxIB0t1+/AAAADh0RVh0U29mdHdhcmUAbWF0cGxvdGxpYiB2ZXJzaW9uMy4xLjAsIGh0dHA6Ly9tYXRwbG90bGliLm9yZy+17YcXAAAgAElEQVR4nO3deZxcdZ3u8c8TFhcWAQmKbAEmgrgQMAIqM4I4CnhZnBEVERGXuKDiNiM6zgUX7jBel6uMgiw6wR0XBK4oKCLqVdEk7ASvCCiBCFEBGVEk4Zk/zqnu6upKdyed7l/1Oc/79epXd/2qKv3l0PWcU7/6LbJNREQ0y6zSBURExLqXcI+IaKCEe0REAyXcIyIaKOEeEdFA65cuAGDLLbf0nDlzSpcRETGjLF68+He2Z/e7byDCfc6cOSxatKh0GRERM4qkX6/uvnTLREQ0UMI9IqKBEu4REQ2UcI+IaKCEe0REAyXcIyIaKOEeEdFACfeIiAZKuEdENNBAzFBdF+ac8M3SJXDrKc8vXUJEBJAr94iIRkq4R0Q0UMI9IqKBEu4REQ2UcI+IaKCEe0REAyXcIyIaKOEeEdFACfeIiAZKuEdENFDCPSKigRLuERENlHCPiGighHtERAMl3CMiGmjccJe0naTLJC2VdL2k4+v2kyTdLumq+uvgrue8S9JNkn4h6XlT+R8QERGjTWSzjpXA220vkbQJsFjSd+r7Pmr7Q90PlrQb8BLgicDjgO9KerztVeuy8IiIWL1xr9xtL7e9pP75PmApsM0YTzkM+JLtB2zfAtwE7LUuio2IiIlZoz53SXOAPYAr6qY3SrpG0qclbV63bQPc1vW0ZfQ5GUhaIGmRpEUrVqxY48IjImL1JhzukjYGvga8xfYfgdOAnYF5wHLgw52H9nm6RzXYZ9ieb3v+7Nmz17jwiIhYvQmFu6QNqIL987a/DmD7TturbD8EnMlw18syYLuup28L3LHuSo6IiPFMZLSMgLOBpbY/0tW+ddfDXgBcV/98AfASSQ+TtCMwF/jZuis5IiLGM5HRMs8EjgaulXRV3fZu4EhJ86i6XG4FXgtg+3pJ5wI3UI20OS4jZSIipte44W77R/TvR79ojOecDJw8iboiImISMkM1IqKBEu4REQ2UcI+IaKCEe0REAyXcIyIaKOEeEdFACfeIiAZKuEdENFDCPSKigRLuERENlHCPiGighHtERAMl3CMiGijhHhHRQAn3iIgGmshmHTHTnPSo0hXASfeWriCi1XLlHhHRQAn3iIgGSrhHRDRQwj0iooES7hERDZRwj4hooIR7REQDJdwjIhoo4R4R0UAJ94iIBkq4R0Q0UMI9IqKBEu4REQ00brhL2k7SZZKWSrpe0vF1+xaSviPpl/X3zet2Sfq4pJskXSNpz6n+j4iIiJEmcuW+Eni77ScA+wDHSdoNOAG41PZc4NL6NsBBwNz6awFw2jqvOiIixjRuuNtebntJ/fN9wFJgG+AwYGH9sIXA4fXPhwHnuPJTYDNJW6/zyiMiYrXWqM9d0hxgD+AK4DG2l0N1AgC2qh+2DXBb19OW1W29/9YCSYskLVqxYsWaVx4REas14XCXtDHwNeAttv841kP7tHlUg32G7fm258+ePXuiZURExARMKNwlbUAV7J+3/fW6+c5Od0v9/a66fRmwXdfTtwXuWDflRkTERExktIyAs4Gltj/SddcFwDH1z8cA53e1v7weNbMPcG+n+yYiIqbHRDbIfiZwNHCtpKvqtncDpwDnSnoV8BvgiPq+i4CDgZuA+4Fj12nFERExrnHD3faP6N+PDnBAn8cbOG6SdUVExCRkhmpERAMl3CMiGijhHhHRQAn3iIgGSrhHRDRQwj0iooES7hERDZRwj4hooIR7REQDJdwjIhoo4R4R0UAJ94iIBkq4R0Q0UMI9IqKBEu4REQ2UcI+IaKCEe0REAyXcIyIaKOEeEdFACfeIiAZKuEdENFDCPSKigRLuERENlHCPiGighHtERAMl3CMiGijhHhHRQAn3iIgGGjfcJX1a0l2SrutqO0nS7ZKuqr8O7rrvXZJukvQLSc+bqsIjImL1JnLl/p/AgX3aP2p7Xv11EYCk3YCXAE+sn/NJSeutq2IjImJixg132z8A/jDBf+8w4Eu2H7B9C3ATsNck6ouIiLUwmT73N0q6pu622bxu2wa4resxy+q2USQtkLRI0qIVK1ZMooyIiOi1tuF+GrAzMA9YDny4blefx7rfP2D7DNvzbc+fPXv2WpYRERH9rFW4277T9irbDwFnMtz1sgzYruuh2wJ3TK7EiIhYU2sV7pK27rr5AqAzkuYC4CWSHiZpR2Au8LPJlRgREWtq/fEeIOmLwH7AlpKWAScC+0maR9XlcivwWgDb10s6F7gBWAkcZ3vV1JQeERGrM2642z6yT/PZYzz+ZODkyRQVERGTkxmqERENlHCPiGighHtERAMl3CMiGijhHhHRQAn3iIgGSrhHRDRQwj0iooES7hERDZRwj4hooIR7REQDJdwjIhoo4R4R0UAJ94iIBkq4R0Q0UMI9IqKBEu4REQ2UcI+IaKCEe0REAyXcIyIaKOEeEdFACfeIiAZKuEdENFDCPSKigRLuERENlHCPiGighHtERAMl3CMiGijhHhHRQOOGu6RPS7pL0nVdbVtI+o6kX9bfN6/bJenjkm6SdI2kPaey+IiI6G/9CTzmP4H/AM7pajsBuNT2KZJOqG+/EzgImFt/7Q2cVn+PKOLJC59cugSuPeba0iVEC4175W77B8AfepoPAxbWPy8EDu9qP8eVnwKbSdp6XRUbERETs7Z97o+xvRyg/r5V3b4NcFvX45bVbaNIWiBpkaRFK1asWMsyIiKin3X9gar6tLnfA22fYXu+7fmzZ89ex2VERLTb2ob7nZ3ulvr7XXX7MmC7rsdtC9yx9uVFRMTaWNtwvwA4pv75GOD8rvaX16Nm9gHu7XTfRETE9Bl3tIykLwL7AVtKWgacCJwCnCvpVcBvgCPqh18EHAzcBNwPHDsFNUdExDjGDXfbR67mrgP6PNbAcZMtKiIiJiczVCMiGijhHhHRQAn3iIgGSrhHRDRQwj0iooES7hERDZRwj4hooIR7REQDJdwjIhoo4R4R0UAJ94iIBkq4R0Q0UMI9IqKBEu4REQ2UcI+IaKCEe0REAyXcIyIaKOEeEdFACfeIiAZKuEdENFDCPSKigRLuERENlHCPiGighHtERAMl3CMiGijhHhHRQAn3iIgGSrhHRDTQ+pN5sqRbgfuAVcBK2/MlbQF8GZgD3Aq8yPbdkyszIiLWxLq4ct/f9jzb8+vbJwCX2p4LXFrfjoiIaTQV3TKHAQvrnxcCh0/B74iIiDFMNtwNXCJpsaQFddtjbC8HqL9v1e+JkhZIWiRp0YoVKyZZRkREdJtUnzvwTNt3SNoK+I6kGyf6RNtnAGcAzJ8/35OsIyIiukwq3G3fUX+/S9J5wF7AnZK2tr1c0tbAXeugzoiYpKW7PqF0CTzhxqWlS2iNte6WkbSRpE06PwPPBa4DLgCOqR92DHD+ZIuMiIg1M5kr98cA50nq/DtfsP1tST8HzpX0KuA3wBGTLzMiItbEWoe77ZuB3fu0/x44YDJFRUTE5GSGakREAyXcIyIaKOEeEdFACfeIiAZKuEdENFDCPSKigRLuERENlHCPiGighHtERAMl3CMiGijhHhHRQAn3iIgGmuxmHRERM84nXve90iVw3OnPntJ/P1fuERENlHCPiGighHtERAMl3CMiGijhHhHRQAn3iIgGSrhHRDRQwj0iooES7hERDZRwj4hooIR7REQDJdwjIhoo4R4R0UAJ94iIBkq4R0Q0UMI9IqKBpizcJR0o6ReSbpJ0wlT9noiIGG1Kwl3SesAngIOA3YAjJe02Fb8rIiJGm6or972Am2zfbPuvwJeAw6bod0VERA/ZXvf/qPRC4EDbr65vHw3sbfuNXY9ZACyob+4C/GKdF7LmtgR+V7qIAZFjMSzHYliOxbBBOBY72J7d746p2iBbfdpGnEVsnwGcMUW/f61IWmR7fuk6BkGOxbAci2E5FsMG/VhMVbfMMmC7rtvbAndM0e+KiIgeUxXuPwfmStpR0obAS4ALpuh3RUREjynplrG9UtIbgYuB9YBP275+Kn7XOjZQ3USF5VgMy7EYlmMxbKCPxZR8oBoREWVlhmpERAMl3CMiGijhHhHRQFM1zj1ixpG0xVj32/7DdNUSMVn5QDWQtOdY99teMl21lCTpFqrJdgK2B+6uf94M+I3tHQuWN60k3UfPxMNutjedxnKKmqkn/dZeuY/xxyvAbfrjBT5cf384MB+4muo4PAW4Ati3UF3TqhPekk4HLrB9UX37IOA5JWubbrY3AZD0PuC3wGep/iaOAjYpWFoJixnjpA8M5Ek/V+4xRNKXgJNtX1vffhLwDtuvKFrYNJO02PZTe9oGeqr5VJF0he29x2trg9Wd9G2/vWxl/eUD1ZqkrSRt3/kqXU8hu3aCHcD2dcC8gvWU8jtJ75E0R9IOkv4F+H3pogpZJekoSetJmiXpKGBV6aIKeVon2AFsfwt4VsF6xtT6cJd0qKRfArcAlwO3At8qWlQ5SyWdJWk/Sc+SdCawtHRRBRwJzAbOq79m121t9FLgRcCd9dcRdVsbzaiTfuu7ZSRdDTwb+K7tPSTtDxxpe8E4T20cSQ8HXg/8Xd30A+A0238pV1U5kja2/V+l64jBUH+weiLV68NUr4/3DeoHqgn3ui+1Dvk9bD8k6We29ypdWwmSHgFsb3sQ1tcvQtIzgLOAjW1vL2l34LW231C4tGkn6fHAacBjbD9J0lOAQ21/oHBpxcyUk37ru2WAeyRtTHUW/rykjwErC9dUhKRDgauAb9e350lq42qeHwWeR/2W2/bVDL+baZszgXcBDwLYvoZqldfWkfQMSTcAN9S3d5f0ycJlrVbCvdr+737grVSh9ivgkKIVlXMi1RaJ9wDYvgqYU7KgUmzf1tPU1g8RH2n7Zz1trbz4YYad9Fs7zh2GNvI+3/ZzgIeAhYVLKm2l7XulfhtptcptddeM6/0I3kw7P1iG6kPEnannhNRbaC4vW1I5tm/reX0M7Em/1eFue5Wk+yU9yva9pesZANdJeimwnqS5VKH248I1lfA64GPANlS7il0CHFe0onKOo1q3fFdJt1ONKntZ2ZKKmVEn/XygKp0L7AN8B/hTp932m4sVVYikRwL/AjyXagbexcD72zpaJoZJ2giYZfu+0rWUImlLqpP+c6heH5cAx9seyOGQCXfpmD7Ntn3OtBcTRUk6lbHXU2nNCV/S28a63/ZHpquWWDut7papbWb7Y90Nko4vVUwJki5k7FA7dBrLKWlR/f2ZwG7Al+vbR1CtL9ImnfVjdgGexvAeyIdQjSxrjZl60s+Vu7TE9p49bVfa3qNUTdNNUmcK9T8AjwU+V98+ErjV9ruLFFaIpMuA59p+sL69AXCJ7f3LVjb9JF0C/GOnO0bSJsBXbB9YtrLp0/Xuvu9J3/ZbixQ2jtZeuUs6kmoa9Y49Y7k3YYCnFE8F25cDSHq/7e6hXRdKatVVWu1xVH8HnZmHG9dtbbQ98Neu23+lZcNjbS8EkPQKYP+uk/7pVP3uA6m14U41CmQ5sCXDS94C3AdcU6Si8mZL2sn2zQCSdqRaV6VtTgGurK/goVoc6qRy5RT1WeBnks6rbx9Oe4cMz6iTfuu7ZWKYpAOphr3dXDfNARbYHtirk6ki6bHA3lR9rT+z/dvCJRVTb+byt1TH4oe2ryxcUhGSjqU6yY846Xeu7AdN68O9Z9OODYENgD+1bLOOIZIeBuxa37zR9gMl6ymlXoqh00V1ue0LS9ZTUr22TmexrB/WMzNbaSad9NvcLQMM7zjTIelwqin4rVN/cPhahkPt+5I+1eljbAtJp1CNEPl83fRmSc+w/a6CZRVRjxx7DfA1qrHdn5N0hu1Ty1ZWzF5U72KgCviBPem3/sq9H0k/tb1P6Tqmm6SzqN65dN5mHg2ssv3qclVNP0nXAPNsP1TfXg+40vZTylY2/epj8XTbf6pvbwT8pKXHovekfySwaFBP+q2/cpf0D103Z1HtIdrWM97TbO/edft79VLIbbQZwx+cPapkIYWJkeunrKrb2uhgRp70FwJXUq2aOXBaH+6MXAFyJdVOTIeVKaW4VZJ2tv0rAEk7McALI02hf2N4tIyouqkG8gU8DT4DXNEzWubsgvWUNmNO+umWiSGSDqB6Md9MFWo7AMfavmzMJzaQpK2p3oILuGKQPzibavVomX2pjsUPWjxa5kiqYbIjTvq2v1S0sNVofbhnp5mR6tEyu1D98bZytIykFwDf66wUKmkzYD/b3yhb2fSTtA9wfc8M1d1sX1G2sjJm0kk/m3Vkp5khko4DHmH7mnq42yMltW5rOeDE7iWgbd9DtZFJG50GdG8p96e6rXXqk/79ti+wfT7wl3p03UBKuGenmW6vqYMMANt3Uw2Da5t+r4u2fj4ld729rz9MbOuxmFEn/YR7dprpNktd28zUQwA3LFhPKYskfUTSzpJ2kvRR2rcqZMfNkt4saYP663iGZzC3zYw66Sfcq51mPsXwTjNvodqJp40uBs6VdICkZwNfpN4su2XeRLVA1peBc4E/096dmF4HPAO4nWpXqr2BBUUrKmdGnfTzgWr1AeILqdZR2QL4I9VmHe8rWVcJkmZRvXC7d5o5y3Ybh0MC1Qdottv6Ti661BO4/pXq9QHV6+PkzgSvQZNwl74N3AMsoWtMt+0Pr/ZJLSBpT9tLStdRWr/1/tsqx2LYTDjpD2x/0TTatk0bD6yBs4C8kNs7G7OfHIth32TAXx/pc4cfS3py6SIGUF7IlTNLFzBAvlm6gAEy8K+PXLlXM+9eIekW4AGq/2lu48JIPd5buoCSJO0LzLX9SUmzgY1t31K6rhIk7UB1LN4j6RHA+p1JTS028Cf99LlXf7ij2P71dNdSWj0M8ihgJ9vvk7Q98Ng+8wAaTdKJVAvI7WL78ZIeR7Vv6DMLlzbtJL2G6kP2LWzvLGkucLrtAwqXVkTXSf8zg37Sb324xzBJpwEPAc+2/QRJm1NtDP20wqVNK0lXAXsASzobpUu6po3v5upjsRfVVPvOsbjWduu6MmfaST997tFtb9vHAX+BoRmqbZzE9Nd6VmZnYttGhesp6QHbQxtkS1qf9i6J/QLgUKolGLB9B9WeqgMp4R7dHqxnpXZCbTbVlXzbnCvpU8BmdbfEd5kBfaxT5HJJ7wYeIenvga8wwLsPTbEZddJPt0wMkXQU8GKqIV4LqSZ3vcf2V4oWVkAdZM+l+oD9YtvfKVxSEfXEtlfRdSyoJra1LjgkvQOYC/w91Zr/rwS+MKhbDibcYwRJuwIHUL2QL7W9tHBJEQNjJp30E+4xQt0t8xi6hsna/k25iqZfvfXivwNbUb2IO8NjNy1aWAGSngmcRLVxy/oMH4udStYV40u4xxBJb6JawvROhvfKbN2Yf0k3AYfkXQtIuhF4K9UCWd3Lc/y+WFGFzLSTfsI9htShtncbX7jdJP2/QR3eNt0kXWF779J1DIKZdtLPDNXodhtw77iPar5Fkr4MfINq1jIAtr9erqRiLpP0v4GvM/JYtHFRuTtnSrBDwj1Guhn4vqRvMvKF/JFyJRWxKXA/1QdnHaYKuLbpXLXP72oz8OwCtZQ2o076Cffo9pv6a0PaOXkJANvHlq5hUNjev3QNA2RGnfTT5x5Rk/TPtj8o6VT6zMK0/eYCZRUh6WW2Pyfpbf3ub+G7uRknV+6BpP9j+y2SLqR/qB1aoKwSOv2pi4pWMRg6sy8Hdnr9dJmpJ/1cuQeSnmp7saRn9bvf9uXTXVPEoJB0iO0LJR3T737bC6e7polIuEfUVvfOpaNF72CG1OsLvYZqj+HuiW2vLFVTTEy6ZQJJ1zJ2qLVlEtOHShcwgM4Hfki1eFprN0oHkPR44B2MPtEN5MihXLnHajcs6WjjxiVRkXSV7Xml6xgEkq4GTmf0bN3FxYoaQ8I9oke95WK/D85at56KpA8AP7Z9UelaSpO02PZTS9cxUQn3GCLpPoZDbUNgA+BPg7p2xlSR9Oiumw8HjqDaZu5/FiqpmPpvYiOqSTsPMuDrqUwlSScBdwHnMXIS0x9K1TSWhHuslqTDgb1sv7t0LaVJ+pHtfUvXEeXU7+h6DewKmflANVbL9jcknVC6jukmac+um7Oopt63ary3pF1t39hzLIa0cW0Z2zuWrmFNJNxjSL2kaUcn1Nr41u7DXT+vBG4BXlSollLeBixg5LHoaNXaMpKebft7Pa+PIVlbJmaCQ7p+XgncChxWppRysp4K2F5Qf2/9sQCeBXyPka+PjqwtEzFTSPpfwAdt31Pf3hx4u+33lK1s+tU7cz2f0WO7s7bMgEu4xxBJC4Hje0Ltw22bjSjpStt79LQtsd23/7nJJF0E/AW4Fnio0277vcWKKkTSZsDLGX2iG8i1ZdItE92e0gl2ANt3S9pjrCc01HqSHmb7AQBJjwAeVrimUrZt0Qzl8VwE/JSeE92gSrhHt1mSNrd9N4CkLWjn38jngEslfYaqT/WVwEAuDjUNviXpubYvKV3IAHi47b5LIA+idMvEEEkvB94FfLVuOgI42fZny1VVhqQDgedQTdq5xPbFhUsqQtILqE52s8gkprcC/wX8XzKJKWYaSbtRDXMTcKntGwqXNO0kbQT82fZDknYBdgG+ZfvBwqVNO0k3A4cD17rlYSHpOOBk4B6GhwgP7CSmhHsMkbQzsMz2A5L2A54CnNPdD98GkhYDfwtsTtXHugi43/ZRRQsrQNLFwEG2B76PeapJ+hWwt+3fla5lItrYnxqr9zVgvqS/Ac4CLgS+ABxctKrpJ9v3S3oVcGq9C8+VpYsqZDnVpunfot2bpgNcT7WH6oyQcI9uD9leWc/E+5jtU1saapL0dOAo4FV1W1tfK7fUX63eNL22CrhK0mWMPNFlKGQMvAclHUk1lrczG2+DgvWUcjzVB8vn2b5e0k7AZYVrKqIznl3SRrb/VLqewr5Rf80I6XOPIfWHqa8DfmL7i5J2BF5s+5TCpUUh9TuYs4GNbW8vaXfgtbbfULi0Iuo5D9vb/kXpWsaTcI/oUe8b+s/AE6nWcwcGdzu1qSTpCuCFwAWdWbuSrrP9pLKVTT9Jh1Btxbih7R0lzQPeN6h7684qXUAMDklzJX1V0g2Sbu58la6rgM8DNwI7Au+lWkDt5yULKsn2bT1Nbd1L9SRgL6qhkNi+iupvZCAl3KPbZ4DTqFaE3B84B2jdBCbg0bbPBh60fXm9ts4+pYsq5DZJzwAsaUNJ7wCWli6qkJW27+1pG9iuj4R7dHuE7Uupuut+bfskWrRud5fOZKXlkp5fr6+zbcmCCnodcBywDbAMmFffbqPrJL2Uau2huZJOBX5cuqjVyWiZ6PYXSbOAX0p6I3A7sFXhmkr4gKRHAW8HTgU2Bd5atqTpJenfbb8T2L+Nk7e6Sfqs7aOBX1F9DvMA8EXgYuD9JWsbSz5QjSGSnkb1lnszqj/aTanWNb+iaGEx7SRdC+wJXNHGpY67SboBOAi4gKq7coRBXVsmV+7RzVR97DswPL79TKplCFqjHgL6Jkav2z2QoyKmyLeB3wEbSfoj9YJhne8tWzjsdKrjsRPVUhQdnWOStWVisEn6BfBPjN6Y4dfFiipA0tVUY7t7j8PlxYoqRNL5tlu31WI/kk6z/frSdUxUwj2GSPqR7X1L11GapCts7126jojJSLjHEEkHAEcClzJy7YyB3AB4qtQjIuYClzDyOCwpVlTEGkqfe3Q7FtiVqr+90x0xsLu7T6EnA0dTDQPtPg5tHBYaM1Su3GOIpGttP7l0HaVJupFqP9m/lq6lNEn/A7go67nPPJnEFN1+Wi8e1nZXUw0HDXgJ1byHD0p6QuliYuJy5R5DJC0FdqZav/sBhoe9tW0o5Pephn/+nJF97m0aCjlE0qZUn8UcS9U99Rngi7bvK1pYjCnhHkMk7dCvvYVDIZ/Vr72NQyE7JG0JvAx4C9VEt78BPm771KKFxWol3CNiteplbl9J9Y7us8BC23dJeiSw1HbfC4IoL6NlImIsRwAftf2D7sZ6j9lXFqopJiBX7hERDZQr94geGf4Hku5j5FrlbV5bZkbKlXtED0mfA54OfA34jO22bk4RM1jCPaKPDP+rSNqiT/N9th/s0x4DJJOYIvqw/UeqK/cvAVsDLwCWSHpT0cKm3xJgBfD/gV/WP98iaYmkpxatLMaUcI/oIekQSecB36NaZ2cv2wcBuwPvKFrc9Ps2cLDtLW0/mmrTinOBNwCfLFpZjCndMhE9JJ0DnNU7/K++74B6n9lWkLTI9vx+bZKusj2vVG0xtoyWiehh++Vj3NeaYK/9QdI7qbqnAF4M3C1pPbo2MonBkyv3iFqG/41WLztwIrAv1XH4EfBe4F5ge9s3FSwvxpBwj4hooHTLRPTI8L9hkh5P9SHyHEZuFp6NSwZcrtwjeki6FdgOuJuqK2IzYDlwF/Aa24vLVTe96s3CTwcWA6s67W06BjNVrtwjRvs2cJ7tiwEkPRc4kGoI4CeBNm2evdL2aaWLiDWXK/eIHhn+N0zSSVTvWM5j5MYlfyhVU0xMrtwjRsvwv2HH1N//qavNwE4Faok1kCv3iB4Z/hdNkHCPiNWStAHweuDv6qbvA59q48ihmSbhHtEjw/+GSTqLan2dhXXT0cAq268uV1VMRMI9okeG/w2TdLXt3cdri8GTD1QjRsvwv2GrJO1s+1cAknai64QXgyvhHjHahZLeQIb/QTVK5jJJN1N9uLwD1QYmMeDSLRPRQ9ItfZptu1XD/yTNAvah6p7ahSrcb7T9wJhPjIGQcI+I1ZL0E9tPL11HrLnsxBTRQ9IGkt4s6av11xvrIYFtdImkf5Sk0oXEmsmVe0SPDP8bVq9xvxGwEvgLLV7bfqZJuEf0yPC/aIJ0y0SMtkrSzp0bbR7+J2nUtoL92mLwZChkxGitH/4n6eHAI4EtJW1OdRwANgUeV6ywmLCEe0SXevjfn4G5tHv432uBt1AF+WKGw0efLA4AAAEqSURBVP2PwCdKFRUTlz73iB4Z/jdM0ptsn1q6jlhz6XOPGC3D/4b9VtImAJLeI+nrkvYsXVSML1fuET0y/G+YpGtsP0XSvsC/AR8C3m27TVsNzki5co/oYXsT27Nsb2h70/p264K91hkl9HzgNNvnAxsWrCcmKOEe0SPD/0a4XdKngBcBF0l6GMmNGSGjZSJqGf7X14uAA4EP2b5H0taM3E81BlT63CNqko5nePjf7Ywc/nem7f8oVVvEmkq4R/TI8L9ogvSdRYyW4X8x4yXcI0b7V9v31cP/nke1OmS23YsZJeEeMVqG/8WMl3CPGC3D/2LGyweqET0kPZJq+N+1tn9ZD/97su1LCpcWMWEJ94iIBspbzYiIBkq4R0Q0UMI9IqKBEu4REQ3030rWXvDBc29WAAAAAElFTkSuQmCC\n",
=======
      "image/png": "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\n",
>>>>>>> 2ba2090da906b09b23b78591086b48fe94c60797
      "text/plain": [
       "<Figure size 432x288 with 1 Axes>"
      ]
     },
     "metadata": {
      "needs_background": "light"
     },
     "output_type": "display_data"
    }
   ],
   "source": [
    "df_enriched[\"GENDER_WORDS\"].value_counts().plot(kind='bar')"
   ]
  },
  {
   "cell_type": "code",
<<<<<<< HEAD
   "execution_count": 51,
=======
   "execution_count": 273,
>>>>>>> 2ba2090da906b09b23b78591086b48fe94c60797
   "metadata": {},
   "outputs": [
    {
     "data": {
      "text/plain": [
       "neutral                     276\n",
       "masculine-coded             222\n",
       "strongly masculine-coded    102\n",
       "strongly feminine-coded      48\n",
       "feminine-coded               27\n",
       "Name: GENDER_WORDS, dtype: int64"
      ]
     },
<<<<<<< HEAD
     "execution_count": 51,
=======
     "execution_count": 273,
>>>>>>> 2ba2090da906b09b23b78591086b48fe94c60797
     "metadata": {},
     "output_type": "execute_result"
    }
   ],
   "source": [
    "df_enriched[\"GENDER_WORDS\"].value_counts()"
   ]
  },
  {
   "cell_type": "markdown",
   "metadata": {},
   "source": [
    "#### 2.a Gender tendency analysis\n",
    "There is an insight here !\n",
    "\n",
    "- 41% of the bulletins are masculine coded including \n",
    "* 33% are masculine coded\n",
    "* 8% are strongly masculine coded\n",
    "- Only 11 % are feminine or strongly feminine coded \n",
    "\n",
    "So the job postings are three times more inclined towards masculine words than feminine.\n",
    "\n",
    "#### Next steps: \n",
    "- We need to enrich the dataset with the tendancy separetedly masculine or feminine"
   ]
  },
  {
   "cell_type": "code",
<<<<<<< HEAD
   "execution_count": 52,
=======
   "execution_count": 86,
>>>>>>> 2ba2090da906b09b23b78591086b48fe94c60797
   "metadata": {},
   "outputs": [],
   "source": [
    "def tooMasculine(raw_text):\n",
    "    if \"masculine\" in raw_text.lower():\n",
    "        return((1))\n",
    "    else:\n",
    "        return(0)\n",
    "\n",
    "def tooFeminine(raw_text):\n",
    "    if \"feminine\" in raw_text.lower():\n",
    "        return((1))\n",
    "    else:\n",
    "        return(0)\n",
    "\n",
    "def code_gender_bias(val):\n",
    "    if not isNaN(val):\n",
    "        if val == \"neutral\":\n",
    "            return 0\n",
    "        if val == 'masculine-coded':\n",
    "            return 1\n",
    "        if val == 'strongly masculine-coded':\n",
    "            return 2\n",
    "        if val == 'feminine-coded':\n",
    "            return 3\n",
    "        if val == 'strongly feminine-coded':\n",
    "            return 4\n",
    "        else:\n",
    "            return np.nan\n",
    "\n",
    "def code_gender_score(val):\n",
    "    if not isNaN(val):\n",
    "        if val == \"neutral\":\n",
    "            return 0\n",
    "        if val == 'masculine-coded':\n",
    "            return 1\n",
    "        if val == 'strongly masculine-coded':\n",
    "            return 4\n",
    "        if val == 'feminine-coded':\n",
    "            return 1\n",
    "        if val == 'strongly feminine-coded':\n",
    "            return 4\n",
    "        else:\n",
    "            return 0"
   ]
  },
  {
   "cell_type": "code",
<<<<<<< HEAD
   "execution_count": 53,
=======
   "execution_count": 87,
>>>>>>> 2ba2090da906b09b23b78591086b48fe94c60797
   "metadata": {},
   "outputs": [],
   "source": [
    "df_enriched['Too_Feminine'] = df_enriched['GENDER_WORDS'].apply(lambda x : tooFeminine(x))\n",
    "df_enriched['Too_Masculine'] = df_enriched['GENDER_WORDS'].apply(lambda x : tooMasculine(x))\n",
    "df_enriched['gender_bias'] = df_enriched['GENDER_WORDS'].apply(lambda x : code_gender_bias(x))\n",
    "df_enriched['gender_score'] = df_enriched['GENDER_WORDS'].apply(lambda x : code_gender_score(x))"
   ]
  },
  {
   "cell_type": "code",
<<<<<<< HEAD
   "execution_count": 54,
=======
   "execution_count": 88,
>>>>>>> 2ba2090da906b09b23b78591086b48fe94c60797
   "metadata": {
    "scrolled": true
   },
   "outputs": [
    {
     "data": {
      "text/html": [
       "<div>\n",
       "<style scoped>\n",
       "    .dataframe tbody tr th:only-of-type {\n",
       "        vertical-align: middle;\n",
       "    }\n",
       "\n",
       "    .dataframe tbody tr th {\n",
       "        vertical-align: top;\n",
       "    }\n",
       "\n",
       "    .dataframe thead th {\n",
       "        text-align: right;\n",
       "    }\n",
       "</style>\n",
       "<table border=\"1\" class=\"dataframe\">\n",
       "  <thead>\n",
       "    <tr style=\"text-align: right;\">\n",
       "      <th></th>\n",
       "      <th>File Name</th>\n",
       "      <th>Position</th>\n",
       "      <th>salary_start</th>\n",
       "      <th>salary_end</th>\n",
       "      <th>opendate</th>\n",
       "      <th>requirements</th>\n",
       "      <th>duties</th>\n",
       "      <th>deadline</th>\n",
       "      <th>deadline_date</th>\n",
       "      <th>validity_duration</th>\n",
       "      <th>...</th>\n",
       "      <th>Open_To_All</th>\n",
       "      <th>Open_To_Mention</th>\n",
       "      <th>exp_years</th>\n",
       "      <th>high_education</th>\n",
       "      <th>full_time_part_time_code</th>\n",
       "      <th>GENDER_WORDS</th>\n",
       "      <th>Too_Feminine</th>\n",
       "      <th>Too_Masculine</th>\n",
       "      <th>gender_bias</th>\n",
       "      <th>gender_score</th>\n",
       "    </tr>\n",
       "  </thead>\n",
       "  <tbody>\n",
       "    <tr>\n",
       "      <th>0</th>\n",
       "      <td>311 DIRECTOR  9206 041814.txt</td>\n",
       "      <td>311 director</td>\n",
       "      <td>125,175</td>\n",
       "      <td>$155,514</td>\n",
       "      <td>2014-04-18</td>\n",
       "      <td>1. One year of full-time paid experience as a ...</td>\n",
       "      <td>A 311 Director is responsible for the successf...</td>\n",
       "      <td>MAY 1, 2014</td>\n",
       "      <td>2014-05-01</td>\n",
       "      <td>13</td>\n",
       "      <td>...</td>\n",
       "      <td>1</td>\n",
       "      <td>0</td>\n",
       "      <td>1.0</td>\n",
       "      <td>0</td>\n",
       "      <td>2</td>\n",
       "      <td>neutral</td>\n",
       "      <td>0</td>\n",
       "      <td>0</td>\n",
       "      <td>0</td>\n",
       "      <td>0</td>\n",
       "    </tr>\n",
       "    <tr>\n",
       "      <th>1</th>\n",
       "      <td>ACCOUNTANT 1513 062218.txt</td>\n",
       "      <td>accountant</td>\n",
       "      <td>49,903</td>\n",
       "      <td>$72,996</td>\n",
       "      <td>2018-06-22</td>\n",
       "      <td>Graduation from an accredited four-year colleg...</td>\n",
       "      <td>An Accountant does professional accounting wor...</td>\n",
       "      <td>AUGUST 25, 2018</td>\n",
       "      <td>2018-08-25</td>\n",
       "      <td>64</td>\n",
       "      <td>...</td>\n",
       "      <td>1</td>\n",
       "      <td>1</td>\n",
       "      <td>NaN</td>\n",
       "      <td>1</td>\n",
       "      <td>0</td>\n",
       "      <td>strongly masculine-coded</td>\n",
       "      <td>0</td>\n",
       "      <td>1</td>\n",
       "      <td>2</td>\n",
       "      <td>4</td>\n",
       "    </tr>\n",
       "    <tr>\n",
       "      <th>2</th>\n",
       "      <td>ACCOUNTING CLERK 1223 071318.txt</td>\n",
       "      <td>accounting clerk</td>\n",
       "      <td>49,005</td>\n",
       "      <td>$71,618</td>\n",
       "      <td>2018-07-13</td>\n",
       "      <td>Two years of full-time paid office clerical ex...</td>\n",
       "      <td>An Accounting Clerk performs difficult and res...</td>\n",
       "      <td>NaN</td>\n",
       "      <td>NaT</td>\n",
       "      <td>NaN</td>\n",
       "      <td>...</td>\n",
       "      <td>1</td>\n",
       "      <td>1</td>\n",
       "      <td>2.0</td>\n",
       "      <td>0</td>\n",
       "      <td>2</td>\n",
       "      <td>neutral</td>\n",
       "      <td>0</td>\n",
       "      <td>0</td>\n",
       "      <td>0</td>\n",
       "      <td>0</td>\n",
       "    </tr>\n",
       "    <tr>\n",
       "      <th>3</th>\n",
       "      <td>ACCOUNTING RECORDS SUPERVISOR 1119 072718.txt</td>\n",
       "      <td>accounting records supervisor</td>\n",
       "      <td>55,332</td>\n",
       "      <td>$80,930</td>\n",
       "      <td>2018-07-27</td>\n",
       "      <td>Two years of full-time paid experience as an A...</td>\n",
       "      <td>An Accounting Records Supervisor assigns, revi...</td>\n",
       "      <td>AUGUST 9, 2018</td>\n",
       "      <td>2018-08-09</td>\n",
       "      <td>13</td>\n",
       "      <td>...</td>\n",
       "      <td>0</td>\n",
       "      <td>1</td>\n",
       "      <td>2.0</td>\n",
       "      <td>0</td>\n",
       "      <td>2</td>\n",
       "      <td>neutral</td>\n",
       "      <td>0</td>\n",
       "      <td>0</td>\n",
       "      <td>0</td>\n",
       "      <td>0</td>\n",
       "    </tr>\n",
       "    <tr>\n",
       "      <th>4</th>\n",
       "      <td>ADMINISTRATIVE ANALYST 1590 060118.txt</td>\n",
       "      <td>administrative analyst</td>\n",
       "      <td>60,489</td>\n",
       "      <td>$88,468</td>\n",
       "      <td>2018-06-01</td>\n",
       "      <td>1. One year of full-time paid professional exp...</td>\n",
       "      <td>An Administrative Analyst performs professiona...</td>\n",
       "      <td>JUNE 14, 2018</td>\n",
       "      <td>2018-06-14</td>\n",
       "      <td>13</td>\n",
       "      <td>...</td>\n",
       "      <td>0</td>\n",
       "      <td>1</td>\n",
       "      <td>1.0</td>\n",
       "      <td>1</td>\n",
       "      <td>2</td>\n",
       "      <td>strongly masculine-coded</td>\n",
       "      <td>0</td>\n",
       "      <td>1</td>\n",
       "      <td>2</td>\n",
       "      <td>4</td>\n",
       "    </tr>\n",
       "  </tbody>\n",
       "</table>\n",
       "<p>5 rows × 36 columns</p>\n",
       "</div>"
      ],
      "text/plain": [
       "                                       File Name  \\\n",
       "0                  311 DIRECTOR  9206 041814.txt   \n",
       "1                     ACCOUNTANT 1513 062218.txt   \n",
       "2               ACCOUNTING CLERK 1223 071318.txt   \n",
       "3  ACCOUNTING RECORDS SUPERVISOR 1119 072718.txt   \n",
       "4         ADMINISTRATIVE ANALYST 1590 060118.txt   \n",
       "\n",
       "                        Position salary_start salary_end   opendate  \\\n",
       "0                   311 director      125,175   $155,514 2014-04-18   \n",
       "1                     accountant       49,903    $72,996 2018-06-22   \n",
       "2               accounting clerk       49,005    $71,618 2018-07-13   \n",
       "3  accounting records supervisor       55,332    $80,930 2018-07-27   \n",
       "4         administrative analyst       60,489    $88,468 2018-06-01   \n",
       "\n",
       "                                        requirements  \\\n",
       "0  1. One year of full-time paid experience as a ...   \n",
       "1  Graduation from an accredited four-year colleg...   \n",
       "2  Two years of full-time paid office clerical ex...   \n",
       "3  Two years of full-time paid experience as an A...   \n",
       "4  1. One year of full-time paid professional exp...   \n",
       "\n",
       "                                              duties         deadline  \\\n",
       "0  A 311 Director is responsible for the successf...      MAY 1, 2014   \n",
       "1  An Accountant does professional accounting wor...  AUGUST 25, 2018   \n",
       "2  An Accounting Clerk performs difficult and res...              NaN   \n",
       "3  An Accounting Records Supervisor assigns, revi...   AUGUST 9, 2018   \n",
       "4  An Administrative Analyst performs professiona...    JUNE 14, 2018   \n",
       "\n",
<<<<<<< HEAD
       "  deadline_date validity_duration     ...      Open_To_All Open_To_Mention  \\\n",
       "0    2014-05-01                13     ...                1               0   \n",
       "1    2018-08-25                64     ...                1               1   \n",
       "2           NaT               NaN     ...                1               1   \n",
       "3    2018-08-09                13     ...                0               1   \n",
       "4    2018-06-14                13     ...                0               1   \n",
       "\n",
       "  exp_years  high_education  full_time_part_time_code  \\\n",
       "0       1.0               0                         2   \n",
       "1       NaN               1                         0   \n",
       "2       2.0               0                         2   \n",
       "3       2.0               0                         2   \n",
       "4       1.0               1                         2   \n",
       "\n",
       "               GENDER_WORDS  Too_Feminine  Too_Masculine gender_bias  \\\n",
       "0                   neutral             0              0           0   \n",
       "1  strongly masculine-coded             0              1           2   \n",
       "2                   neutral             0              0           0   \n",
       "3                   neutral             0              0           0   \n",
       "4  strongly masculine-coded             0              1           2   \n",
       "\n",
       "  gender_score  \n",
       "0            0  \n",
       "1            4  \n",
       "2            0  \n",
       "3            0  \n",
       "4            4  \n",
=======
       "  deadline_date validity_duration  ... Open_To_All Open_To_Mention exp_years  \\\n",
       "0    2014-05-01                13  ...           1               0       1.0   \n",
       "1    2018-08-25                64  ...           1               1       NaN   \n",
       "2           NaT               NaN  ...           1               1       2.0   \n",
       "3    2018-08-09                13  ...           0               1       2.0   \n",
       "4    2018-06-14                13  ...           0               1       1.0   \n",
       "\n",
       "   high_education  full_time_part_time_code              GENDER_WORDS  \\\n",
       "0               0                         2                   neutral   \n",
       "1               1                         0  strongly masculine-coded   \n",
       "2               0                         2                   neutral   \n",
       "3               0                         2                   neutral   \n",
       "4               1                         2  strongly masculine-coded   \n",
       "\n",
       "   Too_Feminine  Too_Masculine gender_bias gender_score  \n",
       "0             0              0           0            0  \n",
       "1             0              1           2            4  \n",
       "2             0              0           0            0  \n",
       "3             0              0           0            0  \n",
       "4             0              1           2            4  \n",
>>>>>>> 2ba2090da906b09b23b78591086b48fe94c60797
       "\n",
       "[5 rows x 36 columns]"
      ]
     },
<<<<<<< HEAD
     "execution_count": 54,
=======
     "execution_count": 88,
>>>>>>> 2ba2090da906b09b23b78591086b48fe94c60797
     "metadata": {},
     "output_type": "execute_result"
    }
   ],
   "source": [
    "df_enriched.head()"
   ]
  },
  {
   "cell_type": "markdown",
   "metadata": {},
   "source": [
    "The enriching with the gender tendency is over"
   ]
  },
  {
   "cell_type": "markdown",
   "metadata": {},
   "source": [
    "## 4. What are the bulletins that require immediate action to reduce unconscious biases ?\n",
    "For this, we will look for bulletins with high masculine or high feminine coded language and check their responsibility level as well as the complexity of the selection, and the validity duration \n"
   ]
  },
  {
   "cell_type": "markdown",
   "metadata": {},
   "source": [
    "#### 4.a Interesting correlations\n",
    "In this section, we will check if there are 'unlegitimate' correlation between \n",
    "- responisibility level, \n",
    "- vadility duration\n",
    "- nb_lines_scale (in the text description)\n",
    "- Nb_chars_scale\n",
    "- nb_requirement\n",
    "- nb_selection steps, \n",
    "- Open_to_All\n",
    "- exp_years\n",
    "- full_time_part_time_code\n",
    "- high_education\n",
    "- toomasculine\n",
    "- toofeminine"
   ]
  },
  {
   "cell_type": "code",
<<<<<<< HEAD
   "execution_count": 55,
=======
   "execution_count": 89,
>>>>>>> 2ba2090da906b09b23b78591086b48fe94c60797
   "metadata": {},
   "outputs": [
    {
     "data": {
      "text/html": [
       "<div>\n",
       "<style scoped>\n",
       "    .dataframe tbody tr th:only-of-type {\n",
       "        vertical-align: middle;\n",
       "    }\n",
       "\n",
       "    .dataframe tbody tr th {\n",
       "        vertical-align: top;\n",
       "    }\n",
       "\n",
       "    .dataframe thead th {\n",
       "        text-align: right;\n",
       "    }\n",
       "</style>\n",
       "<table border=\"1\" class=\"dataframe\">\n",
       "  <thead>\n",
       "    <tr style=\"text-align: right;\">\n",
       "      <th></th>\n",
       "      <th>File Name</th>\n",
       "      <th>Position</th>\n",
       "      <th>salary_start</th>\n",
       "      <th>salary_end</th>\n",
       "      <th>validity_duration</th>\n",
       "      <th>nb_lines</th>\n",
       "      <th>nb_chars</th>\n",
       "      <th>nb_requirements</th>\n",
       "      <th>nb_selection_steps</th>\n",
       "      <th>nb_line_scale</th>\n",
       "      <th>...</th>\n",
       "      <th>Resp_level</th>\n",
       "      <th>Open_To_All</th>\n",
       "      <th>exp_years</th>\n",
       "      <th>high_education</th>\n",
       "      <th>full_time_part_time_code</th>\n",
       "      <th>GENDER_WORDS</th>\n",
       "      <th>Too_Feminine</th>\n",
       "      <th>Too_Masculine</th>\n",
       "      <th>gender_bias</th>\n",
       "      <th>gender_score</th>\n",
       "    </tr>\n",
       "  </thead>\n",
       "  <tbody>\n",
       "    <tr>\n",
       "      <th>0</th>\n",
       "      <td>311 DIRECTOR  9206 041814.txt</td>\n",
       "      <td>311 director</td>\n",
       "      <td>125,175</td>\n",
       "      <td>$155,514</td>\n",
       "      <td>13</td>\n",
       "      <td>72</td>\n",
       "      <td>9781</td>\n",
       "      <td>3.0</td>\n",
       "      <td>1.0</td>\n",
       "      <td>1</td>\n",
       "      <td>...</td>\n",
       "      <td>5</td>\n",
       "      <td>1</td>\n",
       "      <td>1.0</td>\n",
       "      <td>0</td>\n",
       "      <td>2</td>\n",
       "      <td>neutral</td>\n",
       "      <td>0</td>\n",
       "      <td>0</td>\n",
       "      <td>0</td>\n",
       "      <td>0</td>\n",
       "    </tr>\n",
       "    <tr>\n",
       "      <th>1</th>\n",
       "      <td>ACCOUNTANT 1513 062218.txt</td>\n",
       "      <td>accountant</td>\n",
       "      <td>49,903</td>\n",
       "      <td>$72,996</td>\n",
       "      <td>64</td>\n",
       "      <td>90</td>\n",
       "      <td>10260</td>\n",
       "      <td>1.0</td>\n",
       "      <td>2.0</td>\n",
       "      <td>2</td>\n",
       "      <td>...</td>\n",
       "      <td>0</td>\n",
       "      <td>1</td>\n",
       "      <td>NaN</td>\n",
       "      <td>1</td>\n",
       "      <td>0</td>\n",
       "      <td>strongly masculine-coded</td>\n",
       "      <td>0</td>\n",
       "      <td>1</td>\n",
       "      <td>2</td>\n",
       "      <td>4</td>\n",
       "    </tr>\n",
       "    <tr>\n",
       "      <th>2</th>\n",
       "      <td>ACCOUNTING CLERK 1223 071318.txt</td>\n",
       "      <td>accounting clerk</td>\n",
       "      <td>49,005</td>\n",
       "      <td>$71,618</td>\n",
       "      <td>NaN</td>\n",
       "      <td>88</td>\n",
       "      <td>10291</td>\n",
       "      <td>1.0</td>\n",
       "      <td>1.0</td>\n",
       "      <td>2</td>\n",
       "      <td>...</td>\n",
       "      <td>0</td>\n",
       "      <td>1</td>\n",
       "      <td>2.0</td>\n",
       "      <td>0</td>\n",
       "      <td>2</td>\n",
       "      <td>neutral</td>\n",
       "      <td>0</td>\n",
       "      <td>0</td>\n",
       "      <td>0</td>\n",
       "      <td>0</td>\n",
       "    </tr>\n",
       "    <tr>\n",
       "      <th>3</th>\n",
       "      <td>ACCOUNTING RECORDS SUPERVISOR 1119 072718.txt</td>\n",
       "      <td>accounting records supervisor</td>\n",
       "      <td>55,332</td>\n",
       "      <td>$80,930</td>\n",
       "      <td>13</td>\n",
       "      <td>87</td>\n",
       "      <td>7821</td>\n",
       "      <td>1.0</td>\n",
       "      <td>2.0</td>\n",
       "      <td>2</td>\n",
       "      <td>...</td>\n",
<<<<<<< HEAD
       "      <td>3</td>\n",
=======
       "      <td>2</td>\n",
>>>>>>> 2ba2090da906b09b23b78591086b48fe94c60797
       "      <td>0</td>\n",
       "      <td>2.0</td>\n",
       "      <td>0</td>\n",
       "      <td>2</td>\n",
       "      <td>neutral</td>\n",
       "      <td>0</td>\n",
       "      <td>0</td>\n",
       "      <td>0</td>\n",
       "      <td>0</td>\n",
       "    </tr>\n",
       "    <tr>\n",
       "      <th>4</th>\n",
       "      <td>ADMINISTRATIVE ANALYST 1590 060118.txt</td>\n",
       "      <td>administrative analyst</td>\n",
       "      <td>60,489</td>\n",
       "      <td>$88,468</td>\n",
       "      <td>13</td>\n",
       "      <td>93</td>\n",
       "      <td>11451</td>\n",
       "      <td>3.0</td>\n",
       "      <td>3.0</td>\n",
       "      <td>2</td>\n",
       "      <td>...</td>\n",
       "      <td>0</td>\n",
       "      <td>0</td>\n",
       "      <td>1.0</td>\n",
       "      <td>1</td>\n",
       "      <td>2</td>\n",
       "      <td>strongly masculine-coded</td>\n",
       "      <td>0</td>\n",
       "      <td>1</td>\n",
       "      <td>2</td>\n",
       "      <td>4</td>\n",
       "    </tr>\n",
       "  </tbody>\n",
       "</table>\n",
       "<p>5 rows × 21 columns</p>\n",
       "</div>"
      ],
      "text/plain": [
       "                                       File Name  \\\n",
       "0                  311 DIRECTOR  9206 041814.txt   \n",
       "1                     ACCOUNTANT 1513 062218.txt   \n",
       "2               ACCOUNTING CLERK 1223 071318.txt   \n",
       "3  ACCOUNTING RECORDS SUPERVISOR 1119 072718.txt   \n",
       "4         ADMINISTRATIVE ANALYST 1590 060118.txt   \n",
       "\n",
       "                        Position salary_start salary_end validity_duration  \\\n",
       "0                   311 director      125,175   $155,514                13   \n",
       "1                     accountant       49,903    $72,996                64   \n",
       "2               accounting clerk       49,005    $71,618               NaN   \n",
       "3  accounting records supervisor       55,332    $80,930                13   \n",
       "4         administrative analyst       60,489    $88,468                13   \n",
       "\n",
<<<<<<< HEAD
       "  nb_lines nb_chars  nb_requirements  nb_selection_steps  nb_line_scale  \\\n",
       "0       72     9781              3.0                 1.0              1   \n",
       "1       90    10260              1.0                 2.0              2   \n",
       "2       88    10291              1.0                 1.0              2   \n",
       "3       87     7821              1.0                 2.0              2   \n",
       "4       93    11451              3.0                 3.0              2   \n",
       "\n",
       "       ...       Resp_level  Open_To_All  exp_years  high_education  \\\n",
       "0      ...                5            1        1.0               0   \n",
       "1      ...                0            1        NaN               1   \n",
       "2      ...                0            1        2.0               0   \n",
       "3      ...                3            0        2.0               0   \n",
       "4      ...                0            0        1.0               1   \n",
=======
       "  nb_lines nb_chars  nb_requirements  nb_selection_steps  nb_line_scale  ...  \\\n",
       "0       72     9781              3.0                 1.0              1  ...   \n",
       "1       90    10260              1.0                 2.0              2  ...   \n",
       "2       88    10291              1.0                 1.0              2  ...   \n",
       "3       87     7821              1.0                 2.0              2  ...   \n",
       "4       93    11451              3.0                 3.0              2  ...   \n",
       "\n",
       "   Resp_level  Open_To_All  exp_years  high_education  \\\n",
       "0           5            1        1.0               0   \n",
       "1           0            1        NaN               1   \n",
       "2           0            1        2.0               0   \n",
       "3           2            0        2.0               0   \n",
       "4           0            0        1.0               1   \n",
>>>>>>> 2ba2090da906b09b23b78591086b48fe94c60797
       "\n",
       "   full_time_part_time_code              GENDER_WORDS Too_Feminine  \\\n",
       "0                         2                   neutral            0   \n",
       "1                         0  strongly masculine-coded            0   \n",
       "2                         2                   neutral            0   \n",
       "3                         2                   neutral            0   \n",
       "4                         2  strongly masculine-coded            0   \n",
       "\n",
       "   Too_Masculine  gender_bias  gender_score  \n",
       "0              0            0             0  \n",
       "1              1            2             4  \n",
       "2              0            0             0  \n",
       "3              0            0             0  \n",
       "4              1            2             4  \n",
       "\n",
       "[5 rows x 21 columns]"
      ]
     },
<<<<<<< HEAD
     "execution_count": 55,
=======
     "execution_count": 89,
>>>>>>> 2ba2090da906b09b23b78591086b48fe94c60797
     "metadata": {},
     "output_type": "execute_result"
    }
   ],
   "source": [
    "df_correlation = df_enriched.drop(columns=[\"opendate\", \"requirements\",\"duties\", \"deadline\", \"deadline_date\",\"selection\",\"Essay\",\"Interview\",\"WTest\",\"FULL_TIME_PART_TIME\", \"EDUCATION_YEARS\", \"SCHOOL_TYPE\", \"raw_job_text\", \"EXPERIENCE_LENGTH\", \"Open_To_Mention\"], axis=1)\n",
    "#df_correlation.drop(columns=[\"opendate\", \"requirements\",\"duties\", \"deadline\", \"deadline_date\", \"Interview\",\"WTest\",\"FULL_TIME_PART_TIME\", \"EDUCATION_YEARS\", \"SCHOOL_TYPE\", \"GENDER_WORDS\"], axis=1)\n",
    "df_correlation.head()"
   ]
  },
  {
   "cell_type": "code",
<<<<<<< HEAD
   "execution_count": 56,
=======
   "execution_count": 90,
>>>>>>> 2ba2090da906b09b23b78591086b48fe94c60797
   "metadata": {},
   "outputs": [
    {
     "data": {
      "text/plain": [
<<<<<<< HEAD
       "<matplotlib.axes._subplots.AxesSubplot at 0x24da8d7b9b0>"
      ]
     },
     "execution_count": 56,
=======
       "<matplotlib.axes._subplots.AxesSubplot at 0x181b4cc1f60>"
      ]
     },
     "execution_count": 90,
>>>>>>> 2ba2090da906b09b23b78591086b48fe94c60797
     "metadata": {},
     "output_type": "execute_result"
    },
    {
     "data": {
<<<<<<< HEAD
      "image/png": "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\n",
=======
      "image/png": "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\n",
>>>>>>> 2ba2090da906b09b23b78591086b48fe94c60797
      "text/plain": [
       "<Figure size 432x288 with 2 Axes>"
      ]
     },
     "metadata": {
      "needs_background": "light"
     },
     "output_type": "display_data"
    }
   ],
   "source": [
    "import seaborn as sns\n",
    "corr = df_correlation.corr()\n",
    "sns.heatmap(corr, xticklabels=corr.columns.values, yticklabels=corr.columns.values)"
   ]
  },
  {
   "cell_type": "markdown",
   "metadata": {},
   "source": [
    "#### 4.b Interesting correlations summary\n",
    "\n",
    "##### Open_To_All VS nb_requirements \n",
<<<<<<< HEAD
    "> No straight correlation ==> Difficult to suspect a biais on this situation\n",
    "\n",
    "##### high_education VS Open_To_All \n",
    "> No straight correlation ==> Difficult to suspect a biais on this situation\n",
    "\n",
    "##### Resp_level VS tooMasculine and tooFeminine : \n",
    "> There is very little (0.25) trend that responsibility level can correlate with masculine coded. \n",
    "> The opposite trend is obtained for feminine coded (-0.25)\n",
    "\n",
    "##### Resp_Level  VS nb_line_scale\n",
    "> At the opposite to what we could expect there is not a strait correlation between the nuber of lines in the job description and the responsibility level.\n",
    "\n",
    "##### Resp_Level VS nb_char_scale\n",
    "> At the opposite to what we could expect there is not a straight correlation between the nuber of chars in the job description and the responsibility level.\n",
    "\n",
    "##### Resp_Level VS nb_char_scale\n",
    "> At the opposite to what we could expect there is not a straight correlation between the nuber of chars in the job description and the responsibility level.\n",
    "\n",
    "##### Resp_Level VS nb_selection_steps\n",
    "> There is very little (0.25) trend that responsibility level can correlate with the number of selection steps which makes sense. \n",
    "\n",
    "##### Resp_Level VS nb_requirements\n",
    "> No straight correlation ==> Difficult to suspect a biais on this situation.\n",
    "\n",
    "##### Resp_Level VS : other observations\n",
    "> There is also 1 little correlation betweel Resp_Level and Fulltime job. Indeed, Responibility jobs require full time.\n",
    "> We can also be surprised by the fact that there is no straigh correlation between Resp_Level and exp_years, neither high_education. The backgroung does not seem to be important for offering rresponsibility jobs.\n",
    "\n",
    "##### Too_Masculine VS ???\n",
    "> There is a little trend on the correlation of TooMasculine with the number of requirements, the complexity of the selection, the requirement of a high education background.\n",
    "> The sexist trend is very subtle.\n",
    "\n",
    "##### Too_Feminine VS ???\n",
    "> there is no straight correlation possible between a feminine coded bulletin and other bulletin characteristics.\n"
=======
    "- No strainght correlation ==> Difficult to suspect a biais on this situation\n",
    "\n",
    "##### high_education VS Open_To_All \n",
    "- No strainght correlation ==> Difficult to suspect a biais on this situation\n",
    "\n",
    "##### Resp_level VS tooMasculine and tooFeminine : \n",
    "- There is very little (0.25) trend that responsibility level can correlate with masculine coded. \n",
    "- The opposite trend is obtained for feminine coded (-0.25)\n",
    "\n",
    "##### nb_line_scale VS Resp_Level \n",
    "- At the opposite to what we could expect there is not a strait correlation between the nuber of lines in the job description and the responsibility level.\n",
    "\n",
    "##### nb_char_scale VS Resp_Level \n",
    "- At the opposite to what we could expect there is not a straight correlation between the nuber of chars in the job description and the responsibility level.\n",
    "\n",
    "##### Too_Masculine VS ???\n",
    "- There is a little trend on the correlation of TooMasculine with the number of requirements, the complexity of the selection, the requirement of a high education background.\n",
    "- The sexist trend is very subtle.\n",
    "\n",
    "##### Too_Feminine VS ???\n",
    "- there is no straight correlation possible between a feminine coded bulletin and other bulletin characteristics.\n"
>>>>>>> 2ba2090da906b09b23b78591086b48fe94c60797
   ]
  },
  {
   "cell_type": "markdown",
   "metadata": {},
   "source": [
    "#### 4.c Suspicious bulletins\n",
    "\n",
<<<<<<< HEAD
    "We need to identify the most suspicious bulletins inside our dataframe of 675. By \"suspicious\", we mean buletins that would be biased, or that would need to follow basic recommandations about the validity duration, or other parameters.\n",
    "\n",
    "For this, we are going to score bulletin. The score is a combiations of penalties based on the main indcators of a biais which are \n",
=======
    "We need to identify the most biaised bulletins inside our dataframe of 675. For this, we are going to score bulletin. The score is a function of the main indcators of a biais which are \n",
>>>>>>> 2ba2090da906b09b23b78591086b48fe94c60797
    "- Resp_level\n",
    "- gender_score\n",
    "- nb_line_scale\n",
    "- nb_char_scale\n",
    "- nb_selection_steps\n",
    "- nb_requirements\n",
    "- Open_To_All\n",
    "- validity_duration\n",
    "\n",
<<<<<<< HEAD
    "The higher the socre is, the higher is the necessity to look up the bulletin. \n",
    "> When it comes to medium to high responnsibility position, biased bulletins are sanctioned even harder.\n",
=======
>>>>>>> 2ba2090da906b09b23b78591086b48fe94c60797
    "\n"
   ]
  },
  {
   "cell_type": "code",
<<<<<<< HEAD
   "execution_count": 58,
=======
   "execution_count": 309,
>>>>>>> 2ba2090da906b09b23b78591086b48fe94c60797
   "metadata": {},
   "outputs": [],
   "source": [
    "def code_gender_score(val):\n",
    "    if not isNaN(val):\n",
    "        if val == \"neutral\":\n",
    "            return 0\n",
    "        if val == 'masculine-coded':\n",
    "            return 1\n",
    "        if val == 'strongly masculine-coded':\n",
    "            return 4\n",
    "        if val == 'feminine-coded':\n",
    "            return 1\n",
    "        if val == 'strongly feminine-coded':\n",
    "            return 4\n",
    "        else:\n",
    "            return 0\n",
    "\n",
    "def bulletin_score(row, dataframe):\n",
    "    \n",
    "    #resp, gender_score,nblines,nbchars,opentoall,nbreq,nbsel,valid, educ\n",
    "    score = 0\n",
    "    \n",
    "    if dataframe[\"Resp_level\"][row] < 3:\n",
    "            if dataframe[\"nb_line_scale\"][row] > 3:\n",
    "                # + 1 penalty when too many lines\n",
    "                score += 1\n",
    "            \n",
    "            if dataframe[\"nb_char_scale\"][row] > 3:\n",
    "                # + 1 penalty when too many chars\n",
    "                score += 1\n",
    "            \n",
    "            if dataframe[\"high_education\"][row] ==1:\n",
    "                # + 2 penalty when high education required for low resposnsibility\n",
    "                score +=2\n",
    "            \n",
    "            if dataframe[\"nb_requirements\"][row] == 4:\n",
    "                score += 1\n",
    "                # + 1 penalty when 4 requirements\n",
    "                \n",
    "            if dataframe[\"nb_requirements\"][row] >5:\n",
    "                # + 4 penalty when too many requirements\n",
    "                score +=4\n",
    "            \n",
    "            if dataframe[\"nb_selection_steps\"][row] == 2:\n",
    "                # + 1 penalty when 2 selection steps\n",
    "                score += 1\n",
    "            if dataframe[\"nb_selection_steps\"][row] > 2:\n",
    "                # + 1 penalty when 3 selection steps\n",
    "                score +=4\n",
    "                \n",
    "            if dataframe[\"Open_To_All\"][row]==1:\n",
    "                if dataframe[\"validity_duration\"][row] <=12:\n",
    "                    # + 4 when little time given to apply whereas position open to all\n",
    "                    score +=4\n",
    "            score += 1\n",
    "            score*= dataframe[\"gender_score\"][row]\n",
    "            score *= dataframe[\"Resp_level\"][row]\n",
    "            \n",
    "                    \n",
    "    else:\n",
    "        # if position with responsibility, more penalty is given to gender trend\n",
    "        if dataframe[\"Open_To_All\"][row]==1:\n",
    "            if dataframe[\"validity_duration\"][row] <=12:\n",
    "                # + 4 when little time given to apply whereas position open to all\n",
    "                score +=4\n",
    "        if dataframe[\"gender_score\"][row] >0:\n",
    "            score += 5\n",
    "            score *= dataframe[\"gender_score\"][row]\n",
    "            score *= dataframe[\"Resp_level\"][row]\n",
    "    \n",
    "    return(score)\n",
    "            \n",
    "       "
   ]
  },
  {
   "cell_type": "code",
<<<<<<< HEAD
   "execution_count": 59,
=======
   "execution_count": 310,
>>>>>>> 2ba2090da906b09b23b78591086b48fe94c60797
   "metadata": {},
   "outputs": [
    {
     "name": "stderr",
     "output_type": "stream",
     "text": [
      "C:\\ProgramData\\Anaconda3\\lib\\site-packages\\ipykernel_launcher.py:5: SettingWithCopyWarning: \n",
      "A value is trying to be set on a copy of a slice from a DataFrame\n",
      "\n",
      "See the caveats in the documentation: http://pandas.pydata.org/pandas-docs/stable/indexing.html#indexing-view-versus-copy\n",
      "  \"\"\"\n"
     ]
    }
   ],
   "source": [
    "df_scored = df_correlation\n",
    "#df_scored['score'][row] = df_scored.apply(lambda row : code_gender_score(row))\n",
    "df_scored.insert(loc=3, column='score', value=0, allow_duplicates = False)\n",
    "for row in range(0, len(df_scored)):\n",
    "    df_scored['score'][row] = bulletin_score(row,df_correlation)"
   ]
  },
  {
   "cell_type": "code",
<<<<<<< HEAD
   "execution_count": 60,
=======
   "execution_count": 311,
>>>>>>> 2ba2090da906b09b23b78591086b48fe94c60797
   "metadata": {},
   "outputs": [
    {
     "data": {
      "text/html": [
       "<div>\n",
       "<style scoped>\n",
       "    .dataframe tbody tr th:only-of-type {\n",
       "        vertical-align: middle;\n",
       "    }\n",
       "\n",
       "    .dataframe tbody tr th {\n",
       "        vertical-align: top;\n",
       "    }\n",
       "\n",
       "    .dataframe thead th {\n",
       "        text-align: right;\n",
       "    }\n",
       "</style>\n",
       "<table border=\"1\" class=\"dataframe\">\n",
       "  <thead>\n",
       "    <tr style=\"text-align: right;\">\n",
       "      <th></th>\n",
       "      <th>File Name</th>\n",
       "      <th>Position</th>\n",
       "      <th>salary_start</th>\n",
       "      <th>score</th>\n",
       "      <th>salary_end</th>\n",
       "      <th>validity_duration</th>\n",
       "      <th>nb_lines</th>\n",
       "      <th>nb_chars</th>\n",
       "      <th>nb_requirements</th>\n",
       "      <th>nb_selection_steps</th>\n",
       "      <th>...</th>\n",
<<<<<<< HEAD
       "      <th>Resp_level</th>\n",
       "      <th>Open_To_All</th>\n",
=======
>>>>>>> 2ba2090da906b09b23b78591086b48fe94c60797
       "      <th>exp_years</th>\n",
       "      <th>high_education</th>\n",
       "      <th>full_time_part_time_code</th>\n",
       "      <th>GENDER_WORDS</th>\n",
       "      <th>Too_Feminine</th>\n",
       "      <th>Too_Masculine</th>\n",
<<<<<<< HEAD
=======
       "      <th>nb_line_scale</th>\n",
       "      <th>nb_char_scale</th>\n",
>>>>>>> 2ba2090da906b09b23b78591086b48fe94c60797
       "      <th>gender_bias</th>\n",
       "      <th>gender_score</th>\n",
       "    </tr>\n",
       "  </thead>\n",
       "  <tbody>\n",
       "    <tr>\n",
       "      <th>0</th>\n",
       "      <td>311 DIRECTOR  9206 041814.txt</td>\n",
       "      <td>311 director</td>\n",
       "      <td>125,175</td>\n",
       "      <td>0</td>\n",
       "      <td>$155,514</td>\n",
       "      <td>13</td>\n",
       "      <td>72</td>\n",
       "      <td>9781</td>\n",
       "      <td>3.0</td>\n",
       "      <td>1.0</td>\n",
       "      <td>...</td>\n",
<<<<<<< HEAD
       "      <td>5</td>\n",
       "      <td>1</td>\n",
=======
>>>>>>> 2ba2090da906b09b23b78591086b48fe94c60797
       "      <td>1.0</td>\n",
       "      <td>0</td>\n",
       "      <td>2</td>\n",
       "      <td>neutral</td>\n",
       "      <td>0</td>\n",
       "      <td>0</td>\n",
<<<<<<< HEAD
=======
       "      <td>1</td>\n",
       "      <td>1</td>\n",
>>>>>>> 2ba2090da906b09b23b78591086b48fe94c60797
       "      <td>0</td>\n",
       "      <td>0</td>\n",
       "    </tr>\n",
       "    <tr>\n",
       "      <th>1</th>\n",
       "      <td>ACCOUNTANT 1513 062218.txt</td>\n",
       "      <td>accountant</td>\n",
       "      <td>49,903</td>\n",
       "      <td>0</td>\n",
       "      <td>$72,996</td>\n",
       "      <td>64</td>\n",
       "      <td>90</td>\n",
       "      <td>10260</td>\n",
       "      <td>1.0</td>\n",
       "      <td>2.0</td>\n",
       "      <td>...</td>\n",
<<<<<<< HEAD
       "      <td>0</td>\n",
       "      <td>1</td>\n",
=======
>>>>>>> 2ba2090da906b09b23b78591086b48fe94c60797
       "      <td>NaN</td>\n",
       "      <td>1</td>\n",
       "      <td>0</td>\n",
       "      <td>strongly masculine-coded</td>\n",
       "      <td>0</td>\n",
       "      <td>1</td>\n",
       "      <td>2</td>\n",
<<<<<<< HEAD
=======
       "      <td>1</td>\n",
       "      <td>2</td>\n",
>>>>>>> 2ba2090da906b09b23b78591086b48fe94c60797
       "      <td>4</td>\n",
       "    </tr>\n",
       "    <tr>\n",
       "      <th>2</th>\n",
       "      <td>ACCOUNTING CLERK 1223 071318.txt</td>\n",
       "      <td>accounting clerk</td>\n",
       "      <td>49,005</td>\n",
       "      <td>0</td>\n",
       "      <td>$71,618</td>\n",
       "      <td>NaN</td>\n",
       "      <td>88</td>\n",
       "      <td>10291</td>\n",
       "      <td>1.0</td>\n",
       "      <td>1.0</td>\n",
       "      <td>...</td>\n",
<<<<<<< HEAD
       "      <td>0</td>\n",
       "      <td>1</td>\n",
=======
>>>>>>> 2ba2090da906b09b23b78591086b48fe94c60797
       "      <td>2.0</td>\n",
       "      <td>0</td>\n",
       "      <td>2</td>\n",
       "      <td>neutral</td>\n",
       "      <td>0</td>\n",
       "      <td>0</td>\n",
<<<<<<< HEAD
=======
       "      <td>2</td>\n",
       "      <td>1</td>\n",
>>>>>>> 2ba2090da906b09b23b78591086b48fe94c60797
       "      <td>0</td>\n",
       "      <td>0</td>\n",
       "    </tr>\n",
       "    <tr>\n",
       "      <th>3</th>\n",
       "      <td>ACCOUNTING RECORDS SUPERVISOR 1119 072718.txt</td>\n",
       "      <td>accounting records supervisor</td>\n",
       "      <td>55,332</td>\n",
       "      <td>0</td>\n",
       "      <td>$80,930</td>\n",
       "      <td>13</td>\n",
       "      <td>87</td>\n",
       "      <td>7821</td>\n",
       "      <td>1.0</td>\n",
       "      <td>2.0</td>\n",
       "      <td>...</td>\n",
<<<<<<< HEAD
       "      <td>3</td>\n",
       "      <td>0</td>\n",
=======
>>>>>>> 2ba2090da906b09b23b78591086b48fe94c60797
       "      <td>2.0</td>\n",
       "      <td>0</td>\n",
       "      <td>2</td>\n",
       "      <td>neutral</td>\n",
       "      <td>0</td>\n",
       "      <td>0</td>\n",
<<<<<<< HEAD
=======
       "      <td>2</td>\n",
       "      <td>1</td>\n",
>>>>>>> 2ba2090da906b09b23b78591086b48fe94c60797
       "      <td>0</td>\n",
       "      <td>0</td>\n",
       "    </tr>\n",
       "    <tr>\n",
       "      <th>4</th>\n",
       "      <td>ADMINISTRATIVE ANALYST 1590 060118.txt</td>\n",
       "      <td>administrative analyst</td>\n",
       "      <td>60,489</td>\n",
       "      <td>0</td>\n",
       "      <td>$88,468</td>\n",
       "      <td>13</td>\n",
       "      <td>93</td>\n",
       "      <td>11451</td>\n",
       "      <td>3.0</td>\n",
       "      <td>3.0</td>\n",
       "      <td>...</td>\n",
<<<<<<< HEAD
       "      <td>0</td>\n",
       "      <td>0</td>\n",
=======
>>>>>>> 2ba2090da906b09b23b78591086b48fe94c60797
       "      <td>1.0</td>\n",
       "      <td>1</td>\n",
       "      <td>2</td>\n",
       "      <td>strongly masculine-coded</td>\n",
       "      <td>0</td>\n",
       "      <td>1</td>\n",
       "      <td>2</td>\n",
<<<<<<< HEAD
=======
       "      <td>3</td>\n",
       "      <td>2</td>\n",
>>>>>>> 2ba2090da906b09b23b78591086b48fe94c60797
       "      <td>4</td>\n",
       "    </tr>\n",
       "  </tbody>\n",
       "</table>\n",
       "<p>5 rows × 22 columns</p>\n",
       "</div>"
      ],
      "text/plain": [
       "                                       File Name  \\\n",
       "0                  311 DIRECTOR  9206 041814.txt   \n",
       "1                     ACCOUNTANT 1513 062218.txt   \n",
       "2               ACCOUNTING CLERK 1223 071318.txt   \n",
       "3  ACCOUNTING RECORDS SUPERVISOR 1119 072718.txt   \n",
       "4         ADMINISTRATIVE ANALYST 1590 060118.txt   \n",
       "\n",
       "                        Position salary_start  score salary_end  \\\n",
       "0                   311 director      125,175      0   $155,514   \n",
       "1                     accountant       49,903      0    $72,996   \n",
       "2               accounting clerk       49,005      0    $71,618   \n",
       "3  accounting records supervisor       55,332      0    $80,930   \n",
       "4         administrative analyst       60,489      0    $88,468   \n",
       "\n",
       "  validity_duration nb_lines nb_chars  nb_requirements  nb_selection_steps  \\\n",
       "0                13       72     9781              3.0                 1.0   \n",
       "1                64       90    10260              1.0                 2.0   \n",
       "2               NaN       88    10291              1.0                 1.0   \n",
       "3                13       87     7821              1.0                 2.0   \n",
       "4                13       93    11451              3.0                 3.0   \n",
       "\n",
<<<<<<< HEAD
       "       ...       Resp_level  Open_To_All  exp_years  high_education  \\\n",
       "0      ...                5            1        1.0               0   \n",
       "1      ...                0            1        NaN               1   \n",
       "2      ...                0            1        2.0               0   \n",
       "3      ...                3            0        2.0               0   \n",
       "4      ...                0            0        1.0               1   \n",
       "\n",
       "   full_time_part_time_code              GENDER_WORDS  Too_Feminine  \\\n",
       "0                         2                   neutral             0   \n",
       "1                         0  strongly masculine-coded             0   \n",
       "2                         2                   neutral             0   \n",
       "3                         2                   neutral             0   \n",
       "4                         2  strongly masculine-coded             0   \n",
       "\n",
       "  Too_Masculine  gender_bias  gender_score  \n",
       "0             0            0             0  \n",
       "1             1            2             4  \n",
       "2             0            0             0  \n",
       "3             0            0             0  \n",
       "4             1            2             4  \n",
=======
       "       ...       exp_years  high_education  full_time_part_time_code  \\\n",
       "0      ...             1.0               0                         2   \n",
       "1      ...             NaN               1                         0   \n",
       "2      ...             2.0               0                         2   \n",
       "3      ...             2.0               0                         2   \n",
       "4      ...             1.0               1                         2   \n",
       "\n",
       "               GENDER_WORDS  Too_Feminine Too_Masculine  nb_line_scale  \\\n",
       "0                   neutral             0             0              1   \n",
       "1  strongly masculine-coded             0             1              2   \n",
       "2                   neutral             0             0              2   \n",
       "3                   neutral             0             0              2   \n",
       "4  strongly masculine-coded             0             1              2   \n",
       "\n",
       "   nb_char_scale  gender_bias  gender_score  \n",
       "0              1            0             0  \n",
       "1              1            2             4  \n",
       "2              1            0             0  \n",
       "3              1            0             0  \n",
       "4              3            2             4  \n",
>>>>>>> 2ba2090da906b09b23b78591086b48fe94c60797
       "\n",
       "[5 rows x 22 columns]"
      ]
     },
<<<<<<< HEAD
     "execution_count": 60,
=======
     "execution_count": 311,
>>>>>>> 2ba2090da906b09b23b78591086b48fe94c60797
     "metadata": {},
     "output_type": "execute_result"
    }
   ],
   "source": [
    "df_scored.head()\n"
   ]
  },
  {
   "cell_type": "code",
<<<<<<< HEAD
   "execution_count": 61,
=======
   "execution_count": 314,
>>>>>>> 2ba2090da906b09b23b78591086b48fe94c60797
   "metadata": {},
   "outputs": [
    {
     "data": {
      "text/html": [
       "<div>\n",
       "<style scoped>\n",
       "    .dataframe tbody tr th:only-of-type {\n",
       "        vertical-align: middle;\n",
       "    }\n",
       "\n",
       "    .dataframe tbody tr th {\n",
       "        vertical-align: top;\n",
       "    }\n",
       "\n",
       "    .dataframe thead th {\n",
       "        text-align: right;\n",
       "    }\n",
       "</style>\n",
       "<table border=\"1\" class=\"dataframe\">\n",
       "  <thead>\n",
       "    <tr style=\"text-align: right;\">\n",
       "      <th></th>\n",
       "      <th>File Name</th>\n",
       "      <th>Position</th>\n",
       "      <th>salary_start</th>\n",
       "      <th>score</th>\n",
       "      <th>salary_end</th>\n",
       "      <th>validity_duration</th>\n",
       "      <th>nb_lines</th>\n",
       "      <th>nb_chars</th>\n",
       "      <th>nb_requirements</th>\n",
       "      <th>nb_selection_steps</th>\n",
       "      <th>...</th>\n",
<<<<<<< HEAD
       "      <th>Resp_level</th>\n",
       "      <th>Open_To_All</th>\n",
=======
>>>>>>> 2ba2090da906b09b23b78591086b48fe94c60797
       "      <th>exp_years</th>\n",
       "      <th>high_education</th>\n",
       "      <th>full_time_part_time_code</th>\n",
       "      <th>GENDER_WORDS</th>\n",
       "      <th>Too_Feminine</th>\n",
       "      <th>Too_Masculine</th>\n",
<<<<<<< HEAD
=======
       "      <th>nb_line_scale</th>\n",
       "      <th>nb_char_scale</th>\n",
>>>>>>> 2ba2090da906b09b23b78591086b48fe94c60797
       "      <th>gender_bias</th>\n",
       "      <th>gender_score</th>\n",
       "    </tr>\n",
       "  </thead>\n",
       "  <tbody>\n",
       "    <tr>\n",
       "      <th>145</th>\n",
       "      <td>COMMUNICATIONS INFORMATION REPRESENTATIVE 1461...</td>\n",
       "      <td>communications information representative</td>\n",
       "      <td>41,697</td>\n",
       "      <td>108</td>\n",
       "      <td>$59,340</td>\n",
       "      <td>11</td>\n",
       "      <td>111</td>\n",
       "      <td>13006</td>\n",
       "      <td>3.0</td>\n",
       "      <td>2.0</td>\n",
       "      <td>...</td>\n",
<<<<<<< HEAD
       "      <td>3</td>\n",
       "      <td>1</td>\n",
=======
>>>>>>> 2ba2090da906b09b23b78591086b48fe94c60797
       "      <td>1.0</td>\n",
       "      <td>0</td>\n",
       "      <td>2</td>\n",
       "      <td>strongly feminine-coded</td>\n",
       "      <td>1</td>\n",
       "      <td>0</td>\n",
<<<<<<< HEAD
=======
       "      <td>3</td>\n",
       "      <td>4</td>\n",
>>>>>>> 2ba2090da906b09b23b78591086b48fe94c60797
       "      <td>4</td>\n",
       "      <td>4</td>\n",
       "    </tr>\n",
       "    <tr>\n",
       "      <th>617</th>\n",
       "      <td>TRANSPORTATION ENGINEERING ASSOCIATE 7280 0724...</td>\n",
       "      <td>transportation engineering associate</td>\n",
       "      <td>68,549</td>\n",
       "      <td>108</td>\n",
       "      <td>$85,149</td>\n",
       "      <td>11</td>\n",
       "      <td>88</td>\n",
       "      <td>12544</td>\n",
       "      <td>2.0</td>\n",
       "      <td>1.0</td>\n",
       "      <td>...</td>\n",
<<<<<<< HEAD
       "      <td>3</td>\n",
       "      <td>1</td>\n",
=======
>>>>>>> 2ba2090da906b09b23b78591086b48fe94c60797
       "      <td>NaN</td>\n",
       "      <td>1</td>\n",
       "      <td>0</td>\n",
       "      <td>strongly masculine-coded</td>\n",
       "      <td>0</td>\n",
       "      <td>1</td>\n",
       "      <td>2</td>\n",
<<<<<<< HEAD
=======
       "      <td>3</td>\n",
       "      <td>2</td>\n",
>>>>>>> 2ba2090da906b09b23b78591086b48fe94c60797
       "      <td>4</td>\n",
       "    </tr>\n",
       "    <tr>\n",
       "      <th>163</th>\n",
       "      <td>CUSTOMER SERVICE REPRESENTATIVE 1230 020918.txt</td>\n",
       "      <td>customer service representative</td>\n",
       "      <td>57,148</td>\n",
       "      <td>108</td>\n",
       "      <td>$71,012</td>\n",
       "      <td>11</td>\n",
       "      <td>89</td>\n",
       "      <td>9186</td>\n",
       "      <td>1.0</td>\n",
       "      <td>2.0</td>\n",
       "      <td>...</td>\n",
<<<<<<< HEAD
       "      <td>3</td>\n",
       "      <td>1</td>\n",
=======
>>>>>>> 2ba2090da906b09b23b78591086b48fe94c60797
       "      <td>2.0</td>\n",
       "      <td>0</td>\n",
       "      <td>2</td>\n",
       "      <td>strongly feminine-coded</td>\n",
       "      <td>1</td>\n",
       "      <td>0</td>\n",
<<<<<<< HEAD
=======
       "      <td>2</td>\n",
       "      <td>1</td>\n",
>>>>>>> 2ba2090da906b09b23b78591086b48fe94c60797
       "      <td>4</td>\n",
       "      <td>4</td>\n",
       "    </tr>\n",
       "    <tr>\n",
       "      <th>195</th>\n",
       "      <td>ELECTRICAL ENGINEERING ASSOCIATE 7525 093016 R...</td>\n",
       "      <td>electrical engineering associate</td>\n",
       "      <td>66,231</td>\n",
       "      <td>108</td>\n",
       "      <td>$94,252</td>\n",
       "      <td>11</td>\n",
       "      <td>94</td>\n",
       "      <td>11977</td>\n",
       "      <td>3.0</td>\n",
       "      <td>1.0</td>\n",
       "      <td>...</td>\n",
<<<<<<< HEAD
       "      <td>3</td>\n",
       "      <td>1</td>\n",
=======
>>>>>>> 2ba2090da906b09b23b78591086b48fe94c60797
       "      <td>NaN</td>\n",
       "      <td>0</td>\n",
       "      <td>0</td>\n",
       "      <td>strongly masculine-coded</td>\n",
       "      <td>0</td>\n",
       "      <td>1</td>\n",
       "      <td>2</td>\n",
<<<<<<< HEAD
=======
       "      <td>3</td>\n",
       "      <td>2</td>\n",
>>>>>>> 2ba2090da906b09b23b78591086b48fe94c60797
       "      <td>4</td>\n",
       "    </tr>\n",
       "    <tr>\n",
       "      <th>55</th>\n",
       "      <td>ASSISTANT DIRECTOR INFORMATION SYSTEMS 9377 03...</td>\n",
       "      <td>assistant director information systems</td>\n",
       "      <td>145,199</td>\n",
       "      <td>100</td>\n",
       "      <td>$180,382</td>\n",
       "      <td>13</td>\n",
       "      <td>77</td>\n",
       "      <td>8157</td>\n",
       "      <td>1.0</td>\n",
       "      <td>2.0</td>\n",
       "      <td>...</td>\n",
<<<<<<< HEAD
       "      <td>5</td>\n",
       "      <td>0</td>\n",
=======
>>>>>>> 2ba2090da906b09b23b78591086b48fe94c60797
       "      <td>2.0</td>\n",
       "      <td>0</td>\n",
       "      <td>2</td>\n",
       "      <td>strongly feminine-coded</td>\n",
       "      <td>1</td>\n",
       "      <td>0</td>\n",
<<<<<<< HEAD
=======
       "      <td>1</td>\n",
       "      <td>1</td>\n",
>>>>>>> 2ba2090da906b09b23b78591086b48fe94c60797
       "      <td>4</td>\n",
       "      <td>4</td>\n",
       "    </tr>\n",
       "    <tr>\n",
       "      <th>172</th>\n",
       "      <td>DIRECTOR OF AIRPORT OPERATIONS 9304 062317 (3)...</td>\n",
       "      <td>director of airport operations</td>\n",
       "      <td>141,858</td>\n",
       "      <td>100</td>\n",
       "      <td>$201,867</td>\n",
       "      <td>13</td>\n",
       "      <td>80</td>\n",
       "      <td>9286</td>\n",
       "      <td>3.0</td>\n",
       "      <td>1.0</td>\n",
       "      <td>...</td>\n",
<<<<<<< HEAD
       "      <td>5</td>\n",
       "      <td>1</td>\n",
=======
>>>>>>> 2ba2090da906b09b23b78591086b48fe94c60797
       "      <td>4.0</td>\n",
       "      <td>0</td>\n",
       "      <td>2</td>\n",
       "      <td>strongly masculine-coded</td>\n",
       "      <td>0</td>\n",
       "      <td>1</td>\n",
<<<<<<< HEAD
=======
       "      <td>1</td>\n",
       "      <td>1</td>\n",
>>>>>>> 2ba2090da906b09b23b78591086b48fe94c60797
       "      <td>2</td>\n",
       "      <td>4</td>\n",
       "    </tr>\n",
       "    <tr>\n",
       "      <th>181</th>\n",
       "      <td>DIRECTOR OF PRINTING SERVICES 1488 101218 REV ...</td>\n",
       "      <td>director of printing services</td>\n",
       "      <td>117,596</td>\n",
       "      <td>100</td>\n",
       "      <td>$171,946</td>\n",
       "      <td>20</td>\n",
       "      <td>74</td>\n",
       "      <td>8078</td>\n",
       "      <td>2.0</td>\n",
       "      <td>1.0</td>\n",
       "      <td>...</td>\n",
<<<<<<< HEAD
       "      <td>5</td>\n",
       "      <td>0</td>\n",
=======
>>>>>>> 2ba2090da906b09b23b78591086b48fe94c60797
       "      <td>3.0</td>\n",
       "      <td>0</td>\n",
       "      <td>2</td>\n",
       "      <td>strongly masculine-coded</td>\n",
       "      <td>0</td>\n",
       "      <td>1</td>\n",
<<<<<<< HEAD
       "      <td>2</td>\n",
       "      <td>4</td>\n",
       "    </tr>\n",
       "    <tr>\n",
       "      <th>113</th>\n",
       "      <td>CHIEF FORENSIC CHEMIST 2237 092818.txt</td>\n",
       "      <td>chief forensic chemist</td>\n",
       "      <td>106,362</td>\n",
       "      <td>80</td>\n",
       "      <td>$155,493</td>\n",
       "      <td>13</td>\n",
       "      <td>77</td>\n",
       "      <td>6419</td>\n",
       "      <td>2.0</td>\n",
       "      <td>1.0</td>\n",
       "      <td>...</td>\n",
       "      <td>4</td>\n",
       "      <td>1</td>\n",
       "      <td>1.0</td>\n",
       "      <td>0</td>\n",
       "      <td>2</td>\n",
       "      <td>strongly masculine-coded</td>\n",
       "      <td>0</td>\n",
=======
       "      <td>1</td>\n",
>>>>>>> 2ba2090da906b09b23b78591086b48fe94c60797
       "      <td>1</td>\n",
       "      <td>2</td>\n",
       "      <td>4</td>\n",
       "    </tr>\n",
       "    <tr>\n",
<<<<<<< HEAD
       "      <th>120</th>\n",
       "      <td>CHIEF OF OPERATIONS 7258 042018 REV 051318.txt</td>\n",
       "      <td>chief of operations</td>\n",
       "      <td>90,473</td>\n",
       "      <td>80</td>\n",
       "      <td>$132,274</td>\n",
       "      <td>20</td>\n",
       "      <td>103</td>\n",
       "      <td>14062</td>\n",
       "      <td>2.0</td>\n",
       "      <td>2.0</td>\n",
       "      <td>...</td>\n",
       "      <td>4</td>\n",
       "      <td>1</td>\n",
       "      <td>3.0</td>\n",
       "      <td>0</td>\n",
       "      <td>2</td>\n",
       "      <td>strongly masculine-coded</td>\n",
       "      <td>0</td>\n",
       "      <td>1</td>\n",
       "      <td>2</td>\n",
=======
       "      <th>102</th>\n",
       "      <td>CHIEF BUILDING OPERATING ENGINEER 5927 080516.txt</td>\n",
       "      <td>chief building operating engineer</td>\n",
       "      <td>119,997</td>\n",
       "      <td>80</td>\n",
       "      <td>None</td>\n",
       "      <td>13</td>\n",
       "      <td>79</td>\n",
       "      <td>9578</td>\n",
       "      <td>1.0</td>\n",
       "      <td>2.0</td>\n",
       "      <td>...</td>\n",
       "      <td>2.0</td>\n",
       "      <td>0</td>\n",
       "      <td>2</td>\n",
       "      <td>strongly feminine-coded</td>\n",
       "      <td>1</td>\n",
       "      <td>0</td>\n",
       "      <td>1</td>\n",
       "      <td>1</td>\n",
       "      <td>4</td>\n",
>>>>>>> 2ba2090da906b09b23b78591086b48fe94c60797
       "      <td>4</td>\n",
       "    </tr>\n",
       "    <tr>\n",
       "      <th>119</th>\n",
       "      <td>CHIEF OF DRAFTING OPERATIONS 7271  042018.txt</td>\n",
       "      <td>chief of drafting operations</td>\n",
       "      <td>135,302</td>\n",
       "      <td>80</td>\n",
       "      <td>$168,084</td>\n",
       "      <td>13</td>\n",
       "      <td>80</td>\n",
       "      <td>8166</td>\n",
       "      <td>1.0</td>\n",
       "      <td>2.0</td>\n",
       "      <td>...</td>\n",
<<<<<<< HEAD
       "      <td>4</td>\n",
       "      <td>0</td>\n",
=======
>>>>>>> 2ba2090da906b09b23b78591086b48fe94c60797
       "      <td>3.0</td>\n",
       "      <td>0</td>\n",
       "      <td>2</td>\n",
       "      <td>strongly feminine-coded</td>\n",
       "      <td>1</td>\n",
       "      <td>0</td>\n",
<<<<<<< HEAD
       "      <td>4</td>\n",
=======
       "      <td>1</td>\n",
       "      <td>1</td>\n",
       "      <td>4</td>\n",
       "      <td>4</td>\n",
       "    </tr>\n",
       "    <tr>\n",
       "      <th>113</th>\n",
       "      <td>CHIEF FORENSIC CHEMIST 2237 092818.txt</td>\n",
       "      <td>chief forensic chemist</td>\n",
       "      <td>106,362</td>\n",
       "      <td>80</td>\n",
       "      <td>$155,493</td>\n",
       "      <td>13</td>\n",
       "      <td>77</td>\n",
       "      <td>6419</td>\n",
       "      <td>2.0</td>\n",
       "      <td>1.0</td>\n",
       "      <td>...</td>\n",
       "      <td>1.0</td>\n",
       "      <td>0</td>\n",
       "      <td>2</td>\n",
       "      <td>strongly masculine-coded</td>\n",
       "      <td>0</td>\n",
       "      <td>1</td>\n",
       "      <td>1</td>\n",
       "      <td>0</td>\n",
       "      <td>2</td>\n",
>>>>>>> 2ba2090da906b09b23b78591086b48fe94c60797
       "      <td>4</td>\n",
       "    </tr>\n",
       "  </tbody>\n",
       "</table>\n",
       "<p>10 rows × 22 columns</p>\n",
       "</div>"
      ],
      "text/plain": [
       "                                             File Name  \\\n",
       "145  COMMUNICATIONS INFORMATION REPRESENTATIVE 1461...   \n",
       "617  TRANSPORTATION ENGINEERING ASSOCIATE 7280 0724...   \n",
       "163    CUSTOMER SERVICE REPRESENTATIVE 1230 020918.txt   \n",
       "195  ELECTRICAL ENGINEERING ASSOCIATE 7525 093016 R...   \n",
       "55   ASSISTANT DIRECTOR INFORMATION SYSTEMS 9377 03...   \n",
       "172  DIRECTOR OF AIRPORT OPERATIONS 9304 062317 (3)...   \n",
       "181  DIRECTOR OF PRINTING SERVICES 1488 101218 REV ...   \n",
<<<<<<< HEAD
       "113             CHIEF FORENSIC CHEMIST 2237 092818.txt   \n",
       "120     CHIEF OF OPERATIONS 7258 042018 REV 051318.txt   \n",
       "119      CHIEF OF DRAFTING OPERATIONS 7271  042018.txt   \n",
=======
       "102  CHIEF BUILDING OPERATING ENGINEER 5927 080516.txt   \n",
       "119      CHIEF OF DRAFTING OPERATIONS 7271  042018.txt   \n",
       "113             CHIEF FORENSIC CHEMIST 2237 092818.txt   \n",
>>>>>>> 2ba2090da906b09b23b78591086b48fe94c60797
       "\n",
       "                                              Position salary_start  score  \\\n",
       "145          communications information representative       41,697    108   \n",
       "617  transportation engineering associate                    68,549    108   \n",
       "163                    customer service representative       57,148    108   \n",
       "195                   electrical engineering associate       66,231    108   \n",
       "55              assistant director information systems      145,199    100   \n",
       "172                     director of airport operations      141,858    100   \n",
       "181                     director of printing services       117,596    100   \n",
<<<<<<< HEAD
       "113                             chief forensic chemist      106,362     80   \n",
       "120                                chief of operations       90,473     80   \n",
       "119                       chief of drafting operations      135,302     80   \n",
=======
       "102                 chief building operating engineer       119,997     80   \n",
       "119                       chief of drafting operations      135,302     80   \n",
       "113                             chief forensic chemist      106,362     80   \n",
>>>>>>> 2ba2090da906b09b23b78591086b48fe94c60797
       "\n",
       "    salary_end validity_duration nb_lines nb_chars  nb_requirements  \\\n",
       "145    $59,340                11      111    13006              3.0   \n",
       "617    $85,149                11       88    12544              2.0   \n",
       "163    $71,012                11       89     9186              1.0   \n",
       "195    $94,252                11       94    11977              3.0   \n",
       "55    $180,382                13       77     8157              1.0   \n",
       "172   $201,867                13       80     9286              3.0   \n",
       "181   $171,946                20       74     8078              2.0   \n",
<<<<<<< HEAD
       "113   $155,493                13       77     6419              2.0   \n",
       "120   $132,274                20      103    14062              2.0   \n",
       "119   $168,084                13       80     8166              1.0   \n",
       "\n",
       "     nb_selection_steps      ...       Resp_level  Open_To_All  exp_years  \\\n",
       "145                 2.0      ...                3            1        1.0   \n",
       "617                 1.0      ...                3            1        NaN   \n",
       "163                 2.0      ...                3            1        2.0   \n",
       "195                 1.0      ...                3            1        NaN   \n",
       "55                  2.0      ...                5            0        2.0   \n",
       "172                 1.0      ...                5            1        4.0   \n",
       "181                 1.0      ...                5            0        3.0   \n",
       "113                 1.0      ...                4            1        1.0   \n",
       "120                 2.0      ...                4            1        3.0   \n",
       "119                 2.0      ...                4            0        3.0   \n",
       "\n",
       "     high_education  full_time_part_time_code              GENDER_WORDS  \\\n",
       "145               0                         2   strongly feminine-coded   \n",
       "617               1                         0  strongly masculine-coded   \n",
       "163               0                         2   strongly feminine-coded   \n",
       "195               0                         0  strongly masculine-coded   \n",
       "55                0                         2   strongly feminine-coded   \n",
       "172               0                         2  strongly masculine-coded   \n",
       "181               0                         2  strongly masculine-coded   \n",
       "113               0                         2  strongly masculine-coded   \n",
       "120               0                         2  strongly masculine-coded   \n",
       "119               0                         2   strongly feminine-coded   \n",
       "\n",
       "     Too_Feminine Too_Masculine  gender_bias  gender_score  \n",
       "145             1             0            4             4  \n",
       "617             0             1            2             4  \n",
       "163             1             0            4             4  \n",
       "195             0             1            2             4  \n",
       "55              1             0            4             4  \n",
       "172             0             1            2             4  \n",
       "181             0             1            2             4  \n",
       "113             0             1            2             4  \n",
       "120             0             1            2             4  \n",
       "119             1             0            4             4  \n",
=======
       "102       None                13       79     9578              1.0   \n",
       "119   $168,084                13       80     8166              1.0   \n",
       "113   $155,493                13       77     6419              2.0   \n",
       "\n",
       "     nb_selection_steps      ...       exp_years  high_education  \\\n",
       "145                 2.0      ...             1.0               0   \n",
       "617                 1.0      ...             NaN               1   \n",
       "163                 2.0      ...             2.0               0   \n",
       "195                 1.0      ...             NaN               0   \n",
       "55                  2.0      ...             2.0               0   \n",
       "172                 1.0      ...             4.0               0   \n",
       "181                 1.0      ...             3.0               0   \n",
       "102                 2.0      ...             2.0               0   \n",
       "119                 2.0      ...             3.0               0   \n",
       "113                 1.0      ...             1.0               0   \n",
       "\n",
       "     full_time_part_time_code              GENDER_WORDS  Too_Feminine  \\\n",
       "145                         2   strongly feminine-coded             1   \n",
       "617                         0  strongly masculine-coded             0   \n",
       "163                         2   strongly feminine-coded             1   \n",
       "195                         0  strongly masculine-coded             0   \n",
       "55                          2   strongly feminine-coded             1   \n",
       "172                         2  strongly masculine-coded             0   \n",
       "181                         2  strongly masculine-coded             0   \n",
       "102                         2   strongly feminine-coded             1   \n",
       "119                         2   strongly feminine-coded             1   \n",
       "113                         2  strongly masculine-coded             0   \n",
       "\n",
       "    Too_Masculine  nb_line_scale  nb_char_scale  gender_bias  gender_score  \n",
       "145             0              3              4            4             4  \n",
       "617             1              2              3            2             4  \n",
       "163             0              2              1            4             4  \n",
       "195             1              2              3            2             4  \n",
       "55              0              1              1            4             4  \n",
       "172             1              1              1            2             4  \n",
       "181             1              1              1            2             4  \n",
       "102             0              1              1            4             4  \n",
       "119             0              1              1            4             4  \n",
       "113             1              1              0            2             4  \n",
>>>>>>> 2ba2090da906b09b23b78591086b48fe94c60797
       "\n",
       "[10 rows x 22 columns]"
      ]
     },
<<<<<<< HEAD
     "execution_count": 61,
=======
     "execution_count": 314,
>>>>>>> 2ba2090da906b09b23b78591086b48fe94c60797
     "metadata": {},
     "output_type": "execute_result"
    }
   ],
   "source": [
    "df_sorted = df_scored\n",
    "df_sorted.sort_values(by=['score'], inplace=True, ascending=False)\n",
    "df_sorted.head(10)"
   ]
  },
  {
   "cell_type": "markdown",
   "metadata": {},
   "source": [
<<<<<<< HEAD
    "#### 4.c Top 10 Suspicious bulletins scoring analysis\n",
    "\n",
    "In this top 10:\n",
    "> 40% are of the bulletins are strongly feminine coded\n",
    "> 60% are strongly masculine coded.\n",
    "> All of them are medium to high responibility positions which make sense, as our schme add more penalites to thos profiles.\n",
    "> The highest scores are given to 11-days validity duration bulletins open to all, which can be considered as too short to allow external candidates to apply\n",
    "\n",
    "\n",
    "Revolting habits: the score also unviels that the city is very traditionalist and tends to follow stereotypes likes \n",
    "> Jobs for women consists in secretary, communication or sales.\n",
    "> Jobs for men  consists in more technical jobs such as engineers.\n"
=======
    "#### 4.c Suspicious bulletins scoring review\n",
    "\n",
    "the score unviels that the city is very traditionalist and tend to follow stereotypes likes \n",
    "- jobs for women consists in secretary, communication or sales.\n",
    "- jobs for men  consists in more technical jobs such as engineers.\n"
>>>>>>> 2ba2090da906b09b23b78591086b48fe94c60797
   ]
  },
  {
   "cell_type": "markdown",
   "metadata": {},
   "source": [
    "# 5. Modeling\n",
    "\n",
    "We managed to get a dataset with the number of applicants to each position and their characteristics (gender and race). Let's check our work on the gender scoring."
   ]
  },
  {
   "cell_type": "code",
   "execution_count": null,
   "metadata": {},
   "outputs": [],
   "source": []
  }
 ],
 "metadata": {
  "kernelspec": {
   "display_name": "Python 3",
   "language": "python",
   "name": "python3"
  },
  "language_info": {
   "codemirror_mode": {
    "name": "ipython",
    "version": 3
   },
   "file_extension": ".py",
   "mimetype": "text/x-python",
   "name": "python",
   "nbconvert_exporter": "python",
   "pygments_lexer": "ipython3",
   "version": "3.7.3"
  }
 },
 "nbformat": 4,
 "nbformat_minor": 2
}
