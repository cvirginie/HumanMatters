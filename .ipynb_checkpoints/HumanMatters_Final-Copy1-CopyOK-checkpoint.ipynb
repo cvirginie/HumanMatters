{
 "cells": [
  {
   "cell_type": "markdown",
   "metadata": {},
   "source": [
    "# Data Science for Good - Jobs in LA\n",
    "\n",
    "### Goal\n",
    "In 2020, 1/3 of the 50000 employees of the City of Los Angeles will retire. The goal of this project is to uncover biases in job postings provided by the city of L.A to help optimize recruitment and decrease unconscious discriminations.\n",
    "\n",
    "### Entry Data\n",
    "The entry data is composed of a set of 683 job postings as text files. Each file is composed of a title, the job descrription, the requirements, the selection methods, the deadline to apply and other parts that we are going to explore.\n",
    "\n",
    "### Action plan\n",
    "We'll be performing the following actions :\n",
    "1. Exploratory Data Analysis\n",
    "2. Uncover gender bias\n",
    "> Requirements length : studies show the length of requirements can discourage women from applying\n",
    "\n",
    "3. Explore other biases by correlation analysis\n",
    "> Number of steps in the recruiting process\n",
    "> Deadline for applying : is it too short ? Do the candidates have time to get aware of the job and prepare to apply ?\n",
    "\n",
    "4. Listing suspicious Job postings\n",
    "\n",
    "5. Text analysis\n",
    "> Word cloud \n",
    "> Named Entity Recognition"
   ]
  },
  {
   "cell_type": "markdown",
   "metadata": {},
   "source": [
    "### 1. Exploratory Data Analysis"
   ]
  },
  {
   "cell_type": "code",
   "execution_count": 2,
   "metadata": {},
   "outputs": [
    {
     "name": "stderr",
     "output_type": "stream",
     "text": [
      "[nltk_data] Downloading package stopwords to\n",
      "[nltk_data]     C:\\Users\\Virginie\\AppData\\Roaming\\nltk_data...\n",
      "[nltk_data]   Package stopwords is already up-to-date!\n",
      "[nltk_data] Downloading package punkt to\n",
      "[nltk_data]     C:\\Users\\Virginie\\AppData\\Roaming\\nltk_data...\n",
      "[nltk_data]   Package punkt is already up-to-date!\n"
     ]
    }
   ],
   "source": [
    "# Imports\n",
    "import os \n",
    "import re\n",
    "import numpy as np\n",
    "import pandas as pd\n",
    "import seaborn as sns\n",
    "import matplotlib.pyplot as plt\n",
    "\n",
    "from datetime import datetime\n",
    "\n",
    "# for gender biases\n",
    "#import genderdecoder\n",
    "import assess\n",
    "\n",
    "# for text analysis\n",
    "import nltk\n",
    "import pickle\n",
    "import collections\n",
    "from nltk.corpus import wordnet as wn\n",
    "from nltk import word_tokenize, pos_tag\n",
    "from collections import defaultdict, Counter\n",
    "from nltk.corpus import stopwords\n",
    "\n",
    "nltk.download('stopwords')\n",
    "nltk.download('punkt')\n",
    "stop_words = set(stopwords.words('english'))"
   ]
  },
  {
   "cell_type": "code",
   "execution_count": 3,
   "metadata": {},
   "outputs": [],
   "source": [
    "# variable definition\n",
    "path_bulletins = r\".\\data-science-for-good-city-of-los-angeles\\CityofLA\\Job Bulletins\"\n",
    "bulletins=os.listdir(path_bulletins)"
   ]
  },
  {
   "cell_type": "code",
   "execution_count": 4,
   "metadata": {},
   "outputs": [],
   "source": [
    "def days_between(d1, d2):\n",
    "# computes the duration in days between d2 and d1   \n",
    "    try:\n",
    "        d1 = datetime.strptime(d1.strftime(\"%Y-%m-%d\"), \"%Y-%m-%d\")\n",
    "        d2 = datetime.strptime(d2.strftime(\"%Y-%m-%d\"), \"%Y-%m-%d\")\n",
    "        return abs((d2 - d1).days)\n",
    "    except:\n",
    "        return np.nan\n",
    "\n",
    "\n",
    "def to_dataframe(num, df, locationdir):\n",
    "# Reads all the files located in locationdir and retreives all interesting field as well as coputing interesting stats.\n",
    "    \"\"\"\"function to extract features from job bulletin text files and convert to\n",
    "    pandas dataframe.\n",
    "    Arguments :\n",
    "    1.the number of files to be read\n",
    "    2.dataframe object                                      \n",
    "    3.directory in which the files are located                        \n",
    "    \"\"\"\n",
    "    opendate=re.compile(r'(Open [D,d]ate:)(\\s+)(\\d\\d-\\d\\d-\\d\\d)')       #match open date\n",
    "    \n",
    "    salary=re.compile(r'\\$(\\d+,\\d+)((\\s(to|and)\\s)(\\$\\d+,\\d+))?')       #match salary\n",
    "    \n",
    "    requirements=re.compile(r'(REQUIREMENTS?/\\s?MINIMUM QUALIFICATIONS?)(.*)(PROCESS NOTE)')      #match requirements\n",
    "    \n",
    "    for no in range(0,num):\n",
    "        nblines = 0\n",
    "        nbchars = 0\n",
    "        with open(locationdir+\"/\" +bulletins[no],encoding=\"ISO-8859-1\") as f:         #reading files \n",
    "                try:\n",
    "                    file=f.read().replace('\\t','')\n",
    "                    nblines = file.count('\\n')\n",
    "                    raw_text=file.replace('\\n',' ')\n",
    "                    data=file.replace('\\n','')\n",
    "                    nbchars = len(data)\n",
    "                    # print(data)\n",
    "                    headings=[heading for heading in file.split('\\n') if heading.isupper()]             ##getting heading from job bulletin\n",
    "\n",
    "                    \n",
    "                    try:\n",
    "                        sal=re.search(salary,data)\n",
    "                    except:\n",
    "                        sal=np.nan\n",
    "                        #print(bulletins[no])\n",
    "                        #print(\"no matching salary\")\n",
    "                    \n",
    "                    try:\n",
    "                        odate=datetime.strptime(re.search(opendate,data).group(3),'%m-%d-%y')\n",
    "                    except:\n",
    "                        date=np.nan\n",
    "                        #print(bulletins[no])\n",
    "                        #print(\"no matching opendate\")\n",
    "                        \n",
    "                    try:\n",
    "                        req=re.search(requirements,data).group(2)\n",
    "                    except Exception as e:\n",
    "                        try:\n",
    "                            req=re.search('(.*)NOTES?',re.findall(r'(REQUIREMENTS?)(.*)(NOTES?)',\n",
    "                                                              data)[0][1][:1200]).group(1)\n",
    "                        except:\n",
    "                            date=np.nan\n",
    "                            #print(bulletins[no])\n",
    "                            #print(\"no matching requirements\")\n",
    "                    \n",
    "                    duties=re.search(r'(DUTIES)(.*)(REQ[A-Z])',data).group(2)\n",
    "                    \n",
    "                        \n",
    "                    try:\n",
    "                        enddate=re.search(\n",
    "                                r'(JANUARY|FEBRUARY|MARCH|APRIL|MAY|JUNE|JULY|AUGUST|SEPTEMBER|OCTOBER|NOVEMBER|DECEMBER)\\s(\\d{1,2},\\s\\d{4})'\n",
    "                                ,data).group()\n",
    "                    except Exception as e:\n",
    "                        enddate=np.nan\n",
    "                        #print(bulletins[no])\n",
    "                        #print(\"no matching enddate\")\n",
    "                    \n",
    "                    try:\n",
    "                        selection= [z[0] for z in re.findall('([A-Z][a-z]+)((\\s\\.\\s)+)',data)]     ##match selection criteria\n",
    "                    except:\n",
    "                        selection=np.nan\n",
    "                        #print(bulletins[no])\n",
    "                        #print(\"no matching selection\")\n",
    "                        \n",
    "                        \n",
    "                    \n",
    "                    try:\n",
    "                        # Retreiving deadline application in appropriate date format\n",
    "                        edate = datetime.strptime(enddate.replace(',',''),\"%B %d %Y\")\n",
    "                    except:\n",
    "                        edate = np.nan\n",
    "                        #print(bulletins[no])\n",
    "                        #print('error retrieving edate')\n",
    "                        #print(\"enddate\")\n",
    "                        #print(enddate)\n",
    "                    \n",
    "                    \n",
    "                    validity_duration = days_between(odate, edate)\n",
    "                    \n",
    "                    try:\n",
    "                        validity_duration = days_between(odate, edate)\n",
    "                    except:\n",
    "                        validity_duration = np.nan\n",
    "                        #print(bulletins[no])\n",
    "                        #print('error retrieving validity_duration')\n",
    "                    \n",
    "                    #compute number of requirements that may dissuade potential candidates \n",
    "                    if '10. ' in req:\n",
    "                        nb_requirements = 10\n",
    "                    elif '9. ' in req:\n",
    "                        nb_requirements = 9\n",
    "                    elif '8. ' in req:\n",
    "                        nb_requirements = 8\n",
    "                    elif '7. ' in req:\n",
    "                        nb_requirements = 7\n",
    "                    elif '6. ' in req:\n",
    "                        nb_requirements = 6\n",
    "                    elif '5. ' in req:\n",
    "                        nb_requirements = 5\n",
    "                    elif '4. ' in req:\n",
    "                        nb_requirements = 4\n",
    "                    elif '3. ' in req:\n",
    "                        nb_requirements = 3\n",
    "                    elif '2. ' in req:\n",
    "                        nb_requirements = 2\n",
    "                    else:\n",
    "                        nb_requirements = 1\n",
    "                    \n",
    "                    #compute number of selection steps that may dissuade potential candidates\n",
    "                    nb_selection_steps = len(selection)\n",
    "                    \n",
    "                    #encode if there is a writing test, an essay or additional selection steps\n",
    "                    if 'Test' in selection:\n",
    "                        select_wtest = 1\n",
    "                    else:\n",
    "                        select_wtest = 0\n",
    "                        \n",
    "                    if 'Essay' in selection: \n",
    "                        select_essay = 1\n",
    "                    else:\n",
    "                        select_essay = 0    \n",
    "                        \n",
    "                    if 'Interview' in selection:\n",
    "                        select_interv = 1\n",
    "                    else:\n",
    "                        select_interv = 0    \n",
    "                    \n",
    "                    df=df.append({'File Name':bulletins[no],'Position':headings[0].lower(),'salary_start':sal.group(1),\n",
    "                               'salary_end':sal.group(5),\"opendate\":odate,\"requirements\":req,'duties':duties,\n",
    "                                'deadline':enddate,'deadline_date':edate, 'validity_duration':validity_duration,'selection':selection,\n",
    "                                'nb_lines':nblines, 'nb_chars':nbchars, 'nb_requirements':nb_requirements, 'nb_selection_steps':nb_selection_steps,\n",
    "                                'WTest':select_wtest, 'Essay':select_essay, 'Interview':select_interv, 'raw_job_text':raw_text },ignore_index=True)\n",
    "                    \n",
    "                    \n",
    "                    reg=re.compile(r'(One|Two|Three|Four|Five|Six|Seven|Eight|Nine|Ten|one|two|three|four)\\s(years?)\\s(of\\sfull(-|\\s)time)')\n",
    "                    df['EXPERIENCE_LENGTH']=df['requirements'].apply(lambda x :  re.search(reg,x).group(1) if re.search(reg,x) is not None  else np.nan)\n",
    "                    df['FULL_TIME_PART_TIME']=df['EXPERIENCE_LENGTH'].apply(lambda x:  'FULL_TIME' if x is not np.nan else np.nan )\n",
    "                    \n",
    "                    reg=re.compile(r'(One|Two|Three|Four|Five|Six|Seven|Eight|Nine|Ten|one|two|three|four)(\\s|-)(years?)\\s(college)')\n",
    "                    df['EDUCATION_YEARS']=df['requirements'].apply(lambda x :  re.search(reg,x).group(1) if re.search(reg,x) is not None  else np.nan)\n",
    "                    df['SCHOOL_TYPE']=df['EDUCATION_YEARS'].apply(lambda x : 'College or University' if x is not np.nan else np.nan)\n",
    "                    \n",
    "                   \n",
    "                    \n",
    "                except Exception as e:\n",
    "                    print(e)\n",
    "                    print('umatched sequence')\n",
    "             \n",
    "    return df"
   ]
  },
  {
   "cell_type": "markdown",
   "metadata": {},
   "source": [
    "#### 1.a Gather all job postings into one dataframe to manipulate the data"
   ]
  },
  {
   "cell_type": "code",
   "execution_count": 5,
   "metadata": {},
   "outputs": [
    {
     "name": "stdout",
     "output_type": "stream",
     "text": [
      "'NoneType' object has no attribute 'group'\n",
      "umatched sequence\n",
      "'NoneType' object has no attribute 'group'\n",
      "umatched sequence\n",
      "'NoneType' object has no attribute 'group'\n",
      "umatched sequence\n",
      "'NoneType' object has no attribute 'group'\n",
      "umatched sequence\n",
      "'NoneType' object has no attribute 'group'\n",
      "umatched sequence\n",
      "'NoneType' object has no attribute 'group'\n",
      "umatched sequence\n",
      "'NoneType' object has no attribute 'group'\n",
      "umatched sequence\n",
      "'NoneType' object has no attribute 'group'\n",
      "umatched sequence\n"
     ]
    }
   ],
   "source": [
    "df = pd.DataFrame(columns=['File Name','Position','salary_start','salary_end','opendate','requirements','duties','deadline', 'deadline_date','validity_duration', 'selection', 'nb_lines','nb_chars'])\n",
    "df = to_dataframe(len(bulletins),df, path_bulletins)"
   ]
  },
  {
   "cell_type": "markdown",
   "metadata": {},
   "source": [
    "Some attributes were not parsed but not too much apparently. Let's go further."
   ]
  },
  {
   "cell_type": "markdown",
   "metadata": {},
   "source": [
    "#### 1.b Descriptive statistics"
   ]
  },
  {
   "cell_type": "code",
   "execution_count": 6,
   "metadata": {},
   "outputs": [
    {
     "name": "stdout",
     "output_type": "stream",
     "text": [
      "<class 'pandas.core.frame.DataFrame'>\n",
      "RangeIndex: 675 entries, 0 to 674\n",
      "Data columns (total 23 columns):\n",
      "File Name              675 non-null object\n",
      "Position               675 non-null object\n",
      "salary_start           675 non-null object\n",
      "salary_end             575 non-null object\n",
      "opendate               675 non-null datetime64[ns]\n",
      "requirements           675 non-null object\n",
      "duties                 675 non-null object\n",
      "deadline               625 non-null object\n",
      "deadline_date          625 non-null datetime64[ns]\n",
      "validity_duration      625 non-null object\n",
      "selection              675 non-null object\n",
      "nb_lines               675 non-null object\n",
      "nb_chars               675 non-null object\n",
      "Essay                  675 non-null float64\n",
      "Interview              675 non-null float64\n",
      "WTest                  675 non-null float64\n",
      "nb_requirements        675 non-null float64\n",
      "nb_selection_steps     675 non-null float64\n",
      "raw_job_text           675 non-null object\n",
      "EXPERIENCE_LENGTH      576 non-null object\n",
      "FULL_TIME_PART_TIME    576 non-null object\n",
      "EDUCATION_YEARS        122 non-null object\n",
      "SCHOOL_TYPE            122 non-null object\n",
      "dtypes: datetime64[ns](2), float64(5), object(16)\n",
      "memory usage: 121.4+ KB\n"
     ]
    }
   ],
   "source": [
    "df.info()"
   ]
  },
  {
   "cell_type": "markdown",
   "metadata": {},
   "source": [
    "* On the 683 files we've been processing, 675 are now in our dataframe, so only a few presented a problem during parsing. We have most of them though (98%) so we can move on.\n",
    "* We can notice we don't have all values for the following fields : \n",
    "- salary_end\n",
    "- deadline\n",
    "- validity_duration\n",
    "- EXPERIENCE_LENGTH\n",
    "- FULL_TIME_PART_TIME\n",
    "- EDUCATION_YEARS\n",
    "- SCHOOL_TYPE\n",
    "\n",
    "The two last fields especially are not often filled.\n",
    "\n",
    "Let's look at how it looks in the dataframe : "
   ]
  },
  {
   "cell_type": "code",
   "execution_count": 7,
   "metadata": {},
   "outputs": [
    {
     "data": {
      "text/html": [
       "<div>\n",
       "<style scoped>\n",
       "    .dataframe tbody tr th:only-of-type {\n",
       "        vertical-align: middle;\n",
       "    }\n",
       "\n",
       "    .dataframe tbody tr th {\n",
       "        vertical-align: top;\n",
       "    }\n",
       "\n",
       "    .dataframe thead th {\n",
       "        text-align: right;\n",
       "    }\n",
       "</style>\n",
       "<table border=\"1\" class=\"dataframe\">\n",
       "  <thead>\n",
       "    <tr style=\"text-align: right;\">\n",
       "      <th></th>\n",
       "      <th>File Name</th>\n",
       "      <th>Position</th>\n",
       "      <th>salary_start</th>\n",
       "      <th>salary_end</th>\n",
       "      <th>opendate</th>\n",
       "      <th>requirements</th>\n",
       "      <th>duties</th>\n",
       "      <th>deadline</th>\n",
       "      <th>deadline_date</th>\n",
       "      <th>validity_duration</th>\n",
       "      <th>...</th>\n",
       "      <th>Essay</th>\n",
       "      <th>Interview</th>\n",
       "      <th>WTest</th>\n",
       "      <th>nb_requirements</th>\n",
       "      <th>nb_selection_steps</th>\n",
       "      <th>raw_job_text</th>\n",
       "      <th>EXPERIENCE_LENGTH</th>\n",
       "      <th>FULL_TIME_PART_TIME</th>\n",
       "      <th>EDUCATION_YEARS</th>\n",
       "      <th>SCHOOL_TYPE</th>\n",
       "    </tr>\n",
       "  </thead>\n",
       "  <tbody>\n",
       "    <tr>\n",
       "      <th>0</th>\n",
       "      <td>311 DIRECTOR  9206 041814.txt</td>\n",
       "      <td>311 director</td>\n",
       "      <td>125,175</td>\n",
       "      <td>$155,514</td>\n",
       "      <td>2014-04-18</td>\n",
       "      <td>1. One year of full-time paid experience as a ...</td>\n",
       "      <td>A 311 Director is responsible for the successf...</td>\n",
       "      <td>MAY 1, 2014</td>\n",
       "      <td>2014-05-01</td>\n",
       "      <td>13</td>\n",
       "      <td>...</td>\n",
       "      <td>0.0</td>\n",
       "      <td>1.0</td>\n",
       "      <td>0.0</td>\n",
       "      <td>3.0</td>\n",
       "      <td>1.0</td>\n",
       "      <td>311 DIRECTOR Class Code:       9206 Open Date:...</td>\n",
       "      <td>One</td>\n",
       "      <td>FULL_TIME</td>\n",
       "      <td>NaN</td>\n",
       "      <td>NaN</td>\n",
       "    </tr>\n",
       "    <tr>\n",
       "      <th>1</th>\n",
       "      <td>ACCOUNTANT 1513 062218.txt</td>\n",
       "      <td>accountant</td>\n",
       "      <td>49,903</td>\n",
       "      <td>$72,996</td>\n",
       "      <td>2018-06-22</td>\n",
       "      <td>Graduation from an accredited four-year colleg...</td>\n",
       "      <td>An Accountant does professional accounting wor...</td>\n",
       "      <td>AUGUST 25, 2018</td>\n",
       "      <td>2018-08-25</td>\n",
       "      <td>64</td>\n",
       "      <td>...</td>\n",
       "      <td>0.0</td>\n",
       "      <td>1.0</td>\n",
       "      <td>1.0</td>\n",
       "      <td>1.0</td>\n",
       "      <td>2.0</td>\n",
       "      <td>ACCOUNTANT  Class Code:       1513 Open Date: ...</td>\n",
       "      <td>NaN</td>\n",
       "      <td>NaN</td>\n",
       "      <td>four</td>\n",
       "      <td>College or University</td>\n",
       "    </tr>\n",
       "    <tr>\n",
       "      <th>2</th>\n",
       "      <td>ACCOUNTING CLERK 1223 071318.txt</td>\n",
       "      <td>accounting clerk</td>\n",
       "      <td>49,005</td>\n",
       "      <td>$71,618</td>\n",
       "      <td>2018-07-13</td>\n",
       "      <td>Two years of full-time paid office clerical ex...</td>\n",
       "      <td>An Accounting Clerk performs difficult and res...</td>\n",
       "      <td>NaN</td>\n",
       "      <td>NaT</td>\n",
       "      <td>NaN</td>\n",
       "      <td>...</td>\n",
       "      <td>0.0</td>\n",
       "      <td>0.0</td>\n",
       "      <td>1.0</td>\n",
       "      <td>1.0</td>\n",
       "      <td>1.0</td>\n",
       "      <td>ACCOUNTING CLERK  Class Code:       1223 Open ...</td>\n",
       "      <td>Two</td>\n",
       "      <td>FULL_TIME</td>\n",
       "      <td>NaN</td>\n",
       "      <td>NaN</td>\n",
       "    </tr>\n",
       "    <tr>\n",
       "      <th>3</th>\n",
       "      <td>ACCOUNTING RECORDS SUPERVISOR 1119 072718.txt</td>\n",
       "      <td>accounting records supervisor</td>\n",
       "      <td>55,332</td>\n",
       "      <td>$80,930</td>\n",
       "      <td>2018-07-27</td>\n",
       "      <td>Two years of full-time paid experience as an A...</td>\n",
       "      <td>An Accounting Records Supervisor assigns, revi...</td>\n",
       "      <td>AUGUST 9, 2018</td>\n",
       "      <td>2018-08-09</td>\n",
       "      <td>13</td>\n",
       "      <td>...</td>\n",
       "      <td>0.0</td>\n",
       "      <td>1.0</td>\n",
       "      <td>1.0</td>\n",
       "      <td>1.0</td>\n",
       "      <td>2.0</td>\n",
       "      <td>ACCOUNTING RECORDS SUPERVISOR  Class Code:    ...</td>\n",
       "      <td>Two</td>\n",
       "      <td>FULL_TIME</td>\n",
       "      <td>NaN</td>\n",
       "      <td>NaN</td>\n",
       "    </tr>\n",
       "    <tr>\n",
       "      <th>4</th>\n",
       "      <td>ADMINISTRATIVE ANALYST 1590 060118.txt</td>\n",
       "      <td>administrative analyst</td>\n",
       "      <td>60,489</td>\n",
       "      <td>$88,468</td>\n",
       "      <td>2018-06-01</td>\n",
       "      <td>1. One year of full-time paid professional exp...</td>\n",
       "      <td>An Administrative Analyst performs professiona...</td>\n",
       "      <td>JUNE 14, 2018</td>\n",
       "      <td>2018-06-14</td>\n",
       "      <td>13</td>\n",
       "      <td>...</td>\n",
       "      <td>1.0</td>\n",
       "      <td>1.0</td>\n",
       "      <td>1.0</td>\n",
       "      <td>3.0</td>\n",
       "      <td>3.0</td>\n",
       "      <td>ADMINISTRATIVE ANALYST  Class Code:       1590...</td>\n",
       "      <td>One</td>\n",
       "      <td>FULL_TIME</td>\n",
       "      <td>four</td>\n",
       "      <td>College or University</td>\n",
       "    </tr>\n",
       "  </tbody>\n",
       "</table>\n",
       "<p>5 rows × 23 columns</p>\n",
       "</div>"
      ],
      "text/plain": [
       "                                       File Name  \\\n",
       "0                  311 DIRECTOR  9206 041814.txt   \n",
       "1                     ACCOUNTANT 1513 062218.txt   \n",
       "2               ACCOUNTING CLERK 1223 071318.txt   \n",
       "3  ACCOUNTING RECORDS SUPERVISOR 1119 072718.txt   \n",
       "4         ADMINISTRATIVE ANALYST 1590 060118.txt   \n",
       "\n",
       "                        Position salary_start salary_end   opendate  \\\n",
       "0                   311 director      125,175   $155,514 2014-04-18   \n",
       "1                     accountant       49,903    $72,996 2018-06-22   \n",
       "2               accounting clerk       49,005    $71,618 2018-07-13   \n",
       "3  accounting records supervisor       55,332    $80,930 2018-07-27   \n",
       "4         administrative analyst       60,489    $88,468 2018-06-01   \n",
       "\n",
       "                                        requirements  \\\n",
       "0  1. One year of full-time paid experience as a ...   \n",
       "1  Graduation from an accredited four-year colleg...   \n",
       "2  Two years of full-time paid office clerical ex...   \n",
       "3  Two years of full-time paid experience as an A...   \n",
       "4  1. One year of full-time paid professional exp...   \n",
       "\n",
       "                                              duties         deadline  \\\n",
       "0  A 311 Director is responsible for the successf...      MAY 1, 2014   \n",
       "1  An Accountant does professional accounting wor...  AUGUST 25, 2018   \n",
       "2  An Accounting Clerk performs difficult and res...              NaN   \n",
       "3  An Accounting Records Supervisor assigns, revi...   AUGUST 9, 2018   \n",
       "4  An Administrative Analyst performs professiona...    JUNE 14, 2018   \n",
       "\n",
       "  deadline_date validity_duration  ... Essay Interview WTest  nb_requirements  \\\n",
       "0    2014-05-01                13  ...   0.0       1.0   0.0              3.0   \n",
       "1    2018-08-25                64  ...   0.0       1.0   1.0              1.0   \n",
       "2           NaT               NaN  ...   0.0       0.0   1.0              1.0   \n",
       "3    2018-08-09                13  ...   0.0       1.0   1.0              1.0   \n",
       "4    2018-06-14                13  ...   1.0       1.0   1.0              3.0   \n",
       "\n",
       "   nb_selection_steps                                       raw_job_text  \\\n",
       "0                 1.0  311 DIRECTOR Class Code:       9206 Open Date:...   \n",
       "1                 2.0  ACCOUNTANT  Class Code:       1513 Open Date: ...   \n",
       "2                 1.0  ACCOUNTING CLERK  Class Code:       1223 Open ...   \n",
       "3                 2.0  ACCOUNTING RECORDS SUPERVISOR  Class Code:    ...   \n",
       "4                 3.0  ADMINISTRATIVE ANALYST  Class Code:       1590...   \n",
       "\n",
       "   EXPERIENCE_LENGTH  FULL_TIME_PART_TIME EDUCATION_YEARS  \\\n",
       "0                One            FULL_TIME             NaN   \n",
       "1                NaN                  NaN            four   \n",
       "2                Two            FULL_TIME             NaN   \n",
       "3                Two            FULL_TIME             NaN   \n",
       "4                One            FULL_TIME            four   \n",
       "\n",
       "             SCHOOL_TYPE  \n",
       "0                    NaN  \n",
       "1  College or University  \n",
       "2                    NaN  \n",
       "3                    NaN  \n",
       "4  College or University  \n",
       "\n",
       "[5 rows x 23 columns]"
      ]
     },
     "execution_count": 7,
     "metadata": {},
     "output_type": "execute_result"
    }
   ],
   "source": [
    "df.head()"
   ]
  },
  {
   "cell_type": "markdown",
   "metadata": {},
   "source": [
    "#### 1.b.1 Opendate's distribution - Job postings by year\n",
    "\n",
    "Opendate is the field indicating the date the job was posted."
   ]
  },
  {
   "cell_type": "code",
   "execution_count": 8,
   "metadata": {
    "scrolled": true
   },
   "outputs": [
    {
     "data": {
      "image/png": "[encoded data removed]",
      "text/plain": [
       "<Figure size 576x360 with 1 Axes>"
      ]
     },
     "metadata": {
      "needs_background": "light"
     },
     "output_type": "display_data"
    }
   ],
   "source": [
    "count_days = pd.DataFrame(df[\"opendate\"].value_counts())\n",
    "count_days.reset_index(inplace=True)\n",
    "count_days.rename(columns={'index':'opendate', 'opendate':'count'}, inplace=True)\n",
    "count_days['opendate'] = pd.to_datetime(count_days['opendate'])\n",
    "\n",
    "# Distribution by year\n",
    "count_days['year'] = count_days.opendate.dt.year\n",
    "count_days['month'] = count_days.opendate.dt.month\n",
    "count_days['weekday'] = count_days.opendate.dt.weekday_name\n",
    "count_days['yearmonth'] = count_days.opendate.map(lambda x: 100*x.year + x.month)\n",
    "\n",
    "#count_days[\"year\"].value_counts().plot(kind='bar')\n",
    "df_offers_by_year = pd.DataFrame(count_days['year'].value_counts())\n",
    "sns.barplot(x=df_offers_by_year.index, y=df_offers_by_year.year, data=df_offers_by_year)\n",
    "fig=plt.gcf()\n",
    "fig.set_size_inches(8,5)\n",
    "plt.show()"
   ]
  },
  {
   "cell_type": "markdown",
   "metadata": {},
   "source": [
    "- Before 2014, very few employment opportunities were offered to the citizen. As we approach 2020, we can see that the number of bulletins is increasing, there's even already job postings for 2020. There is a strong issue in managing the turnover since 2014. The number of job opportunities offred has almost doubled between 2014 and 2016, and then the number of published bulletins remain high.\n",
    "- This makes our job even more challenging !"
   ]
  },
  {
   "cell_type": "markdown",
   "metadata": {},
   "source": [
    "#### 1.b.2 Job postings by month over the years"
   ]
  },
  {
   "cell_type": "code",
   "execution_count": 42,
   "metadata": {
    "scrolled": true
   },
   "outputs": [
    {
     "data": {
      "image/png": "[encoded data removed]",
      "text/plain": [
       "<Figure size 432x288 with 1 Axes>"
      ]
     },
     "metadata": {
      "needs_background": "light"
     },
     "output_type": "display_data"
    }
   ],
   "source": [
    "# Distribution by months\n",
    "df_offers_by_month = pd.DataFrame(count_days['month'].value_counts())\n",
    "ax = sns.barplot(x=df_offers_by_month.index, y=df_offers_by_month.month, data=df_offers_by_month)"
   ]
  },
  {
   "cell_type": "markdown",
   "metadata": {},
   "source": [
    "- The job openings seem about the same over the years throughout the months. January and November seem the months when there are less job opennings; October on the other hand seems to be the month when most of job opennings occur.\n",
    "- January and Novemeber are the months with less postings.\n",
    "- October concentrates more postings than other months, maybe this can be explained by the fact that it is a \"back to business\" period, the city assesses what is needed in september after school holidays and posts in October.\n",
    "- ______ Budget decisions may be taken in November as well which leads to concentrate lots of postings in October. ____"
   ]
  },
  {
   "cell_type": "markdown",
   "metadata": {},
   "source": [
    "#### 1.b.3 Job postings by weekdays over the years\n",
    "\n",
    "When are the job posted during the week ?"
   ]
  },
  {
   "cell_type": "code",
   "execution_count": 43,
   "metadata": {},
   "outputs": [
    {
     "data": {
      "text/plain": [
       "<matplotlib.axes._subplots.AxesSubplot at 0x165109fd6d8>"
      ]
     },
     "execution_count": 43,
     "metadata": {},
     "output_type": "execute_result"
    },
    {
     "data": {
      "image/png": "[encoded data removed]",
      "text/plain": [
       "<Figure size 432x288 with 1 Axes>"
      ]
     },
     "metadata": {
      "needs_background": "light"
     },
     "output_type": "display_data"
    }
   ],
   "source": [
    "count_days[\"weekday\"].value_counts().plot(kind='bar')"
   ]
  },
  {
   "cell_type": "markdown",
   "metadata": {},
   "source": [
    "Apparently, almost every job openning is posted on a friday! Why is that, is it the best option ? It leaves candidates time to review them on weekends ?"
   ]
  },
  {
   "cell_type": "markdown",
   "metadata": {},
   "source": [
    "#### 1.b.4 Number of requirements specified"
   ]
  },
  {
   "cell_type": "code",
   "execution_count": 44,
   "metadata": {},
   "outputs": [
    {
     "data": {
      "text/plain": [
       "count    675.000000\n",
       "mean       1.924444\n",
       "std        1.080682\n",
       "min        1.000000\n",
       "25%        1.000000\n",
       "50%        2.000000\n",
       "75%        2.000000\n",
       "max        9.000000\n",
       "Name: nb_requirements, dtype: float64"
      ]
     },
     "execution_count": 44,
     "metadata": {},
     "output_type": "execute_result"
    }
   ],
   "source": [
    "df['nb_requirements'].describe()"
   ]
  },
  {
   "cell_type": "code",
   "execution_count": 45,
   "metadata": {},
   "outputs": [
    {
     "data": {
      "text/plain": [
       "<matplotlib.axes._subplots.AxesSubplot at 0x16510c8cc18>"
      ]
     },
     "execution_count": 45,
     "metadata": {},
     "output_type": "execute_result"
    },
    {
     "data": {
      "image/png": "[encoded data removed]",
      "text/plain": [
       "<Figure size 432x288 with 1 Axes>"
      ]
     },
     "metadata": {
      "needs_background": "light"
     },
     "output_type": "display_data"
    }
   ],
   "source": [
    "df['nb_requirements'].value_counts().plot(kind='bar')"
   ]
  },
  {
   "cell_type": "markdown",
   "metadata": {},
   "source": [
    "The number of requirements can have a big impact and the more is indicated, the more female candidate can be discouraged, it may represent an unconscious bias. This parameter is to be looked up, because when confronted to a lot of requirements, A candidate can feel uncomfortable.\n",
    "The number of requirements should be moderate to allow more candidates to apply.\n",
    "\n",
    "##### Here:\n",
    "- The large majority of the bulletins indicate less that 4 requirements.\n",
    "- However there are few bulletins that include more than 4 requirements and up to 9 !\n",
    "\n",
    "##### What we can infer :\n",
    "- Including more than 3 requirements can add to much complexity in the reading of the job posting and can be due to the intend of having a dedicated candidate, which may constitute a bias.\n"
   ]
  },
  {
   "cell_type": "markdown",
   "metadata": {},
   "source": [
    "#### 1.b.5 Number of steps to go through during the recruting process\n",
    "\n",
    "Let's check the different steps, what are they, how many are required and in which proportion"
   ]
  },
  {
   "cell_type": "code",
   "execution_count": 59,
   "metadata": {},
   "outputs": [
    {
     "ename": "TypeError",
     "evalue": "unhashable type: 'list'",
     "output_type": "error",
     "traceback": [
      "\u001b[1;31m---------------------------------------------------------------------------\u001b[0m",
      "\u001b[1;31mTypeError\u001b[0m                                 Traceback (most recent call last)",
      "\u001b[1;32m<ipython-input-59-87a3993fbe82>\u001b[0m in \u001b[0;36m<module>\u001b[1;34m\u001b[0m\n\u001b[1;32m----> 1\u001b[1;33m \u001b[0mdf\u001b[0m\u001b[1;33m[\u001b[0m\u001b[1;34m'selection'\u001b[0m\u001b[1;33m]\u001b[0m\u001b[1;33m.\u001b[0m\u001b[0mvalue_counts\u001b[0m\u001b[1;33m(\u001b[0m\u001b[1;33m)\u001b[0m\u001b[1;33m\u001b[0m\u001b[0m\n\u001b[0m",
      "\u001b[1;32m~\\Anaconda3\\lib\\site-packages\\pandas\\core\\base.py\u001b[0m in \u001b[0;36mvalue_counts\u001b[1;34m(self, normalize, sort, ascending, bins, dropna)\u001b[0m\n\u001b[0;32m   1301\u001b[0m         \u001b[1;32mfrom\u001b[0m \u001b[0mpandas\u001b[0m\u001b[1;33m.\u001b[0m\u001b[0mcore\u001b[0m\u001b[1;33m.\u001b[0m\u001b[0malgorithms\u001b[0m \u001b[1;32mimport\u001b[0m \u001b[0mvalue_counts\u001b[0m\u001b[1;33m\u001b[0m\u001b[0m\n\u001b[0;32m   1302\u001b[0m         result = value_counts(self, sort=sort, ascending=ascending,\n\u001b[1;32m-> 1303\u001b[1;33m                               normalize=normalize, bins=bins, dropna=dropna)\n\u001b[0m\u001b[0;32m   1304\u001b[0m         \u001b[1;32mreturn\u001b[0m \u001b[0mresult\u001b[0m\u001b[1;33m\u001b[0m\u001b[0m\n\u001b[0;32m   1305\u001b[0m \u001b[1;33m\u001b[0m\u001b[0m\n",
      "\u001b[1;32m~\\Anaconda3\\lib\\site-packages\\pandas\\core\\algorithms.py\u001b[0m in \u001b[0;36mvalue_counts\u001b[1;34m(values, sort, ascending, normalize, bins, dropna)\u001b[0m\n\u001b[0;32m    703\u001b[0m \u001b[1;33m\u001b[0m\u001b[0m\n\u001b[0;32m    704\u001b[0m         \u001b[1;32melse\u001b[0m\u001b[1;33m:\u001b[0m\u001b[1;33m\u001b[0m\u001b[0m\n\u001b[1;32m--> 705\u001b[1;33m             \u001b[0mkeys\u001b[0m\u001b[1;33m,\u001b[0m \u001b[0mcounts\u001b[0m \u001b[1;33m=\u001b[0m \u001b[0m_value_counts_arraylike\u001b[0m\u001b[1;33m(\u001b[0m\u001b[0mvalues\u001b[0m\u001b[1;33m,\u001b[0m \u001b[0mdropna\u001b[0m\u001b[1;33m)\u001b[0m\u001b[1;33m\u001b[0m\u001b[0m\n\u001b[0m\u001b[0;32m    706\u001b[0m \u001b[1;33m\u001b[0m\u001b[0m\n\u001b[0;32m    707\u001b[0m             \u001b[1;32mif\u001b[0m \u001b[1;32mnot\u001b[0m \u001b[0misinstance\u001b[0m\u001b[1;33m(\u001b[0m\u001b[0mkeys\u001b[0m\u001b[1;33m,\u001b[0m \u001b[0mIndex\u001b[0m\u001b[1;33m)\u001b[0m\u001b[1;33m:\u001b[0m\u001b[1;33m\u001b[0m\u001b[0m\n",
      "\u001b[1;32m~\\Anaconda3\\lib\\site-packages\\pandas\\core\\algorithms.py\u001b[0m in \u001b[0;36m_value_counts_arraylike\u001b[1;34m(values, dropna)\u001b[0m\n\u001b[0;32m    748\u001b[0m         \u001b[1;31m# TODO: handle uint8\u001b[0m\u001b[1;33m\u001b[0m\u001b[1;33m\u001b[0m\u001b[0m\n\u001b[0;32m    749\u001b[0m         \u001b[0mf\u001b[0m \u001b[1;33m=\u001b[0m \u001b[0mgetattr\u001b[0m\u001b[1;33m(\u001b[0m\u001b[0mhtable\u001b[0m\u001b[1;33m,\u001b[0m \u001b[1;34m\"value_count_{dtype}\"\u001b[0m\u001b[1;33m.\u001b[0m\u001b[0mformat\u001b[0m\u001b[1;33m(\u001b[0m\u001b[0mdtype\u001b[0m\u001b[1;33m=\u001b[0m\u001b[0mndtype\u001b[0m\u001b[1;33m)\u001b[0m\u001b[1;33m)\u001b[0m\u001b[1;33m\u001b[0m\u001b[0m\n\u001b[1;32m--> 750\u001b[1;33m         \u001b[0mkeys\u001b[0m\u001b[1;33m,\u001b[0m \u001b[0mcounts\u001b[0m \u001b[1;33m=\u001b[0m \u001b[0mf\u001b[0m\u001b[1;33m(\u001b[0m\u001b[0mvalues\u001b[0m\u001b[1;33m,\u001b[0m \u001b[0mdropna\u001b[0m\u001b[1;33m)\u001b[0m\u001b[1;33m\u001b[0m\u001b[0m\n\u001b[0m\u001b[0;32m    751\u001b[0m \u001b[1;33m\u001b[0m\u001b[0m\n\u001b[0;32m    752\u001b[0m         \u001b[0mmask\u001b[0m \u001b[1;33m=\u001b[0m \u001b[0misna\u001b[0m\u001b[1;33m(\u001b[0m\u001b[0mvalues\u001b[0m\u001b[1;33m)\u001b[0m\u001b[1;33m\u001b[0m\u001b[0m\n",
      "\u001b[1;32mpandas/_libs/hashtable_func_helper.pxi\u001b[0m in \u001b[0;36mpandas._libs.hashtable.value_count_object\u001b[1;34m()\u001b[0m\n",
      "\u001b[1;32mpandas/_libs/hashtable_func_helper.pxi\u001b[0m in \u001b[0;36mpandas._libs.hashtable.value_count_object\u001b[1;34m()\u001b[0m\n",
      "\u001b[1;31mTypeError\u001b[0m: unhashable type: 'list'"
     ]
    }
   ],
   "source": [
    "df['selection'].value_counts()"
   ]
  },
  {
   "cell_type": "markdown",
   "metadata": {},
   "source": [
    "* Several selection steps can be asked for one job (maximum 3). \n",
    "\n",
    "Let's get a list of distinct possible selection steps"
   ]
  },
  {
   "cell_type": "code",
   "execution_count": 34,
   "metadata": {},
   "outputs": [
    {
     "ename": "TypeError",
     "evalue": "unhashable type: 'list'",
     "output_type": "error",
     "traceback": [
      "\u001b[1;31m---------------------------------------------------------------------------\u001b[0m",
      "\u001b[1;31mTypeError\u001b[0m                                 Traceback (most recent call last)",
      "\u001b[1;32m<ipython-input-34-8ba6f52d857d>\u001b[0m in \u001b[0;36m<module>\u001b[1;34m\u001b[0m\n\u001b[1;32m----> 1\u001b[1;33m \u001b[0mflattened_list\u001b[0m \u001b[1;33m=\u001b[0m \u001b[1;33m[\u001b[0m\u001b[0my\u001b[0m \u001b[1;32mfor\u001b[0m \u001b[0mx\u001b[0m \u001b[1;32min\u001b[0m \u001b[0mdf\u001b[0m\u001b[1;33m[\u001b[0m\u001b[1;34m'selection'\u001b[0m\u001b[1;33m]\u001b[0m\u001b[1;33m.\u001b[0m\u001b[0mvalue_counts\u001b[0m\u001b[1;33m(\u001b[0m\u001b[1;33m)\u001b[0m\u001b[1;33m.\u001b[0m\u001b[0mindex\u001b[0m \u001b[1;32mfor\u001b[0m \u001b[0my\u001b[0m \u001b[1;32min\u001b[0m \u001b[0mx\u001b[0m\u001b[1;33m]\u001b[0m\u001b[1;33m\u001b[0m\u001b[0m\n\u001b[0m",
      "\u001b[1;32m~\\Anaconda3\\lib\\site-packages\\pandas\\core\\base.py\u001b[0m in \u001b[0;36mvalue_counts\u001b[1;34m(self, normalize, sort, ascending, bins, dropna)\u001b[0m\n\u001b[0;32m   1301\u001b[0m         \u001b[1;32mfrom\u001b[0m \u001b[0mpandas\u001b[0m\u001b[1;33m.\u001b[0m\u001b[0mcore\u001b[0m\u001b[1;33m.\u001b[0m\u001b[0malgorithms\u001b[0m \u001b[1;32mimport\u001b[0m \u001b[0mvalue_counts\u001b[0m\u001b[1;33m\u001b[0m\u001b[0m\n\u001b[0;32m   1302\u001b[0m         result = value_counts(self, sort=sort, ascending=ascending,\n\u001b[1;32m-> 1303\u001b[1;33m                               normalize=normalize, bins=bins, dropna=dropna)\n\u001b[0m\u001b[0;32m   1304\u001b[0m         \u001b[1;32mreturn\u001b[0m \u001b[0mresult\u001b[0m\u001b[1;33m\u001b[0m\u001b[0m\n\u001b[0;32m   1305\u001b[0m \u001b[1;33m\u001b[0m\u001b[0m\n",
      "\u001b[1;32m~\\Anaconda3\\lib\\site-packages\\pandas\\core\\algorithms.py\u001b[0m in \u001b[0;36mvalue_counts\u001b[1;34m(values, sort, ascending, normalize, bins, dropna)\u001b[0m\n\u001b[0;32m    703\u001b[0m \u001b[1;33m\u001b[0m\u001b[0m\n\u001b[0;32m    704\u001b[0m         \u001b[1;32melse\u001b[0m\u001b[1;33m:\u001b[0m\u001b[1;33m\u001b[0m\u001b[0m\n\u001b[1;32m--> 705\u001b[1;33m             \u001b[0mkeys\u001b[0m\u001b[1;33m,\u001b[0m \u001b[0mcounts\u001b[0m \u001b[1;33m=\u001b[0m \u001b[0m_value_counts_arraylike\u001b[0m\u001b[1;33m(\u001b[0m\u001b[0mvalues\u001b[0m\u001b[1;33m,\u001b[0m \u001b[0mdropna\u001b[0m\u001b[1;33m)\u001b[0m\u001b[1;33m\u001b[0m\u001b[0m\n\u001b[0m\u001b[0;32m    706\u001b[0m \u001b[1;33m\u001b[0m\u001b[0m\n\u001b[0;32m    707\u001b[0m             \u001b[1;32mif\u001b[0m \u001b[1;32mnot\u001b[0m \u001b[0misinstance\u001b[0m\u001b[1;33m(\u001b[0m\u001b[0mkeys\u001b[0m\u001b[1;33m,\u001b[0m \u001b[0mIndex\u001b[0m\u001b[1;33m)\u001b[0m\u001b[1;33m:\u001b[0m\u001b[1;33m\u001b[0m\u001b[0m\n",
      "\u001b[1;32m~\\Anaconda3\\lib\\site-packages\\pandas\\core\\algorithms.py\u001b[0m in \u001b[0;36m_value_counts_arraylike\u001b[1;34m(values, dropna)\u001b[0m\n\u001b[0;32m    748\u001b[0m         \u001b[1;31m# TODO: handle uint8\u001b[0m\u001b[1;33m\u001b[0m\u001b[1;33m\u001b[0m\u001b[0m\n\u001b[0;32m    749\u001b[0m         \u001b[0mf\u001b[0m \u001b[1;33m=\u001b[0m \u001b[0mgetattr\u001b[0m\u001b[1;33m(\u001b[0m\u001b[0mhtable\u001b[0m\u001b[1;33m,\u001b[0m \u001b[1;34m\"value_count_{dtype}\"\u001b[0m\u001b[1;33m.\u001b[0m\u001b[0mformat\u001b[0m\u001b[1;33m(\u001b[0m\u001b[0mdtype\u001b[0m\u001b[1;33m=\u001b[0m\u001b[0mndtype\u001b[0m\u001b[1;33m)\u001b[0m\u001b[1;33m)\u001b[0m\u001b[1;33m\u001b[0m\u001b[0m\n\u001b[1;32m--> 750\u001b[1;33m         \u001b[0mkeys\u001b[0m\u001b[1;33m,\u001b[0m \u001b[0mcounts\u001b[0m \u001b[1;33m=\u001b[0m \u001b[0mf\u001b[0m\u001b[1;33m(\u001b[0m\u001b[0mvalues\u001b[0m\u001b[1;33m,\u001b[0m \u001b[0mdropna\u001b[0m\u001b[1;33m)\u001b[0m\u001b[1;33m\u001b[0m\u001b[0m\n\u001b[0m\u001b[0;32m    751\u001b[0m \u001b[1;33m\u001b[0m\u001b[0m\n\u001b[0;32m    752\u001b[0m         \u001b[0mmask\u001b[0m \u001b[1;33m=\u001b[0m \u001b[0misna\u001b[0m\u001b[1;33m(\u001b[0m\u001b[0mvalues\u001b[0m\u001b[1;33m)\u001b[0m\u001b[1;33m\u001b[0m\u001b[0m\n",
      "\u001b[1;32mpandas/_libs/hashtable_func_helper.pxi\u001b[0m in \u001b[0;36mpandas._libs.hashtable.value_count_object\u001b[1;34m()\u001b[0m\n",
      "\u001b[1;32mpandas/_libs/hashtable_func_helper.pxi\u001b[0m in \u001b[0;36mpandas._libs.hashtable.value_count_object\u001b[1;34m()\u001b[0m\n",
      "\u001b[1;31mTypeError\u001b[0m: unhashable type: 'list'"
     ]
    }
   ],
   "source": [
    "flattened_list = [y for x in df['selection'].value_counts().index for y in x]"
   ]
  },
  {
   "cell_type": "code",
   "execution_count": null,
   "metadata": {},
   "outputs": [],
   "source": [
    "text=word_tokenize(' '.join(flattened_list))\n",
    "no_order = list(set(text))\n",
    "no_order"
   ]
  },
  {
   "cell_type": "markdown",
   "metadata": {},
   "source": [
    "* 13 types of evaluation are possible but some of them seem weird (Abilities, Review and Defense), we'll check them later"
   ]
  },
  {
   "cell_type": "code",
   "execution_count": 60,
   "metadata": {},
   "outputs": [
    {
     "ename": "TypeError",
     "evalue": "unhashable type: 'list'",
     "output_type": "error",
     "traceback": [
      "\u001b[1;31m---------------------------------------------------------------------------\u001b[0m",
      "\u001b[1;31mTypeError\u001b[0m                                 Traceback (most recent call last)",
      "\u001b[1;32m<ipython-input-60-daebc207ba52>\u001b[0m in \u001b[0;36m<module>\u001b[1;34m\u001b[0m\n\u001b[1;32m----> 1\u001b[1;33m \u001b[0mdf\u001b[0m\u001b[1;33m[\u001b[0m\u001b[1;34m'selection'\u001b[0m\u001b[1;33m]\u001b[0m\u001b[1;33m.\u001b[0m\u001b[0mdescribe\u001b[0m\u001b[1;33m(\u001b[0m\u001b[1;33m)\u001b[0m\u001b[1;33m\u001b[0m\u001b[0m\n\u001b[0m",
      "\u001b[1;32m~\\Anaconda3\\lib\\site-packages\\pandas\\core\\generic.py\u001b[0m in \u001b[0;36mdescribe\u001b[1;34m(self, percentiles, include, exclude)\u001b[0m\n\u001b[0;32m   9788\u001b[0m \u001b[1;33m\u001b[0m\u001b[0m\n\u001b[0;32m   9789\u001b[0m         \u001b[1;32mif\u001b[0m \u001b[0mself\u001b[0m\u001b[1;33m.\u001b[0m\u001b[0mndim\u001b[0m \u001b[1;33m==\u001b[0m \u001b[1;36m1\u001b[0m\u001b[1;33m:\u001b[0m\u001b[1;33m\u001b[0m\u001b[0m\n\u001b[1;32m-> 9790\u001b[1;33m             \u001b[1;32mreturn\u001b[0m \u001b[0mdescribe_1d\u001b[0m\u001b[1;33m(\u001b[0m\u001b[0mself\u001b[0m\u001b[1;33m)\u001b[0m\u001b[1;33m\u001b[0m\u001b[0m\n\u001b[0m\u001b[0;32m   9791\u001b[0m         \u001b[1;32melif\u001b[0m \u001b[1;33m(\u001b[0m\u001b[0minclude\u001b[0m \u001b[1;32mis\u001b[0m \u001b[1;32mNone\u001b[0m\u001b[1;33m)\u001b[0m \u001b[1;32mand\u001b[0m \u001b[1;33m(\u001b[0m\u001b[0mexclude\u001b[0m \u001b[1;32mis\u001b[0m \u001b[1;32mNone\u001b[0m\u001b[1;33m)\u001b[0m\u001b[1;33m:\u001b[0m\u001b[1;33m\u001b[0m\u001b[0m\n\u001b[0;32m   9792\u001b[0m             \u001b[1;31m# when some numerics are found, keep only numerics\u001b[0m\u001b[1;33m\u001b[0m\u001b[1;33m\u001b[0m\u001b[0m\n",
      "\u001b[1;32m~\\Anaconda3\\lib\\site-packages\\pandas\\core\\generic.py\u001b[0m in \u001b[0;36mdescribe_1d\u001b[1;34m(data)\u001b[0m\n\u001b[0;32m   9785\u001b[0m                 \u001b[1;32mreturn\u001b[0m \u001b[0mdescribe_numeric_1d\u001b[0m\u001b[1;33m(\u001b[0m\u001b[0mdata\u001b[0m\u001b[1;33m)\u001b[0m\u001b[1;33m\u001b[0m\u001b[0m\n\u001b[0;32m   9786\u001b[0m             \u001b[1;32melse\u001b[0m\u001b[1;33m:\u001b[0m\u001b[1;33m\u001b[0m\u001b[0m\n\u001b[1;32m-> 9787\u001b[1;33m                 \u001b[1;32mreturn\u001b[0m \u001b[0mdescribe_categorical_1d\u001b[0m\u001b[1;33m(\u001b[0m\u001b[0mdata\u001b[0m\u001b[1;33m)\u001b[0m\u001b[1;33m\u001b[0m\u001b[0m\n\u001b[0m\u001b[0;32m   9788\u001b[0m \u001b[1;33m\u001b[0m\u001b[0m\n\u001b[0;32m   9789\u001b[0m         \u001b[1;32mif\u001b[0m \u001b[0mself\u001b[0m\u001b[1;33m.\u001b[0m\u001b[0mndim\u001b[0m \u001b[1;33m==\u001b[0m \u001b[1;36m1\u001b[0m\u001b[1;33m:\u001b[0m\u001b[1;33m\u001b[0m\u001b[0m\n",
      "\u001b[1;32m~\\Anaconda3\\lib\\site-packages\\pandas\\core\\generic.py\u001b[0m in \u001b[0;36mdescribe_categorical_1d\u001b[1;34m(data)\u001b[0m\n\u001b[0;32m   9752\u001b[0m         \u001b[1;32mdef\u001b[0m \u001b[0mdescribe_categorical_1d\u001b[0m\u001b[1;33m(\u001b[0m\u001b[0mdata\u001b[0m\u001b[1;33m)\u001b[0m\u001b[1;33m:\u001b[0m\u001b[1;33m\u001b[0m\u001b[0m\n\u001b[0;32m   9753\u001b[0m             \u001b[0mnames\u001b[0m \u001b[1;33m=\u001b[0m \u001b[1;33m[\u001b[0m\u001b[1;34m'count'\u001b[0m\u001b[1;33m,\u001b[0m \u001b[1;34m'unique'\u001b[0m\u001b[1;33m]\u001b[0m\u001b[1;33m\u001b[0m\u001b[0m\n\u001b[1;32m-> 9754\u001b[1;33m             \u001b[0mobjcounts\u001b[0m \u001b[1;33m=\u001b[0m \u001b[0mdata\u001b[0m\u001b[1;33m.\u001b[0m\u001b[0mvalue_counts\u001b[0m\u001b[1;33m(\u001b[0m\u001b[1;33m)\u001b[0m\u001b[1;33m\u001b[0m\u001b[0m\n\u001b[0m\u001b[0;32m   9755\u001b[0m             \u001b[0mcount_unique\u001b[0m \u001b[1;33m=\u001b[0m \u001b[0mlen\u001b[0m\u001b[1;33m(\u001b[0m\u001b[0mobjcounts\u001b[0m\u001b[1;33m[\u001b[0m\u001b[0mobjcounts\u001b[0m \u001b[1;33m!=\u001b[0m \u001b[1;36m0\u001b[0m\u001b[1;33m]\u001b[0m\u001b[1;33m)\u001b[0m\u001b[1;33m\u001b[0m\u001b[0m\n\u001b[0;32m   9756\u001b[0m             \u001b[0mresult\u001b[0m \u001b[1;33m=\u001b[0m \u001b[1;33m[\u001b[0m\u001b[0mdata\u001b[0m\u001b[1;33m.\u001b[0m\u001b[0mcount\u001b[0m\u001b[1;33m(\u001b[0m\u001b[1;33m)\u001b[0m\u001b[1;33m,\u001b[0m \u001b[0mcount_unique\u001b[0m\u001b[1;33m]\u001b[0m\u001b[1;33m\u001b[0m\u001b[0m\n",
      "\u001b[1;32m~\\Anaconda3\\lib\\site-packages\\pandas\\core\\base.py\u001b[0m in \u001b[0;36mvalue_counts\u001b[1;34m(self, normalize, sort, ascending, bins, dropna)\u001b[0m\n\u001b[0;32m   1301\u001b[0m         \u001b[1;32mfrom\u001b[0m \u001b[0mpandas\u001b[0m\u001b[1;33m.\u001b[0m\u001b[0mcore\u001b[0m\u001b[1;33m.\u001b[0m\u001b[0malgorithms\u001b[0m \u001b[1;32mimport\u001b[0m \u001b[0mvalue_counts\u001b[0m\u001b[1;33m\u001b[0m\u001b[0m\n\u001b[0;32m   1302\u001b[0m         result = value_counts(self, sort=sort, ascending=ascending,\n\u001b[1;32m-> 1303\u001b[1;33m                               normalize=normalize, bins=bins, dropna=dropna)\n\u001b[0m\u001b[0;32m   1304\u001b[0m         \u001b[1;32mreturn\u001b[0m \u001b[0mresult\u001b[0m\u001b[1;33m\u001b[0m\u001b[0m\n\u001b[0;32m   1305\u001b[0m \u001b[1;33m\u001b[0m\u001b[0m\n",
      "\u001b[1;32m~\\Anaconda3\\lib\\site-packages\\pandas\\core\\algorithms.py\u001b[0m in \u001b[0;36mvalue_counts\u001b[1;34m(values, sort, ascending, normalize, bins, dropna)\u001b[0m\n\u001b[0;32m    703\u001b[0m \u001b[1;33m\u001b[0m\u001b[0m\n\u001b[0;32m    704\u001b[0m         \u001b[1;32melse\u001b[0m\u001b[1;33m:\u001b[0m\u001b[1;33m\u001b[0m\u001b[0m\n\u001b[1;32m--> 705\u001b[1;33m             \u001b[0mkeys\u001b[0m\u001b[1;33m,\u001b[0m \u001b[0mcounts\u001b[0m \u001b[1;33m=\u001b[0m \u001b[0m_value_counts_arraylike\u001b[0m\u001b[1;33m(\u001b[0m\u001b[0mvalues\u001b[0m\u001b[1;33m,\u001b[0m \u001b[0mdropna\u001b[0m\u001b[1;33m)\u001b[0m\u001b[1;33m\u001b[0m\u001b[0m\n\u001b[0m\u001b[0;32m    706\u001b[0m \u001b[1;33m\u001b[0m\u001b[0m\n\u001b[0;32m    707\u001b[0m             \u001b[1;32mif\u001b[0m \u001b[1;32mnot\u001b[0m \u001b[0misinstance\u001b[0m\u001b[1;33m(\u001b[0m\u001b[0mkeys\u001b[0m\u001b[1;33m,\u001b[0m \u001b[0mIndex\u001b[0m\u001b[1;33m)\u001b[0m\u001b[1;33m:\u001b[0m\u001b[1;33m\u001b[0m\u001b[0m\n",
      "\u001b[1;32m~\\Anaconda3\\lib\\site-packages\\pandas\\core\\algorithms.py\u001b[0m in \u001b[0;36m_value_counts_arraylike\u001b[1;34m(values, dropna)\u001b[0m\n\u001b[0;32m    748\u001b[0m         \u001b[1;31m# TODO: handle uint8\u001b[0m\u001b[1;33m\u001b[0m\u001b[1;33m\u001b[0m\u001b[0m\n\u001b[0;32m    749\u001b[0m         \u001b[0mf\u001b[0m \u001b[1;33m=\u001b[0m \u001b[0mgetattr\u001b[0m\u001b[1;33m(\u001b[0m\u001b[0mhtable\u001b[0m\u001b[1;33m,\u001b[0m \u001b[1;34m\"value_count_{dtype}\"\u001b[0m\u001b[1;33m.\u001b[0m\u001b[0mformat\u001b[0m\u001b[1;33m(\u001b[0m\u001b[0mdtype\u001b[0m\u001b[1;33m=\u001b[0m\u001b[0mndtype\u001b[0m\u001b[1;33m)\u001b[0m\u001b[1;33m)\u001b[0m\u001b[1;33m\u001b[0m\u001b[0m\n\u001b[1;32m--> 750\u001b[1;33m         \u001b[0mkeys\u001b[0m\u001b[1;33m,\u001b[0m \u001b[0mcounts\u001b[0m \u001b[1;33m=\u001b[0m \u001b[0mf\u001b[0m\u001b[1;33m(\u001b[0m\u001b[0mvalues\u001b[0m\u001b[1;33m,\u001b[0m \u001b[0mdropna\u001b[0m\u001b[1;33m)\u001b[0m\u001b[1;33m\u001b[0m\u001b[0m\n\u001b[0m\u001b[0;32m    751\u001b[0m \u001b[1;33m\u001b[0m\u001b[0m\n\u001b[0;32m    752\u001b[0m         \u001b[0mmask\u001b[0m \u001b[1;33m=\u001b[0m \u001b[0misna\u001b[0m\u001b[1;33m(\u001b[0m\u001b[0mvalues\u001b[0m\u001b[1;33m)\u001b[0m\u001b[1;33m\u001b[0m\u001b[0m\n",
      "\u001b[1;32mpandas/_libs/hashtable_func_helper.pxi\u001b[0m in \u001b[0;36mpandas._libs.hashtable.value_count_object\u001b[1;34m()\u001b[0m\n",
      "\u001b[1;32mpandas/_libs/hashtable_func_helper.pxi\u001b[0m in \u001b[0;36mpandas._libs.hashtable.value_count_object\u001b[1;34m()\u001b[0m\n",
      "\u001b[1;31mTypeError\u001b[0m: unhashable type: 'list'"
     ]
    }
   ],
   "source": [
    "df['selection'].describe()"
   ]
  },
  {
   "cell_type": "code",
   "execution_count": 61,
   "metadata": {},
   "outputs": [
    {
     "data": {
      "text/plain": [
       "count    675.000000\n",
       "mean       1.263704\n",
       "std        0.771392\n",
       "min        0.000000\n",
       "25%        1.000000\n",
       "50%        1.000000\n",
       "75%        2.000000\n",
       "max        3.000000\n",
       "Name: nb_selection_steps, dtype: float64"
      ]
     },
     "execution_count": 61,
     "metadata": {},
     "output_type": "execute_result"
    }
   ],
   "source": [
    "df['nb_selection_steps'].describe()"
   ]
  },
  {
   "cell_type": "code",
   "execution_count": 62,
   "metadata": {},
   "outputs": [
    {
     "data": {
      "text/plain": [
       "<matplotlib.axes._subplots.AxesSubplot at 0x16510d31b38>"
      ]
     },
     "execution_count": 62,
     "metadata": {},
     "output_type": "execute_result"
    },
    {
     "data": {
      "image/png": "[encoded data removed]",
      "text/plain": [
       "<Figure size 432x288 with 1 Axes>"
      ]
     },
     "metadata": {
      "needs_background": "light"
     },
     "output_type": "display_data"
    }
   ],
   "source": [
    "df['nb_selection_steps'].value_counts().plot(kind='bar')"
   ]
  },
  {
   "cell_type": "markdown",
   "metadata": {},
   "source": [
    "Having a complex selection process may dissuade potential candidates, like disabled ones or women because of its duration and the availability required for attending each appointment. Enabling a complex selection process can be legitimate when the city wants to hire a high responsibility profile.\n",
    "\n",
    "##### Here:\n",
    "- There are up to 3 steps for the selection. \n",
    "- This procedure helps the collectivity ensure they are hiring the appropriate candidate.\n",
    "- 80%  of the job opportunities include 1 or 2 steps, the most common being interview and tests.\n",
    "- 15% of them do not require any selection step.\n",
    "- The remaning 5% of bulletins suggest a selection performed in 3 steps. Are they related to a specific kind of job ?\n",
    "\n",
    "##### Next steps:\n",
    "By intituion, we would say that a 3-step selection process should be reserved to high responsibility position, where a hiring mistake can have strong impacts on the organzation.\n",
    "We then need to look for a correlation between the number of selection steps and the responsibility level."
   ]
  },
  {
   "cell_type": "markdown",
   "metadata": {},
   "source": [
    "#### 1.b.6 Number of lines in the job description"
   ]
  },
  {
   "cell_type": "code",
   "execution_count": 63,
   "metadata": {},
   "outputs": [
    {
     "data": {
      "text/plain": [
       "count     675\n",
       "unique     63\n",
       "top        83\n",
       "freq       31\n",
       "Name: nb_lines, dtype: int64"
      ]
     },
     "execution_count": 63,
     "metadata": {},
     "output_type": "execute_result"
    }
   ],
   "source": [
    "df['nb_lines'].describe()"
   ]
  },
  {
   "cell_type": "code",
   "execution_count": 64,
   "metadata": {},
   "outputs": [
    {
     "data": {
      "text/plain": [
       "<matplotlib.axes._subplots.AxesSubplot at 0x16510d7ff60>"
      ]
     },
     "execution_count": 64,
     "metadata": {},
     "output_type": "execute_result"
    },
    {
     "data": {
      "image/png": "[encoded data removed]",
      "text/plain": [
       "<Figure size 1584x360 with 1 Axes>"
      ]
     },
     "metadata": {
      "needs_background": "light"
     },
     "output_type": "display_data"
    }
   ],
   "source": [
    "df['nb_lines'].value_counts(bins=10).plot(kind='bar', figsize=(22,5))"
   ]
  },
  {
   "cell_type": "markdown",
   "metadata": {},
   "source": [
    "#### Analysis of the number of lines in the job description\n",
    "Having a long description may be interesting for high responsibility positions in order to provide sufficient context elements on the job offer and the performance of the work. \n",
    "However a long bulletin can dissuade potential candidates to apply because the text would be too long.\n",
    "\n",
    "##### Here:\n",
    "- Most of the job postings include less than 100 lines.\n",
    "- The vast majority is between 74 and 96 lines\n",
    "\n",
    "##### Next steps:\n",
    "We will list the positions according to a scale of responibility and check if a long job description is legitimato or not. if it is not the case, maybe is it due to an unconsious biais.\n",
    "We will use a scale from 1 to 5"
   ]
  },
  {
   "cell_type": "markdown",
   "metadata": {},
   "source": [
    "#### 1.b.7 Number of caracters in the job description"
   ]
  },
  {
   "cell_type": "code",
   "execution_count": 65,
   "metadata": {},
   "outputs": [
    {
     "data": {
      "text/plain": [
       "count      675\n",
       "unique     649\n",
       "top       8215\n",
       "freq         3\n",
       "Name: nb_chars, dtype: int64"
      ]
     },
     "execution_count": 65,
     "metadata": {},
     "output_type": "execute_result"
    }
   ],
   "source": [
    "df['nb_chars'].describe()"
   ]
  },
  {
   "cell_type": "code",
   "execution_count": 66,
   "metadata": {},
   "outputs": [
    {
     "data": {
      "text/plain": [
       "(7659.0, 10684.0]     339\n",
       "(10684.0, 13709.0]    161\n",
       "(4618.874, 7659.0]    133\n",
       "(13709.0, 16734.0]     38\n",
       "(16734.0, 19759.0]      4\n",
       "Name: nb_chars, dtype: int64"
      ]
     },
     "execution_count": 66,
     "metadata": {},
     "output_type": "execute_result"
    }
   ],
   "source": [
    "df['nb_chars'].value_counts(bins=5).head()"
   ]
  },
  {
   "cell_type": "code",
   "execution_count": 67,
   "metadata": {},
   "outputs": [
    {
     "data": {
      "text/plain": [
       "<matplotlib.axes._subplots.AxesSubplot at 0x16510e09a90>"
      ]
     },
     "execution_count": 67,
     "metadata": {},
     "output_type": "execute_result"
    },
    {
     "data": {
      "image/png": "[encoded data removed]",
      "text/plain": [
       "<Figure size 1584x360 with 1 Axes>"
      ]
     },
     "metadata": {
      "needs_background": "light"
     },
     "output_type": "display_data"
    }
   ],
   "source": [
    "df['nb_chars'].value_counts(bins=5).plot(kind='bar', figsize=(22,5))"
   ]
  },
  {
   "cell_type": "markdown",
   "metadata": {},
   "source": [
    "#### Analysis\n",
    "Having a long description may be interesting for high responsibility positions in order to provide sufficient context elements on the job offer anr the performance of the work. \n",
    "However a charged (in terms of chars) can dissuade potential candidates to apply because the text would be too complex.\n",
    "\n",
    "##### Here:\n",
    "- Most of the job postings (527 of them i.e 78%) include 4.600 to 13.700 caracters.\n",
    "- the remaining 148 bulletins (about 22%) may  be too 'verbose'.\n",
    "\n",
    "##### Next steps:\n",
    "We will list the positions according to a scale of responibility and check if a verbose description is legitimate or not. if it is not the case, maybe is it due to an unconsious biais.\n",
    "We will use a scale from 1 to 5"
   ]
  },
  {
   "cell_type": "markdown",
   "metadata": {},
   "source": [
    "#### 1.b.8 Deadline - Time to apply\n",
    "\n",
    "validity_duration field has been computed to give us the time between the date the job was posted and the deadline to apply."
   ]
  },
  {
   "cell_type": "code",
   "execution_count": 68,
   "metadata": {},
   "outputs": [
    {
     "data": {
      "text/plain": [
       "count     625\n",
       "unique     38\n",
       "top        13\n",
       "freq      494\n",
       "Name: validity_duration, dtype: int64"
      ]
     },
     "execution_count": 68,
     "metadata": {},
     "output_type": "execute_result"
    }
   ],
   "source": [
    "df['validity_duration'].describe()"
   ]
  },
  {
   "cell_type": "code",
   "execution_count": 69,
   "metadata": {},
   "outputs": [
    {
     "data": {
      "text/plain": [
       "<matplotlib.axes._subplots.AxesSubplot at 0x16510e39cc0>"
      ]
     },
     "execution_count": 69,
     "metadata": {},
     "output_type": "execute_result"
    },
    {
     "data": {
      "image/png": "[encoded data removed]",
      "text/plain": [
       "<Figure size 432x288 with 1 Axes>"
      ]
     },
     "metadata": {
      "needs_background": "light"
     },
     "output_type": "display_data"
    }
   ],
   "source": [
    "# Visualize To Pten validity_durations\n",
    "df['validity_duration'].value_counts().head(5).plot(kind='bar')"
   ]
  },
  {
   "cell_type": "markdown",
   "metadata": {},
   "source": [
    "#### Analysis of the time remaining to apply\n",
    "Validity duration is an important parameter. Offering little time to apply reduces the number of candidates . We can expect a job opening to leave enough time to people to apply. Maybe more for disabled people who may have access to the job opennings less easily. We can also expect the deadline to  be extended for rare profiles like those intended for high responsibility positions.\n",
    "\n",
    "\n",
    "If a low validity duration is given for a high responsibility position or for a position open to all, it can represent a barrier to the City to meet interesting external candidates. We should here offer a prescriptive action to the City.\n",
    "\n",
    "##### Here\n",
    "- Most of the job opportunities (about 65%) are to be applied within 13 days, equivalent to 2 weeks since the release of the bulletin.\n",
    "- The next most common validity duration is 20 days equivalent to 3 weeks. \n",
    "- Up to 10 bulletins offer a validity duration of 10 days, which is rather short. This is the shortest validity duration.\n",
    "\n",
    "##### Next steps:\n",
    "We have to explore those bulletins with 11-day validity duration, check if they are opent to all and check if the position leads to high responibilities. We will foculs on 11-day validity bulletin because this is the shortest duration, and a 13-day validity duration is to common. "
   ]
  },
  {
   "cell_type": "markdown",
   "metadata": {},
   "source": [
    "## Descriptive Analysis Summary\n",
    "#### File parsing performance\n",
    "- Over the 683 files we managed to keep 675 of them after parsing (98%).\n",
    "\n",
    "#### Offered employment\n",
    "- Before 2014, very few employment opportunities were offered to the citizen. As we approch 2021, we can see that the number of bulletins is increasing. There is a strong issue in managing the turnover since 2014. The niumber of job opportunities offred is almost doubled between 2014 and 2016, and then the number of published bulletins remain high.\n",
    "- This makes our job even more challenging !\n",
    "\n",
    "#### Job posting all over the year\n",
    "- It seems that about the same amount of jobs have been posted every month throughout the years.\n",
    "\n",
    "#### Number of requirements\n",
    "- In large majority,  the bulletins indicate less that 4 requirements.\n",
    "- However thet are few bulletins that include more requirements even up to 9 !\n",
    "- Including lots of requirements may have a negative impact on female applications and therefore be part of an unconscious bias. This parameter is to be looked into.\n",
    "\n",
    "#### Number of selection steps\n",
    "- There are up to 3 steps for the selection.\n",
    "- This procedure helps the collectivity ensure they are hiring the appropriate candidate.\n",
    "- 80%  of the job opportunities include 1 or 2 steps, the most common being interview, essay and test.\n",
    "- 15% of them do not require a complex selection process.\n",
    "- The remaning 5% of bulletins suggest a selection performed in 3 steps. Are they related to a specific kind of job ?\n",
    "- Having a 3-step selection process may dissuade potential candidates, like disabled ones or women because of its duration and the availability required for attending each appointment.\n",
    "\n",
    "#### Validity duration\n",
    "- Most (about 65%) of the job opportunities are to be applied within 13 days equivalent to 2 weeks since publishing of the bulletin.\n",
    "- The next validity duration is 20 days equivalent to 3 weeks. \n",
    "- Up to 10 bulletin offer a validity duration of 10 days, which is rather short. This is the shortest validity duration.\n",
    "- Validity duration is an important parameter, offering little time to apply may reduce the number of candidates.\n",
    "We also need to identify if some job positions are only opened to current employees, which can explain why validity duration is short.\n",
    "\n",
    "#### Next steps\n",
    "Correlate Responsibility level with :\n",
    "- Validity duration, \n",
    "- Nb of requirements in the job description\n",
    "- Nb steps in the selection process\n",
    "- Nb lines in the job description\n",
    "- Nb chars in the job description"
   ]
  },
  {
   "cell_type": "markdown",
   "metadata": {},
   "source": [
    "### 1.d Feature engineering - Enriching the dataframe with computed fields"
   ]
  },
  {
   "cell_type": "markdown",
   "metadata": {},
   "source": [
    "In this section we will enhance our dataframe with additional computed fields:\n",
    "- nb_line_scale : number of lines on a scale from 0 to 5\n",
    "- nb_char_scale : number of chars on a scale from 0 to 5\n",
    "- full_time_part_time_code : indicates if job is part time (1) or full time (2)\n",
    "- exp_years : number of years of experience needed\n",
    "- high_education : 1 if requiring University or College, 0 else\n",
    "- Open_To_All : indicates if the position is open to all including actual city employees\n",
    "- Resp_level : scale of responsibility from 0 to 5\n",
    "\n",
    "Resp_level based on the job title : \n",
    "- Director = 5, \n",
    "- Manager, Principal, Chief, Captain  = 4, \n",
    "- Engineer, Specialist, Representative, Advocate, Inspector, Supervisor = 3\n",
    "- Officer = 2\n",
    "- Other = 0"
   ]
  },
  {
   "cell_type": "code",
   "execution_count": 70,
   "metadata": {},
   "outputs": [
    {
     "data": {
      "text/plain": [
       "count                        675\n",
       "unique                       665\n",
       "top       campus interviews only\n",
       "freq                           3\n",
       "Name: Position, dtype: object"
      ]
     },
     "execution_count": 70,
     "metadata": {},
     "output_type": "execute_result"
    }
   ],
   "source": [
    "df['Position'].describe()"
   ]
  },
  {
   "cell_type": "code",
   "execution_count": 71,
   "metadata": {},
   "outputs": [],
   "source": [
    "# Calculates the number of lines on a scale from 0 to 5\n",
    "def ScaleNBLine(line_nb):\n",
    "    results = 0\n",
    "    if line_nb < 60:\n",
    "        return(0)\n",
    "    elif line_nb < 85:\n",
    "        return(1)\n",
    "    elif line_nb < 110:\n",
    "        return(2)\n",
    "    elif line_nb < 130:\n",
    "        return(3)\n",
    "    elif line_nb < 150:\n",
    "        return(4)\n",
    "    else:\n",
    "        return(5)\n",
    "\n",
    "# Calculates the number of lines on a scale from 0 to 5\n",
    "def ScaleNBChar(line_nb):\n",
    "    results = 0\n",
    "    if line_nb < 7000:\n",
    "        return(0)\n",
    "    elif line_nb < 11000:\n",
    "        return(1)\n",
    "    elif line_nb < 110:\n",
    "        return(2)\n",
    "    elif line_nb < 13000:\n",
    "        return(3)\n",
    "    elif line_nb < 160000:\n",
    "        return(4)\n",
    "    else:\n",
    "        return(5)\n",
    "\n",
    "# Calculates responsibility level for each position\n",
    "def RespLevel(position):\n",
    "    results = 0\n",
    "    if \"DIRECTOR\" in position.upper():\n",
    "        return(5)\n",
    "    \n",
    "    elif \"MANAGER\" in position.upper():\n",
    "        return(4)\n",
    "    elif \"PRINCIPAL\" in position.upper():\n",
    "        return(4)\n",
    "    elif \"CHIEF\" in position.upper():\n",
    "        return(4)\n",
    "    elif \"CAPTAIN\" in position.upper():\n",
    "        return(4)\n",
    "    \n",
    "    elif \"ENGINEER\" in position.upper():\n",
    "        return(3)\n",
    "    elif \"SPECIALIST\" in position.upper():\n",
    "        return(3)\n",
    "    elif \"ADVOCATE\" in position.upper():\n",
    "        return(3)\n",
    "    elif \"REPRESENTATIVE\" in position.upper():\n",
    "        return(3)\n",
    "    elif \"INSPECTOR\" in position.upper():\n",
    "        return(3)    \n",
    "    elif \"SUPERVISOR\" in position.upper():\n",
    "        return(3)\n",
    "    elif \"SUPERINTENDENT\" in position.upper():\n",
    "        return(3)\n",
    "    \n",
    "    elif \"OFFICER\" in position.upper():\n",
    "        return(2)\n",
    "    elif \"LIEUTENANT\" in position.upper():\n",
    "        return(2)\n",
    "    return(0)\n",
    "\n",
    "# Identifies if a position is open to all\n",
    "def open2all(raw_text):\n",
    "    if \"exam open to current\" in raw_text.lower():\n",
    "        return 0\n",
    "    return 1\n",
    "    # If Nothing is mentionned on whether external candidates can apply\n",
    "    # It shall mean that the job offer is opened to all\n",
    "    \n",
    "# Identifies if ther is a mention \"Exam open to...\"\n",
    "def mention_Exam_Open(raw_text):\n",
    "    if \"exam open\" in raw_text.lower():\n",
    "        return 1\n",
    "    return 0\n",
    "\n",
    "    \n",
    "# Tests if  we ha a NaN recording in a cell of the dataframe\n",
    "def isNaN(num):\n",
    "    return num != num\n",
    "\n",
    "# Translates the experience requierement into a number\n",
    "def get_nb(val):\n",
    "    if not isNaN(val):\n",
    "        if val.lower() == 'one':\n",
    "            return 1\n",
    "        if val.lower() == 'two':\n",
    "            return 2\n",
    "        if val.lower() == 'three':\n",
    "            return 3\n",
    "        if val.lower() == 'four':\n",
    "            return 4\n",
    "        if val.lower() == 'five':\n",
    "            return 5\n",
    "        if val.lower() == 'six':\n",
    "            return 6\n",
    "        if val.lower() == 'seven':\n",
    "            return 7\n",
    "        if val.lower() == 'eight':\n",
    "            return 8\n",
    "        if val.lower() == 'nine':\n",
    "            return 9\n",
    "        if val.lower() == 'ten':\n",
    "            return 10\n",
    "        else:\n",
    "            print(val)\n",
    "            return np.nan\n",
    "\n",
    "# Calculates if there is a requirement on the backgourd College or University formulated in the bulletin\n",
    "def code_school(val):\n",
    "    if not isNaN(val):\n",
    "        if val == \"College or University\":\n",
    "            return 1 \n",
    "        \n",
    "    #better for correlations (at list one variation)\n",
    "    return 0\n",
    "        \n",
    "\n",
    "# Calcultates if the position allaow part time or full time\n",
    "def code_ft_pt(val):\n",
    "    if not isNaN(val):\n",
    "        if val == \"PART_TIME\":\n",
    "            return 1\n",
    "        if val == \"FULL_TIME\":\n",
    "            return 2\n",
    "        \n",
    "    #better for correlations (at list one variation)\n",
    "    return 0"
   ]
  },
  {
   "cell_type": "code",
   "execution_count": 72,
   "metadata": {},
   "outputs": [],
   "source": [
    "df_enriched = df.copy()\n",
    "df_enriched['nb_line_scale'] = df_enriched['nb_lines'].apply(lambda x : ScaleNBLine(x))\n",
    "df_enriched['nb_char_scale'] = df_enriched['nb_chars'].apply(lambda x : ScaleNBChar(x))\n",
    "df_enriched['Resp_level'] = df_enriched['Position'].apply(lambda x : RespLevel(x))\n",
    "df_enriched['Open_To_All'] = df_enriched['raw_job_text'].apply(lambda x : open2all(x))\n",
    "df_enriched['Open_To_Mention'] = df_enriched['raw_job_text'].apply(lambda x : mention_Exam_Open(x))\n",
    "df_enriched['exp_years'] = df_enriched['EXPERIENCE_LENGTH'].apply(lambda x : get_nb(x))\n",
    "df_enriched['high_education'] = df_enriched['SCHOOL_TYPE'].apply(lambda x : code_school(x) )\n",
    "df_enriched['full_time_part_time_code'] = df_enriched['FULL_TIME_PART_TIME'].apply(lambda x : code_ft_pt(x))\n",
    "\n"
   ]
  },
  {
   "cell_type": "code",
   "execution_count": 73,
   "metadata": {},
   "outputs": [
    {
     "data": {
      "text/html": [
       "<div>\n",
       "<style scoped>\n",
       "    .dataframe tbody tr th:only-of-type {\n",
       "        vertical-align: middle;\n",
       "    }\n",
       "\n",
       "    .dataframe tbody tr th {\n",
       "        vertical-align: top;\n",
       "    }\n",
       "\n",
       "    .dataframe thead th {\n",
       "        text-align: right;\n",
       "    }\n",
       "</style>\n",
       "<table border=\"1\" class=\"dataframe\">\n",
       "  <thead>\n",
       "    <tr style=\"text-align: right;\">\n",
       "      <th></th>\n",
       "      <th>File Name</th>\n",
       "      <th>Position</th>\n",
       "      <th>salary_start</th>\n",
       "      <th>salary_end</th>\n",
       "      <th>opendate</th>\n",
       "      <th>requirements</th>\n",
       "      <th>duties</th>\n",
       "      <th>deadline</th>\n",
       "      <th>deadline_date</th>\n",
       "      <th>validity_duration</th>\n",
       "      <th>...</th>\n",
       "      <th>EDUCATION_YEARS</th>\n",
       "      <th>SCHOOL_TYPE</th>\n",
       "      <th>nb_line_scale</th>\n",
       "      <th>nb_char_scale</th>\n",
       "      <th>Resp_level</th>\n",
       "      <th>Open_To_All</th>\n",
       "      <th>Open_To_Mention</th>\n",
       "      <th>exp_years</th>\n",
       "      <th>high_education</th>\n",
       "      <th>full_time_part_time_code</th>\n",
       "    </tr>\n",
       "  </thead>\n",
       "  <tbody>\n",
       "    <tr>\n",
       "      <th>0</th>\n",
       "      <td>311 DIRECTOR  9206 041814.txt</td>\n",
       "      <td>311 director</td>\n",
       "      <td>125,175</td>\n",
       "      <td>$155,514</td>\n",
       "      <td>2014-04-18</td>\n",
       "      <td>1. One year of full-time paid experience as a ...</td>\n",
       "      <td>A 311 Director is responsible for the successf...</td>\n",
       "      <td>MAY 1, 2014</td>\n",
       "      <td>2014-05-01</td>\n",
       "      <td>13</td>\n",
       "      <td>...</td>\n",
       "      <td>NaN</td>\n",
       "      <td>NaN</td>\n",
       "      <td>1</td>\n",
       "      <td>1</td>\n",
       "      <td>5</td>\n",
       "      <td>1</td>\n",
       "      <td>0</td>\n",
       "      <td>1.0</td>\n",
       "      <td>0</td>\n",
       "      <td>2</td>\n",
       "    </tr>\n",
       "    <tr>\n",
       "      <th>1</th>\n",
       "      <td>ACCOUNTANT 1513 062218.txt</td>\n",
       "      <td>accountant</td>\n",
       "      <td>49,903</td>\n",
       "      <td>$72,996</td>\n",
       "      <td>2018-06-22</td>\n",
       "      <td>Graduation from an accredited four-year colleg...</td>\n",
       "      <td>An Accountant does professional accounting wor...</td>\n",
       "      <td>AUGUST 25, 2018</td>\n",
       "      <td>2018-08-25</td>\n",
       "      <td>64</td>\n",
       "      <td>...</td>\n",
       "      <td>four</td>\n",
       "      <td>College or University</td>\n",
       "      <td>2</td>\n",
       "      <td>1</td>\n",
       "      <td>0</td>\n",
       "      <td>1</td>\n",
       "      <td>1</td>\n",
       "      <td>NaN</td>\n",
       "      <td>1</td>\n",
       "      <td>0</td>\n",
       "    </tr>\n",
       "    <tr>\n",
       "      <th>2</th>\n",
       "      <td>ACCOUNTING CLERK 1223 071318.txt</td>\n",
       "      <td>accounting clerk</td>\n",
       "      <td>49,005</td>\n",
       "      <td>$71,618</td>\n",
       "      <td>2018-07-13</td>\n",
       "      <td>Two years of full-time paid office clerical ex...</td>\n",
       "      <td>An Accounting Clerk performs difficult and res...</td>\n",
       "      <td>NaN</td>\n",
       "      <td>NaT</td>\n",
       "      <td>NaN</td>\n",
       "      <td>...</td>\n",
       "      <td>NaN</td>\n",
       "      <td>NaN</td>\n",
       "      <td>2</td>\n",
       "      <td>1</td>\n",
       "      <td>0</td>\n",
       "      <td>1</td>\n",
       "      <td>1</td>\n",
       "      <td>2.0</td>\n",
       "      <td>0</td>\n",
       "      <td>2</td>\n",
       "    </tr>\n",
       "    <tr>\n",
       "      <th>3</th>\n",
       "      <td>ACCOUNTING RECORDS SUPERVISOR 1119 072718.txt</td>\n",
       "      <td>accounting records supervisor</td>\n",
       "      <td>55,332</td>\n",
       "      <td>$80,930</td>\n",
       "      <td>2018-07-27</td>\n",
       "      <td>Two years of full-time paid experience as an A...</td>\n",
       "      <td>An Accounting Records Supervisor assigns, revi...</td>\n",
       "      <td>AUGUST 9, 2018</td>\n",
       "      <td>2018-08-09</td>\n",
       "      <td>13</td>\n",
       "      <td>...</td>\n",
       "      <td>NaN</td>\n",
       "      <td>NaN</td>\n",
       "      <td>2</td>\n",
       "      <td>1</td>\n",
       "      <td>3</td>\n",
       "      <td>0</td>\n",
       "      <td>1</td>\n",
       "      <td>2.0</td>\n",
       "      <td>0</td>\n",
       "      <td>2</td>\n",
       "    </tr>\n",
       "    <tr>\n",
       "      <th>4</th>\n",
       "      <td>ADMINISTRATIVE ANALYST 1590 060118.txt</td>\n",
       "      <td>administrative analyst</td>\n",
       "      <td>60,489</td>\n",
       "      <td>$88,468</td>\n",
       "      <td>2018-06-01</td>\n",
       "      <td>1. One year of full-time paid professional exp...</td>\n",
       "      <td>An Administrative Analyst performs professiona...</td>\n",
       "      <td>JUNE 14, 2018</td>\n",
       "      <td>2018-06-14</td>\n",
       "      <td>13</td>\n",
       "      <td>...</td>\n",
       "      <td>four</td>\n",
       "      <td>College or University</td>\n",
       "      <td>2</td>\n",
       "      <td>3</td>\n",
       "      <td>0</td>\n",
       "      <td>0</td>\n",
       "      <td>1</td>\n",
       "      <td>1.0</td>\n",
       "      <td>1</td>\n",
       "      <td>2</td>\n",
       "    </tr>\n",
       "  </tbody>\n",
       "</table>\n",
       "<p>5 rows × 31 columns</p>\n",
       "</div>"
      ],
      "text/plain": [
       "                                       File Name  \\\n",
       "0                  311 DIRECTOR  9206 041814.txt   \n",
       "1                     ACCOUNTANT 1513 062218.txt   \n",
       "2               ACCOUNTING CLERK 1223 071318.txt   \n",
       "3  ACCOUNTING RECORDS SUPERVISOR 1119 072718.txt   \n",
       "4         ADMINISTRATIVE ANALYST 1590 060118.txt   \n",
       "\n",
       "                        Position salary_start salary_end   opendate  \\\n",
       "0                   311 director      125,175   $155,514 2014-04-18   \n",
       "1                     accountant       49,903    $72,996 2018-06-22   \n",
       "2               accounting clerk       49,005    $71,618 2018-07-13   \n",
       "3  accounting records supervisor       55,332    $80,930 2018-07-27   \n",
       "4         administrative analyst       60,489    $88,468 2018-06-01   \n",
       "\n",
       "                                        requirements  \\\n",
       "0  1. One year of full-time paid experience as a ...   \n",
       "1  Graduation from an accredited four-year colleg...   \n",
       "2  Two years of full-time paid office clerical ex...   \n",
       "3  Two years of full-time paid experience as an A...   \n",
       "4  1. One year of full-time paid professional exp...   \n",
       "\n",
       "                                              duties         deadline  \\\n",
       "0  A 311 Director is responsible for the successf...      MAY 1, 2014   \n",
       "1  An Accountant does professional accounting wor...  AUGUST 25, 2018   \n",
       "2  An Accounting Clerk performs difficult and res...              NaN   \n",
       "3  An Accounting Records Supervisor assigns, revi...   AUGUST 9, 2018   \n",
       "4  An Administrative Analyst performs professiona...    JUNE 14, 2018   \n",
       "\n",
       "  deadline_date validity_duration  ... EDUCATION_YEARS            SCHOOL_TYPE  \\\n",
       "0    2014-05-01                13  ...             NaN                    NaN   \n",
       "1    2018-08-25                64  ...            four  College or University   \n",
       "2           NaT               NaN  ...             NaN                    NaN   \n",
       "3    2018-08-09                13  ...             NaN                    NaN   \n",
       "4    2018-06-14                13  ...            four  College or University   \n",
       "\n",
       "  nb_line_scale  nb_char_scale  Resp_level  Open_To_All  Open_To_Mention  \\\n",
       "0             1              1           5            1                0   \n",
       "1             2              1           0            1                1   \n",
       "2             2              1           0            1                1   \n",
       "3             2              1           3            0                1   \n",
       "4             2              3           0            0                1   \n",
       "\n",
       "   exp_years high_education full_time_part_time_code  \n",
       "0        1.0              0                        2  \n",
       "1        NaN              1                        0  \n",
       "2        2.0              0                        2  \n",
       "3        2.0              0                        2  \n",
       "4        1.0              1                        2  \n",
       "\n",
       "[5 rows x 31 columns]"
      ]
     },
     "execution_count": 73,
     "metadata": {},
     "output_type": "execute_result"
    }
   ],
   "source": [
    "df_enriched.head()"
   ]
  },
  {
   "cell_type": "code",
   "execution_count": 74,
   "metadata": {},
   "outputs": [
    {
     "data": {
      "text/plain": [
       "count    675.000000\n",
       "mean       1.795556\n",
       "std        1.748160\n",
       "min        0.000000\n",
       "25%        0.000000\n",
       "50%        3.000000\n",
       "75%        3.000000\n",
       "max        5.000000\n",
       "Name: Resp_level, dtype: float64"
      ]
     },
     "execution_count": 74,
     "metadata": {},
     "output_type": "execute_result"
    }
   ],
   "source": [
    "df_enriched['Resp_level'].describe()"
   ]
  },
  {
   "cell_type": "code",
   "execution_count": 75,
   "metadata": {},
   "outputs": [
    {
     "data": {
      "text/plain": [
       "0    313\n",
       "3    215\n",
       "4     99\n",
       "5     25\n",
       "2     23\n",
       "Name: Resp_level, dtype: int64"
      ]
     },
     "execution_count": 75,
     "metadata": {},
     "output_type": "execute_result"
    }
   ],
   "source": [
    "df_enriched['Resp_level'].value_counts().head(10)"
   ]
  },
  {
   "cell_type": "code",
   "execution_count": 76,
   "metadata": {},
   "outputs": [
    {
     "data": {
      "text/plain": [
       "<matplotlib.axes._subplots.AxesSubplot at 0x16510860240>"
      ]
     },
     "execution_count": 76,
     "metadata": {},
     "output_type": "execute_result"
    },
    {
     "data": {
      "image/png": "[encoded data removed]",
      "text/plain": [
       "<Figure size 432x288 with 1 Axes>"
      ]
     },
     "metadata": {
      "needs_background": "light"
     },
     "output_type": "display_data"
    }
   ],
   "source": [
    "df_enriched['Resp_level'].value_counts().head(10).plot(kind='bar')"
   ]
  },
  {
   "cell_type": "markdown",
   "metadata": {},
   "source": [
    "#### 1.d.1 Responsibility Level\n",
    "- Most (about 50%) of the job opportunities are very low responsibility levels (levels 0 to 2)\n",
    "- About 46% of the job positions present a medium or high responibility level (level 3 and 4). \n",
    "- About 4% of the job positions deal with very high responsibility (level 5)\n",
    "\n",
    "Our feeling is that the should not have displayed biais especially for medium to very high responsibility levels. If there is a bias, for instance en gender bias, it should be considered as a critical one."
   ]
  },
  {
   "cell_type": "code",
   "execution_count": 77,
   "metadata": {},
   "outputs": [
    {
     "data": {
      "text/plain": [
       "count    675.000000\n",
       "mean       0.548148\n",
       "std        0.498045\n",
       "min        0.000000\n",
       "25%        0.000000\n",
       "50%        1.000000\n",
       "75%        1.000000\n",
       "max        1.000000\n",
       "Name: Open_To_All, dtype: float64"
      ]
     },
     "execution_count": 77,
     "metadata": {},
     "output_type": "execute_result"
    }
   ],
   "source": [
    "df_enriched['Open_To_All'].describe()"
   ]
  },
  {
   "cell_type": "code",
   "execution_count": 78,
   "metadata": {},
   "outputs": [
    {
     "data": {
      "text/plain": [
       "1    370\n",
       "0    305\n",
       "Name: Open_To_All, dtype: int64"
      ]
     },
     "execution_count": 78,
     "metadata": {},
     "output_type": "execute_result"
    }
   ],
   "source": [
    "df_enriched['Open_To_All'].value_counts()"
   ]
  },
  {
   "cell_type": "code",
   "execution_count": 79,
   "metadata": {},
   "outputs": [
    {
     "data": {
      "text/plain": [
       "<matplotlib.axes._subplots.AxesSubplot at 0x16511281f98>"
      ]
     },
     "execution_count": 79,
     "metadata": {},
     "output_type": "execute_result"
    },
    {
     "data": {
      "image/png": "[encoded data removed]",
      "text/plain": [
       "<Figure size 432x288 with 1 Axes>"
      ]
     },
     "metadata": {
      "needs_background": "light"
     },
     "output_type": "display_data"
    }
   ],
   "source": [
    "df_enriched['Open_To_All'].value_counts().head().plot(kind='bar')"
   ]
  },
  {
   "cell_type": "markdown",
   "metadata": {},
   "source": [
    "#### 1.d.2 Open to All\n",
    "- About 370 Job bulletins (about 55%) are open to all kind of candidates including already city employees.\n",
    "  - About 305 Job bulletins (about 50%) clearly specify the are open to all.\n",
    "  - About 35 Job bulletins (about 5%) do not specify whether the job is opent to external cadidates.\n",
    "- About 305 Job bulletins (about 45%) are only open to current city employees\n",
    "\n",
    "This is huge, only 50% of the job postings are open to every candidate, this may reduce chances to have new candidates."
   ]
  },
  {
   "cell_type": "code",
   "execution_count": 80,
   "metadata": {},
   "outputs": [
    {
     "data": {
      "text/plain": [
       "2    576\n",
       "0     99\n",
       "Name: full_time_part_time_code, dtype: int64"
      ]
     },
     "execution_count": 80,
     "metadata": {},
     "output_type": "execute_result"
    }
   ],
   "source": [
    "df_enriched['full_time_part_time_code'].value_counts()"
   ]
  },
  {
   "cell_type": "markdown",
   "metadata": {},
   "source": [
    "#### 1.d.3 Part time or full time ?\n",
    "- The very large most of the position are specifically indicated as open in Full time (about 85%)\n",
    "- The remaining bulletins (99 of them) DO NOT specify if they are open to PART_TIME or NOT. Wee assume that they are fulltime.\n"
   ]
  },
  {
   "cell_type": "code",
   "execution_count": 81,
   "metadata": {},
   "outputs": [
    {
     "data": {
      "text/plain": [
       "0    553\n",
       "1    122\n",
       "Name: high_education, dtype: int64"
      ]
     },
     "execution_count": 81,
     "metadata": {},
     "output_type": "execute_result"
    }
   ],
   "source": [
    "df_enriched['high_education'].value_counts()"
   ]
  },
  {
   "cell_type": "markdown",
   "metadata": {},
   "source": [
    "#### 1.d.4 High eductation or Not ?\n",
    "- Only 122 job position require a college or university education (about 18%)\n",
    "- The remaining bulletins DO NOT specify anything. We will assume that they do don't require it.\n"
   ]
  },
  {
   "cell_type": "markdown",
   "metadata": {},
   "source": [
    "## 2. Gender bias analysis\n",
    "\n",
    "Let's assign a \"tendency\" to each job posting based on the following paper :\n",
    "https://www.hw.ac.uk/services/docs/gendered-wording-in-job-ads.pdf\n",
    "\n",
    "Are there any indication of a gender bias in the duties part ?"
   ]
  },
  {
   "cell_type": "code",
   "execution_count": 82,
   "metadata": {},
   "outputs": [],
   "source": [
    "df_enriched['GENDER_WORDS'] = df['duties'].apply(lambda x : assess.assess(x)['result'])"
   ]
  },
  {
   "cell_type": "code",
   "execution_count": 83,
   "metadata": {},
   "outputs": [
    {
     "data": {
      "text/plain": [
       "<matplotlib.axes._subplots.AxesSubplot at 0x165112d4e48>"
      ]
     },
     "execution_count": 83,
     "metadata": {},
     "output_type": "execute_result"
    },
    {
     "data": {
      "image/png": "[encoded data removed]",
      "text/plain": [
       "<Figure size 432x288 with 1 Axes>"
      ]
     },
     "metadata": {
      "needs_background": "light"
     },
     "output_type": "display_data"
    }
   ],
   "source": [
    "df_enriched[\"GENDER_WORDS\"].value_counts().plot(kind='bar')"
   ]
  },
  {
   "cell_type": "code",
   "execution_count": 84,
   "metadata": {},
   "outputs": [
    {
     "data": {
      "text/plain": [
       "neutral                     276\n",
       "masculine-coded             222\n",
       "strongly masculine-coded    102\n",
       "strongly feminine-coded      48\n",
       "feminine-coded               27\n",
       "Name: GENDER_WORDS, dtype: int64"
      ]
     },
     "execution_count": 84,
     "metadata": {},
     "output_type": "execute_result"
    }
   ],
   "source": [
    "df_enriched[\"GENDER_WORDS\"].value_counts()"
   ]
  },
  {
   "cell_type": "markdown",
   "metadata": {},
   "source": [
    "#### 2.a Gender tendency analysis\n",
    "There is an insight here !\n",
    "\n",
    "- 41% of the bulletins are masculine coded including \n",
    "* 33% are masculine coded\n",
    "* 8% are strongly masculine coded\n",
    "- Only 11 % are feminine or strongly feminine coded \n",
    "\n",
    "So the job postings are three times more inclined towards masculine words than feminine.\n",
    "\n",
    "#### Next steps: \n",
    "- We need to enrich the dataset with the tendancy separetedly masculine or feminine"
   ]
  },
  {
   "cell_type": "code",
   "execution_count": 85,
   "metadata": {},
   "outputs": [],
   "source": [
    "def tooMasculine(raw_text):\n",
    "    if \"masculine\" in raw_text.lower():\n",
    "        return((1))\n",
    "    else:\n",
    "        return(0)\n",
    "\n",
    "def tooFeminine(raw_text):\n",
    "    if \"feminine\" in raw_text.lower():\n",
    "        return((1))\n",
    "    else:\n",
    "        return(0)\n",
    "\n",
    "def code_gender_bias(val):\n",
    "    if not isNaN(val):\n",
    "        if val == \"neutral\":\n",
    "            return 0\n",
    "        if val == 'masculine-coded':\n",
    "            return 1\n",
    "        if val == 'strongly masculine-coded':\n",
    "            return 2\n",
    "        if val == 'feminine-coded':\n",
    "            return 3\n",
    "        if val == 'strongly feminine-coded':\n",
    "            return 4\n",
    "        else:\n",
    "            return np.nan\n",
    "\n",
    "def code_gender_score(val):\n",
    "    if not isNaN(val):\n",
    "        if val == \"neutral\":\n",
    "            return 0\n",
    "        if val == 'masculine-coded':\n",
    "            return 1\n",
    "        if val == 'strongly masculine-coded':\n",
    "            return 4\n",
    "        if val == 'feminine-coded':\n",
    "            return 1\n",
    "        if val == 'strongly feminine-coded':\n",
    "            return 4\n",
    "        else:\n",
    "            return 0"
   ]
  },
  {
   "cell_type": "code",
   "execution_count": 86,
   "metadata": {},
   "outputs": [],
   "source": [
    "df_enriched['Too_Feminine'] = df_enriched['GENDER_WORDS'].apply(lambda x : tooFeminine(x))\n",
    "df_enriched['Too_Masculine'] = df_enriched['GENDER_WORDS'].apply(lambda x : tooMasculine(x))\n",
    "df_enriched['gender_bias'] = df_enriched['GENDER_WORDS'].apply(lambda x : code_gender_bias(x))\n",
    "df_enriched['gender_score'] = df_enriched['GENDER_WORDS'].apply(lambda x : code_gender_score(x))"
   ]
  },
  {
   "cell_type": "code",
   "execution_count": 87,
   "metadata": {
    "scrolled": true
   },
   "outputs": [
    {
     "data": {
      "text/html": [
       "<div>\n",
       "<style scoped>\n",
       "    .dataframe tbody tr th:only-of-type {\n",
       "        vertical-align: middle;\n",
       "    }\n",
       "\n",
       "    .dataframe tbody tr th {\n",
       "        vertical-align: top;\n",
       "    }\n",
       "\n",
       "    .dataframe thead th {\n",
       "        text-align: right;\n",
       "    }\n",
       "</style>\n",
       "<table border=\"1\" class=\"dataframe\">\n",
       "  <thead>\n",
       "    <tr style=\"text-align: right;\">\n",
       "      <th></th>\n",
       "      <th>File Name</th>\n",
       "      <th>Position</th>\n",
       "      <th>salary_start</th>\n",
       "      <th>salary_end</th>\n",
       "      <th>opendate</th>\n",
       "      <th>requirements</th>\n",
       "      <th>duties</th>\n",
       "      <th>deadline</th>\n",
       "      <th>deadline_date</th>\n",
       "      <th>validity_duration</th>\n",
       "      <th>...</th>\n",
       "      <th>Open_To_All</th>\n",
       "      <th>Open_To_Mention</th>\n",
       "      <th>exp_years</th>\n",
       "      <th>high_education</th>\n",
       "      <th>full_time_part_time_code</th>\n",
       "      <th>GENDER_WORDS</th>\n",
       "      <th>Too_Feminine</th>\n",
       "      <th>Too_Masculine</th>\n",
       "      <th>gender_bias</th>\n",
       "      <th>gender_score</th>\n",
       "    </tr>\n",
       "  </thead>\n",
       "  <tbody>\n",
       "    <tr>\n",
       "      <th>0</th>\n",
       "      <td>311 DIRECTOR  9206 041814.txt</td>\n",
       "      <td>311 director</td>\n",
       "      <td>125,175</td>\n",
       "      <td>$155,514</td>\n",
       "      <td>2014-04-18</td>\n",
       "      <td>1. One year of full-time paid experience as a ...</td>\n",
       "      <td>A 311 Director is responsible for the successf...</td>\n",
       "      <td>MAY 1, 2014</td>\n",
       "      <td>2014-05-01</td>\n",
       "      <td>13</td>\n",
       "      <td>...</td>\n",
       "      <td>1</td>\n",
       "      <td>0</td>\n",
       "      <td>1.0</td>\n",
       "      <td>0</td>\n",
       "      <td>2</td>\n",
       "      <td>neutral</td>\n",
       "      <td>0</td>\n",
       "      <td>0</td>\n",
       "      <td>0</td>\n",
       "      <td>0</td>\n",
       "    </tr>\n",
       "    <tr>\n",
       "      <th>1</th>\n",
       "      <td>ACCOUNTANT 1513 062218.txt</td>\n",
       "      <td>accountant</td>\n",
       "      <td>49,903</td>\n",
       "      <td>$72,996</td>\n",
       "      <td>2018-06-22</td>\n",
       "      <td>Graduation from an accredited four-year colleg...</td>\n",
       "      <td>An Accountant does professional accounting wor...</td>\n",
       "      <td>AUGUST 25, 2018</td>\n",
       "      <td>2018-08-25</td>\n",
       "      <td>64</td>\n",
       "      <td>...</td>\n",
       "      <td>1</td>\n",
       "      <td>1</td>\n",
       "      <td>NaN</td>\n",
       "      <td>1</td>\n",
       "      <td>0</td>\n",
       "      <td>strongly masculine-coded</td>\n",
       "      <td>0</td>\n",
       "      <td>1</td>\n",
       "      <td>2</td>\n",
       "      <td>4</td>\n",
       "    </tr>\n",
       "    <tr>\n",
       "      <th>2</th>\n",
       "      <td>ACCOUNTING CLERK 1223 071318.txt</td>\n",
       "      <td>accounting clerk</td>\n",
       "      <td>49,005</td>\n",
       "      <td>$71,618</td>\n",
       "      <td>2018-07-13</td>\n",
       "      <td>Two years of full-time paid office clerical ex...</td>\n",
       "      <td>An Accounting Clerk performs difficult and res...</td>\n",
       "      <td>NaN</td>\n",
       "      <td>NaT</td>\n",
       "      <td>NaN</td>\n",
       "      <td>...</td>\n",
       "      <td>1</td>\n",
       "      <td>1</td>\n",
       "      <td>2.0</td>\n",
       "      <td>0</td>\n",
       "      <td>2</td>\n",
       "      <td>neutral</td>\n",
       "      <td>0</td>\n",
       "      <td>0</td>\n",
       "      <td>0</td>\n",
       "      <td>0</td>\n",
       "    </tr>\n",
       "    <tr>\n",
       "      <th>3</th>\n",
       "      <td>ACCOUNTING RECORDS SUPERVISOR 1119 072718.txt</td>\n",
       "      <td>accounting records supervisor</td>\n",
       "      <td>55,332</td>\n",
       "      <td>$80,930</td>\n",
       "      <td>2018-07-27</td>\n",
       "      <td>Two years of full-time paid experience as an A...</td>\n",
       "      <td>An Accounting Records Supervisor assigns, revi...</td>\n",
       "      <td>AUGUST 9, 2018</td>\n",
       "      <td>2018-08-09</td>\n",
       "      <td>13</td>\n",
       "      <td>...</td>\n",
       "      <td>0</td>\n",
       "      <td>1</td>\n",
       "      <td>2.0</td>\n",
       "      <td>0</td>\n",
       "      <td>2</td>\n",
       "      <td>neutral</td>\n",
       "      <td>0</td>\n",
       "      <td>0</td>\n",
       "      <td>0</td>\n",
       "      <td>0</td>\n",
       "    </tr>\n",
       "    <tr>\n",
       "      <th>4</th>\n",
       "      <td>ADMINISTRATIVE ANALYST 1590 060118.txt</td>\n",
       "      <td>administrative analyst</td>\n",
       "      <td>60,489</td>\n",
       "      <td>$88,468</td>\n",
       "      <td>2018-06-01</td>\n",
       "      <td>1. One year of full-time paid professional exp...</td>\n",
       "      <td>An Administrative Analyst performs professiona...</td>\n",
       "      <td>JUNE 14, 2018</td>\n",
       "      <td>2018-06-14</td>\n",
       "      <td>13</td>\n",
       "      <td>...</td>\n",
       "      <td>0</td>\n",
       "      <td>1</td>\n",
       "      <td>1.0</td>\n",
       "      <td>1</td>\n",
       "      <td>2</td>\n",
       "      <td>strongly masculine-coded</td>\n",
       "      <td>0</td>\n",
       "      <td>1</td>\n",
       "      <td>2</td>\n",
       "      <td>4</td>\n",
       "    </tr>\n",
       "  </tbody>\n",
       "</table>\n",
       "<p>5 rows × 36 columns</p>\n",
       "</div>"
      ],
      "text/plain": [
       "                                       File Name  \\\n",
       "0                  311 DIRECTOR  9206 041814.txt   \n",
       "1                     ACCOUNTANT 1513 062218.txt   \n",
       "2               ACCOUNTING CLERK 1223 071318.txt   \n",
       "3  ACCOUNTING RECORDS SUPERVISOR 1119 072718.txt   \n",
       "4         ADMINISTRATIVE ANALYST 1590 060118.txt   \n",
       "\n",
       "                        Position salary_start salary_end   opendate  \\\n",
       "0                   311 director      125,175   $155,514 2014-04-18   \n",
       "1                     accountant       49,903    $72,996 2018-06-22   \n",
       "2               accounting clerk       49,005    $71,618 2018-07-13   \n",
       "3  accounting records supervisor       55,332    $80,930 2018-07-27   \n",
       "4         administrative analyst       60,489    $88,468 2018-06-01   \n",
       "\n",
       "                                        requirements  \\\n",
       "0  1. One year of full-time paid experience as a ...   \n",
       "1  Graduation from an accredited four-year colleg...   \n",
       "2  Two years of full-time paid office clerical ex...   \n",
       "3  Two years of full-time paid experience as an A...   \n",
       "4  1. One year of full-time paid professional exp...   \n",
       "\n",
       "                                              duties         deadline  \\\n",
       "0  A 311 Director is responsible for the successf...      MAY 1, 2014   \n",
       "1  An Accountant does professional accounting wor...  AUGUST 25, 2018   \n",
       "2  An Accounting Clerk performs difficult and res...              NaN   \n",
       "3  An Accounting Records Supervisor assigns, revi...   AUGUST 9, 2018   \n",
       "4  An Administrative Analyst performs professiona...    JUNE 14, 2018   \n",
       "\n",
       "  deadline_date validity_duration  ... Open_To_All Open_To_Mention exp_years  \\\n",
       "0    2014-05-01                13  ...           1               0       1.0   \n",
       "1    2018-08-25                64  ...           1               1       NaN   \n",
       "2           NaT               NaN  ...           1               1       2.0   \n",
       "3    2018-08-09                13  ...           0               1       2.0   \n",
       "4    2018-06-14                13  ...           0               1       1.0   \n",
       "\n",
       "   high_education  full_time_part_time_code              GENDER_WORDS  \\\n",
       "0               0                         2                   neutral   \n",
       "1               1                         0  strongly masculine-coded   \n",
       "2               0                         2                   neutral   \n",
       "3               0                         2                   neutral   \n",
       "4               1                         2  strongly masculine-coded   \n",
       "\n",
       "   Too_Feminine  Too_Masculine gender_bias gender_score  \n",
       "0             0              0           0            0  \n",
       "1             0              1           2            4  \n",
       "2             0              0           0            0  \n",
       "3             0              0           0            0  \n",
       "4             0              1           2            4  \n",
       "\n",
       "[5 rows x 36 columns]"
      ]
     },
     "execution_count": 87,
     "metadata": {},
     "output_type": "execute_result"
    }
   ],
   "source": [
    "df_enriched.head()"
   ]
  },
  {
   "cell_type": "markdown",
   "metadata": {},
   "source": [
    "The enriching with the gender tendency is over"
   ]
  },
  {
   "cell_type": "markdown",
   "metadata": {},
   "source": [
    "## 4. What are the bulletins that require immediate action to reduce unconscious biases ?\n",
    "For this, we will look for bulletins with high masculine or high feminine coded language and check their responsibility level as well as the complexity of the selection, and the validity duration \n"
   ]
  },
  {
   "cell_type": "markdown",
   "metadata": {},
   "source": [
    "#### 4.a Interesting correlations\n",
    "In this section, we will check if there are 'unlegitimate' correlation between \n",
    "- responisibility level, \n",
    "- vadility duration\n",
    "- nb_lines_scale (in the text description)\n",
    "- Nb_chars_scale\n",
    "- nb_requirement\n",
    "- nb_selection steps, \n",
    "- Open_to_All\n",
    "- exp_years\n",
    "- full_time_part_time_code\n",
    "- high_education\n",
    "- toomasculine\n",
    "- toofeminine"
   ]
  },
  {
   "cell_type": "code",
   "execution_count": 88,
   "metadata": {},
   "outputs": [
    {
     "data": {
      "text/html": [
       "<div>\n",
       "<style scoped>\n",
       "    .dataframe tbody tr th:only-of-type {\n",
       "        vertical-align: middle;\n",
       "    }\n",
       "\n",
       "    .dataframe tbody tr th {\n",
       "        vertical-align: top;\n",
       "    }\n",
       "\n",
       "    .dataframe thead th {\n",
       "        text-align: right;\n",
       "    }\n",
       "</style>\n",
       "<table border=\"1\" class=\"dataframe\">\n",
       "  <thead>\n",
       "    <tr style=\"text-align: right;\">\n",
       "      <th></th>\n",
       "      <th>File Name</th>\n",
       "      <th>Position</th>\n",
       "      <th>salary_start</th>\n",
       "      <th>salary_end</th>\n",
       "      <th>validity_duration</th>\n",
       "      <th>nb_lines</th>\n",
       "      <th>nb_chars</th>\n",
       "      <th>nb_requirements</th>\n",
       "      <th>nb_selection_steps</th>\n",
       "      <th>nb_line_scale</th>\n",
       "      <th>...</th>\n",
       "      <th>Resp_level</th>\n",
       "      <th>Open_To_All</th>\n",
       "      <th>exp_years</th>\n",
       "      <th>high_education</th>\n",
       "      <th>full_time_part_time_code</th>\n",
       "      <th>GENDER_WORDS</th>\n",
       "      <th>Too_Feminine</th>\n",
       "      <th>Too_Masculine</th>\n",
       "      <th>gender_bias</th>\n",
       "      <th>gender_score</th>\n",
       "    </tr>\n",
       "  </thead>\n",
       "  <tbody>\n",
       "    <tr>\n",
       "      <th>0</th>\n",
       "      <td>311 DIRECTOR  9206 041814.txt</td>\n",
       "      <td>311 director</td>\n",
       "      <td>125,175</td>\n",
       "      <td>$155,514</td>\n",
       "      <td>13</td>\n",
       "      <td>72</td>\n",
       "      <td>9781</td>\n",
       "      <td>3.0</td>\n",
       "      <td>1.0</td>\n",
       "      <td>1</td>\n",
       "      <td>...</td>\n",
       "      <td>5</td>\n",
       "      <td>1</td>\n",
       "      <td>1.0</td>\n",
       "      <td>0</td>\n",
       "      <td>2</td>\n",
       "      <td>neutral</td>\n",
       "      <td>0</td>\n",
       "      <td>0</td>\n",
       "      <td>0</td>\n",
       "      <td>0</td>\n",
       "    </tr>\n",
       "    <tr>\n",
       "      <th>1</th>\n",
       "      <td>ACCOUNTANT 1513 062218.txt</td>\n",
       "      <td>accountant</td>\n",
       "      <td>49,903</td>\n",
       "      <td>$72,996</td>\n",
       "      <td>64</td>\n",
       "      <td>90</td>\n",
       "      <td>10260</td>\n",
       "      <td>1.0</td>\n",
       "      <td>2.0</td>\n",
       "      <td>2</td>\n",
       "      <td>...</td>\n",
       "      <td>0</td>\n",
       "      <td>1</td>\n",
       "      <td>NaN</td>\n",
       "      <td>1</td>\n",
       "      <td>0</td>\n",
       "      <td>strongly masculine-coded</td>\n",
       "      <td>0</td>\n",
       "      <td>1</td>\n",
       "      <td>2</td>\n",
       "      <td>4</td>\n",
       "    </tr>\n",
       "    <tr>\n",
       "      <th>2</th>\n",
       "      <td>ACCOUNTING CLERK 1223 071318.txt</td>\n",
       "      <td>accounting clerk</td>\n",
       "      <td>49,005</td>\n",
       "      <td>$71,618</td>\n",
       "      <td>NaN</td>\n",
       "      <td>88</td>\n",
       "      <td>10291</td>\n",
       "      <td>1.0</td>\n",
       "      <td>1.0</td>\n",
       "      <td>2</td>\n",
       "      <td>...</td>\n",
       "      <td>0</td>\n",
       "      <td>1</td>\n",
       "      <td>2.0</td>\n",
       "      <td>0</td>\n",
       "      <td>2</td>\n",
       "      <td>neutral</td>\n",
       "      <td>0</td>\n",
       "      <td>0</td>\n",
       "      <td>0</td>\n",
       "      <td>0</td>\n",
       "    </tr>\n",
       "    <tr>\n",
       "      <th>3</th>\n",
       "      <td>ACCOUNTING RECORDS SUPERVISOR 1119 072718.txt</td>\n",
       "      <td>accounting records supervisor</td>\n",
       "      <td>55,332</td>\n",
       "      <td>$80,930</td>\n",
       "      <td>13</td>\n",
       "      <td>87</td>\n",
       "      <td>7821</td>\n",
       "      <td>1.0</td>\n",
       "      <td>2.0</td>\n",
       "      <td>2</td>\n",
       "      <td>...</td>\n",
       "      <td>3</td>\n",
       "      <td>0</td>\n",
       "      <td>2.0</td>\n",
       "      <td>0</td>\n",
       "      <td>2</td>\n",
       "      <td>neutral</td>\n",
       "      <td>0</td>\n",
       "      <td>0</td>\n",
       "      <td>0</td>\n",
       "      <td>0</td>\n",
       "    </tr>\n",
       "    <tr>\n",
       "      <th>4</th>\n",
       "      <td>ADMINISTRATIVE ANALYST 1590 060118.txt</td>\n",
       "      <td>administrative analyst</td>\n",
       "      <td>60,489</td>\n",
       "      <td>$88,468</td>\n",
       "      <td>13</td>\n",
       "      <td>93</td>\n",
       "      <td>11451</td>\n",
       "      <td>3.0</td>\n",
       "      <td>3.0</td>\n",
       "      <td>2</td>\n",
       "      <td>...</td>\n",
       "      <td>0</td>\n",
       "      <td>0</td>\n",
       "      <td>1.0</td>\n",
       "      <td>1</td>\n",
       "      <td>2</td>\n",
       "      <td>strongly masculine-coded</td>\n",
       "      <td>0</td>\n",
       "      <td>1</td>\n",
       "      <td>2</td>\n",
       "      <td>4</td>\n",
       "    </tr>\n",
       "  </tbody>\n",
       "</table>\n",
       "<p>5 rows × 21 columns</p>\n",
       "</div>"
      ],
      "text/plain": [
       "                                       File Name  \\\n",
       "0                  311 DIRECTOR  9206 041814.txt   \n",
       "1                     ACCOUNTANT 1513 062218.txt   \n",
       "2               ACCOUNTING CLERK 1223 071318.txt   \n",
       "3  ACCOUNTING RECORDS SUPERVISOR 1119 072718.txt   \n",
       "4         ADMINISTRATIVE ANALYST 1590 060118.txt   \n",
       "\n",
       "                        Position salary_start salary_end validity_duration  \\\n",
       "0                   311 director      125,175   $155,514                13   \n",
       "1                     accountant       49,903    $72,996                64   \n",
       "2               accounting clerk       49,005    $71,618               NaN   \n",
       "3  accounting records supervisor       55,332    $80,930                13   \n",
       "4         administrative analyst       60,489    $88,468                13   \n",
       "\n",
       "  nb_lines nb_chars  nb_requirements  nb_selection_steps  nb_line_scale  ...  \\\n",
       "0       72     9781              3.0                 1.0              1  ...   \n",
       "1       90    10260              1.0                 2.0              2  ...   \n",
       "2       88    10291              1.0                 1.0              2  ...   \n",
       "3       87     7821              1.0                 2.0              2  ...   \n",
       "4       93    11451              3.0                 3.0              2  ...   \n",
       "\n",
       "   Resp_level  Open_To_All  exp_years  high_education  \\\n",
       "0           5            1        1.0               0   \n",
       "1           0            1        NaN               1   \n",
       "2           0            1        2.0               0   \n",
       "3           3            0        2.0               0   \n",
       "4           0            0        1.0               1   \n",
       "\n",
       "   full_time_part_time_code              GENDER_WORDS Too_Feminine  \\\n",
       "0                         2                   neutral            0   \n",
       "1                         0  strongly masculine-coded            0   \n",
       "2                         2                   neutral            0   \n",
       "3                         2                   neutral            0   \n",
       "4                         2  strongly masculine-coded            0   \n",
       "\n",
       "   Too_Masculine  gender_bias  gender_score  \n",
       "0              0            0             0  \n",
       "1              1            2             4  \n",
       "2              0            0             0  \n",
       "3              0            0             0  \n",
       "4              1            2             4  \n",
       "\n",
       "[5 rows x 21 columns]"
      ]
     },
     "execution_count": 88,
     "metadata": {},
     "output_type": "execute_result"
    }
   ],
   "source": [
    "df_correlation = df_enriched.drop(columns=[\"opendate\", \"requirements\",\"duties\", \"deadline\", \"deadline_date\",\"selection\",\"Essay\",\"Interview\",\"WTest\",\"FULL_TIME_PART_TIME\", \"EDUCATION_YEARS\", \"SCHOOL_TYPE\", \"raw_job_text\", \"EXPERIENCE_LENGTH\", \"Open_To_Mention\"], axis=1)\n",
    "#df_correlation.drop(columns=[\"opendate\", \"requirements\",\"duties\", \"deadline\", \"deadline_date\", \"Interview\",\"WTest\",\"FULL_TIME_PART_TIME\", \"EDUCATION_YEARS\", \"SCHOOL_TYPE\", \"GENDER_WORDS\"], axis=1)\n",
    "df_correlation.head()"
   ]
  },
  {
   "cell_type": "code",
   "execution_count": 89,
   "metadata": {},
   "outputs": [
    {
     "data": {
      "text/plain": [
       "<matplotlib.axes._subplots.AxesSubplot at 0x1651133f860>"
      ]
     },
     "execution_count": 89,
     "metadata": {},
     "output_type": "execute_result"
    },
    {
     "data": {
      "image/png": "[encoded data removed]",
      "text/plain": [
       "<Figure size 432x288 with 2 Axes>"
      ]
     },
     "metadata": {
      "needs_background": "light"
     },
     "output_type": "display_data"
    }
   ],
   "source": [
    "import seaborn as sns\n",
    "corr = df_correlation.corr()\n",
    "sns.heatmap(corr, xticklabels=corr.columns.values, yticklabels=corr.columns.values)"
   ]
  },
  {
   "cell_type": "markdown",
   "metadata": {},
   "source": [
    "#### 4.b Interesting correlations summary\n",
    "\n",
    "##### Open_To_All VS nb_requirements \n",
    "> No straight correlation ==> Difficult to suspect a biais on this situation\n",
    "\n",
    "##### high_education VS Open_To_All \n",
    "> No straight correlation ==> Difficult to suspect a biais on this situation\n",
    "\n",
    "##### Resp_level VS tooMasculine and tooFeminine : \n",
    "> There is very little (0.25) trend that responsibility level can correlate with masculine coded. \n",
    "> The opposite trend is obtained for feminine coded (-0.25)\n",
    "\n",
    "##### Resp_Level  VS nb_line_scale\n",
    "> At the opposite to what we could expect there is not a strait correlation between the nuber of lines in the job description and the responsibility level.\n",
    "\n",
    "##### Resp_Level VS nb_char_scale\n",
    "> At the opposite to what we could expect there is not a straight correlation between the nuber of chars in the job description and the responsibility level.\n",
    "\n",
    "##### Resp_Level VS nb_char_scale\n",
    "> At the opposite to what we could expect there is not a straight correlation between the nuber of chars in the job description and the responsibility level.\n",
    "\n",
    "##### Resp_Level VS nb_selection_steps\n",
    "> There is very little (0.25) trend that responsibility level can correlate with the number of selection steps which makes sense. \n",
    "\n",
    "##### Resp_Level VS nb_requirements\n",
    "> No straight correlation ==> Difficult to suspect a biais on this situation.\n",
    "\n",
    "##### Resp_Level VS : other observations\n",
    "> There is also 1 little correlation betweel Resp_Level and Fulltime job. Indeed, Responibility jobs require full time.\n",
    "> We can also be surprised by the fact that there is no straigh correlation between Resp_Level and exp_years, neither high_education. The backgroung does not seem to be important for offering rresponsibility jobs.\n",
    "\n",
    "##### Too_Masculine VS ???\n",
    "> There is a little trend on the correlation of TooMasculine with the number of requirements, the complexity of the selection, the requirement of a high education background.\n",
    "> The sexist trend is very subtle.\n",
    "\n",
    "##### Too_Feminine VS ???\n",
    "> there is no straight correlation possible between a feminine coded bulletin and other bulletin characteristics.\n"
   ]
  },
  {
   "cell_type": "markdown",
   "metadata": {},
   "source": [
    "#### 4.c Suspicious bulletins\n",
    "\n",
    "We need to identify the most suspicious bulletins inside our dataframe of 675. By \"suspicious\", we mean buletins that would be biased, or that would need to follow basic recommandations about the validity duration, or other parameters.\n",
    "\n",
    "For this, we are going to score bulletin. The score is a combiations of penalties based on the main indcators of a biais which are \n",
    "- Resp_level\n",
    "- gender_score\n",
    "- nb_line_scale\n",
    "- nb_char_scale\n",
    "- nb_selection_steps\n",
    "- nb_requirements\n",
    "- Open_To_All\n",
    "- validity_duration\n",
    "\n",
    "The higher the socre is, the higher is the necessity to look up the bulletin. \n",
    "> When it comes to medium to high responnsibility position, biased bulletins are sanctioned even harder.\n",
    "\n"
   ]
  },
  {
   "cell_type": "code",
   "execution_count": 90,
   "metadata": {},
   "outputs": [],
   "source": [
    "def code_gender_score(val):\n",
    "    if not isNaN(val):\n",
    "        if val == \"neutral\":\n",
    "            return 0\n",
    "        if val == 'masculine-coded':\n",
    "            return 1\n",
    "        if val == 'strongly masculine-coded':\n",
    "            return 4\n",
    "        if val == 'feminine-coded':\n",
    "            return 1\n",
    "        if val == 'strongly feminine-coded':\n",
    "            return 4\n",
    "        else:\n",
    "            return 0\n",
    "\n",
    "def bulletin_score(row, dataframe):\n",
    "    \n",
    "    #resp, gender_score,nblines,nbchars,opentoall,nbreq,nbsel,valid, educ\n",
    "    score = 0\n",
    "    \n",
    "    if dataframe[\"Resp_level\"][row] < 3:\n",
    "            if dataframe[\"nb_line_scale\"][row] > 3:\n",
    "                # + 1 penalty when too many lines\n",
    "                score += 1\n",
    "            \n",
    "            if dataframe[\"nb_char_scale\"][row] > 3:\n",
    "                # + 1 penalty when too many chars\n",
    "                score += 1\n",
    "            \n",
    "            if dataframe[\"high_education\"][row] ==1:\n",
    "                # + 2 penalty when high education required for low resposnsibility\n",
    "                score +=2\n",
    "            \n",
    "            if dataframe[\"nb_requirements\"][row] == 4:\n",
    "                score += 1\n",
    "                # + 1 penalty when 4 requirements\n",
    "                \n",
    "            if dataframe[\"nb_requirements\"][row] >5:\n",
    "                # + 4 penalty when too many requirements\n",
    "                score +=4\n",
    "            \n",
    "            if dataframe[\"nb_selection_steps\"][row] == 2:\n",
    "                # + 1 penalty when 2 selection steps\n",
    "                score += 1\n",
    "            if dataframe[\"nb_selection_steps\"][row] > 2:\n",
    "                # + 1 penalty when 3 selection steps\n",
    "                score +=4\n",
    "                \n",
    "            if dataframe[\"Open_To_All\"][row]==1:\n",
    "                if dataframe[\"validity_duration\"][row] <=12:\n",
    "                    # + 4 when little time given to apply whereas position open to all\n",
    "                    score +=4\n",
    "            score += 1\n",
    "            score*= dataframe[\"gender_score\"][row]\n",
    "            score *= dataframe[\"Resp_level\"][row]\n",
    "            \n",
    "                    \n",
    "    else:\n",
    "        # if position with responsibility, more penalty is given to gender trend\n",
    "        if dataframe[\"Open_To_All\"][row]==1:\n",
    "            if dataframe[\"validity_duration\"][row] <=12:\n",
    "                # + 4 when little time given to apply whereas position open to all\n",
    "                score +=4\n",
    "        if dataframe[\"gender_score\"][row] >0:\n",
    "            score += 5\n",
    "            score *= dataframe[\"gender_score\"][row]\n",
    "            score *= dataframe[\"Resp_level\"][row]\n",
    "    \n",
    "    return(score)\n",
    "            \n",
    "       "
   ]
  },
  {
   "cell_type": "code",
   "execution_count": 91,
   "metadata": {},
   "outputs": [
    {
     "name": "stderr",
     "output_type": "stream",
     "text": [
      "C:\\Users\\Virginie\\Anaconda3\\lib\\site-packages\\ipykernel_launcher.py:5: SettingWithCopyWarning: \n",
      "A value is trying to be set on a copy of a slice from a DataFrame\n",
      "\n",
      "See the caveats in the documentation: http://pandas.pydata.org/pandas-docs/stable/indexing.html#indexing-view-versus-copy\n",
      "  \"\"\"\n"
     ]
    }
   ],
   "source": [
    "df_scored = df_correlation\n",
    "#df_scored['score'][row] = df_scored.apply(lambda row : code_gender_score(row))\n",
    "df_scored.insert(loc=3, column='score', value=0, allow_duplicates = False)\n",
    "for row in range(0, len(df_scored)):\n",
    "    df_scored['score'][row] = bulletin_score(row,df_correlation)"
   ]
  },
  {
   "cell_type": "code",
   "execution_count": 92,
   "metadata": {},
   "outputs": [
    {
     "data": {
      "text/html": [
       "<div>\n",
       "<style scoped>\n",
       "    .dataframe tbody tr th:only-of-type {\n",
       "        vertical-align: middle;\n",
       "    }\n",
       "\n",
       "    .dataframe tbody tr th {\n",
       "        vertical-align: top;\n",
       "    }\n",
       "\n",
       "    .dataframe thead th {\n",
       "        text-align: right;\n",
       "    }\n",
       "</style>\n",
       "<table border=\"1\" class=\"dataframe\">\n",
       "  <thead>\n",
       "    <tr style=\"text-align: right;\">\n",
       "      <th></th>\n",
       "      <th>File Name</th>\n",
       "      <th>Position</th>\n",
       "      <th>salary_start</th>\n",
       "      <th>score</th>\n",
       "      <th>salary_end</th>\n",
       "      <th>validity_duration</th>\n",
       "      <th>nb_lines</th>\n",
       "      <th>nb_chars</th>\n",
       "      <th>nb_requirements</th>\n",
       "      <th>nb_selection_steps</th>\n",
       "      <th>...</th>\n",
       "      <th>Resp_level</th>\n",
       "      <th>Open_To_All</th>\n",
       "      <th>exp_years</th>\n",
       "      <th>high_education</th>\n",
       "      <th>full_time_part_time_code</th>\n",
       "      <th>GENDER_WORDS</th>\n",
       "      <th>Too_Feminine</th>\n",
       "      <th>Too_Masculine</th>\n",
       "      <th>gender_bias</th>\n",
       "      <th>gender_score</th>\n",
       "    </tr>\n",
       "  </thead>\n",
       "  <tbody>\n",
       "    <tr>\n",
       "      <th>0</th>\n",
       "      <td>311 DIRECTOR  9206 041814.txt</td>\n",
       "      <td>311 director</td>\n",
       "      <td>125,175</td>\n",
       "      <td>0</td>\n",
       "      <td>$155,514</td>\n",
       "      <td>13</td>\n",
       "      <td>72</td>\n",
       "      <td>9781</td>\n",
       "      <td>3.0</td>\n",
       "      <td>1.0</td>\n",
       "      <td>...</td>\n",
       "      <td>5</td>\n",
       "      <td>1</td>\n",
       "      <td>1.0</td>\n",
       "      <td>0</td>\n",
       "      <td>2</td>\n",
       "      <td>neutral</td>\n",
       "      <td>0</td>\n",
       "      <td>0</td>\n",
       "      <td>0</td>\n",
       "      <td>0</td>\n",
       "    </tr>\n",
       "    <tr>\n",
       "      <th>1</th>\n",
       "      <td>ACCOUNTANT 1513 062218.txt</td>\n",
       "      <td>accountant</td>\n",
       "      <td>49,903</td>\n",
       "      <td>0</td>\n",
       "      <td>$72,996</td>\n",
       "      <td>64</td>\n",
       "      <td>90</td>\n",
       "      <td>10260</td>\n",
       "      <td>1.0</td>\n",
       "      <td>2.0</td>\n",
       "      <td>...</td>\n",
       "      <td>0</td>\n",
       "      <td>1</td>\n",
       "      <td>NaN</td>\n",
       "      <td>1</td>\n",
       "      <td>0</td>\n",
       "      <td>strongly masculine-coded</td>\n",
       "      <td>0</td>\n",
       "      <td>1</td>\n",
       "      <td>2</td>\n",
       "      <td>4</td>\n",
       "    </tr>\n",
       "    <tr>\n",
       "      <th>2</th>\n",
       "      <td>ACCOUNTING CLERK 1223 071318.txt</td>\n",
       "      <td>accounting clerk</td>\n",
       "      <td>49,005</td>\n",
       "      <td>0</td>\n",
       "      <td>$71,618</td>\n",
       "      <td>NaN</td>\n",
       "      <td>88</td>\n",
       "      <td>10291</td>\n",
       "      <td>1.0</td>\n",
       "      <td>1.0</td>\n",
       "      <td>...</td>\n",
       "      <td>0</td>\n",
       "      <td>1</td>\n",
       "      <td>2.0</td>\n",
       "      <td>0</td>\n",
       "      <td>2</td>\n",
       "      <td>neutral</td>\n",
       "      <td>0</td>\n",
       "      <td>0</td>\n",
       "      <td>0</td>\n",
       "      <td>0</td>\n",
       "    </tr>\n",
       "    <tr>\n",
       "      <th>3</th>\n",
       "      <td>ACCOUNTING RECORDS SUPERVISOR 1119 072718.txt</td>\n",
       "      <td>accounting records supervisor</td>\n",
       "      <td>55,332</td>\n",
       "      <td>0</td>\n",
       "      <td>$80,930</td>\n",
       "      <td>13</td>\n",
       "      <td>87</td>\n",
       "      <td>7821</td>\n",
       "      <td>1.0</td>\n",
       "      <td>2.0</td>\n",
       "      <td>...</td>\n",
       "      <td>3</td>\n",
       "      <td>0</td>\n",
       "      <td>2.0</td>\n",
       "      <td>0</td>\n",
       "      <td>2</td>\n",
       "      <td>neutral</td>\n",
       "      <td>0</td>\n",
       "      <td>0</td>\n",
       "      <td>0</td>\n",
       "      <td>0</td>\n",
       "    </tr>\n",
       "    <tr>\n",
       "      <th>4</th>\n",
       "      <td>ADMINISTRATIVE ANALYST 1590 060118.txt</td>\n",
       "      <td>administrative analyst</td>\n",
       "      <td>60,489</td>\n",
       "      <td>0</td>\n",
       "      <td>$88,468</td>\n",
       "      <td>13</td>\n",
       "      <td>93</td>\n",
       "      <td>11451</td>\n",
       "      <td>3.0</td>\n",
       "      <td>3.0</td>\n",
       "      <td>...</td>\n",
       "      <td>0</td>\n",
       "      <td>0</td>\n",
       "      <td>1.0</td>\n",
       "      <td>1</td>\n",
       "      <td>2</td>\n",
       "      <td>strongly masculine-coded</td>\n",
       "      <td>0</td>\n",
       "      <td>1</td>\n",
       "      <td>2</td>\n",
       "      <td>4</td>\n",
       "    </tr>\n",
       "  </tbody>\n",
       "</table>\n",
       "<p>5 rows × 22 columns</p>\n",
       "</div>"
      ],
      "text/plain": [
       "                                       File Name  \\\n",
       "0                  311 DIRECTOR  9206 041814.txt   \n",
       "1                     ACCOUNTANT 1513 062218.txt   \n",
       "2               ACCOUNTING CLERK 1223 071318.txt   \n",
       "3  ACCOUNTING RECORDS SUPERVISOR 1119 072718.txt   \n",
       "4         ADMINISTRATIVE ANALYST 1590 060118.txt   \n",
       "\n",
       "                        Position salary_start  score salary_end  \\\n",
       "0                   311 director      125,175      0   $155,514   \n",
       "1                     accountant       49,903      0    $72,996   \n",
       "2               accounting clerk       49,005      0    $71,618   \n",
       "3  accounting records supervisor       55,332      0    $80,930   \n",
       "4         administrative analyst       60,489      0    $88,468   \n",
       "\n",
       "  validity_duration nb_lines nb_chars  nb_requirements  nb_selection_steps  \\\n",
       "0                13       72     9781              3.0                 1.0   \n",
       "1                64       90    10260              1.0                 2.0   \n",
       "2               NaN       88    10291              1.0                 1.0   \n",
       "3                13       87     7821              1.0                 2.0   \n",
       "4                13       93    11451              3.0                 3.0   \n",
       "\n",
       "   ...  Resp_level  Open_To_All  exp_years  high_education  \\\n",
       "0  ...           5            1        1.0               0   \n",
       "1  ...           0            1        NaN               1   \n",
       "2  ...           0            1        2.0               0   \n",
       "3  ...           3            0        2.0               0   \n",
       "4  ...           0            0        1.0               1   \n",
       "\n",
       "   full_time_part_time_code              GENDER_WORDS  Too_Feminine  \\\n",
       "0                         2                   neutral             0   \n",
       "1                         0  strongly masculine-coded             0   \n",
       "2                         2                   neutral             0   \n",
       "3                         2                   neutral             0   \n",
       "4                         2  strongly masculine-coded             0   \n",
       "\n",
       "  Too_Masculine  gender_bias  gender_score  \n",
       "0             0            0             0  \n",
       "1             1            2             4  \n",
       "2             0            0             0  \n",
       "3             0            0             0  \n",
       "4             1            2             4  \n",
       "\n",
       "[5 rows x 22 columns]"
      ]
     },
     "execution_count": 92,
     "metadata": {},
     "output_type": "execute_result"
    }
   ],
   "source": [
    "df_scored.head()\n"
   ]
  },
  {
   "cell_type": "code",
   "execution_count": 93,
   "metadata": {},
   "outputs": [
    {
     "data": {
      "text/html": [
       "<div>\n",
       "<style scoped>\n",
       "    .dataframe tbody tr th:only-of-type {\n",
       "        vertical-align: middle;\n",
       "    }\n",
       "\n",
       "    .dataframe tbody tr th {\n",
       "        vertical-align: top;\n",
       "    }\n",
       "\n",
       "    .dataframe thead th {\n",
       "        text-align: right;\n",
       "    }\n",
       "</style>\n",
       "<table border=\"1\" class=\"dataframe\">\n",
       "  <thead>\n",
       "    <tr style=\"text-align: right;\">\n",
       "      <th></th>\n",
       "      <th>File Name</th>\n",
       "      <th>Position</th>\n",
       "      <th>salary_start</th>\n",
       "      <th>score</th>\n",
       "      <th>salary_end</th>\n",
       "      <th>validity_duration</th>\n",
       "      <th>nb_lines</th>\n",
       "      <th>nb_chars</th>\n",
       "      <th>nb_requirements</th>\n",
       "      <th>nb_selection_steps</th>\n",
       "      <th>...</th>\n",
       "      <th>Resp_level</th>\n",
       "      <th>Open_To_All</th>\n",
       "      <th>exp_years</th>\n",
       "      <th>high_education</th>\n",
       "      <th>full_time_part_time_code</th>\n",
       "      <th>GENDER_WORDS</th>\n",
       "      <th>Too_Feminine</th>\n",
       "      <th>Too_Masculine</th>\n",
       "      <th>gender_bias</th>\n",
       "      <th>gender_score</th>\n",
       "    </tr>\n",
       "  </thead>\n",
       "  <tbody>\n",
       "    <tr>\n",
       "      <th>145</th>\n",
       "      <td>COMMUNICATIONS INFORMATION REPRESENTATIVE 1461...</td>\n",
       "      <td>communications information representative</td>\n",
       "      <td>41,697</td>\n",
       "      <td>108</td>\n",
       "      <td>$59,340</td>\n",
       "      <td>11</td>\n",
       "      <td>111</td>\n",
       "      <td>13006</td>\n",
       "      <td>3.0</td>\n",
       "      <td>2.0</td>\n",
       "      <td>...</td>\n",
       "      <td>3</td>\n",
       "      <td>1</td>\n",
       "      <td>1.0</td>\n",
       "      <td>0</td>\n",
       "      <td>2</td>\n",
       "      <td>strongly feminine-coded</td>\n",
       "      <td>1</td>\n",
       "      <td>0</td>\n",
       "      <td>4</td>\n",
       "      <td>4</td>\n",
       "    </tr>\n",
       "    <tr>\n",
       "      <th>617</th>\n",
       "      <td>TRANSPORTATION ENGINEERING ASSOCIATE 7280 0724...</td>\n",
       "      <td>transportation engineering associate</td>\n",
       "      <td>68,549</td>\n",
       "      <td>108</td>\n",
       "      <td>$85,149</td>\n",
       "      <td>11</td>\n",
       "      <td>88</td>\n",
       "      <td>12544</td>\n",
       "      <td>2.0</td>\n",
       "      <td>1.0</td>\n",
       "      <td>...</td>\n",
       "      <td>3</td>\n",
       "      <td>1</td>\n",
       "      <td>NaN</td>\n",
       "      <td>1</td>\n",
       "      <td>0</td>\n",
       "      <td>strongly masculine-coded</td>\n",
       "      <td>0</td>\n",
       "      <td>1</td>\n",
       "      <td>2</td>\n",
       "      <td>4</td>\n",
       "    </tr>\n",
       "    <tr>\n",
       "      <th>163</th>\n",
       "      <td>CUSTOMER SERVICE REPRESENTATIVE 1230 020918.txt</td>\n",
       "      <td>customer service representative</td>\n",
       "      <td>57,148</td>\n",
       "      <td>108</td>\n",
       "      <td>$71,012</td>\n",
       "      <td>11</td>\n",
       "      <td>89</td>\n",
       "      <td>9186</td>\n",
       "      <td>1.0</td>\n",
       "      <td>2.0</td>\n",
       "      <td>...</td>\n",
       "      <td>3</td>\n",
       "      <td>1</td>\n",
       "      <td>2.0</td>\n",
       "      <td>0</td>\n",
       "      <td>2</td>\n",
       "      <td>strongly feminine-coded</td>\n",
       "      <td>1</td>\n",
       "      <td>0</td>\n",
       "      <td>4</td>\n",
       "      <td>4</td>\n",
       "    </tr>\n",
       "    <tr>\n",
       "      <th>195</th>\n",
       "      <td>ELECTRICAL ENGINEERING ASSOCIATE 7525 093016 R...</td>\n",
       "      <td>electrical engineering associate</td>\n",
       "      <td>66,231</td>\n",
       "      <td>108</td>\n",
       "      <td>$94,252</td>\n",
       "      <td>11</td>\n",
       "      <td>94</td>\n",
       "      <td>11977</td>\n",
       "      <td>3.0</td>\n",
       "      <td>1.0</td>\n",
       "      <td>...</td>\n",
       "      <td>3</td>\n",
       "      <td>1</td>\n",
       "      <td>NaN</td>\n",
       "      <td>0</td>\n",
       "      <td>0</td>\n",
       "      <td>strongly masculine-coded</td>\n",
       "      <td>0</td>\n",
       "      <td>1</td>\n",
       "      <td>2</td>\n",
       "      <td>4</td>\n",
       "    </tr>\n",
       "    <tr>\n",
       "      <th>55</th>\n",
       "      <td>ASSISTANT DIRECTOR INFORMATION SYSTEMS 9377 03...</td>\n",
       "      <td>assistant director information systems</td>\n",
       "      <td>145,199</td>\n",
       "      <td>100</td>\n",
       "      <td>$180,382</td>\n",
       "      <td>13</td>\n",
       "      <td>77</td>\n",
       "      <td>8157</td>\n",
       "      <td>1.0</td>\n",
       "      <td>2.0</td>\n",
       "      <td>...</td>\n",
       "      <td>5</td>\n",
       "      <td>0</td>\n",
       "      <td>2.0</td>\n",
       "      <td>0</td>\n",
       "      <td>2</td>\n",
       "      <td>strongly feminine-coded</td>\n",
       "      <td>1</td>\n",
       "      <td>0</td>\n",
       "      <td>4</td>\n",
       "      <td>4</td>\n",
       "    </tr>\n",
       "    <tr>\n",
       "      <th>172</th>\n",
       "      <td>DIRECTOR OF AIRPORT OPERATIONS 9304 062317 (3)...</td>\n",
       "      <td>director of airport operations</td>\n",
       "      <td>141,858</td>\n",
       "      <td>100</td>\n",
       "      <td>$201,867</td>\n",
       "      <td>13</td>\n",
       "      <td>80</td>\n",
       "      <td>9286</td>\n",
       "      <td>3.0</td>\n",
       "      <td>1.0</td>\n",
       "      <td>...</td>\n",
       "      <td>5</td>\n",
       "      <td>1</td>\n",
       "      <td>4.0</td>\n",
       "      <td>0</td>\n",
       "      <td>2</td>\n",
       "      <td>strongly masculine-coded</td>\n",
       "      <td>0</td>\n",
       "      <td>1</td>\n",
       "      <td>2</td>\n",
       "      <td>4</td>\n",
       "    </tr>\n",
       "    <tr>\n",
       "      <th>181</th>\n",
       "      <td>DIRECTOR OF PRINTING SERVICES 1488 101218 REV ...</td>\n",
       "      <td>director of printing services</td>\n",
       "      <td>117,596</td>\n",
       "      <td>100</td>\n",
       "      <td>$171,946</td>\n",
       "      <td>20</td>\n",
       "      <td>74</td>\n",
       "      <td>8078</td>\n",
       "      <td>2.0</td>\n",
       "      <td>1.0</td>\n",
       "      <td>...</td>\n",
       "      <td>5</td>\n",
       "      <td>0</td>\n",
       "      <td>3.0</td>\n",
       "      <td>0</td>\n",
       "      <td>2</td>\n",
       "      <td>strongly masculine-coded</td>\n",
       "      <td>0</td>\n",
       "      <td>1</td>\n",
       "      <td>2</td>\n",
       "      <td>4</td>\n",
       "    </tr>\n",
       "    <tr>\n",
       "      <th>113</th>\n",
       "      <td>CHIEF FORENSIC CHEMIST 2237 092818.txt</td>\n",
       "      <td>chief forensic chemist</td>\n",
       "      <td>106,362</td>\n",
       "      <td>80</td>\n",
       "      <td>$155,493</td>\n",
       "      <td>13</td>\n",
       "      <td>77</td>\n",
       "      <td>6419</td>\n",
       "      <td>2.0</td>\n",
       "      <td>1.0</td>\n",
       "      <td>...</td>\n",
       "      <td>4</td>\n",
       "      <td>1</td>\n",
       "      <td>1.0</td>\n",
       "      <td>0</td>\n",
       "      <td>2</td>\n",
       "      <td>strongly masculine-coded</td>\n",
       "      <td>0</td>\n",
       "      <td>1</td>\n",
       "      <td>2</td>\n",
       "      <td>4</td>\n",
       "    </tr>\n",
       "    <tr>\n",
       "      <th>120</th>\n",
       "      <td>CHIEF OF OPERATIONS 7258 042018 REV 051318.txt</td>\n",
       "      <td>chief of operations</td>\n",
       "      <td>90,473</td>\n",
       "      <td>80</td>\n",
       "      <td>$132,274</td>\n",
       "      <td>20</td>\n",
       "      <td>103</td>\n",
       "      <td>14062</td>\n",
       "      <td>2.0</td>\n",
       "      <td>2.0</td>\n",
       "      <td>...</td>\n",
       "      <td>4</td>\n",
       "      <td>1</td>\n",
       "      <td>3.0</td>\n",
       "      <td>0</td>\n",
       "      <td>2</td>\n",
       "      <td>strongly masculine-coded</td>\n",
       "      <td>0</td>\n",
       "      <td>1</td>\n",
       "      <td>2</td>\n",
       "      <td>4</td>\n",
       "    </tr>\n",
       "    <tr>\n",
       "      <th>119</th>\n",
       "      <td>CHIEF OF DRAFTING OPERATIONS 7271  042018.txt</td>\n",
       "      <td>chief of drafting operations</td>\n",
       "      <td>135,302</td>\n",
       "      <td>80</td>\n",
       "      <td>$168,084</td>\n",
       "      <td>13</td>\n",
       "      <td>80</td>\n",
       "      <td>8166</td>\n",
       "      <td>1.0</td>\n",
       "      <td>2.0</td>\n",
       "      <td>...</td>\n",
       "      <td>4</td>\n",
       "      <td>0</td>\n",
       "      <td>3.0</td>\n",
       "      <td>0</td>\n",
       "      <td>2</td>\n",
       "      <td>strongly feminine-coded</td>\n",
       "      <td>1</td>\n",
       "      <td>0</td>\n",
       "      <td>4</td>\n",
       "      <td>4</td>\n",
       "    </tr>\n",
       "  </tbody>\n",
       "</table>\n",
       "<p>10 rows × 22 columns</p>\n",
       "</div>"
      ],
      "text/plain": [
       "                                             File Name  \\\n",
       "145  COMMUNICATIONS INFORMATION REPRESENTATIVE 1461...   \n",
       "617  TRANSPORTATION ENGINEERING ASSOCIATE 7280 0724...   \n",
       "163    CUSTOMER SERVICE REPRESENTATIVE 1230 020918.txt   \n",
       "195  ELECTRICAL ENGINEERING ASSOCIATE 7525 093016 R...   \n",
       "55   ASSISTANT DIRECTOR INFORMATION SYSTEMS 9377 03...   \n",
       "172  DIRECTOR OF AIRPORT OPERATIONS 9304 062317 (3)...   \n",
       "181  DIRECTOR OF PRINTING SERVICES 1488 101218 REV ...   \n",
       "113             CHIEF FORENSIC CHEMIST 2237 092818.txt   \n",
       "120     CHIEF OF OPERATIONS 7258 042018 REV 051318.txt   \n",
       "119      CHIEF OF DRAFTING OPERATIONS 7271  042018.txt   \n",
       "\n",
       "                                              Position salary_start  score  \\\n",
       "145          communications information representative       41,697    108   \n",
       "617  transportation engineering associate                    68,549    108   \n",
       "163                    customer service representative       57,148    108   \n",
       "195                   electrical engineering associate       66,231    108   \n",
       "55              assistant director information systems      145,199    100   \n",
       "172                     director of airport operations      141,858    100   \n",
       "181                     director of printing services       117,596    100   \n",
       "113                             chief forensic chemist      106,362     80   \n",
       "120                                chief of operations       90,473     80   \n",
       "119                       chief of drafting operations      135,302     80   \n",
       "\n",
       "    salary_end validity_duration nb_lines nb_chars  nb_requirements  \\\n",
       "145    $59,340                11      111    13006              3.0   \n",
       "617    $85,149                11       88    12544              2.0   \n",
       "163    $71,012                11       89     9186              1.0   \n",
       "195    $94,252                11       94    11977              3.0   \n",
       "55    $180,382                13       77     8157              1.0   \n",
       "172   $201,867                13       80     9286              3.0   \n",
       "181   $171,946                20       74     8078              2.0   \n",
       "113   $155,493                13       77     6419              2.0   \n",
       "120   $132,274                20      103    14062              2.0   \n",
       "119   $168,084                13       80     8166              1.0   \n",
       "\n",
       "     nb_selection_steps  ...  Resp_level  Open_To_All  exp_years  \\\n",
       "145                 2.0  ...           3            1        1.0   \n",
       "617                 1.0  ...           3            1        NaN   \n",
       "163                 2.0  ...           3            1        2.0   \n",
       "195                 1.0  ...           3            1        NaN   \n",
       "55                  2.0  ...           5            0        2.0   \n",
       "172                 1.0  ...           5            1        4.0   \n",
       "181                 1.0  ...           5            0        3.0   \n",
       "113                 1.0  ...           4            1        1.0   \n",
       "120                 2.0  ...           4            1        3.0   \n",
       "119                 2.0  ...           4            0        3.0   \n",
       "\n",
       "     high_education  full_time_part_time_code              GENDER_WORDS  \\\n",
       "145               0                         2   strongly feminine-coded   \n",
       "617               1                         0  strongly masculine-coded   \n",
       "163               0                         2   strongly feminine-coded   \n",
       "195               0                         0  strongly masculine-coded   \n",
       "55                0                         2   strongly feminine-coded   \n",
       "172               0                         2  strongly masculine-coded   \n",
       "181               0                         2  strongly masculine-coded   \n",
       "113               0                         2  strongly masculine-coded   \n",
       "120               0                         2  strongly masculine-coded   \n",
       "119               0                         2   strongly feminine-coded   \n",
       "\n",
       "     Too_Feminine Too_Masculine  gender_bias  gender_score  \n",
       "145             1             0            4             4  \n",
       "617             0             1            2             4  \n",
       "163             1             0            4             4  \n",
       "195             0             1            2             4  \n",
       "55              1             0            4             4  \n",
       "172             0             1            2             4  \n",
       "181             0             1            2             4  \n",
       "113             0             1            2             4  \n",
       "120             0             1            2             4  \n",
       "119             1             0            4             4  \n",
       "\n",
       "[10 rows x 22 columns]"
      ]
     },
     "execution_count": 93,
     "metadata": {},
     "output_type": "execute_result"
    }
   ],
   "source": [
    "df_sorted = df_scored\n",
    "df_sorted.sort_values(by=['score'], inplace=True, ascending=False)\n",
    "df_sorted.head(10)"
   ]
  },
  {
   "cell_type": "markdown",
   "metadata": {},
   "source": [
    "#### 4.c Top 10 Suspicious bulletins scoring analysis\n",
    "\n",
    "In this top 10:\n",
    "> 40% are of the bulletins are strongly feminine coded\n",
    "> 60% are strongly masculine coded.\n",
    "> All of them are medium to high responibility positions which make sense, as our schme add more penalites to thos profiles.\n",
    "> The highest scores are given to 11-days validity duration bulletins open to all, which can be considered as too short to allow external candidates to apply\n",
    "\n",
    "\n",
    "Revolting habits: the score also unviels that the city is very traditionalist and tends to follow stereotypes likes \n",
    "> Jobs for women consists in secretary, communication or sales.\n",
    "> Jobs for men  consists in more technical jobs such as engineers.\n"
   ]
  },
  {
   "cell_type": "markdown",
   "metadata": {},
   "source": [
    "# 5. Modeling\n",
    "\n",
    "We managed to get a dataset with the number of applicants to each position and their characteristics (gender and race). Let's check our work on the gender scoring."
   ]
  },
  {
   "cell_type": "code",
   "execution_count": 94,
   "metadata": {},
   "outputs": [],
   "source": [
    "ds_applications = pd.read_csv('./Job_Applicants_by_Gender_and_Ethnicity.csv')"
   ]
  },
  {
   "cell_type": "code",
   "execution_count": 95,
   "metadata": {},
   "outputs": [
    {
     "data": {
      "text/html": [
       "<div>\n",
       "<style scoped>\n",
       "    .dataframe tbody tr th:only-of-type {\n",
       "        vertical-align: middle;\n",
       "    }\n",
       "\n",
       "    .dataframe tbody tr th {\n",
       "        vertical-align: top;\n",
       "    }\n",
       "\n",
       "    .dataframe thead th {\n",
       "        text-align: right;\n",
       "    }\n",
       "</style>\n",
       "<table border=\"1\" class=\"dataframe\">\n",
       "  <thead>\n",
       "    <tr style=\"text-align: right;\">\n",
       "      <th></th>\n",
       "      <th>Fiscal Year</th>\n",
       "      <th>Job Number</th>\n",
       "      <th>Job Description</th>\n",
       "      <th>Apps Received</th>\n",
       "      <th>Female</th>\n",
       "      <th>Male</th>\n",
       "      <th>Unknown_Gender</th>\n",
       "      <th>Black</th>\n",
       "      <th>Hispanic</th>\n",
       "      <th>Asian</th>\n",
       "      <th>Caucasian</th>\n",
       "      <th>American Indian/ Alaskan Native</th>\n",
       "      <th>Filipino</th>\n",
       "      <th>Unknown_Ethnicity</th>\n",
       "      <th>JobNumber</th>\n",
       "    </tr>\n",
       "  </thead>\n",
       "  <tbody>\n",
       "    <tr>\n",
       "      <th>0</th>\n",
       "      <td>2013-2014</td>\n",
       "      <td>9206 OP 2014/04/18</td>\n",
       "      <td>311 DIRECTOR 9206</td>\n",
       "      <td>54</td>\n",
       "      <td>20</td>\n",
       "      <td>31</td>\n",
       "      <td>3</td>\n",
       "      <td>25</td>\n",
       "      <td>18</td>\n",
       "      <td>1</td>\n",
       "      <td>6</td>\n",
       "      <td>0</td>\n",
       "      <td>0</td>\n",
       "      <td>4</td>\n",
       "      <td>9206</td>\n",
       "    </tr>\n",
       "    <tr>\n",
       "      <th>1</th>\n",
       "      <td>2013-2014</td>\n",
       "      <td>1223 P 2013/08/09</td>\n",
       "      <td>ACCOUNTING CLERK 1223</td>\n",
       "      <td>648</td>\n",
       "      <td>488</td>\n",
       "      <td>152</td>\n",
       "      <td>8</td>\n",
       "      <td>151</td>\n",
       "      <td>204</td>\n",
       "      <td>123</td>\n",
       "      <td>62</td>\n",
       "      <td>3</td>\n",
       "      <td>79</td>\n",
       "      <td>26</td>\n",
       "      <td>1223</td>\n",
       "    </tr>\n",
       "    <tr>\n",
       "      <th>2</th>\n",
       "      <td>2013-2014</td>\n",
       "      <td>7260 OP 2014/02/14</td>\n",
       "      <td>AIRPORT MANAGER 7260</td>\n",
       "      <td>51</td>\n",
       "      <td>13</td>\n",
       "      <td>37</td>\n",
       "      <td>1</td>\n",
       "      <td>8</td>\n",
       "      <td>12</td>\n",
       "      <td>9</td>\n",
       "      <td>20</td>\n",
       "      <td>0</td>\n",
       "      <td>0</td>\n",
       "      <td>2</td>\n",
       "      <td>7260</td>\n",
       "    </tr>\n",
       "    <tr>\n",
       "      <th>3</th>\n",
       "      <td>2013-2014</td>\n",
       "      <td>3227 P 2013/11/15</td>\n",
       "      <td>AIRPORT POLICE LIEUTENANT 2013</td>\n",
       "      <td>48</td>\n",
       "      <td>9</td>\n",
       "      <td>38</td>\n",
       "      <td>1</td>\n",
       "      <td>21</td>\n",
       "      <td>14</td>\n",
       "      <td>3</td>\n",
       "      <td>7</td>\n",
       "      <td>0</td>\n",
       "      <td>1</td>\n",
       "      <td>2</td>\n",
       "      <td>3227</td>\n",
       "    </tr>\n",
       "    <tr>\n",
       "      <th>4</th>\n",
       "      <td>2013-2014</td>\n",
       "      <td>2400 O 2014/05/02</td>\n",
       "      <td>AQUARIST 2400</td>\n",
       "      <td>40</td>\n",
       "      <td>15</td>\n",
       "      <td>24</td>\n",
       "      <td>1</td>\n",
       "      <td>3</td>\n",
       "      <td>7</td>\n",
       "      <td>7</td>\n",
       "      <td>19</td>\n",
       "      <td>1</td>\n",
       "      <td>1</td>\n",
       "      <td>2</td>\n",
       "      <td>2400</td>\n",
       "    </tr>\n",
       "  </tbody>\n",
       "</table>\n",
       "</div>"
      ],
      "text/plain": [
       "  Fiscal Year          Job Number                 Job Description  \\\n",
       "0   2013-2014  9206 OP 2014/04/18               311 DIRECTOR 9206   \n",
       "1   2013-2014   1223 P 2013/08/09           ACCOUNTING CLERK 1223   \n",
       "2   2013-2014  7260 OP 2014/02/14            AIRPORT MANAGER 7260   \n",
       "3   2013-2014   3227 P 2013/11/15  AIRPORT POLICE LIEUTENANT 2013   \n",
       "4   2013-2014   2400 O 2014/05/02                   AQUARIST 2400   \n",
       "\n",
       "   Apps Received  Female  Male  Unknown_Gender  Black  Hispanic  Asian  \\\n",
       "0             54      20    31               3     25        18      1   \n",
       "1            648     488   152               8    151       204    123   \n",
       "2             51      13    37               1      8        12      9   \n",
       "3             48       9    38               1     21        14      3   \n",
       "4             40      15    24               1      3         7      7   \n",
       "\n",
       "   Caucasian  American Indian/ Alaskan Native  Filipino  Unknown_Ethnicity  \\\n",
       "0          6                                0         0                  4   \n",
       "1         62                                3        79                 26   \n",
       "2         20                                0         0                  2   \n",
       "3          7                                0         1                  2   \n",
       "4         19                                1         1                  2   \n",
       "\n",
       "  JobNumber  \n",
       "0      9206  \n",
       "1      1223  \n",
       "2      7260  \n",
       "3      3227  \n",
       "4      2400  "
      ]
     },
     "execution_count": 95,
     "metadata": {},
     "output_type": "execute_result"
    }
   ],
   "source": [
    "ds_applications['JobNumber'] = ds_applications['Job Number'].apply(lambda val:str(val).split()[0])\n",
    "ds_applications.head()"
   ]
  },
  {
   "cell_type": "code",
   "execution_count": 96,
   "metadata": {},
   "outputs": [],
   "source": [
    "def get_job_number(val):\n",
    "    JobNumber = re.compile('\\D\\d+') # match job number\n",
    "    jn = re.search(JobNumber, val)\n",
    "    return jn.group().lstrip()\n",
    "\n",
    "df_scored['JobNumber'] = df_scored['File Name'].apply(lambda val : get_job_number(str(val)))"
   ]
  },
  {
   "cell_type": "code",
   "execution_count": 97,
   "metadata": {},
   "outputs": [
    {
     "data": {
      "text/html": [
       "<div>\n",
       "<style scoped>\n",
       "    .dataframe tbody tr th:only-of-type {\n",
       "        vertical-align: middle;\n",
       "    }\n",
       "\n",
       "    .dataframe tbody tr th {\n",
       "        vertical-align: top;\n",
       "    }\n",
       "\n",
       "    .dataframe thead th {\n",
       "        text-align: right;\n",
       "    }\n",
       "</style>\n",
       "<table border=\"1\" class=\"dataframe\">\n",
       "  <thead>\n",
       "    <tr style=\"text-align: right;\">\n",
       "      <th></th>\n",
       "      <th>File Name</th>\n",
       "      <th>Position</th>\n",
       "      <th>salary_start</th>\n",
       "      <th>score</th>\n",
       "      <th>salary_end</th>\n",
       "      <th>validity_duration</th>\n",
       "      <th>nb_lines</th>\n",
       "      <th>nb_chars</th>\n",
       "      <th>nb_requirements</th>\n",
       "      <th>nb_selection_steps</th>\n",
       "      <th>...</th>\n",
       "      <th>Female</th>\n",
       "      <th>Male</th>\n",
       "      <th>Unknown_Gender</th>\n",
       "      <th>Black</th>\n",
       "      <th>Hispanic</th>\n",
       "      <th>Asian</th>\n",
       "      <th>Caucasian</th>\n",
       "      <th>American Indian/ Alaskan Native</th>\n",
       "      <th>Filipino</th>\n",
       "      <th>Unknown_Ethnicity</th>\n",
       "    </tr>\n",
       "  </thead>\n",
       "  <tbody>\n",
       "    <tr>\n",
       "      <th>0</th>\n",
       "      <td>CUSTOMER SERVICE REPRESENTATIVE 1230 020918.txt</td>\n",
       "      <td>customer service representative</td>\n",
       "      <td>57,148</td>\n",
       "      <td>108</td>\n",
       "      <td>$71,012</td>\n",
       "      <td>11</td>\n",
       "      <td>89</td>\n",
       "      <td>9186</td>\n",
       "      <td>1.0</td>\n",
       "      <td>2.0</td>\n",
       "      <td>...</td>\n",
       "      <td>19892</td>\n",
       "      <td>7968</td>\n",
       "      <td>370</td>\n",
       "      <td>12618</td>\n",
       "      <td>10214</td>\n",
       "      <td>1094</td>\n",
       "      <td>1958</td>\n",
       "      <td>131</td>\n",
       "      <td>740</td>\n",
       "      <td>1475</td>\n",
       "    </tr>\n",
       "    <tr>\n",
       "      <th>1</th>\n",
       "      <td>CHIEF OF DRAFTING OPERATIONS 7271  042018.txt</td>\n",
       "      <td>chief of drafting operations</td>\n",
       "      <td>135,302</td>\n",
       "      <td>80</td>\n",
       "      <td>$168,084</td>\n",
       "      <td>13</td>\n",
       "      <td>80</td>\n",
       "      <td>8166</td>\n",
       "      <td>1.0</td>\n",
       "      <td>2.0</td>\n",
       "      <td>...</td>\n",
       "      <td>2</td>\n",
       "      <td>11</td>\n",
       "      <td>0</td>\n",
       "      <td>1</td>\n",
       "      <td>7</td>\n",
       "      <td>2</td>\n",
       "      <td>1</td>\n",
       "      <td>0</td>\n",
       "      <td>1</td>\n",
       "      <td>1</td>\n",
       "    </tr>\n",
       "  </tbody>\n",
       "</table>\n",
       "<p>2 rows × 37 columns</p>\n",
       "</div>"
      ],
      "text/plain": [
       "                                         File Name  \\\n",
       "0  CUSTOMER SERVICE REPRESENTATIVE 1230 020918.txt   \n",
       "1    CHIEF OF DRAFTING OPERATIONS 7271  042018.txt   \n",
       "\n",
       "                          Position salary_start  score salary_end  \\\n",
       "0  customer service representative       57,148    108    $71,012   \n",
       "1     chief of drafting operations      135,302     80   $168,084   \n",
       "\n",
       "  validity_duration nb_lines nb_chars  nb_requirements  nb_selection_steps  \\\n",
       "0                11       89     9186              1.0                 2.0   \n",
       "1                13       80     8166              1.0                 2.0   \n",
       "\n",
       "   ...  Female  Male  Unknown_Gender  Black  Hispanic  Asian  Caucasian  \\\n",
       "0  ...   19892  7968             370  12618     10214   1094       1958   \n",
       "1  ...       2    11               0      1         7      2          1   \n",
       "\n",
       "  American Indian/ Alaskan Native  Filipino  Unknown_Ethnicity  \n",
       "0                             131       740               1475  \n",
       "1                               0         1                  1  \n",
       "\n",
       "[2 rows x 37 columns]"
      ]
     },
     "execution_count": 97,
     "metadata": {},
     "output_type": "execute_result"
    }
   ],
   "source": [
    "df_merged_lab = pd.merge(df_scored, ds_applications, on=['JobNumber'])\n",
    "df_merged_lab.head(2)"
   ]
  },
  {
   "cell_type": "code",
   "execution_count": 98,
   "metadata": {},
   "outputs": [],
   "source": [
    "df_merged_lab.columns\n",
    "\n",
    "# Let's remove race informations as we won't have tiem to go into it\n",
    "df_merged_lab.drop(columns=['Unknown_Gender', 'Black', 'Hispanic', 'Asian','Caucasian', 'American Indian/ Alaskan Native', 'Filipino','Unknown_Ethnicity'], inplace=True)"
   ]
  },
  {
   "cell_type": "markdown",
   "metadata": {},
   "source": [
    "#### 5.2 Simple encoding of target result based on what we know\n",
    "\n",
    "Let's code a target label based on the number of male/female applicants.\n",
    "First, simple : if more male applicants, let's code it as to_male = 1"
   ]
  },
  {
   "cell_type": "code",
   "execution_count": 99,
   "metadata": {},
   "outputs": [
    {
     "data": {
      "text/html": [
       "<div>\n",
       "<style scoped>\n",
       "    .dataframe tbody tr th:only-of-type {\n",
       "        vertical-align: middle;\n",
       "    }\n",
       "\n",
       "    .dataframe tbody tr th {\n",
       "        vertical-align: top;\n",
       "    }\n",
       "\n",
       "    .dataframe thead th {\n",
       "        text-align: right;\n",
       "    }\n",
       "</style>\n",
       "<table border=\"1\" class=\"dataframe\">\n",
       "  <thead>\n",
       "    <tr style=\"text-align: right;\">\n",
       "      <th></th>\n",
       "      <th>File Name</th>\n",
       "      <th>Position</th>\n",
       "      <th>salary_start</th>\n",
       "      <th>score</th>\n",
       "      <th>salary_end</th>\n",
       "      <th>validity_duration</th>\n",
       "      <th>nb_lines</th>\n",
       "      <th>nb_chars</th>\n",
       "      <th>nb_requirements</th>\n",
       "      <th>nb_selection_steps</th>\n",
       "      <th>...</th>\n",
       "      <th>gender_score</th>\n",
       "      <th>JobNumber</th>\n",
       "      <th>Fiscal Year</th>\n",
       "      <th>Job Number</th>\n",
       "      <th>Job Description</th>\n",
       "      <th>Apps Received</th>\n",
       "      <th>Female</th>\n",
       "      <th>Male</th>\n",
       "      <th>ratio</th>\n",
       "      <th>to_male</th>\n",
       "    </tr>\n",
       "  </thead>\n",
       "  <tbody>\n",
       "    <tr>\n",
       "      <th>0</th>\n",
       "      <td>CUSTOMER SERVICE REPRESENTATIVE 1230 020918.txt</td>\n",
       "      <td>customer service representative</td>\n",
       "      <td>57,148</td>\n",
       "      <td>108</td>\n",
       "      <td>$71,012</td>\n",
       "      <td>11</td>\n",
       "      <td>89</td>\n",
       "      <td>9186</td>\n",
       "      <td>1.0</td>\n",
       "      <td>2.0</td>\n",
       "      <td>...</td>\n",
       "      <td>4</td>\n",
       "      <td>1230</td>\n",
       "      <td>2013-2014</td>\n",
       "      <td>1230 O 2013/12/27</td>\n",
       "      <td>CUSTOMER SERVICE REPRESENTATIVE 1230</td>\n",
       "      <td>28230</td>\n",
       "      <td>19892</td>\n",
       "      <td>7968</td>\n",
       "      <td>2.496486</td>\n",
       "      <td>0</td>\n",
       "    </tr>\n",
       "    <tr>\n",
       "      <th>1</th>\n",
       "      <td>CHIEF OF DRAFTING OPERATIONS 7271  042018.txt</td>\n",
       "      <td>chief of drafting operations</td>\n",
       "      <td>135,302</td>\n",
       "      <td>80</td>\n",
       "      <td>$168,084</td>\n",
       "      <td>13</td>\n",
       "      <td>80</td>\n",
       "      <td>8166</td>\n",
       "      <td>1.0</td>\n",
       "      <td>2.0</td>\n",
       "      <td>...</td>\n",
       "      <td>4</td>\n",
       "      <td>7271</td>\n",
       "      <td>2013-2014</td>\n",
       "      <td>7271 P 2013/11/08</td>\n",
       "      <td>CHIEF OF DRAFTING OPERATIONS 7271</td>\n",
       "      <td>13</td>\n",
       "      <td>2</td>\n",
       "      <td>11</td>\n",
       "      <td>0.181818</td>\n",
       "      <td>1</td>\n",
       "    </tr>\n",
       "    <tr>\n",
       "      <th>2</th>\n",
       "      <td>CHIEF MANAGEMENT ANALYST 9182 020918.txt</td>\n",
       "      <td>chief management analyst</td>\n",
       "      <td>123,667</td>\n",
       "      <td>80</td>\n",
       "      <td>$179,944</td>\n",
       "      <td>13</td>\n",
       "      <td>76</td>\n",
       "      <td>7385</td>\n",
       "      <td>1.0</td>\n",
       "      <td>1.0</td>\n",
       "      <td>...</td>\n",
       "      <td>4</td>\n",
       "      <td>9182</td>\n",
       "      <td>2013-2014</td>\n",
       "      <td>9182 P 2014/06/20</td>\n",
       "      <td>CHIEF MANAGEMENT ANALYST 9182</td>\n",
       "      <td>143</td>\n",
       "      <td>78</td>\n",
       "      <td>54</td>\n",
       "      <td>1.444444</td>\n",
       "      <td>0</td>\n",
       "    </tr>\n",
       "    <tr>\n",
       "      <th>3</th>\n",
       "      <td>CONSTRUCTION INSPECTOR 7291 042117.txt</td>\n",
       "      <td>construction inspector</td>\n",
       "      <td>80,283</td>\n",
       "      <td>60</td>\n",
       "      <td>$97,092</td>\n",
       "      <td>NaN</td>\n",
       "      <td>133</td>\n",
       "      <td>15445</td>\n",
       "      <td>8.0</td>\n",
       "      <td>1.0</td>\n",
       "      <td>...</td>\n",
       "      <td>4</td>\n",
       "      <td>7291</td>\n",
       "      <td>2014-2015</td>\n",
       "      <td>7291 P 2014/07/04-ARCHIVE</td>\n",
       "      <td>CONSTRUCTION INSPECTOR 7291 - ARCHIVE</td>\n",
       "      <td>471</td>\n",
       "      <td>17</td>\n",
       "      <td>443</td>\n",
       "      <td>0.038375</td>\n",
       "      <td>1</td>\n",
       "    </tr>\n",
       "    <tr>\n",
       "      <th>4</th>\n",
       "      <td>FIRE PROTECTION ENGINEERING ASSOCIATE 7978 041...</td>\n",
       "      <td>fire protection engineering associate</td>\n",
       "      <td>66,231</td>\n",
       "      <td>60</td>\n",
       "      <td>$96,841</td>\n",
       "      <td>13</td>\n",
       "      <td>89</td>\n",
       "      <td>9384</td>\n",
       "      <td>2.0</td>\n",
       "      <td>2.0</td>\n",
       "      <td>...</td>\n",
       "      <td>4</td>\n",
       "      <td>7978</td>\n",
       "      <td>2013-2014</td>\n",
       "      <td>7978 O 2014/6/6</td>\n",
       "      <td>FIRE PROTECTION ENGINEERING ASSOCIATE</td>\n",
       "      <td>107</td>\n",
       "      <td>16</td>\n",
       "      <td>89</td>\n",
       "      <td>0.179775</td>\n",
       "      <td>1</td>\n",
       "    </tr>\n",
       "  </tbody>\n",
       "</table>\n",
       "<p>5 rows × 31 columns</p>\n",
       "</div>"
      ],
      "text/plain": [
       "                                           File Name  \\\n",
       "0    CUSTOMER SERVICE REPRESENTATIVE 1230 020918.txt   \n",
       "1      CHIEF OF DRAFTING OPERATIONS 7271  042018.txt   \n",
       "2           CHIEF MANAGEMENT ANALYST 9182 020918.txt   \n",
       "3             CONSTRUCTION INSPECTOR 7291 042117.txt   \n",
       "4  FIRE PROTECTION ENGINEERING ASSOCIATE 7978 041...   \n",
       "\n",
       "                                Position salary_start  score salary_end  \\\n",
       "0        customer service representative       57,148    108    $71,012   \n",
       "1           chief of drafting operations      135,302     80   $168,084   \n",
       "2               chief management analyst      123,667     80   $179,944   \n",
       "3                 construction inspector       80,283     60    $97,092   \n",
       "4  fire protection engineering associate       66,231     60    $96,841   \n",
       "\n",
       "  validity_duration nb_lines nb_chars  nb_requirements  nb_selection_steps  \\\n",
       "0                11       89     9186              1.0                 2.0   \n",
       "1                13       80     8166              1.0                 2.0   \n",
       "2                13       76     7385              1.0                 1.0   \n",
       "3               NaN      133    15445              8.0                 1.0   \n",
       "4                13       89     9384              2.0                 2.0   \n",
       "\n",
       "   ...  gender_score  JobNumber  Fiscal Year                 Job Number  \\\n",
       "0  ...             4       1230    2013-2014          1230 O 2013/12/27   \n",
       "1  ...             4       7271    2013-2014          7271 P 2013/11/08   \n",
       "2  ...             4       9182    2013-2014          9182 P 2014/06/20   \n",
       "3  ...             4       7291    2014-2015  7291 P 2014/07/04-ARCHIVE   \n",
       "4  ...             4       7978    2013-2014            7978 O 2014/6/6   \n",
       "\n",
       "                         Job Description  Apps Received  Female  Male  \\\n",
       "0   CUSTOMER SERVICE REPRESENTATIVE 1230          28230   19892  7968   \n",
       "1      CHIEF OF DRAFTING OPERATIONS 7271             13       2    11   \n",
       "2          CHIEF MANAGEMENT ANALYST 9182            143      78    54   \n",
       "3  CONSTRUCTION INSPECTOR 7291 - ARCHIVE            471      17   443   \n",
       "4  FIRE PROTECTION ENGINEERING ASSOCIATE            107      16    89   \n",
       "\n",
       "      ratio  to_male  \n",
       "0  2.496486        0  \n",
       "1  0.181818        1  \n",
       "2  1.444444        0  \n",
       "3  0.038375        1  \n",
       "4  0.179775        1  \n",
       "\n",
       "[5 rows x 31 columns]"
      ]
     },
     "execution_count": 99,
     "metadata": {},
     "output_type": "execute_result"
    }
   ],
   "source": [
    "def get_tendency(rowF, rowM):\n",
    "    if rowF > 0:\n",
    "        if rowM/rowF > 1:\n",
    "            return 1\n",
    "        \n",
    "    return 0\n",
    "\n",
    "df_merged_lab['ratio'] = df_merged_lab['Female'] /  df_merged_lab['Male']\n",
    "df_merged_lab['to_male'] = df_merged_lab['ratio'].apply(lambda x: 1 if x < 1 else 0)\n",
    "df_merged_lab.head()"
   ]
  },
  {
   "cell_type": "code",
   "execution_count": 100,
   "metadata": {},
   "outputs": [],
   "source": [
    "df_merged_lab.drop(columns=['File Name', 'Position', 'Fiscal Year', 'Job Number', 'Job Description', 'Apps Received', 'ratio'], inplace=True)\n",
    "df_merged_lab.drop(columns=['GENDER_WORDS','Too_Feminine', 'Too_Masculine', 'gender_bias', 'gender_score','JobNumber', 'Female', 'Male'], inplace=True)\n",
    "df_merged_lab.drop(columns=['salary_start', 'score', 'salary_end'], inplace=True)"
   ]
  },
  {
   "cell_type": "code",
   "execution_count": 101,
   "metadata": {},
   "outputs": [
    {
     "data": {
      "text/plain": [
       "Index(['validity_duration', 'nb_lines', 'nb_chars', 'nb_requirements',\n",
       "       'nb_selection_steps', 'nb_line_scale', 'nb_char_scale', 'Resp_level',\n",
       "       'Open_To_All', 'exp_years', 'high_education',\n",
       "       'full_time_part_time_code', 'to_male'],\n",
       "      dtype='object')"
      ]
     },
     "execution_count": 101,
     "metadata": {},
     "output_type": "execute_result"
    }
   ],
   "source": [
    "df_merged_lab.dropna(inplace=True)\n",
    "df_merged_lab.columns"
   ]
  },
  {
   "cell_type": "markdown",
   "metadata": {},
   "source": [
    "### 5.3 Training and testing \n",
    "\n",
    "Let's get our train and test datasets from the labeled one"
   ]
  },
  {
   "cell_type": "code",
   "execution_count": 108,
   "metadata": {},
   "outputs": [],
   "source": [
    "# importing necessary libraries \n",
    "from sklearn import datasets \n",
    "from sklearn.metrics import confusion_matrix \n",
    "from sklearn.model_selection import train_test_split # to split the data\n",
    "from sklearn.metrics import accuracy_score  # for accuracy_score\n",
    "from sklearn.model_selection import KFold # for K-fold cross validation\n",
    "from sklearn.model_selection import cross_val_score # score evaluation\n",
    "from sklearn.model_selection import cross_val_predict # prediction\n",
    "from sklearn.metrics import confusion_matrix # for confusion matrix\n",
    "\n",
    "import warnings\n",
    "warnings.filterwarnings('ignore')"
   ]
  },
  {
   "cell_type": "code",
   "execution_count": 106,
   "metadata": {},
   "outputs": [],
   "source": [
    "X = df_merged_lab.drop(['to_male'], axis=1)\n",
    "y = df_merged_lab['to_male']\n",
    "  \n",
    "# dividing X, y into train and test data \n",
    "X_train, X_test, y_train, y_test = train_test_split(X, y, random_state = 0) "
   ]
  },
  {
   "cell_type": "markdown",
   "metadata": {},
   "source": [
    "#### 5.3.1 First model : Decision Tree"
   ]
  },
  {
   "cell_type": "code",
   "execution_count": 107,
   "metadata": {},
   "outputs": [
    {
     "name": "stdout",
     "output_type": "stream",
     "text": [
      "--------------The Accuracy of the model----------------------------\n",
      "The accuracy of the Decision Tree Classifier is 80.56\n",
      "The cross validated score for Decision Tree Classifier is: 79.79\n"
     ]
    },
    {
     "data": {
      "text/plain": [
       "Text(0.5, 1.05, 'Confusion_matrix')"
      ]
     },
     "execution_count": 107,
     "metadata": {},
     "output_type": "execute_result"
    },
    {
     "data": {
      "image/png": "[encoded data removed]",
      "text/plain": [
       "<Figure size 432x288 with 2 Axes>"
      ]
     },
     "metadata": {
      "needs_background": "light"
     },
     "output_type": "display_data"
    }
   ],
   "source": [
    "# Decision Tree\n",
    "from sklearn.tree import DecisionTreeClassifier\n",
    "\n",
    "model = DecisionTreeClassifier(max_depth = 2).fit(X_train, y_train) \n",
    "prediction_lr=model.predict(X_test)\n",
    "print('--------------The Accuracy of the model----------------------------')\n",
    "print('The accuracy of the Decision Tree Classifier is',round(accuracy_score(prediction_lr,y_test)*100,2))\n",
    "kfold = KFold(n_splits=10, random_state=22) # k=10, split the data into 10 equal parts\n",
    "result_lr=cross_val_score(model,X,y,cv=10,scoring='accuracy')\n",
    "print('The cross validated score for Decision Tree Classifier is:',round(result_lr.mean()*100,2))\n",
    "y_pred = cross_val_predict(model,X,y,cv=10)\n",
    "sns.heatmap(confusion_matrix(y,y_pred),annot=True,fmt='3.0f',cmap=\"summer\")\n",
    "plt.title('Confusion_matrix', y=1.05, size=15)"
   ]
  },
  {
   "cell_type": "markdown",
   "metadata": {},
   "source": [
    "##### The confusion matrix tells us :\n",
    "    * 4 true positive were predicted as positive\n",
    "    * 109 true negative were predicted as negative\n",
    "    * 27 true positive were predicted as negative\n",
    "    * 3 true negative were predicted as positive\n",
    "    \n",
    "We get a score of 79.79% with the Decision Tree, not bad !\n",
    "\n",
    "Let's check other models :"
   ]
  },
  {
   "cell_type": "markdown",
   "metadata": {},
   "source": [
    "### 5.3.2 Logistic Regression"
   ]
  },
  {
   "cell_type": "code",
   "execution_count": 110,
   "metadata": {},
   "outputs": [
    {
     "name": "stdout",
     "output_type": "stream",
     "text": [
      "--------------The Accuracy of the model----------------------------\n",
      "The accuracy of the Logistic Regression is 77.78\n",
      "The cross validated score for Logistic Regression is: 77.64\n"
     ]
    },
    {
     "data": {
      "text/plain": [
       "Text(0.5, 1.05, 'Confusion_matrix')"
      ]
     },
     "execution_count": 110,
     "metadata": {},
     "output_type": "execute_result"
    },
    {
     "data": {
      "image/png": "[encoded data removed]",
      "text/plain": [
       "<Figure size 432x288 with 2 Axes>"
      ]
     },
     "metadata": {
      "needs_background": "light"
     },
     "output_type": "display_data"
    }
   ],
   "source": [
    "from sklearn.linear_model import LogisticRegression\n",
    "\n",
    "model = LogisticRegression()\n",
    "model.fit(X_train,y_train)\n",
    "prediction_lr=model.predict(X_test)\n",
    "print('--------------The Accuracy of the model----------------------------')\n",
    "print('The accuracy of the Logistic Regression is',round(accuracy_score(prediction_lr,y_test)*100,2))\n",
    "kfold = KFold(n_splits=10, random_state=22) # k=10, split the data into 10 equal parts\n",
    "result_lr=cross_val_score(model,X,y,cv=10,scoring='accuracy')\n",
    "print('The cross validated score for Logistic Regression is:',round(result_lr.mean()*100,2))\n",
    "y_pred = cross_val_predict(model,X,y,cv=10)\n",
    "sns.heatmap(confusion_matrix(y,y_pred),annot=True,fmt='3.0f',cmap=\"summer\")\n",
    "plt.title('Confusion_matrix', y=1.05, size=15)"
   ]
  },
  {
   "cell_type": "markdown",
   "metadata": {},
   "source": [
    "#### 5.3.3 Random Forests"
   ]
  },
  {
   "cell_type": "code",
   "execution_count": 113,
   "metadata": {},
   "outputs": [
    {
     "name": "stdout",
     "output_type": "stream",
     "text": [
      "--------------The Accuracy of the model----------------------------\n",
      "The accuracy of the Random Forest Classifier is 77.78\n",
      "The cross validated score for Random Forest Classifier is: 77.64\n"
     ]
    },
    {
     "data": {
      "text/plain": [
       "Text(0.5, 1.05, 'Confusion_matrix')"
      ]
     },
     "execution_count": 113,
     "metadata": {},
     "output_type": "execute_result"
    },
    {
     "data": {
      "image/png": "[encoded data removed]",
      "text/plain": [
       "<Figure size 432x288 with 2 Axes>"
      ]
     },
     "metadata": {
      "needs_background": "light"
     },
     "output_type": "display_data"
    }
   ],
   "source": [
    "# Random Forests\n",
    "from sklearn.ensemble import RandomForestClassifier\n",
    "model = RandomForestClassifier(criterion='gini', n_estimators=700,\n",
    "                             min_samples_split=10,min_samples_leaf=1,\n",
    "                             max_features='auto',oob_score=True,\n",
    "                             random_state=1,n_jobs=-1)\n",
    "model.fit(X_train,y_train)\n",
    "prediction_rm=model.predict(X_test)\n",
    "print('--------------The Accuracy of the model----------------------------')\n",
    "print('The accuracy of the Random Forest Classifier is',round(accuracy_score(prediction_rm,y_test)*100,2))\n",
    "kfold = KFold(n_splits=10, random_state=22) # k=10, split the data into 10 equal parts\n",
    "result_rm=cross_val_score(model,X,y,cv=10,scoring='accuracy')\n",
    "print('The cross validated score for Random Forest Classifier is:',round(result_rm.mean()*100,2))\n",
    "y_pred = cross_val_predict(model,X,y,cv=10)\n",
    "sns.heatmap(confusion_matrix(y,y_pred),annot=True,fmt='3.0f',cmap=\"summer\")\n",
    "plt.title('Confusion_matrix', y=1.05, size=15)"
   ]
  },
  {
   "cell_type": "code",
   "execution_count": 114,
   "metadata": {},
   "outputs": [
    {
     "name": "stdout",
     "output_type": "stream",
     "text": [
      "              precision    recall  f1-score   support\n",
      "\n",
      "           0       0.00      0.00      0.00         8\n",
      "           1       0.78      1.00      0.88        28\n",
      "\n",
      "    accuracy                           0.78        36\n",
      "   macro avg       0.39      0.50      0.44        36\n",
      "weighted avg       0.60      0.78      0.68        36\n",
      "\n"
     ]
    }
   ],
   "source": [
    "from sklearn.metrics import classification_report\n",
    "print(classification_report(y_test, prediction_rm))"
   ]
  },
  {
   "cell_type": "code",
   "execution_count": 116,
   "metadata": {},
   "outputs": [
    {
     "name": "stdout",
     "output_type": "stream",
     "text": [
      "--------------The Accuracy of the model----------------------------\n",
      "The accuracy of the Support Vector Machines Classifier is 80.56\n",
      "The cross validated score for Support Vector Machines Classifier is: 78.36\n"
     ]
    },
    {
     "data": {
      "text/plain": [
       "Text(0.5, 1.05, 'Confusion_matrix')"
      ]
     },
     "execution_count": 116,
     "metadata": {},
     "output_type": "execute_result"
    },
    {
     "data": {
      "image/png": "[encoded data removed]",
      "text/plain": [
       "<Figure size 432x288 with 2 Axes>"
      ]
     },
     "metadata": {
      "needs_background": "light"
     },
     "output_type": "display_data"
    }
   ],
   "source": [
    "# Support Vector Machines\n",
    "from sklearn.svm import SVC, LinearSVC\n",
    "\n",
    "model = SVC()\n",
    "model.fit(X_train,y_train)\n",
    "prediction_svm=model.predict(X_test)\n",
    "print('--------------The Accuracy of the model----------------------------')\n",
    "print('The accuracy of the Support Vector Machines Classifier is',round(accuracy_score(prediction_svm,y_test)*100,2))\n",
    "kfold = KFold(n_splits=10, random_state=22) # k=10, split the data into 10 equal parts\n",
    "result_svm=cross_val_score(model,X,y,cv=10,scoring='accuracy')\n",
    "print('The cross validated score for Support Vector Machines Classifier is:',round(result_svm.mean()*100,2))\n",
    "y_pred = cross_val_predict(model,X,y,cv=10)\n",
    "sns.heatmap(confusion_matrix(y,y_pred),annot=True,fmt='3.0f',cmap=\"summer\")\n",
    "plt.title('Confusion_matrix', y=1.05, size=15)"
   ]
  },
  {
   "cell_type": "code",
   "execution_count": 119,
   "metadata": {},
   "outputs": [
    {
     "name": "stdout",
     "output_type": "stream",
     "text": [
      "--------------The Accuracy of the model----------------------------\n",
      "The accuracy of the K Nearst Neighbors Classifier is 66.67\n",
      "The cross validated score for K Nearest Neighbors Classifier is: 70.15\n"
     ]
    },
    {
     "data": {
      "text/plain": [
       "Text(0.5, 1.05, 'Confusion_matrix')"
      ]
     },
     "execution_count": 119,
     "metadata": {},
     "output_type": "execute_result"
    },
    {
     "data": {
      "image/png": "[encoded data removed]",
      "text/plain": [
       "<Figure size 432x288 with 2 Axes>"
      ]
     },
     "metadata": {
      "needs_background": "light"
     },
     "output_type": "display_data"
    }
   ],
   "source": [
    "##knn\n",
    "from sklearn.neighbors import KNeighborsClassifier\n",
    "\n",
    "model = KNeighborsClassifier(n_neighbors = 4)\n",
    "model.fit(X_train,y_train)\n",
    "prediction_knn=model.predict(X_test)\n",
    "print('--------------The Accuracy of the model----------------------------')\n",
    "print('The accuracy of the K Nearst Neighbors Classifier is',round(accuracy_score(prediction_knn,y_test)*100,2))\n",
    "kfold = KFold(n_splits=10, random_state=22) # k=10, split the data into 10 equal parts\n",
    "result_knn=cross_val_score(model,X,y,cv=10,scoring='accuracy')\n",
    "print('The cross validated score for K Nearest Neighbors Classifier is:',round(result_knn.mean()*100,2))\n",
    "y_pred = cross_val_predict(model,X,y,cv=10)\n",
    "sns.heatmap(confusion_matrix(y,y_pred),annot=True,fmt='3.0f',cmap=\"summer\")\n",
    "plt.title('Confusion_matrix', y=1.05, size=15)"
   ]
  },
  {
   "cell_type": "code",
   "execution_count": 120,
   "metadata": {},
   "outputs": [
    {
     "name": "stdout",
     "output_type": "stream",
     "text": [
      "--------------The Accuracy of the model----------------------------\n",
      "The accuracy of the Gaussian Naive Bayes Classifier is 69.44\n",
      "The cross validated score for Gaussian Naive Bayes classifier is: 70.77\n"
     ]
    },
    {
     "data": {
      "text/plain": [
       "Text(0.5, 1.05, 'Confusion_matrix')"
      ]
     },
     "execution_count": 120,
     "metadata": {},
     "output_type": "execute_result"
    },
    {
     "data": {
      "image/png": "[encoded data removed]",
      "text/plain": [
       "<Figure size 432x288 with 2 Axes>"
      ]
     },
     "metadata": {
      "needs_background": "light"
     },
     "output_type": "display_data"
    }
   ],
   "source": [
    "# Gaussian Naive Bayes\n",
    "from sklearn.naive_bayes import GaussianNB\n",
    "\n",
    "model= GaussianNB()\n",
    "model.fit(X_train,y_train)\n",
    "prediction_gnb=model.predict(X_test)\n",
    "print('--------------The Accuracy of the model----------------------------')\n",
    "print('The accuracy of the Gaussian Naive Bayes Classifier is',round(accuracy_score(prediction_gnb,y_test)*100,2))\n",
    "kfold = KFold(n_splits=10, random_state=22) # k=10, split the data into 10 equal parts\n",
    "result_gnb=cross_val_score(model,X,y,cv=10,scoring='accuracy')\n",
    "print('The cross validated score for Gaussian Naive Bayes classifier is:',round(result_gnb.mean()*100,2))\n",
    "y_pred = cross_val_predict(model,X,y,cv=10)\n",
    "sns.heatmap(confusion_matrix(y,y_pred),annot=True,fmt='3.0f',cmap=\"summer\")\n",
    "plt.title('Confusion_matrix', y=1.05, size=15)"
   ]
  },
  {
   "cell_type": "code",
   "execution_count": 127,
   "metadata": {},
   "outputs": [
    {
     "name": "stdout",
     "output_type": "stream",
     "text": [
      "--------------The Accuracy of the model----------------------------\n",
      "The accuracy of the DecisionTree Classifier is 69.44\n",
      "The cross validated score for Decision Tree classifier is: 66.54\n"
     ]
    },
    {
     "data": {
      "text/plain": [
       "Text(0.5, 1.05, 'Confusion_matrix')"
      ]
     },
     "execution_count": 127,
     "metadata": {},
     "output_type": "execute_result"
    },
    {
     "data": {
      "image/png": "[encoded data removed]",
      "text/plain": [
       "<Figure size 432x288 with 2 Axes>"
      ]
     },
     "metadata": {
      "needs_background": "light"
     },
     "output_type": "display_data"
    }
   ],
   "source": [
    "# Decision Tree\n",
    "from sklearn.tree import DecisionTreeClassifier\n",
    "\n",
    "model= DecisionTreeClassifier(criterion='gini', \n",
    "                             min_samples_split=10,min_samples_leaf=1,\n",
    "                             max_features='auto')\n",
    "model.fit(X_train,y_train)\n",
    "prediction_tree=model.predict(X_test)\n",
    "print('--------------The Accuracy of the model----------------------------')\n",
    "print('The accuracy of the DecisionTree Classifier is',round(accuracy_score(prediction_tree,y_test)*100,2))\n",
    "kfold = KFold(n_splits=10, random_state=22) # k=10, split the data into 10 equal parts\n",
    "result_tree=cross_val_score(model,X,y,cv=10,scoring='accuracy')\n",
    "print('The cross validated score for Decision Tree classifier is:',round(result_tree.mean()*100,2))\n",
    "y_pred = cross_val_predict(model,X,y,cv=10)\n",
    "sns.heatmap(confusion_matrix(y,y_pred),annot=True,fmt='3.0f',cmap=\"summer\")\n",
    "plt.title('Confusion_matrix', y=1.05, size=15)"
   ]
  },
  {
   "cell_type": "code",
   "execution_count": 121,
   "metadata": {},
   "outputs": [
    {
     "name": "stdout",
     "output_type": "stream",
     "text": [
      "--------------The Accuracy of the model----------------------------\n",
      "The accuracy of the AdaBoostClassifier is 75.0\n",
      "The cross validated score for AdaBoostClassifier is: 71.31\n"
     ]
    },
    {
     "data": {
      "text/plain": [
       "Text(0.5, 1.05, 'Confusion_matrix')"
      ]
     },
     "execution_count": 121,
     "metadata": {},
     "output_type": "execute_result"
    },
    {
     "data": {
      "image/png": "[encoded data removed]",
      "text/plain": [
       "<Figure size 432x288 with 2 Axes>"
      ]
     },
     "metadata": {
      "needs_background": "light"
     },
     "output_type": "display_data"
    }
   ],
   "source": [
    "from sklearn.ensemble import AdaBoostClassifier\n",
    "\n",
    "model= AdaBoostClassifier()\n",
    "model.fit(X_train,y_train)\n",
    "prediction_adb=model.predict(X_test)\n",
    "print('--------------The Accuracy of the model----------------------------')\n",
    "print('The accuracy of the AdaBoostClassifier is',round(accuracy_score(prediction_adb,y_test)*100,2))\n",
    "kfold = KFold(n_splits=10, random_state=22) # k=10, split the data into 10 equal parts\n",
    "result_adb=cross_val_score(model,X,y,cv=10,scoring='accuracy')\n",
    "print('The cross validated score for AdaBoostClassifier is:',round(result_adb.mean()*100,2))\n",
    "y_pred = cross_val_predict(model,X,y,cv=10)\n",
    "sns.heatmap(confusion_matrix(y,y_pred),annot=True,fmt='3.0f',cmap=\"summer\")\n",
    "plt.title('Confusion_matrix', y=1.05, size=15)"
   ]
  },
  {
   "cell_type": "code",
   "execution_count": 122,
   "metadata": {},
   "outputs": [
    {
     "name": "stdout",
     "output_type": "stream",
     "text": [
      "--------------The Accuracy of the model----------------------------\n",
      "The accuracy of the LinearDiscriminantAnalysis is 77.78\n",
      "The cross validated score for AdaBoostClassifier is: 76.26\n"
     ]
    },
    {
     "data": {
      "text/plain": [
       "Text(0.5, 1.05, 'Confusion_matrix')"
      ]
     },
     "execution_count": 122,
     "metadata": {},
     "output_type": "execute_result"
    },
    {
     "data": {
      "image/png": "[encoded data removed]",
      "text/plain": [
       "<Figure size 432x288 with 2 Axes>"
      ]
     },
     "metadata": {
      "needs_background": "light"
     },
     "output_type": "display_data"
    }
   ],
   "source": [
    "from sklearn.discriminant_analysis import LinearDiscriminantAnalysis\n",
    "\n",
    "model= LinearDiscriminantAnalysis()\n",
    "model.fit(X_train,y_train)\n",
    "prediction_lda=model.predict(X_test)\n",
    "print('--------------The Accuracy of the model----------------------------')\n",
    "print('The accuracy of the LinearDiscriminantAnalysis is',round(accuracy_score(prediction_lda,y_test)*100,2))\n",
    "kfold = KFold(n_splits=10, random_state=22) # k=10, split the data into 10 equal parts\n",
    "result_lda=cross_val_score(model,X,y,cv=10,scoring='accuracy')\n",
    "print('The cross validated score for AdaBoostClassifier is:',round(result_lda.mean()*100,2))\n",
    "y_pred = cross_val_predict(model,X,y,cv=10)\n",
    "sns.heatmap(confusion_matrix(y,y_pred),annot=True,fmt='3.0f',cmap=\"summer\")\n",
    "plt.title('Confusion_matrix', y=1.05, size=15)"
   ]
  },
  {
   "cell_type": "code",
   "execution_count": 129,
   "metadata": {},
   "outputs": [
    {
     "name": "stdout",
     "output_type": "stream",
     "text": [
      "--------------The Accuracy of the model----------------------------\n",
      "The accuracy of the Gradient Boosting Classifier is 83.33\n",
      "The cross validated score forGradient Boosting Classifier is: 76.4\n"
     ]
    },
    {
     "data": {
      "text/plain": [
       "Text(0.5, 1.05, 'Confusion_matrix')"
      ]
     },
     "execution_count": 129,
     "metadata": {},
     "output_type": "execute_result"
    },
    {
     "data": {
      "image/png": "[encoded data removed]",
      "text/plain": [
       "<Figure size 432x288 with 2 Axes>"
      ]
     },
     "metadata": {
      "needs_background": "light"
     },
     "output_type": "display_data"
    }
   ],
   "source": [
    "from sklearn.ensemble import GradientBoostingClassifier\n",
    "\n",
    "model= GradientBoostingClassifier()\n",
    "model.fit(X_train,y_train)\n",
    "prediction_gbc=model.predict(X_test)\n",
    "print('--------------The Accuracy of the model----------------------------')\n",
    "print('The accuracy of the Gradient Boosting Classifier is',round(accuracy_score(prediction_gbc,y_test)*100,2))\n",
    "kfold = KFold(n_splits=10, random_state=22) # k=10, split the data into 10 equal parts\n",
    "result_gbc=cross_val_score(model,X,y,cv=10,scoring='accuracy')\n",
    "print('The cross validated score forGradient Boosting Classifier is:',round(result_gbc.mean()*100,2))\n",
    "y_pred = cross_val_predict(model,X,y,cv=10)\n",
    "sns.heatmap(confusion_matrix(y,y_pred),annot=True,fmt='3.0f',cmap=\"summer\")\n",
    "plt.title('Confusion_matrix', y=1.05, size=15)"
   ]
  },
  {
   "cell_type": "code",
   "execution_count": 128,
   "metadata": {},
   "outputs": [
    {
     "data": {
      "text/html": [
       "<div>\n",
       "<style scoped>\n",
       "    .dataframe tbody tr th:only-of-type {\n",
       "        vertical-align: middle;\n",
       "    }\n",
       "\n",
       "    .dataframe tbody tr th {\n",
       "        vertical-align: top;\n",
       "    }\n",
       "\n",
       "    .dataframe thead th {\n",
       "        text-align: right;\n",
       "    }\n",
       "</style>\n",
       "<table border=\"1\" class=\"dataframe\">\n",
       "  <thead>\n",
       "    <tr style=\"text-align: right;\">\n",
       "      <th></th>\n",
       "      <th>Model</th>\n",
       "      <th>Score</th>\n",
       "    </tr>\n",
       "  </thead>\n",
       "  <tbody>\n",
       "    <tr>\n",
       "      <th>0</th>\n",
       "      <td>Support Vector Machines</td>\n",
       "      <td>0.783571</td>\n",
       "    </tr>\n",
       "    <tr>\n",
       "      <th>2</th>\n",
       "      <td>Logistic Regression</td>\n",
       "      <td>0.776429</td>\n",
       "    </tr>\n",
       "    <tr>\n",
       "      <th>3</th>\n",
       "      <td>Random Forest</td>\n",
       "      <td>0.776429</td>\n",
       "    </tr>\n",
       "    <tr>\n",
       "      <th>6</th>\n",
       "      <td>Gradient Decent</td>\n",
       "      <td>0.763988</td>\n",
       "    </tr>\n",
       "    <tr>\n",
       "      <th>7</th>\n",
       "      <td>Linear Discriminant Analysis</td>\n",
       "      <td>0.762619</td>\n",
       "    </tr>\n",
       "    <tr>\n",
       "      <th>5</th>\n",
       "      <td>AdaBoostClassifier</td>\n",
       "      <td>0.713095</td>\n",
       "    </tr>\n",
       "    <tr>\n",
       "      <th>4</th>\n",
       "      <td>Naive Bayes</td>\n",
       "      <td>0.707738</td>\n",
       "    </tr>\n",
       "    <tr>\n",
       "      <th>1</th>\n",
       "      <td>KNN</td>\n",
       "      <td>0.701488</td>\n",
       "    </tr>\n",
       "    <tr>\n",
       "      <th>8</th>\n",
       "      <td>Decision Tree</td>\n",
       "      <td>0.665357</td>\n",
       "    </tr>\n",
       "  </tbody>\n",
       "</table>\n",
       "</div>"
      ],
      "text/plain": [
       "                          Model     Score\n",
       "0       Support Vector Machines  0.783571\n",
       "2           Logistic Regression  0.776429\n",
       "3                 Random Forest  0.776429\n",
       "6               Gradient Decent  0.763988\n",
       "7  Linear Discriminant Analysis  0.762619\n",
       "5            AdaBoostClassifier  0.713095\n",
       "4                   Naive Bayes  0.707738\n",
       "1                           KNN  0.701488\n",
       "8                 Decision Tree  0.665357"
      ]
     },
     "execution_count": 128,
     "metadata": {},
     "output_type": "execute_result"
    }
   ],
   "source": [
    "models = pd.DataFrame({\n",
    "    'Model': ['Support Vector Machines', 'KNN', 'Logistic Regression', \n",
    "              'Random Forest', 'Naive Bayes', 'AdaBoostClassifier', \n",
    "              'Gradient Decent', 'Linear Discriminant Analysis', \n",
    "              'Decision Tree'],\n",
    "    'Score': [result_svm.mean(), result_knn.mean(), result_lr.mean(), \n",
    "              result_rm.mean(), result_gnb.mean(), result_adb.mean(), \n",
    "              result_gbc.mean(), result_lda.mean(), result_tree.mean()]})\n",
    "models.sort_values(by='Score',ascending=False)"
   ]
  },
  {
   "cell_type": "markdown",
   "metadata": {},
   "source": [
    "The Support Vector Machines seems to be the best model, we should try it on our dataframe !"
   ]
  },
  {
   "cell_type": "code",
   "execution_count": 170,
   "metadata": {},
   "outputs": [],
   "source": [
    "df_scored.columns\n",
    "df_sc = df_scored.copy()"
   ]
  },
  {
   "cell_type": "code",
   "execution_count": 173,
   "metadata": {},
   "outputs": [
    {
     "data": {
      "text/html": [
       "<div>\n",
       "<style scoped>\n",
       "    .dataframe tbody tr th:only-of-type {\n",
       "        vertical-align: middle;\n",
       "    }\n",
       "\n",
       "    .dataframe tbody tr th {\n",
       "        vertical-align: top;\n",
       "    }\n",
       "\n",
       "    .dataframe thead th {\n",
       "        text-align: right;\n",
       "    }\n",
       "</style>\n",
       "<table border=\"1\" class=\"dataframe\">\n",
       "  <thead>\n",
       "    <tr style=\"text-align: right;\">\n",
       "      <th></th>\n",
       "      <th>validity_duration</th>\n",
       "      <th>nb_lines</th>\n",
       "      <th>nb_chars</th>\n",
       "      <th>nb_requirements</th>\n",
       "      <th>nb_selection_steps</th>\n",
       "      <th>nb_line_scale</th>\n",
       "      <th>nb_char_scale</th>\n",
       "      <th>Resp_level</th>\n",
       "      <th>Open_To_All</th>\n",
       "      <th>exp_years</th>\n",
       "      <th>high_education</th>\n",
       "      <th>full_time_part_time_code</th>\n",
       "      <th>predicted</th>\n",
       "    </tr>\n",
       "  </thead>\n",
       "  <tbody>\n",
       "    <tr>\n",
       "      <th>145</th>\n",
       "      <td>11</td>\n",
       "      <td>111</td>\n",
       "      <td>13006</td>\n",
       "      <td>3.0</td>\n",
       "      <td>2.0</td>\n",
       "      <td>3</td>\n",
       "      <td>4</td>\n",
       "      <td>3</td>\n",
       "      <td>1</td>\n",
       "      <td>1.0</td>\n",
       "      <td>0</td>\n",
       "      <td>2</td>\n",
       "      <td>1</td>\n",
       "    </tr>\n",
       "    <tr>\n",
       "      <th>163</th>\n",
       "      <td>11</td>\n",
       "      <td>89</td>\n",
       "      <td>9186</td>\n",
       "      <td>1.0</td>\n",
       "      <td>2.0</td>\n",
       "      <td>2</td>\n",
       "      <td>1</td>\n",
       "      <td>3</td>\n",
       "      <td>1</td>\n",
       "      <td>2.0</td>\n",
       "      <td>0</td>\n",
       "      <td>2</td>\n",
       "      <td>0</td>\n",
       "    </tr>\n",
       "    <tr>\n",
       "      <th>55</th>\n",
       "      <td>13</td>\n",
       "      <td>77</td>\n",
       "      <td>8157</td>\n",
       "      <td>1.0</td>\n",
       "      <td>2.0</td>\n",
       "      <td>1</td>\n",
       "      <td>1</td>\n",
       "      <td>5</td>\n",
       "      <td>0</td>\n",
       "      <td>2.0</td>\n",
       "      <td>0</td>\n",
       "      <td>2</td>\n",
       "      <td>1</td>\n",
       "    </tr>\n",
       "    <tr>\n",
       "      <th>172</th>\n",
       "      <td>13</td>\n",
       "      <td>80</td>\n",
       "      <td>9286</td>\n",
       "      <td>3.0</td>\n",
       "      <td>1.0</td>\n",
       "      <td>1</td>\n",
       "      <td>1</td>\n",
       "      <td>5</td>\n",
       "      <td>1</td>\n",
       "      <td>4.0</td>\n",
       "      <td>0</td>\n",
       "      <td>2</td>\n",
       "      <td>1</td>\n",
       "    </tr>\n",
       "    <tr>\n",
       "      <th>181</th>\n",
       "      <td>20</td>\n",
       "      <td>74</td>\n",
       "      <td>8078</td>\n",
       "      <td>2.0</td>\n",
       "      <td>1.0</td>\n",
       "      <td>1</td>\n",
       "      <td>1</td>\n",
       "      <td>5</td>\n",
       "      <td>0</td>\n",
       "      <td>3.0</td>\n",
       "      <td>0</td>\n",
       "      <td>2</td>\n",
       "      <td>1</td>\n",
       "    </tr>\n",
       "  </tbody>\n",
       "</table>\n",
       "</div>"
      ],
      "text/plain": [
       "    validity_duration nb_lines nb_chars  nb_requirements  nb_selection_steps  \\\n",
       "145                11      111    13006              3.0                 2.0   \n",
       "163                11       89     9186              1.0                 2.0   \n",
       "55                 13       77     8157              1.0                 2.0   \n",
       "172                13       80     9286              3.0                 1.0   \n",
       "181                20       74     8078              2.0                 1.0   \n",
       "\n",
       "     nb_line_scale  nb_char_scale  Resp_level  Open_To_All  exp_years  \\\n",
       "145              3              4           3            1        1.0   \n",
       "163              2              1           3            1        2.0   \n",
       "55               1              1           5            0        2.0   \n",
       "172              1              1           5            1        4.0   \n",
       "181              1              1           5            0        3.0   \n",
       "\n",
       "     high_education  full_time_part_time_code  predicted  \n",
       "145               0                         2          1  \n",
       "163               0                         2          0  \n",
       "55                0                         2          1  \n",
       "172               0                         2          1  \n",
       "181               0                         2          1  "
      ]
     },
     "execution_count": 173,
     "metadata": {},
     "output_type": "execute_result"
    }
   ],
   "source": [
    "# get rid of categorical values and na\n",
    "df_sc.drop(columns=['File Name', 'Position','GENDER_WORDS','Too_Feminine', 'Too_Masculine', 'gender_bias', 'gender_score','JobNumber'], inplace=True)\n",
    "df_sc.drop(columns=['salary_start', 'score', 'salary_end'], inplace=True)\n",
    "df_sc.dropna(inplace=True)\n",
    "\n",
    "model = SVC()\n",
    "model.fit(X_train,y_train)\n",
    "\n",
    "Xnew = df_sc\n",
    "# make a prediction\n",
    "ynew = model.predict(Xnew)\n",
    "df_sc['predicted'] = model.predict(Xnew)\n",
    "df_sc.head()"
   ]
  },
  {
   "cell_type": "code",
   "execution_count": 179,
   "metadata": {},
   "outputs": [
    {
     "data": {
      "text/html": [
       "<div>\n",
       "<style scoped>\n",
       "    .dataframe tbody tr th:only-of-type {\n",
       "        vertical-align: middle;\n",
       "    }\n",
       "\n",
       "    .dataframe tbody tr th {\n",
       "        vertical-align: top;\n",
       "    }\n",
       "\n",
       "    .dataframe thead th {\n",
       "        text-align: right;\n",
       "    }\n",
       "</style>\n",
       "<table border=\"1\" class=\"dataframe\">\n",
       "  <thead>\n",
       "    <tr style=\"text-align: right;\">\n",
       "      <th></th>\n",
       "      <th>File Name</th>\n",
       "      <th>Position</th>\n",
       "      <th>salary_start</th>\n",
       "      <th>score</th>\n",
       "      <th>salary_end</th>\n",
       "      <th>validity_duration_x</th>\n",
       "      <th>nb_lines_x</th>\n",
       "      <th>nb_chars_x</th>\n",
       "      <th>nb_requirements_x</th>\n",
       "      <th>nb_selection_steps_x</th>\n",
       "      <th>...</th>\n",
       "      <th>nb_requirements_y</th>\n",
       "      <th>nb_selection_steps_y</th>\n",
       "      <th>nb_line_scale_y</th>\n",
       "      <th>nb_char_scale_y</th>\n",
       "      <th>Resp_level_y</th>\n",
       "      <th>Open_To_All_y</th>\n",
       "      <th>exp_years_y</th>\n",
       "      <th>high_education_y</th>\n",
       "      <th>full_time_part_time_code_y</th>\n",
       "      <th>predicted</th>\n",
       "    </tr>\n",
       "  </thead>\n",
       "  <tbody>\n",
       "    <tr>\n",
       "      <th>145</th>\n",
       "      <td>COMMUNICATIONS INFORMATION REPRESENTATIVE 1461...</td>\n",
       "      <td>communications information representative</td>\n",
       "      <td>41,697</td>\n",
       "      <td>108</td>\n",
       "      <td>$59,340</td>\n",
       "      <td>11</td>\n",
       "      <td>111</td>\n",
       "      <td>13006</td>\n",
       "      <td>3.0</td>\n",
       "      <td>2.0</td>\n",
       "      <td>...</td>\n",
       "      <td>3.0</td>\n",
       "      <td>2.0</td>\n",
       "      <td>3</td>\n",
       "      <td>4</td>\n",
       "      <td>3</td>\n",
       "      <td>1</td>\n",
       "      <td>1.0</td>\n",
       "      <td>0</td>\n",
       "      <td>2</td>\n",
       "      <td>1</td>\n",
       "    </tr>\n",
       "    <tr>\n",
       "      <th>163</th>\n",
       "      <td>CUSTOMER SERVICE REPRESENTATIVE 1230 020918.txt</td>\n",
       "      <td>customer service representative</td>\n",
       "      <td>57,148</td>\n",
       "      <td>108</td>\n",
       "      <td>$71,012</td>\n",
       "      <td>11</td>\n",
       "      <td>89</td>\n",
       "      <td>9186</td>\n",
       "      <td>1.0</td>\n",
       "      <td>2.0</td>\n",
       "      <td>...</td>\n",
       "      <td>1.0</td>\n",
       "      <td>2.0</td>\n",
       "      <td>2</td>\n",
       "      <td>1</td>\n",
       "      <td>3</td>\n",
       "      <td>1</td>\n",
       "      <td>2.0</td>\n",
       "      <td>0</td>\n",
       "      <td>2</td>\n",
       "      <td>0</td>\n",
       "    </tr>\n",
       "  </tbody>\n",
       "</table>\n",
       "<p>2 rows × 36 columns</p>\n",
       "</div>"
      ],
      "text/plain": [
       "                                             File Name  \\\n",
       "145  COMMUNICATIONS INFORMATION REPRESENTATIVE 1461...   \n",
       "163    CUSTOMER SERVICE REPRESENTATIVE 1230 020918.txt   \n",
       "\n",
       "                                      Position salary_start  score salary_end  \\\n",
       "145  communications information representative       41,697    108    $59,340   \n",
       "163            customer service representative       57,148    108    $71,012   \n",
       "\n",
       "    validity_duration_x nb_lines_x nb_chars_x  nb_requirements_x  \\\n",
       "145                  11        111      13006                3.0   \n",
       "163                  11         89       9186                1.0   \n",
       "\n",
       "     nb_selection_steps_x  ...  nb_requirements_y  nb_selection_steps_y  \\\n",
       "145                   2.0  ...                3.0                   2.0   \n",
       "163                   2.0  ...                1.0                   2.0   \n",
       "\n",
       "     nb_line_scale_y  nb_char_scale_y  Resp_level_y  Open_To_All_y  \\\n",
       "145                3                4             3              1   \n",
       "163                2                1             3              1   \n",
       "\n",
       "     exp_years_y high_education_y  full_time_part_time_code_y  predicted  \n",
       "145          1.0                0                           2          1  \n",
       "163          2.0                0                           2          0  \n",
       "\n",
       "[2 rows x 36 columns]"
      ]
     },
     "execution_count": 179,
     "metadata": {},
     "output_type": "execute_result"
    }
   ],
   "source": [
    "df_merged_sc = pd.merge(df_scored, df_sc, left_index=True, right_index=True)\n",
    "df_merged_sc.head(2)"
   ]
  },
  {
   "cell_type": "code",
   "execution_count": 178,
   "metadata": {},
   "outputs": [
    {
     "data": {
      "text/html": [
       "<div>\n",
       "<style scoped>\n",
       "    .dataframe tbody tr th:only-of-type {\n",
       "        vertical-align: middle;\n",
       "    }\n",
       "\n",
       "    .dataframe tbody tr th {\n",
       "        vertical-align: top;\n",
       "    }\n",
       "\n",
       "    .dataframe thead th {\n",
       "        text-align: right;\n",
       "    }\n",
       "</style>\n",
       "<table border=\"1\" class=\"dataframe\">\n",
       "  <thead>\n",
       "    <tr style=\"text-align: right;\">\n",
       "      <th></th>\n",
       "      <th>score</th>\n",
       "      <th>predicted</th>\n",
       "    </tr>\n",
       "  </thead>\n",
       "  <tbody>\n",
       "    <tr>\n",
       "      <th>145</th>\n",
       "      <td>108</td>\n",
       "      <td>1</td>\n",
       "    </tr>\n",
       "    <tr>\n",
       "      <th>163</th>\n",
       "      <td>108</td>\n",
       "      <td>0</td>\n",
       "    </tr>\n",
       "  </tbody>\n",
       "</table>\n",
       "</div>"
      ],
      "text/plain": [
       "     score  predicted\n",
       "145    108          1\n",
       "163    108          0"
      ]
     },
     "execution_count": 178,
     "metadata": {},
     "output_type": "execute_result"
    }
   ],
   "source": [
    "df_merged_sc[['score', 'predicted']].head(2)"
   ]
  },
  {
   "cell_type": "code",
   "execution_count": null,
   "metadata": {},
   "outputs": [],
   "source": []
  }
 ],
 "metadata": {
  "kernelspec": {
   "display_name": "Python 3",
   "language": "python",
   "name": "python3"
  },
  "language_info": {
   "codemirror_mode": {
    "name": "ipython",
    "version": 3
   },
   "file_extension": ".py",
   "mimetype": "text/x-python",
   "name": "python",
   "nbconvert_exporter": "python",
   "pygments_lexer": "ipython3",
   "version": "3.6.5"
  }
 },
 "nbformat": 4,
 "nbformat_minor": 2
}
